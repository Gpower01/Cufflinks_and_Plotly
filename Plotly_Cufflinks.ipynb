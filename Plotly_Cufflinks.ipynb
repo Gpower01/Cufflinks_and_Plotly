{
 "cells": [
  {
   "cell_type": "markdown",
   "metadata": {},
   "source": [
    "# Plotly & Cufflinks for Data Analysis and Visualisation \n",
    "\n",
    "- This project utilises `cufflinks` and `plotly` to visualise and analyse datasets for Machine Learning.\n",
    "\n",
    "#### Prerequisites:\n",
    "- Install plotly using `pip install plotly`\n",
    "- Install cufflinks using `pip install cufflinks`\n",
    "- Install pandas using `pip install pandas`\n",
    "- Install numpy using `pip install numpy`\n",
    "- Install matplotlib using `pip install matplotlib`\n"
   ]
  },
  {
   "cell_type": "code",
   "execution_count": 1,
   "metadata": {},
   "outputs": [],
   "source": [
    "import pandas as pd\n",
    "import numpy as np \n",
    "%matplotlib inline"
   ]
  },
  {
   "cell_type": "code",
   "execution_count": 5,
   "metadata": {},
   "outputs": [],
   "source": [
    "from plotly import __version__"
   ]
  },
  {
   "cell_type": "code",
   "execution_count": 6,
   "metadata": {},
   "outputs": [
    {
     "name": "stdout",
     "output_type": "stream",
     "text": [
      "4.6.0\n"
     ]
    }
   ],
   "source": [
    "print(__version__)"
   ]
  },
  {
   "cell_type": "code",
   "execution_count": 7,
   "metadata": {},
   "outputs": [],
   "source": [
    "import cufflinks as cf"
   ]
  },
  {
   "cell_type": "code",
   "execution_count": 9,
   "metadata": {},
   "outputs": [],
   "source": [
    "from plotly.offline import download_plotlyjs,init_notebook_mode,plot,iplot"
   ]
  },
  {
   "cell_type": "code",
   "execution_count": 10,
   "metadata": {},
   "outputs": [
    {
     "data": {
      "text/html": [
       "        <script type=\"text/javascript\">\n",
       "        window.PlotlyConfig = {MathJaxConfig: 'local'};\n",
       "        if (window.MathJax) {MathJax.Hub.Config({SVG: {font: \"STIX-Web\"}});}\n",
       "        if (typeof require !== 'undefined') {\n",
       "        require.undef(\"plotly\");\n",
       "        requirejs.config({\n",
       "            paths: {\n",
       "                'plotly': ['https://cdn.plot.ly/plotly-latest.min']\n",
       "            }\n",
       "        });\n",
       "        require(['plotly'], function(Plotly) {\n",
       "            window._Plotly = Plotly;\n",
       "        });\n",
       "        }\n",
       "        </script>\n",
       "        "
      ]
     },
     "metadata": {},
     "output_type": "display_data"
    }
   ],
   "source": [
    "init_notebook_mode(connected=True)"
   ]
  },
  {
   "cell_type": "code",
   "execution_count": 12,
   "metadata": {},
   "outputs": [
    {
     "data": {
      "text/html": [
       "        <script type=\"text/javascript\">\n",
       "        window.PlotlyConfig = {MathJaxConfig: 'local'};\n",
       "        if (window.MathJax) {MathJax.Hub.Config({SVG: {font: \"STIX-Web\"}});}\n",
       "        if (typeof require !== 'undefined') {\n",
       "        require.undef(\"plotly\");\n",
       "        requirejs.config({\n",
       "            paths: {\n",
       "                'plotly': ['https://cdn.plot.ly/plotly-latest.min']\n",
       "            }\n",
       "        });\n",
       "        require(['plotly'], function(Plotly) {\n",
       "            window._Plotly = Plotly;\n",
       "        });\n",
       "        }\n",
       "        </script>\n",
       "        "
      ]
     },
     "metadata": {},
     "output_type": "display_data"
    }
   ],
   "source": [
    "cf.go_offline()# allows you to use cufflinks offline"
   ]
  },
  {
   "cell_type": "markdown",
   "metadata": {},
   "source": [
    "## Read Dataset"
   ]
  },
  {
   "cell_type": "code",
   "execution_count": 14,
   "metadata": {},
   "outputs": [],
   "source": [
    "df = pd.DataFrame(np.random.randn(100,4),columns='A B C D'.split())"
   ]
  },
  {
   "cell_type": "code",
   "execution_count": 16,
   "metadata": {},
   "outputs": [
    {
     "data": {
      "text/html": [
       "<div>\n",
       "<style scoped>\n",
       "    .dataframe tbody tr th:only-of-type {\n",
       "        vertical-align: middle;\n",
       "    }\n",
       "\n",
       "    .dataframe tbody tr th {\n",
       "        vertical-align: top;\n",
       "    }\n",
       "\n",
       "    .dataframe thead th {\n",
       "        text-align: right;\n",
       "    }\n",
       "</style>\n",
       "<table border=\"1\" class=\"dataframe\">\n",
       "  <thead>\n",
       "    <tr style=\"text-align: right;\">\n",
       "      <th></th>\n",
       "      <th>A</th>\n",
       "      <th>B</th>\n",
       "      <th>C</th>\n",
       "      <th>D</th>\n",
       "    </tr>\n",
       "  </thead>\n",
       "  <tbody>\n",
       "    <tr>\n",
       "      <td>0</td>\n",
       "      <td>0.856500</td>\n",
       "      <td>1.475590</td>\n",
       "      <td>0.095365</td>\n",
       "      <td>-2.837108</td>\n",
       "    </tr>\n",
       "    <tr>\n",
       "      <td>1</td>\n",
       "      <td>0.616667</td>\n",
       "      <td>0.058194</td>\n",
       "      <td>-1.979873</td>\n",
       "      <td>0.187267</td>\n",
       "    </tr>\n",
       "    <tr>\n",
       "      <td>2</td>\n",
       "      <td>0.929892</td>\n",
       "      <td>0.885859</td>\n",
       "      <td>-0.800617</td>\n",
       "      <td>-0.635753</td>\n",
       "    </tr>\n",
       "    <tr>\n",
       "      <td>3</td>\n",
       "      <td>-1.672463</td>\n",
       "      <td>-1.006247</td>\n",
       "      <td>-1.408544</td>\n",
       "      <td>0.312049</td>\n",
       "    </tr>\n",
       "    <tr>\n",
       "      <td>4</td>\n",
       "      <td>-0.019950</td>\n",
       "      <td>0.468037</td>\n",
       "      <td>0.085479</td>\n",
       "      <td>-1.688462</td>\n",
       "    </tr>\n",
       "  </tbody>\n",
       "</table>\n",
       "</div>"
      ],
      "text/plain": [
       "          A         B         C         D\n",
       "0  0.856500  1.475590  0.095365 -2.837108\n",
       "1  0.616667  0.058194 -1.979873  0.187267\n",
       "2  0.929892  0.885859 -0.800617 -0.635753\n",
       "3 -1.672463 -1.006247 -1.408544  0.312049\n",
       "4 -0.019950  0.468037  0.085479 -1.688462"
      ]
     },
     "execution_count": 16,
     "metadata": {},
     "output_type": "execute_result"
    }
   ],
   "source": [
    "df.head()"
   ]
  },
  {
   "cell_type": "code",
   "execution_count": 17,
   "metadata": {},
   "outputs": [],
   "source": [
    "df2 = pd.DataFrame({'Category':['A','B','C'],'Values':[32,43,50]})"
   ]
  },
  {
   "cell_type": "code",
   "execution_count": 18,
   "metadata": {},
   "outputs": [
    {
     "data": {
      "text/html": [
       "<div>\n",
       "<style scoped>\n",
       "    .dataframe tbody tr th:only-of-type {\n",
       "        vertical-align: middle;\n",
       "    }\n",
       "\n",
       "    .dataframe tbody tr th {\n",
       "        vertical-align: top;\n",
       "    }\n",
       "\n",
       "    .dataframe thead th {\n",
       "        text-align: right;\n",
       "    }\n",
       "</style>\n",
       "<table border=\"1\" class=\"dataframe\">\n",
       "  <thead>\n",
       "    <tr style=\"text-align: right;\">\n",
       "      <th></th>\n",
       "      <th>Category</th>\n",
       "      <th>Values</th>\n",
       "    </tr>\n",
       "  </thead>\n",
       "  <tbody>\n",
       "    <tr>\n",
       "      <td>0</td>\n",
       "      <td>A</td>\n",
       "      <td>32</td>\n",
       "    </tr>\n",
       "    <tr>\n",
       "      <td>1</td>\n",
       "      <td>B</td>\n",
       "      <td>43</td>\n",
       "    </tr>\n",
       "    <tr>\n",
       "      <td>2</td>\n",
       "      <td>C</td>\n",
       "      <td>50</td>\n",
       "    </tr>\n",
       "  </tbody>\n",
       "</table>\n",
       "</div>"
      ],
      "text/plain": [
       "  Category  Values\n",
       "0        A      32\n",
       "1        B      43\n",
       "2        C      50"
      ]
     },
     "execution_count": 18,
     "metadata": {},
     "output_type": "execute_result"
    }
   ],
   "source": [
    "df2"
   ]
  },
  {
   "cell_type": "code",
   "execution_count": 21,
   "metadata": {},
   "outputs": [
    {
     "data": {
      "text/html": [
       "<div>\n",
       "<style scoped>\n",
       "    .dataframe tbody tr th:only-of-type {\n",
       "        vertical-align: middle;\n",
       "    }\n",
       "\n",
       "    .dataframe tbody tr th {\n",
       "        vertical-align: top;\n",
       "    }\n",
       "\n",
       "    .dataframe thead th {\n",
       "        text-align: right;\n",
       "    }\n",
       "</style>\n",
       "<table border=\"1\" class=\"dataframe\">\n",
       "  <thead>\n",
       "    <tr style=\"text-align: right;\">\n",
       "      <th></th>\n",
       "      <th>A</th>\n",
       "      <th>B</th>\n",
       "      <th>C</th>\n",
       "      <th>D</th>\n",
       "    </tr>\n",
       "  </thead>\n",
       "  <tbody>\n",
       "    <tr>\n",
       "      <td>0</td>\n",
       "      <td>0.856500</td>\n",
       "      <td>1.475590</td>\n",
       "      <td>0.095365</td>\n",
       "      <td>-2.837108</td>\n",
       "    </tr>\n",
       "    <tr>\n",
       "      <td>1</td>\n",
       "      <td>0.616667</td>\n",
       "      <td>0.058194</td>\n",
       "      <td>-1.979873</td>\n",
       "      <td>0.187267</td>\n",
       "    </tr>\n",
       "    <tr>\n",
       "      <td>2</td>\n",
       "      <td>0.929892</td>\n",
       "      <td>0.885859</td>\n",
       "      <td>-0.800617</td>\n",
       "      <td>-0.635753</td>\n",
       "    </tr>\n",
       "    <tr>\n",
       "      <td>3</td>\n",
       "      <td>-1.672463</td>\n",
       "      <td>-1.006247</td>\n",
       "      <td>-1.408544</td>\n",
       "      <td>0.312049</td>\n",
       "    </tr>\n",
       "    <tr>\n",
       "      <td>4</td>\n",
       "      <td>-0.019950</td>\n",
       "      <td>0.468037</td>\n",
       "      <td>0.085479</td>\n",
       "      <td>-1.688462</td>\n",
       "    </tr>\n",
       "    <tr>\n",
       "      <td>...</td>\n",
       "      <td>...</td>\n",
       "      <td>...</td>\n",
       "      <td>...</td>\n",
       "      <td>...</td>\n",
       "    </tr>\n",
       "    <tr>\n",
       "      <td>95</td>\n",
       "      <td>-0.804412</td>\n",
       "      <td>0.258863</td>\n",
       "      <td>0.441403</td>\n",
       "      <td>-0.386878</td>\n",
       "    </tr>\n",
       "    <tr>\n",
       "      <td>96</td>\n",
       "      <td>-0.425049</td>\n",
       "      <td>-0.659454</td>\n",
       "      <td>0.374987</td>\n",
       "      <td>-0.906620</td>\n",
       "    </tr>\n",
       "    <tr>\n",
       "      <td>97</td>\n",
       "      <td>0.238273</td>\n",
       "      <td>-0.282999</td>\n",
       "      <td>-0.289199</td>\n",
       "      <td>1.026912</td>\n",
       "    </tr>\n",
       "    <tr>\n",
       "      <td>98</td>\n",
       "      <td>1.276372</td>\n",
       "      <td>-1.364478</td>\n",
       "      <td>-0.914043</td>\n",
       "      <td>0.507489</td>\n",
       "    </tr>\n",
       "    <tr>\n",
       "      <td>99</td>\n",
       "      <td>-0.612736</td>\n",
       "      <td>-0.074840</td>\n",
       "      <td>0.962494</td>\n",
       "      <td>1.954899</td>\n",
       "    </tr>\n",
       "  </tbody>\n",
       "</table>\n",
       "<p>100 rows × 4 columns</p>\n",
       "</div>"
      ],
      "text/plain": [
       "           A         B         C         D\n",
       "0   0.856500  1.475590  0.095365 -2.837108\n",
       "1   0.616667  0.058194 -1.979873  0.187267\n",
       "2   0.929892  0.885859 -0.800617 -0.635753\n",
       "3  -1.672463 -1.006247 -1.408544  0.312049\n",
       "4  -0.019950  0.468037  0.085479 -1.688462\n",
       "..       ...       ...       ...       ...\n",
       "95 -0.804412  0.258863  0.441403 -0.386878\n",
       "96 -0.425049 -0.659454  0.374987 -0.906620\n",
       "97  0.238273 -0.282999 -0.289199  1.026912\n",
       "98  1.276372 -1.364478 -0.914043  0.507489\n",
       "99 -0.612736 -0.074840  0.962494  1.954899\n",
       "\n",
       "[100 rows x 4 columns]"
      ]
     },
     "execution_count": 21,
     "metadata": {},
     "output_type": "execute_result"
    }
   ],
   "source": [
    "df"
   ]
  },
  {
   "cell_type": "markdown",
   "metadata": {},
   "source": [
    "- **Create a plot**"
   ]
  },
  {
   "cell_type": "code",
   "execution_count": 26,
   "metadata": {},
   "outputs": [
    {
     "data": {
      "text/plain": [
       "<matplotlib.axes._subplots.AxesSubplot at 0x1c282c4c10>"
      ]
     },
     "execution_count": 26,
     "metadata": {},
     "output_type": "execute_result"
    },
    {
     "data": {
      "image/png": "[encoded data removed]",
      "text/plain": [
       "<Figure size 432x288 with 1 Axes>"
      ]
     },
     "metadata": {
      "needs_background": "light"
     },
     "output_type": "display_data"
    }
   ],
   "source": [
    "df.plot()"
   ]
  },
  {
   "cell_type": "markdown",
   "metadata": {},
   "source": [
    "## Using iplot to creare an interactive plot"
   ]
  },
  {
   "cell_type": "code",
   "execution_count": 29,
   "metadata": {},
   "outputs": [
    {
     "data": {
      "application/vnd.plotly.v1+json": {
       "config": {
        "linkText": "Export to plot.ly",
        "plotlyServerURL": "https://plot.ly",
        "showLink": true
       },
       "data": [
        {
         "line": {
          "color": "rgba(255, 153, 51, 1.0)",
          "dash": "solid",
          "shape": "linear",
          "width": 1.3
         },
         "mode": "lines",
         "name": "A",
         "text": "",
         "type": "scatter",
         "x": [
          0,
          1,
          2,
          3,
          4,
          5,
          6,
          7,
          8,
          9,
          10,
          11,
          12,
          13,
          14,
          15,
          16,
          17,
          18,
          19,
          20,
          21,
          22,
          23,
          24,
          25,
          26,
          27,
          28,
          29,
          30,
          31,
          32,
          33,
          34,
          35,
          36,
          37,
          38,
          39,
          40,
          41,
          42,
          43,
          44,
          45,
          46,
          47,
          48,
          49,
          50,
          51,
          52,
          53,
          54,
          55,
          56,
          57,
          58,
          59,
          60,
          61,
          62,
          63,
          64,
          65,
          66,
          67,
          68,
          69,
          70,
          71,
          72,
          73,
          74,
          75,
          76,
          77,
          78,
          79,
          80,
          81,
          82,
          83,
          84,
          85,
          86,
          87,
          88,
          89,
          90,
          91,
          92,
          93,
          94,
          95,
          96,
          97,
          98,
          99
         ],
         "y": [
          0.8565004406896697,
          0.616667033466685,
          0.9298916478237453,
          -1.6724634436675336,
          -0.019950485747430385,
          -0.32800911299570507,
          -0.520848431309861,
          -1.30147296225039,
          0.918170020841073,
          -0.003030796847175438,
          1.8515261305902329,
          -2.4657644444358904,
          -1.439356632219261,
          0.15387753978794932,
          0.07641025126858664,
          0.05696079491628426,
          0.994002604240455,
          1.3063555379994916,
          0.11680196973249214,
          -0.06144614746125791,
          0.16965506162971544,
          -1.5592095724925938,
          1.7362505416468237,
          -0.5158156181616896,
          0.3112988643540849,
          0.6367371116974732,
          -1.5536536001503518,
          -1.7685320204209458,
          -0.5392754585148415,
          0.10192996646476966,
          0.5568460660823932,
          0.4092568775144538,
          0.6425257437679849,
          0.09284381524121892,
          1.7894845246730584,
          -1.5779423255162153,
          -1.789479229742878,
          0.7609651113838944,
          -0.6674139141954538,
          -0.4214512133650312,
          -0.44539736631937926,
          0.5186930794439539,
          -1.0086390260505254,
          0.7345811131541214,
          -0.8682151792015697,
          -0.5138030956228592,
          2.44506810870039,
          -0.48872333105082555,
          1.3671166266258052,
          -0.01753294451379828,
          0.11685967207261917,
          1.0155837704561772,
          -0.5150792361553516,
          -0.4189522845684282,
          -1.671800498378324,
          0.00849610436739744,
          -0.895038429064667,
          -0.7234219959912285,
          0.206272727623923,
          0.3226173070103636,
          -0.4358213189085439,
          1.485019297233284,
          1.3145577597333455,
          1.1418099258834655,
          0.3899155275990936,
          0.6744845811903896,
          -1.5421747306588416,
          0.10759935916787118,
          -0.29174756418219683,
          0.4816850364526941,
          0.06383954088766132,
          0.805862380002143,
          1.7922318721731754,
          0.7711332871154744,
          1.5493299640694245,
          2.1568955364366897,
          1.1670866728363158,
          0.7987843837817445,
          0.5924788058898702,
          0.46868961780136764,
          0.041509628887594935,
          1.4403527221146417,
          0.06159499985984685,
          -0.37884426150130707,
          -0.5712864766608926,
          -0.05456501732571868,
          -1.374456821319399,
          -0.29150627018452924,
          -0.5060841247039243,
          -0.9116186430932947,
          -0.03191657470382843,
          -1.1907703476630989,
          -0.2240749488357738,
          0.9880910702602029,
          -0.6027601036139539,
          -0.804412324683554,
          -0.42504929417141835,
          0.23827330110499453,
          1.2763718707572826,
          -0.6127361720543995
         ]
        },
        {
         "line": {
          "color": "rgba(55, 128, 191, 1.0)",
          "dash": "solid",
          "shape": "linear",
          "width": 1.3
         },
         "mode": "lines",
         "name": "B",
         "text": "",
         "type": "scatter",
         "x": [
          0,
          1,
          2,
          3,
          4,
          5,
          6,
          7,
          8,
          9,
          10,
          11,
          12,
          13,
          14,
          15,
          16,
          17,
          18,
          19,
          20,
          21,
          22,
          23,
          24,
          25,
          26,
          27,
          28,
          29,
          30,
          31,
          32,
          33,
          34,
          35,
          36,
          37,
          38,
          39,
          40,
          41,
          42,
          43,
          44,
          45,
          46,
          47,
          48,
          49,
          50,
          51,
          52,
          53,
          54,
          55,
          56,
          57,
          58,
          59,
          60,
          61,
          62,
          63,
          64,
          65,
          66,
          67,
          68,
          69,
          70,
          71,
          72,
          73,
          74,
          75,
          76,
          77,
          78,
          79,
          80,
          81,
          82,
          83,
          84,
          85,
          86,
          87,
          88,
          89,
          90,
          91,
          92,
          93,
          94,
          95,
          96,
          97,
          98,
          99
         ],
         "y": [
          1.475589520025869,
          0.058193690147613136,
          0.8858587130605142,
          -1.0062473781673018,
          0.46803675911740583,
          1.8876584534559304,
          1.0068376194540218,
          0.20649832656467781,
          -0.3831842413954928,
          0.8146880661445408,
          0.7525580546906689,
          -0.9499437266514072,
          -0.5124677266513444,
          -0.07070799266437955,
          0.24842935771077734,
          -0.47466919918713246,
          0.1329640121766927,
          0.7101899364369233,
          -0.8129158041745252,
          -0.9065188940398232,
          -0.576101023436274,
          0.7211521933563564,
          0.4980075228147292,
          -0.4772199892654312,
          -0.25876529291204786,
          0.02805869936306022,
          -1.1120841762313531,
          -0.34773983569211936,
          0.5592457342025116,
          -2.2329856221230426,
          1.244429738539221,
          -0.3558037971356808,
          -1.7071760167849175,
          -0.38601241809639797,
          -1.2101106786862859,
          0.39581149532187293,
          -1.613409089316727,
          -0.017707675178522137,
          -0.51674385539429,
          0.5508169727530585,
          -0.7657147803155174,
          2.102266470888824,
          -1.9500668951535425,
          0.08582168052356781,
          -1.2031543487810075,
          0.09047246874201739,
          -1.2046473795482855,
          0.057008372010706757,
          -0.6793292136001533,
          -0.16868751384288672,
          0.013752896177967523,
          0.13559208744343473,
          -0.9630115477948523,
          0.7230504579164195,
          -0.7957538189923294,
          -0.5367136225824187,
          -1.0077205412350119,
          -1.7914055716137376,
          -1.230050510713824,
          0.8679372146419765,
          0.016712192818447498,
          -1.7296404941674273,
          0.6279507372489606,
          2.2072101493033247,
          -1.426478309767374,
          -0.10793231034668634,
          0.2825793489947289,
          -1.980919281504627,
          1.355967324544568,
          -0.7001789060327122,
          -1.2722359256963178,
          0.09299395157163394,
          0.9666985831548762,
          -0.3146817160528018,
          0.5624621245870179,
          -0.4257065060814728,
          2.8239069121719327,
          -0.6597234857277737,
          0.045685732120529614,
          -0.01918897826138856,
          0.19400035829565307,
          0.331512334519879,
          -0.14894837996905405,
          -0.35260660854332354,
          0.4922341899645374,
          0.512147456731329,
          0.06474390398539126,
          2.3772022790380962,
          0.4500853579083613,
          -0.6527657639931757,
          -0.047316453982068685,
          0.4678256940750706,
          -0.5795657304715769,
          -1.2899242922557217,
          -0.3685463537980794,
          0.25886314902995966,
          -0.659454095923306,
          -0.28299923424564427,
          -1.3644779963994549,
          -0.07484015266979967
         ]
        },
        {
         "line": {
          "color": "rgba(50, 171, 96, 1.0)",
          "dash": "solid",
          "shape": "linear",
          "width": 1.3
         },
         "mode": "lines",
         "name": "C",
         "text": "",
         "type": "scatter",
         "x": [
          0,
          1,
          2,
          3,
          4,
          5,
          6,
          7,
          8,
          9,
          10,
          11,
          12,
          13,
          14,
          15,
          16,
          17,
          18,
          19,
          20,
          21,
          22,
          23,
          24,
          25,
          26,
          27,
          28,
          29,
          30,
          31,
          32,
          33,
          34,
          35,
          36,
          37,
          38,
          39,
          40,
          41,
          42,
          43,
          44,
          45,
          46,
          47,
          48,
          49,
          50,
          51,
          52,
          53,
          54,
          55,
          56,
          57,
          58,
          59,
          60,
          61,
          62,
          63,
          64,
          65,
          66,
          67,
          68,
          69,
          70,
          71,
          72,
          73,
          74,
          75,
          76,
          77,
          78,
          79,
          80,
          81,
          82,
          83,
          84,
          85,
          86,
          87,
          88,
          89,
          90,
          91,
          92,
          93,
          94,
          95,
          96,
          97,
          98,
          99
         ],
         "y": [
          0.09536454976164993,
          -1.979873229425567,
          -0.8006171220144002,
          -1.4085439333951777,
          0.08547942854432763,
          -0.008826093278719568,
          -0.2991548029353947,
          0.2576029505630603,
          0.8795221488870283,
          -0.07200754103600952,
          -0.046151183479252546,
          0.3374454762825173,
          -0.6779825948518686,
          -0.09763964035505414,
          1.599220362888875,
          0.17648750653606524,
          0.18213753336434174,
          -0.9245131437491316,
          2.050342741577169,
          -0.11525257001200029,
          -0.3081347973723833,
          -0.34588166791003433,
          -0.33520708347079836,
          -1.0388186655706726,
          0.46110275587050625,
          -0.5761386680731327,
          0.8801801412081522,
          -0.5334511453174319,
          2.179848881496895,
          0.8510521398255604,
          -1.302215746186497,
          -0.2758653764454315,
          0.4229725742656263,
          -0.6854796038539009,
          -0.46825269421393273,
          -0.059917604332156246,
          0.27907495323068693,
          -0.4774644670954662,
          0.5112678302701621,
          -2.653886389514963,
          0.5602132803496599,
          -0.09368145292452275,
          -0.5108472428829691,
          -0.0049541575064123555,
          0.8263529754001935,
          -1.0298167166950276,
          0.11615194577730661,
          -0.033485373062486425,
          -0.5023586159199206,
          -0.5343264848054067,
          1.2563645314112177,
          -0.670756044789189,
          0.04086236619495206,
          -0.48491239039460976,
          0.8368010161808237,
          -1.4747359948647716,
          -0.678626261666939,
          0.055916347271540726,
          -0.665548308946417,
          -0.7349920467327229,
          1.1431344385353945,
          0.10272624712609245,
          2.0337920267866245,
          -0.25664343368236386,
          0.3270272774134318,
          -0.9161936736943582,
          0.6640500241172738,
          0.45816299396646826,
          1.479109563408102,
          -1.0801874426617148,
          0.8645323939687818,
          1.556299817995986,
          -0.19584520336043118,
          -0.6074092807738445,
          -0.7036813686304971,
          -0.2522157220017819,
          1.9265828118823523,
          -1.5812188150203852,
          0.109577170426578,
          1.7041087583411898,
          -1.6958191071790105,
          -1.6508695078091753,
          -0.14063194438965274,
          0.9241987280821946,
          0.8150487836869047,
          0.5931459555812096,
          1.5264875107240874,
          0.9944396469378712,
          -1.3785578513262233,
          0.29406582022837885,
          -0.3913540100322184,
          -0.3505245746885777,
          0.01771170232228889,
          -0.42157829849596756,
          -1.130644127991805,
          0.44140298627012853,
          0.3749867305185496,
          -0.2891992005348076,
          -0.9140427672546457,
          0.962493619611387
         ]
        },
        {
         "line": {
          "color": "rgba(128, 0, 128, 1.0)",
          "dash": "solid",
          "shape": "linear",
          "width": 1.3
         },
         "mode": "lines",
         "name": "D",
         "text": "",
         "type": "scatter",
         "x": [
          0,
          1,
          2,
          3,
          4,
          5,
          6,
          7,
          8,
          9,
          10,
          11,
          12,
          13,
          14,
          15,
          16,
          17,
          18,
          19,
          20,
          21,
          22,
          23,
          24,
          25,
          26,
          27,
          28,
          29,
          30,
          31,
          32,
          33,
          34,
          35,
          36,
          37,
          38,
          39,
          40,
          41,
          42,
          43,
          44,
          45,
          46,
          47,
          48,
          49,
          50,
          51,
          52,
          53,
          54,
          55,
          56,
          57,
          58,
          59,
          60,
          61,
          62,
          63,
          64,
          65,
          66,
          67,
          68,
          69,
          70,
          71,
          72,
          73,
          74,
          75,
          76,
          77,
          78,
          79,
          80,
          81,
          82,
          83,
          84,
          85,
          86,
          87,
          88,
          89,
          90,
          91,
          92,
          93,
          94,
          95,
          96,
          97,
          98,
          99
         ],
         "y": [
          -2.8371083245496616,
          0.18726671943935058,
          -0.635752704507406,
          0.31204885311241765,
          -1.6884623420901927,
          -2.218046636438145,
          0.8005326796231135,
          0.2571323568177598,
          -0.7517794685927304,
          0.7141700622967905,
          -0.7034274370151249,
          1.7601916791167034,
          -0.695062955483073,
          -0.2605103364893929,
          -0.46730855079440314,
          0.7343327121690637,
          -0.9815267713197737,
          0.08934937710201019,
          1.2228982710514336,
          -0.2558313016025286,
          0.08473537705506456,
          -0.2831432143808916,
          -0.5078694189178844,
          1.3868024785701536,
          -0.5953077204912341,
          1.848884077889904,
          1.5390355127582946,
          0.028268872843309582,
          -0.595582478100544,
          1.5427013777117144,
          -0.5267129535115503,
          -2.2191309716885237,
          0.0526380368058972,
          -1.362504559433225,
          0.347626808410747,
          -0.23159946754631258,
          -0.4455793612367743,
          -0.06588596165374287,
          -1.3878920907572154,
          -1.008227288385752,
          0.5214377993630165,
          -0.018950103896625235,
          -0.14910350029198688,
          -0.5731720468029629,
          -0.9448239720268437,
          -0.22647219243858305,
          0.23146433215176052,
          0.893712658602652,
          -0.6793475172366461,
          1.6732234146359781,
          1.3376624235505683,
          -2.2775249667085014,
          -0.35725965871140325,
          -0.4866196631848915,
          0.5221645015016327,
          -2.3512699124364085,
          -0.5692428042702953,
          0.10925410215289443,
          -0.36194004921095924,
          0.6334634171826902,
          -0.989516778828704,
          1.5894450940447842,
          1.6504996902903266,
          0.08065315455009567,
          0.06506507570552242,
          -0.2945574392855909,
          0.5163758035262357,
          0.7920140242556639,
          -1.1531881291574442,
          -0.45478802547050956,
          0.4148567561667146,
          -1.6225514034438266,
          -0.05256397906113001,
          -0.856629342427809,
          -1.128943548249932,
          2.591930395771614,
          -1.510629341644163,
          0.08673476546190459,
          0.2710878959149094,
          -0.38617512562306183,
          -0.25179677654739074,
          -0.23088214790287442,
          -2.2421051954884854,
          0.22438491327880083,
          0.3358240185176065,
          -1.9844158775313674,
          -1.1360740539664844,
          -0.5211490606702568,
          0.0976208293459543,
          1.6774681184560594,
          1.7459282462631893,
          -2.0453097398102043,
          0.7010203333543181,
          -0.42683017154972774,
          -0.5401712869994386,
          -0.38687846178588225,
          -0.9066203932855437,
          1.0269121046221774,
          0.507489187083504,
          1.9548992675904575
         ]
        }
       ],
       "layout": {
        "legend": {
         "bgcolor": "#F5F6F9",
         "font": {
          "color": "#4D5663"
         }
        },
        "paper_bgcolor": "#F5F6F9",
        "plot_bgcolor": "#F5F6F9",
        "template": {
         "data": {
          "bar": [
           {
            "error_x": {
             "color": "#2a3f5f"
            },
            "error_y": {
             "color": "#2a3f5f"
            },
            "marker": {
             "line": {
              "color": "#E5ECF6",
              "width": 0.5
             }
            },
            "type": "bar"
           }
          ],
          "barpolar": [
           {
            "marker": {
             "line": {
              "color": "#E5ECF6",
              "width": 0.5
             }
            },
            "type": "barpolar"
           }
          ],
          "carpet": [
           {
            "aaxis": {
             "endlinecolor": "#2a3f5f",
             "gridcolor": "white",
             "linecolor": "white",
             "minorgridcolor": "white",
             "startlinecolor": "#2a3f5f"
            },
            "baxis": {
             "endlinecolor": "#2a3f5f",
             "gridcolor": "white",
             "linecolor": "white",
             "minorgridcolor": "white",
             "startlinecolor": "#2a3f5f"
            },
            "type": "carpet"
           }
          ],
          "choropleth": [
           {
            "colorbar": {
             "outlinewidth": 0,
             "ticks": ""
            },
            "type": "choropleth"
           }
          ],
          "contour": [
           {
            "colorbar": {
             "outlinewidth": 0,
             "ticks": ""
            },
            "colorscale": [
             [
              0,
              "#0d0887"
             ],
             [
              0.1111111111111111,
              "#46039f"
             ],
             [
              0.2222222222222222,
              "#7201a8"
             ],
             [
              0.3333333333333333,
              "#9c179e"
             ],
             [
              0.4444444444444444,
              "#bd3786"
             ],
             [
              0.5555555555555556,
              "#d8576b"
             ],
             [
              0.6666666666666666,
              "#ed7953"
             ],
             [
              0.7777777777777778,
              "#fb9f3a"
             ],
             [
              0.8888888888888888,
              "#fdca26"
             ],
             [
              1,
              "#f0f921"
             ]
            ],
            "type": "contour"
           }
          ],
          "contourcarpet": [
           {
            "colorbar": {
             "outlinewidth": 0,
             "ticks": ""
            },
            "type": "contourcarpet"
           }
          ],
          "heatmap": [
           {
            "colorbar": {
             "outlinewidth": 0,
             "ticks": ""
            },
            "colorscale": [
             [
              0,
              "#0d0887"
             ],
             [
              0.1111111111111111,
              "#46039f"
             ],
             [
              0.2222222222222222,
              "#7201a8"
             ],
             [
              0.3333333333333333,
              "#9c179e"
             ],
             [
              0.4444444444444444,
              "#bd3786"
             ],
             [
              0.5555555555555556,
              "#d8576b"
             ],
             [
              0.6666666666666666,
              "#ed7953"
             ],
             [
              0.7777777777777778,
              "#fb9f3a"
             ],
             [
              0.8888888888888888,
              "#fdca26"
             ],
             [
              1,
              "#f0f921"
             ]
            ],
            "type": "heatmap"
           }
          ],
          "heatmapgl": [
           {
            "colorbar": {
             "outlinewidth": 0,
             "ticks": ""
            },
            "colorscale": [
             [
              0,
              "#0d0887"
             ],
             [
              0.1111111111111111,
              "#46039f"
             ],
             [
              0.2222222222222222,
              "#7201a8"
             ],
             [
              0.3333333333333333,
              "#9c179e"
             ],
             [
              0.4444444444444444,
              "#bd3786"
             ],
             [
              0.5555555555555556,
              "#d8576b"
             ],
             [
              0.6666666666666666,
              "#ed7953"
             ],
             [
              0.7777777777777778,
              "#fb9f3a"
             ],
             [
              0.8888888888888888,
              "#fdca26"
             ],
             [
              1,
              "#f0f921"
             ]
            ],
            "type": "heatmapgl"
           }
          ],
          "histogram": [
           {
            "marker": {
             "colorbar": {
              "outlinewidth": 0,
              "ticks": ""
             }
            },
            "type": "histogram"
           }
          ],
          "histogram2d": [
           {
            "colorbar": {
             "outlinewidth": 0,
             "ticks": ""
            },
            "colorscale": [
             [
              0,
              "#0d0887"
             ],
             [
              0.1111111111111111,
              "#46039f"
             ],
             [
              0.2222222222222222,
              "#7201a8"
             ],
             [
              0.3333333333333333,
              "#9c179e"
             ],
             [
              0.4444444444444444,
              "#bd3786"
             ],
             [
              0.5555555555555556,
              "#d8576b"
             ],
             [
              0.6666666666666666,
              "#ed7953"
             ],
             [
              0.7777777777777778,
              "#fb9f3a"
             ],
             [
              0.8888888888888888,
              "#fdca26"
             ],
             [
              1,
              "#f0f921"
             ]
            ],
            "type": "histogram2d"
           }
          ],
          "histogram2dcontour": [
           {
            "colorbar": {
             "outlinewidth": 0,
             "ticks": ""
            },
            "colorscale": [
             [
              0,
              "#0d0887"
             ],
             [
              0.1111111111111111,
              "#46039f"
             ],
             [
              0.2222222222222222,
              "#7201a8"
             ],
             [
              0.3333333333333333,
              "#9c179e"
             ],
             [
              0.4444444444444444,
              "#bd3786"
             ],
             [
              0.5555555555555556,
              "#d8576b"
             ],
             [
              0.6666666666666666,
              "#ed7953"
             ],
             [
              0.7777777777777778,
              "#fb9f3a"
             ],
             [
              0.8888888888888888,
              "#fdca26"
             ],
             [
              1,
              "#f0f921"
             ]
            ],
            "type": "histogram2dcontour"
           }
          ],
          "mesh3d": [
           {
            "colorbar": {
             "outlinewidth": 0,
             "ticks": ""
            },
            "type": "mesh3d"
           }
          ],
          "parcoords": [
           {
            "line": {
             "colorbar": {
              "outlinewidth": 0,
              "ticks": ""
             }
            },
            "type": "parcoords"
           }
          ],
          "pie": [
           {
            "automargin": true,
            "type": "pie"
           }
          ],
          "scatter": [
           {
            "marker": {
             "colorbar": {
              "outlinewidth": 0,
              "ticks": ""
             }
            },
            "type": "scatter"
           }
          ],
          "scatter3d": [
           {
            "line": {
             "colorbar": {
              "outlinewidth": 0,
              "ticks": ""
             }
            },
            "marker": {
             "colorbar": {
              "outlinewidth": 0,
              "ticks": ""
             }
            },
            "type": "scatter3d"
           }
          ],
          "scattercarpet": [
           {
            "marker": {
             "colorbar": {
              "outlinewidth": 0,
              "ticks": ""
             }
            },
            "type": "scattercarpet"
           }
          ],
          "scattergeo": [
           {
            "marker": {
             "colorbar": {
              "outlinewidth": 0,
              "ticks": ""
             }
            },
            "type": "scattergeo"
           }
          ],
          "scattergl": [
           {
            "marker": {
             "colorbar": {
              "outlinewidth": 0,
              "ticks": ""
             }
            },
            "type": "scattergl"
           }
          ],
          "scattermapbox": [
           {
            "marker": {
             "colorbar": {
              "outlinewidth": 0,
              "ticks": ""
             }
            },
            "type": "scattermapbox"
           }
          ],
          "scatterpolar": [
           {
            "marker": {
             "colorbar": {
              "outlinewidth": 0,
              "ticks": ""
             }
            },
            "type": "scatterpolar"
           }
          ],
          "scatterpolargl": [
           {
            "marker": {
             "colorbar": {
              "outlinewidth": 0,
              "ticks": ""
             }
            },
            "type": "scatterpolargl"
           }
          ],
          "scatterternary": [
           {
            "marker": {
             "colorbar": {
              "outlinewidth": 0,
              "ticks": ""
             }
            },
            "type": "scatterternary"
           }
          ],
          "surface": [
           {
            "colorbar": {
             "outlinewidth": 0,
             "ticks": ""
            },
            "colorscale": [
             [
              0,
              "#0d0887"
             ],
             [
              0.1111111111111111,
              "#46039f"
             ],
             [
              0.2222222222222222,
              "#7201a8"
             ],
             [
              0.3333333333333333,
              "#9c179e"
             ],
             [
              0.4444444444444444,
              "#bd3786"
             ],
             [
              0.5555555555555556,
              "#d8576b"
             ],
             [
              0.6666666666666666,
              "#ed7953"
             ],
             [
              0.7777777777777778,
              "#fb9f3a"
             ],
             [
              0.8888888888888888,
              "#fdca26"
             ],
             [
              1,
              "#f0f921"
             ]
            ],
            "type": "surface"
           }
          ],
          "table": [
           {
            "cells": {
             "fill": {
              "color": "#EBF0F8"
             },
             "line": {
              "color": "white"
             }
            },
            "header": {
             "fill": {
              "color": "#C8D4E3"
             },
             "line": {
              "color": "white"
             }
            },
            "type": "table"
           }
          ]
         },
         "layout": {
          "annotationdefaults": {
           "arrowcolor": "#2a3f5f",
           "arrowhead": 0,
           "arrowwidth": 1
          },
          "coloraxis": {
           "colorbar": {
            "outlinewidth": 0,
            "ticks": ""
           }
          },
          "colorscale": {
           "diverging": [
            [
             0,
             "#8e0152"
            ],
            [
             0.1,
             "#c51b7d"
            ],
            [
             0.2,
             "#de77ae"
            ],
            [
             0.3,
             "#f1b6da"
            ],
            [
             0.4,
             "#fde0ef"
            ],
            [
             0.5,
             "#f7f7f7"
            ],
            [
             0.6,
             "#e6f5d0"
            ],
            [
             0.7,
             "#b8e186"
            ],
            [
             0.8,
             "#7fbc41"
            ],
            [
             0.9,
             "#4d9221"
            ],
            [
             1,
             "#276419"
            ]
           ],
           "sequential": [
            [
             0,
             "#0d0887"
            ],
            [
             0.1111111111111111,
             "#46039f"
            ],
            [
             0.2222222222222222,
             "#7201a8"
            ],
            [
             0.3333333333333333,
             "#9c179e"
            ],
            [
             0.4444444444444444,
             "#bd3786"
            ],
            [
             0.5555555555555556,
             "#d8576b"
            ],
            [
             0.6666666666666666,
             "#ed7953"
            ],
            [
             0.7777777777777778,
             "#fb9f3a"
            ],
            [
             0.8888888888888888,
             "#fdca26"
            ],
            [
             1,
             "#f0f921"
            ]
           ],
           "sequentialminus": [
            [
             0,
             "#0d0887"
            ],
            [
             0.1111111111111111,
             "#46039f"
            ],
            [
             0.2222222222222222,
             "#7201a8"
            ],
            [
             0.3333333333333333,
             "#9c179e"
            ],
            [
             0.4444444444444444,
             "#bd3786"
            ],
            [
             0.5555555555555556,
             "#d8576b"
            ],
            [
             0.6666666666666666,
             "#ed7953"
            ],
            [
             0.7777777777777778,
             "#fb9f3a"
            ],
            [
             0.8888888888888888,
             "#fdca26"
            ],
            [
             1,
             "#f0f921"
            ]
           ]
          },
          "colorway": [
           "#636efa",
           "#EF553B",
           "#00cc96",
           "#ab63fa",
           "#FFA15A",
           "#19d3f3",
           "#FF6692",
           "#B6E880",
           "#FF97FF",
           "#FECB52"
          ],
          "font": {
           "color": "#2a3f5f"
          },
          "geo": {
           "bgcolor": "white",
           "lakecolor": "white",
           "landcolor": "#E5ECF6",
           "showlakes": true,
           "showland": true,
           "subunitcolor": "white"
          },
          "hoverlabel": {
           "align": "left"
          },
          "hovermode": "closest",
          "mapbox": {
           "style": "light"
          },
          "paper_bgcolor": "white",
          "plot_bgcolor": "#E5ECF6",
          "polar": {
           "angularaxis": {
            "gridcolor": "white",
            "linecolor": "white",
            "ticks": ""
           },
           "bgcolor": "#E5ECF6",
           "radialaxis": {
            "gridcolor": "white",
            "linecolor": "white",
            "ticks": ""
           }
          },
          "scene": {
           "xaxis": {
            "backgroundcolor": "#E5ECF6",
            "gridcolor": "white",
            "gridwidth": 2,
            "linecolor": "white",
            "showbackground": true,
            "ticks": "",
            "zerolinecolor": "white"
           },
           "yaxis": {
            "backgroundcolor": "#E5ECF6",
            "gridcolor": "white",
            "gridwidth": 2,
            "linecolor": "white",
            "showbackground": true,
            "ticks": "",
            "zerolinecolor": "white"
           },
           "zaxis": {
            "backgroundcolor": "#E5ECF6",
            "gridcolor": "white",
            "gridwidth": 2,
            "linecolor": "white",
            "showbackground": true,
            "ticks": "",
            "zerolinecolor": "white"
           }
          },
          "shapedefaults": {
           "line": {
            "color": "#2a3f5f"
           }
          },
          "ternary": {
           "aaxis": {
            "gridcolor": "white",
            "linecolor": "white",
            "ticks": ""
           },
           "baxis": {
            "gridcolor": "white",
            "linecolor": "white",
            "ticks": ""
           },
           "bgcolor": "#E5ECF6",
           "caxis": {
            "gridcolor": "white",
            "linecolor": "white",
            "ticks": ""
           }
          },
          "title": {
           "x": 0.05
          },
          "xaxis": {
           "automargin": true,
           "gridcolor": "white",
           "linecolor": "white",
           "ticks": "",
           "title": {
            "standoff": 15
           },
           "zerolinecolor": "white",
           "zerolinewidth": 2
          },
          "yaxis": {
           "automargin": true,
           "gridcolor": "white",
           "linecolor": "white",
           "ticks": "",
           "title": {
            "standoff": 15
           },
           "zerolinecolor": "white",
           "zerolinewidth": 2
          }
         }
        },
        "title": {
         "font": {
          "color": "#4D5663"
         }
        },
        "xaxis": {
         "gridcolor": "#E1E5ED",
         "showgrid": true,
         "tickfont": {
          "color": "#4D5663"
         },
         "title": {
          "font": {
           "color": "#4D5663"
          },
          "text": ""
         },
         "zerolinecolor": "#E1E5ED"
        },
        "yaxis": {
         "gridcolor": "#E1E5ED",
         "showgrid": true,
         "tickfont": {
          "color": "#4D5663"
         },
         "title": {
          "font": {
           "color": "#4D5663"
          },
          "text": ""
         },
         "zerolinecolor": "#E1E5ED"
        }
       }
      },
      "text/html": [
       "<div>\n",
       "        \n",
       "        \n",
       "            <div id=\"e45a86a3-7913-40bf-9d24-a89089632333\" class=\"plotly-graph-div\" style=\"height:525px; width:100%;\"></div>\n",
       "            <script type=\"text/javascript\">\n",
       "                require([\"plotly\"], function(Plotly) {\n",
       "                    window.PLOTLYENV=window.PLOTLYENV || {};\n",
       "                    window.PLOTLYENV.BASE_URL='https://plot.ly';\n",
       "                    \n",
       "                if (document.getElementById(\"e45a86a3-7913-40bf-9d24-a89089632333\")) {\n",
       "                    Plotly.newPlot(\n",
       "                        'e45a86a3-7913-40bf-9d24-a89089632333',\n",
       "                        [{\"line\": {\"color\": \"rgba(255, 153, 51, 1.0)\", \"dash\": \"solid\", \"shape\": \"linear\", \"width\": 1.3}, \"mode\": \"lines\", \"name\": \"A\", \"text\": \"\", \"type\": \"scatter\", \"x\": [0, 1, 2, 3, 4, 5, 6, 7, 8, 9, 10, 11, 12, 13, 14, 15, 16, 17, 18, 19, 20, 21, 22, 23, 24, 25, 26, 27, 28, 29, 30, 31, 32, 33, 34, 35, 36, 37, 38, 39, 40, 41, 42, 43, 44, 45, 46, 47, 48, 49, 50, 51, 52, 53, 54, 55, 56, 57, 58, 59, 60, 61, 62, 63, 64, 65, 66, 67, 68, 69, 70, 71, 72, 73, 74, 75, 76, 77, 78, 79, 80, 81, 82, 83, 84, 85, 86, 87, 88, 89, 90, 91, 92, 93, 94, 95, 96, 97, 98, 99], \"y\": [0.8565004406896697, 0.616667033466685, 0.9298916478237453, -1.6724634436675336, -0.019950485747430385, -0.32800911299570507, -0.520848431309861, -1.30147296225039, 0.918170020841073, -0.003030796847175438, 1.8515261305902329, -2.4657644444358904, -1.439356632219261, 0.15387753978794932, 0.07641025126858664, 0.05696079491628426, 0.994002604240455, 1.3063555379994916, 0.11680196973249214, -0.06144614746125791, 0.16965506162971544, -1.5592095724925938, 1.7362505416468237, -0.5158156181616896, 0.3112988643540849, 0.6367371116974732, -1.5536536001503518, -1.7685320204209458, -0.5392754585148415, 0.10192996646476966, 0.5568460660823932, 0.4092568775144538, 0.6425257437679849, 0.09284381524121892, 1.7894845246730584, -1.5779423255162153, -1.789479229742878, 0.7609651113838944, -0.6674139141954538, -0.4214512133650312, -0.44539736631937926, 0.5186930794439539, -1.0086390260505254, 0.7345811131541214, -0.8682151792015697, -0.5138030956228592, 2.44506810870039, -0.48872333105082555, 1.3671166266258052, -0.01753294451379828, 0.11685967207261917, 1.0155837704561772, -0.5150792361553516, -0.4189522845684282, -1.671800498378324, 0.00849610436739744, -0.895038429064667, -0.7234219959912285, 0.206272727623923, 0.3226173070103636, -0.4358213189085439, 1.485019297233284, 1.3145577597333455, 1.1418099258834655, 0.3899155275990936, 0.6744845811903896, -1.5421747306588416, 0.10759935916787118, -0.29174756418219683, 0.4816850364526941, 0.06383954088766132, 0.805862380002143, 1.7922318721731754, 0.7711332871154744, 1.5493299640694245, 2.1568955364366897, 1.1670866728363158, 0.7987843837817445, 0.5924788058898702, 0.46868961780136764, 0.041509628887594935, 1.4403527221146417, 0.06159499985984685, -0.37884426150130707, -0.5712864766608926, -0.05456501732571868, -1.374456821319399, -0.29150627018452924, -0.5060841247039243, -0.9116186430932947, -0.03191657470382843, -1.1907703476630989, -0.2240749488357738, 0.9880910702602029, -0.6027601036139539, -0.804412324683554, -0.42504929417141835, 0.23827330110499453, 1.2763718707572826, -0.6127361720543995]}, {\"line\": {\"color\": \"rgba(55, 128, 191, 1.0)\", \"dash\": \"solid\", \"shape\": \"linear\", \"width\": 1.3}, \"mode\": \"lines\", \"name\": \"B\", \"text\": \"\", \"type\": \"scatter\", \"x\": [0, 1, 2, 3, 4, 5, 6, 7, 8, 9, 10, 11, 12, 13, 14, 15, 16, 17, 18, 19, 20, 21, 22, 23, 24, 25, 26, 27, 28, 29, 30, 31, 32, 33, 34, 35, 36, 37, 38, 39, 40, 41, 42, 43, 44, 45, 46, 47, 48, 49, 50, 51, 52, 53, 54, 55, 56, 57, 58, 59, 60, 61, 62, 63, 64, 65, 66, 67, 68, 69, 70, 71, 72, 73, 74, 75, 76, 77, 78, 79, 80, 81, 82, 83, 84, 85, 86, 87, 88, 89, 90, 91, 92, 93, 94, 95, 96, 97, 98, 99], \"y\": [1.475589520025869, 0.058193690147613136, 0.8858587130605142, -1.0062473781673018, 0.46803675911740583, 1.8876584534559304, 1.0068376194540218, 0.20649832656467781, -0.3831842413954928, 0.8146880661445408, 0.7525580546906689, -0.9499437266514072, -0.5124677266513444, -0.07070799266437955, 0.24842935771077734, -0.47466919918713246, 0.1329640121766927, 0.7101899364369233, -0.8129158041745252, -0.9065188940398232, -0.576101023436274, 0.7211521933563564, 0.4980075228147292, -0.4772199892654312, -0.25876529291204786, 0.02805869936306022, -1.1120841762313531, -0.34773983569211936, 0.5592457342025116, -2.2329856221230426, 1.244429738539221, -0.3558037971356808, -1.7071760167849175, -0.38601241809639797, -1.2101106786862859, 0.39581149532187293, -1.613409089316727, -0.017707675178522137, -0.51674385539429, 0.5508169727530585, -0.7657147803155174, 2.102266470888824, -1.9500668951535425, 0.08582168052356781, -1.2031543487810075, 0.09047246874201739, -1.2046473795482855, 0.057008372010706757, -0.6793292136001533, -0.16868751384288672, 0.013752896177967523, 0.13559208744343473, -0.9630115477948523, 0.7230504579164195, -0.7957538189923294, -0.5367136225824187, -1.0077205412350119, -1.7914055716137376, -1.230050510713824, 0.8679372146419765, 0.016712192818447498, -1.7296404941674273, 0.6279507372489606, 2.2072101493033247, -1.426478309767374, -0.10793231034668634, 0.2825793489947289, -1.980919281504627, 1.355967324544568, -0.7001789060327122, -1.2722359256963178, 0.09299395157163394, 0.9666985831548762, -0.3146817160528018, 0.5624621245870179, -0.4257065060814728, 2.8239069121719327, -0.6597234857277737, 0.045685732120529614, -0.01918897826138856, 0.19400035829565307, 0.331512334519879, -0.14894837996905405, -0.35260660854332354, 0.4922341899645374, 0.512147456731329, 0.06474390398539126, 2.3772022790380962, 0.4500853579083613, -0.6527657639931757, -0.047316453982068685, 0.4678256940750706, -0.5795657304715769, -1.2899242922557217, -0.3685463537980794, 0.25886314902995966, -0.659454095923306, -0.28299923424564427, -1.3644779963994549, -0.07484015266979967]}, {\"line\": {\"color\": \"rgba(50, 171, 96, 1.0)\", \"dash\": \"solid\", \"shape\": \"linear\", \"width\": 1.3}, \"mode\": \"lines\", \"name\": \"C\", \"text\": \"\", \"type\": \"scatter\", \"x\": [0, 1, 2, 3, 4, 5, 6, 7, 8, 9, 10, 11, 12, 13, 14, 15, 16, 17, 18, 19, 20, 21, 22, 23, 24, 25, 26, 27, 28, 29, 30, 31, 32, 33, 34, 35, 36, 37, 38, 39, 40, 41, 42, 43, 44, 45, 46, 47, 48, 49, 50, 51, 52, 53, 54, 55, 56, 57, 58, 59, 60, 61, 62, 63, 64, 65, 66, 67, 68, 69, 70, 71, 72, 73, 74, 75, 76, 77, 78, 79, 80, 81, 82, 83, 84, 85, 86, 87, 88, 89, 90, 91, 92, 93, 94, 95, 96, 97, 98, 99], \"y\": [0.09536454976164993, -1.979873229425567, -0.8006171220144002, -1.4085439333951777, 0.08547942854432763, -0.008826093278719568, -0.2991548029353947, 0.2576029505630603, 0.8795221488870283, -0.07200754103600952, -0.046151183479252546, 0.3374454762825173, -0.6779825948518686, -0.09763964035505414, 1.599220362888875, 0.17648750653606524, 0.18213753336434174, -0.9245131437491316, 2.050342741577169, -0.11525257001200029, -0.3081347973723833, -0.34588166791003433, -0.33520708347079836, -1.0388186655706726, 0.46110275587050625, -0.5761386680731327, 0.8801801412081522, -0.5334511453174319, 2.179848881496895, 0.8510521398255604, -1.302215746186497, -0.2758653764454315, 0.4229725742656263, -0.6854796038539009, -0.46825269421393273, -0.059917604332156246, 0.27907495323068693, -0.4774644670954662, 0.5112678302701621, -2.653886389514963, 0.5602132803496599, -0.09368145292452275, -0.5108472428829691, -0.0049541575064123555, 0.8263529754001935, -1.0298167166950276, 0.11615194577730661, -0.033485373062486425, -0.5023586159199206, -0.5343264848054067, 1.2563645314112177, -0.670756044789189, 0.04086236619495206, -0.48491239039460976, 0.8368010161808237, -1.4747359948647716, -0.678626261666939, 0.055916347271540726, -0.665548308946417, -0.7349920467327229, 1.1431344385353945, 0.10272624712609245, 2.0337920267866245, -0.25664343368236386, 0.3270272774134318, -0.9161936736943582, 0.6640500241172738, 0.45816299396646826, 1.479109563408102, -1.0801874426617148, 0.8645323939687818, 1.556299817995986, -0.19584520336043118, -0.6074092807738445, -0.7036813686304971, -0.2522157220017819, 1.9265828118823523, -1.5812188150203852, 0.109577170426578, 1.7041087583411898, -1.6958191071790105, -1.6508695078091753, -0.14063194438965274, 0.9241987280821946, 0.8150487836869047, 0.5931459555812096, 1.5264875107240874, 0.9944396469378712, -1.3785578513262233, 0.29406582022837885, -0.3913540100322184, -0.3505245746885777, 0.01771170232228889, -0.42157829849596756, -1.130644127991805, 0.44140298627012853, 0.3749867305185496, -0.2891992005348076, -0.9140427672546457, 0.962493619611387]}, {\"line\": {\"color\": \"rgba(128, 0, 128, 1.0)\", \"dash\": \"solid\", \"shape\": \"linear\", \"width\": 1.3}, \"mode\": \"lines\", \"name\": \"D\", \"text\": \"\", \"type\": \"scatter\", \"x\": [0, 1, 2, 3, 4, 5, 6, 7, 8, 9, 10, 11, 12, 13, 14, 15, 16, 17, 18, 19, 20, 21, 22, 23, 24, 25, 26, 27, 28, 29, 30, 31, 32, 33, 34, 35, 36, 37, 38, 39, 40, 41, 42, 43, 44, 45, 46, 47, 48, 49, 50, 51, 52, 53, 54, 55, 56, 57, 58, 59, 60, 61, 62, 63, 64, 65, 66, 67, 68, 69, 70, 71, 72, 73, 74, 75, 76, 77, 78, 79, 80, 81, 82, 83, 84, 85, 86, 87, 88, 89, 90, 91, 92, 93, 94, 95, 96, 97, 98, 99], \"y\": [-2.8371083245496616, 0.18726671943935058, -0.635752704507406, 0.31204885311241765, -1.6884623420901927, -2.218046636438145, 0.8005326796231135, 0.2571323568177598, -0.7517794685927304, 0.7141700622967905, -0.7034274370151249, 1.7601916791167034, -0.695062955483073, -0.2605103364893929, -0.46730855079440314, 0.7343327121690637, -0.9815267713197737, 0.08934937710201019, 1.2228982710514336, -0.2558313016025286, 0.08473537705506456, -0.2831432143808916, -0.5078694189178844, 1.3868024785701536, -0.5953077204912341, 1.848884077889904, 1.5390355127582946, 0.028268872843309582, -0.595582478100544, 1.5427013777117144, -0.5267129535115503, -2.2191309716885237, 0.0526380368058972, -1.362504559433225, 0.347626808410747, -0.23159946754631258, -0.4455793612367743, -0.06588596165374287, -1.3878920907572154, -1.008227288385752, 0.5214377993630165, -0.018950103896625235, -0.14910350029198688, -0.5731720468029629, -0.9448239720268437, -0.22647219243858305, 0.23146433215176052, 0.893712658602652, -0.6793475172366461, 1.6732234146359781, 1.3376624235505683, -2.2775249667085014, -0.35725965871140325, -0.4866196631848915, 0.5221645015016327, -2.3512699124364085, -0.5692428042702953, 0.10925410215289443, -0.36194004921095924, 0.6334634171826902, -0.989516778828704, 1.5894450940447842, 1.6504996902903266, 0.08065315455009567, 0.06506507570552242, -0.2945574392855909, 0.5163758035262357, 0.7920140242556639, -1.1531881291574442, -0.45478802547050956, 0.4148567561667146, -1.6225514034438266, -0.05256397906113001, -0.856629342427809, -1.128943548249932, 2.591930395771614, -1.510629341644163, 0.08673476546190459, 0.2710878959149094, -0.38617512562306183, -0.25179677654739074, -0.23088214790287442, -2.2421051954884854, 0.22438491327880083, 0.3358240185176065, -1.9844158775313674, -1.1360740539664844, -0.5211490606702568, 0.0976208293459543, 1.6774681184560594, 1.7459282462631893, -2.0453097398102043, 0.7010203333543181, -0.42683017154972774, -0.5401712869994386, -0.38687846178588225, -0.9066203932855437, 1.0269121046221774, 0.507489187083504, 1.9548992675904575]}],\n",
       "                        {\"legend\": {\"bgcolor\": \"#F5F6F9\", \"font\": {\"color\": \"#4D5663\"}}, \"paper_bgcolor\": \"#F5F6F9\", \"plot_bgcolor\": \"#F5F6F9\", \"template\": {\"data\": {\"bar\": [{\"error_x\": {\"color\": \"#2a3f5f\"}, \"error_y\": {\"color\": \"#2a3f5f\"}, \"marker\": {\"line\": {\"color\": \"#E5ECF6\", \"width\": 0.5}}, \"type\": \"bar\"}], \"barpolar\": [{\"marker\": {\"line\": {\"color\": \"#E5ECF6\", \"width\": 0.5}}, \"type\": \"barpolar\"}], \"carpet\": [{\"aaxis\": {\"endlinecolor\": \"#2a3f5f\", \"gridcolor\": \"white\", \"linecolor\": \"white\", \"minorgridcolor\": \"white\", \"startlinecolor\": \"#2a3f5f\"}, \"baxis\": {\"endlinecolor\": \"#2a3f5f\", \"gridcolor\": \"white\", \"linecolor\": \"white\", \"minorgridcolor\": \"white\", \"startlinecolor\": \"#2a3f5f\"}, \"type\": \"carpet\"}], \"choropleth\": [{\"colorbar\": {\"outlinewidth\": 0, \"ticks\": \"\"}, \"type\": \"choropleth\"}], \"contour\": [{\"colorbar\": {\"outlinewidth\": 0, \"ticks\": \"\"}, \"colorscale\": [[0.0, \"#0d0887\"], [0.1111111111111111, \"#46039f\"], [0.2222222222222222, \"#7201a8\"], [0.3333333333333333, \"#9c179e\"], [0.4444444444444444, \"#bd3786\"], [0.5555555555555556, \"#d8576b\"], [0.6666666666666666, \"#ed7953\"], [0.7777777777777778, \"#fb9f3a\"], [0.8888888888888888, \"#fdca26\"], [1.0, \"#f0f921\"]], \"type\": \"contour\"}], \"contourcarpet\": [{\"colorbar\": {\"outlinewidth\": 0, \"ticks\": \"\"}, \"type\": \"contourcarpet\"}], \"heatmap\": [{\"colorbar\": {\"outlinewidth\": 0, \"ticks\": \"\"}, \"colorscale\": [[0.0, \"#0d0887\"], [0.1111111111111111, \"#46039f\"], [0.2222222222222222, \"#7201a8\"], [0.3333333333333333, \"#9c179e\"], [0.4444444444444444, \"#bd3786\"], [0.5555555555555556, \"#d8576b\"], [0.6666666666666666, \"#ed7953\"], [0.7777777777777778, \"#fb9f3a\"], [0.8888888888888888, \"#fdca26\"], [1.0, \"#f0f921\"]], \"type\": \"heatmap\"}], \"heatmapgl\": [{\"colorbar\": {\"outlinewidth\": 0, \"ticks\": \"\"}, \"colorscale\": [[0.0, \"#0d0887\"], [0.1111111111111111, \"#46039f\"], [0.2222222222222222, \"#7201a8\"], [0.3333333333333333, \"#9c179e\"], [0.4444444444444444, \"#bd3786\"], [0.5555555555555556, \"#d8576b\"], [0.6666666666666666, \"#ed7953\"], [0.7777777777777778, \"#fb9f3a\"], [0.8888888888888888, \"#fdca26\"], [1.0, \"#f0f921\"]], \"type\": \"heatmapgl\"}], \"histogram\": [{\"marker\": {\"colorbar\": {\"outlinewidth\": 0, \"ticks\": \"\"}}, \"type\": \"histogram\"}], \"histogram2d\": [{\"colorbar\": {\"outlinewidth\": 0, \"ticks\": \"\"}, \"colorscale\": [[0.0, \"#0d0887\"], [0.1111111111111111, \"#46039f\"], [0.2222222222222222, \"#7201a8\"], [0.3333333333333333, \"#9c179e\"], [0.4444444444444444, \"#bd3786\"], [0.5555555555555556, \"#d8576b\"], [0.6666666666666666, \"#ed7953\"], [0.7777777777777778, \"#fb9f3a\"], [0.8888888888888888, \"#fdca26\"], [1.0, \"#f0f921\"]], \"type\": \"histogram2d\"}], \"histogram2dcontour\": [{\"colorbar\": {\"outlinewidth\": 0, \"ticks\": \"\"}, \"colorscale\": [[0.0, \"#0d0887\"], [0.1111111111111111, \"#46039f\"], [0.2222222222222222, \"#7201a8\"], [0.3333333333333333, \"#9c179e\"], [0.4444444444444444, \"#bd3786\"], [0.5555555555555556, \"#d8576b\"], [0.6666666666666666, \"#ed7953\"], [0.7777777777777778, \"#fb9f3a\"], [0.8888888888888888, \"#fdca26\"], [1.0, \"#f0f921\"]], \"type\": \"histogram2dcontour\"}], \"mesh3d\": [{\"colorbar\": {\"outlinewidth\": 0, \"ticks\": \"\"}, \"type\": \"mesh3d\"}], \"parcoords\": [{\"line\": {\"colorbar\": {\"outlinewidth\": 0, \"ticks\": \"\"}}, \"type\": \"parcoords\"}], \"pie\": [{\"automargin\": true, \"type\": \"pie\"}], \"scatter\": [{\"marker\": {\"colorbar\": {\"outlinewidth\": 0, \"ticks\": \"\"}}, \"type\": \"scatter\"}], \"scatter3d\": [{\"line\": {\"colorbar\": {\"outlinewidth\": 0, \"ticks\": \"\"}}, \"marker\": {\"colorbar\": {\"outlinewidth\": 0, \"ticks\": \"\"}}, \"type\": \"scatter3d\"}], \"scattercarpet\": [{\"marker\": {\"colorbar\": {\"outlinewidth\": 0, \"ticks\": \"\"}}, \"type\": \"scattercarpet\"}], \"scattergeo\": [{\"marker\": {\"colorbar\": {\"outlinewidth\": 0, \"ticks\": \"\"}}, \"type\": \"scattergeo\"}], \"scattergl\": [{\"marker\": {\"colorbar\": {\"outlinewidth\": 0, \"ticks\": \"\"}}, \"type\": \"scattergl\"}], \"scattermapbox\": [{\"marker\": {\"colorbar\": {\"outlinewidth\": 0, \"ticks\": \"\"}}, \"type\": \"scattermapbox\"}], \"scatterpolar\": [{\"marker\": {\"colorbar\": {\"outlinewidth\": 0, \"ticks\": \"\"}}, \"type\": \"scatterpolar\"}], \"scatterpolargl\": [{\"marker\": {\"colorbar\": {\"outlinewidth\": 0, \"ticks\": \"\"}}, \"type\": \"scatterpolargl\"}], \"scatterternary\": [{\"marker\": {\"colorbar\": {\"outlinewidth\": 0, \"ticks\": \"\"}}, \"type\": \"scatterternary\"}], \"surface\": [{\"colorbar\": {\"outlinewidth\": 0, \"ticks\": \"\"}, \"colorscale\": [[0.0, \"#0d0887\"], [0.1111111111111111, \"#46039f\"], [0.2222222222222222, \"#7201a8\"], [0.3333333333333333, \"#9c179e\"], [0.4444444444444444, \"#bd3786\"], [0.5555555555555556, \"#d8576b\"], [0.6666666666666666, \"#ed7953\"], [0.7777777777777778, \"#fb9f3a\"], [0.8888888888888888, \"#fdca26\"], [1.0, \"#f0f921\"]], \"type\": \"surface\"}], \"table\": [{\"cells\": {\"fill\": {\"color\": \"#EBF0F8\"}, \"line\": {\"color\": \"white\"}}, \"header\": {\"fill\": {\"color\": \"#C8D4E3\"}, \"line\": {\"color\": \"white\"}}, \"type\": \"table\"}]}, \"layout\": {\"annotationdefaults\": {\"arrowcolor\": \"#2a3f5f\", \"arrowhead\": 0, \"arrowwidth\": 1}, \"coloraxis\": {\"colorbar\": {\"outlinewidth\": 0, \"ticks\": \"\"}}, \"colorscale\": {\"diverging\": [[0, \"#8e0152\"], [0.1, \"#c51b7d\"], [0.2, \"#de77ae\"], [0.3, \"#f1b6da\"], [0.4, \"#fde0ef\"], [0.5, \"#f7f7f7\"], [0.6, \"#e6f5d0\"], [0.7, \"#b8e186\"], [0.8, \"#7fbc41\"], [0.9, \"#4d9221\"], [1, \"#276419\"]], \"sequential\": [[0.0, \"#0d0887\"], [0.1111111111111111, \"#46039f\"], [0.2222222222222222, \"#7201a8\"], [0.3333333333333333, \"#9c179e\"], [0.4444444444444444, \"#bd3786\"], [0.5555555555555556, \"#d8576b\"], [0.6666666666666666, \"#ed7953\"], [0.7777777777777778, \"#fb9f3a\"], [0.8888888888888888, \"#fdca26\"], [1.0, \"#f0f921\"]], \"sequentialminus\": [[0.0, \"#0d0887\"], [0.1111111111111111, \"#46039f\"], [0.2222222222222222, \"#7201a8\"], [0.3333333333333333, \"#9c179e\"], [0.4444444444444444, \"#bd3786\"], [0.5555555555555556, \"#d8576b\"], [0.6666666666666666, \"#ed7953\"], [0.7777777777777778, \"#fb9f3a\"], [0.8888888888888888, \"#fdca26\"], [1.0, \"#f0f921\"]]}, \"colorway\": [\"#636efa\", \"#EF553B\", \"#00cc96\", \"#ab63fa\", \"#FFA15A\", \"#19d3f3\", \"#FF6692\", \"#B6E880\", \"#FF97FF\", \"#FECB52\"], \"font\": {\"color\": \"#2a3f5f\"}, \"geo\": {\"bgcolor\": \"white\", \"lakecolor\": \"white\", \"landcolor\": \"#E5ECF6\", \"showlakes\": true, \"showland\": true, \"subunitcolor\": \"white\"}, \"hoverlabel\": {\"align\": \"left\"}, \"hovermode\": \"closest\", \"mapbox\": {\"style\": \"light\"}, \"paper_bgcolor\": \"white\", \"plot_bgcolor\": \"#E5ECF6\", \"polar\": {\"angularaxis\": {\"gridcolor\": \"white\", \"linecolor\": \"white\", \"ticks\": \"\"}, \"bgcolor\": \"#E5ECF6\", \"radialaxis\": {\"gridcolor\": \"white\", \"linecolor\": \"white\", \"ticks\": \"\"}}, \"scene\": {\"xaxis\": {\"backgroundcolor\": \"#E5ECF6\", \"gridcolor\": \"white\", \"gridwidth\": 2, \"linecolor\": \"white\", \"showbackground\": true, \"ticks\": \"\", \"zerolinecolor\": \"white\"}, \"yaxis\": {\"backgroundcolor\": \"#E5ECF6\", \"gridcolor\": \"white\", \"gridwidth\": 2, \"linecolor\": \"white\", \"showbackground\": true, \"ticks\": \"\", \"zerolinecolor\": \"white\"}, \"zaxis\": {\"backgroundcolor\": \"#E5ECF6\", \"gridcolor\": \"white\", \"gridwidth\": 2, \"linecolor\": \"white\", \"showbackground\": true, \"ticks\": \"\", \"zerolinecolor\": \"white\"}}, \"shapedefaults\": {\"line\": {\"color\": \"#2a3f5f\"}}, \"ternary\": {\"aaxis\": {\"gridcolor\": \"white\", \"linecolor\": \"white\", \"ticks\": \"\"}, \"baxis\": {\"gridcolor\": \"white\", \"linecolor\": \"white\", \"ticks\": \"\"}, \"bgcolor\": \"#E5ECF6\", \"caxis\": {\"gridcolor\": \"white\", \"linecolor\": \"white\", \"ticks\": \"\"}}, \"title\": {\"x\": 0.05}, \"xaxis\": {\"automargin\": true, \"gridcolor\": \"white\", \"linecolor\": \"white\", \"ticks\": \"\", \"title\": {\"standoff\": 15}, \"zerolinecolor\": \"white\", \"zerolinewidth\": 2}, \"yaxis\": {\"automargin\": true, \"gridcolor\": \"white\", \"linecolor\": \"white\", \"ticks\": \"\", \"title\": {\"standoff\": 15}, \"zerolinecolor\": \"white\", \"zerolinewidth\": 2}}}, \"title\": {\"font\": {\"color\": \"#4D5663\"}}, \"xaxis\": {\"gridcolor\": \"#E1E5ED\", \"showgrid\": true, \"tickfont\": {\"color\": \"#4D5663\"}, \"title\": {\"font\": {\"color\": \"#4D5663\"}, \"text\": \"\"}, \"zerolinecolor\": \"#E1E5ED\"}, \"yaxis\": {\"gridcolor\": \"#E1E5ED\", \"showgrid\": true, \"tickfont\": {\"color\": \"#4D5663\"}, \"title\": {\"font\": {\"color\": \"#4D5663\"}, \"text\": \"\"}, \"zerolinecolor\": \"#E1E5ED\"}},\n",
       "                        {\"showLink\": true, \"linkText\": \"Export to plot.ly\", \"plotlyServerURL\": \"https://plot.ly\", \"responsive\": true}\n",
       "                    ).then(function(){\n",
       "                            \n",
       "var gd = document.getElementById('e45a86a3-7913-40bf-9d24-a89089632333');\n",
       "var x = new MutationObserver(function (mutations, observer) {{\n",
       "        var display = window.getComputedStyle(gd).display;\n",
       "        if (!display || display === 'none') {{\n",
       "            console.log([gd, 'removed!']);\n",
       "            Plotly.purge(gd);\n",
       "            observer.disconnect();\n",
       "        }}\n",
       "}});\n",
       "\n",
       "// Listen for the removal of the full notebook cells\n",
       "var notebookContainer = gd.closest('#notebook-container');\n",
       "if (notebookContainer) {{\n",
       "    x.observe(notebookContainer, {childList: true});\n",
       "}}\n",
       "\n",
       "// Listen for the clearing of the current output cell\n",
       "var outputEl = gd.closest('.output');\n",
       "if (outputEl) {{\n",
       "    x.observe(outputEl, {childList: true});\n",
       "}}\n",
       "\n",
       "                        })\n",
       "                };\n",
       "                });\n",
       "            </script>\n",
       "        </div>"
      ]
     },
     "metadata": {},
     "output_type": "display_data"
    }
   ],
   "source": [
    "df.iplot()"
   ]
  },
  {
   "cell_type": "markdown",
   "metadata": {},
   "source": [
    "- Creat a scatter plot using **iplot**"
   ]
  },
  {
   "cell_type": "code",
   "execution_count": 33,
   "metadata": {},
   "outputs": [
    {
     "data": {
      "application/vnd.plotly.v1+json": {
       "config": {
        "linkText": "Export to plot.ly",
        "plotlyServerURL": "https://plot.ly",
        "showLink": true
       },
       "data": [
        {
         "line": {
          "color": "rgba(255, 153, 51, 1.0)",
          "dash": "solid",
          "shape": "linear",
          "width": 1.3
         },
         "marker": {
          "size": 20,
          "symbol": "circle"
         },
         "mode": "markers",
         "name": "B",
         "text": "",
         "type": "scatter",
         "x": [
          0.8565004406896697,
          0.616667033466685,
          0.9298916478237453,
          -1.6724634436675336,
          -0.019950485747430385,
          -0.32800911299570507,
          -0.520848431309861,
          -1.30147296225039,
          0.918170020841073,
          -0.003030796847175438,
          1.8515261305902329,
          -2.4657644444358904,
          -1.439356632219261,
          0.15387753978794932,
          0.07641025126858664,
          0.05696079491628426,
          0.994002604240455,
          1.3063555379994916,
          0.11680196973249214,
          -0.06144614746125791,
          0.16965506162971544,
          -1.5592095724925938,
          1.7362505416468237,
          -0.5158156181616896,
          0.3112988643540849,
          0.6367371116974732,
          -1.5536536001503518,
          -1.7685320204209458,
          -0.5392754585148415,
          0.10192996646476966,
          0.5568460660823932,
          0.4092568775144538,
          0.6425257437679849,
          0.09284381524121892,
          1.7894845246730584,
          -1.5779423255162153,
          -1.789479229742878,
          0.7609651113838944,
          -0.6674139141954538,
          -0.4214512133650312,
          -0.44539736631937926,
          0.5186930794439539,
          -1.0086390260505254,
          0.7345811131541214,
          -0.8682151792015697,
          -0.5138030956228592,
          2.44506810870039,
          -0.48872333105082555,
          1.3671166266258052,
          -0.01753294451379828,
          0.11685967207261917,
          1.0155837704561772,
          -0.5150792361553516,
          -0.4189522845684282,
          -1.671800498378324,
          0.00849610436739744,
          -0.895038429064667,
          -0.7234219959912285,
          0.206272727623923,
          0.3226173070103636,
          -0.4358213189085439,
          1.485019297233284,
          1.3145577597333455,
          1.1418099258834655,
          0.3899155275990936,
          0.6744845811903896,
          -1.5421747306588416,
          0.10759935916787118,
          -0.29174756418219683,
          0.4816850364526941,
          0.06383954088766132,
          0.805862380002143,
          1.7922318721731754,
          0.7711332871154744,
          1.5493299640694245,
          2.1568955364366897,
          1.1670866728363158,
          0.7987843837817445,
          0.5924788058898702,
          0.46868961780136764,
          0.041509628887594935,
          1.4403527221146417,
          0.06159499985984685,
          -0.37884426150130707,
          -0.5712864766608926,
          -0.05456501732571868,
          -1.374456821319399,
          -0.29150627018452924,
          -0.5060841247039243,
          -0.9116186430932947,
          -0.03191657470382843,
          -1.1907703476630989,
          -0.2240749488357738,
          0.9880910702602029,
          -0.6027601036139539,
          -0.804412324683554,
          -0.42504929417141835,
          0.23827330110499453,
          1.2763718707572826,
          -0.6127361720543995
         ],
         "y": [
          1.475589520025869,
          0.058193690147613136,
          0.8858587130605142,
          -1.0062473781673018,
          0.46803675911740583,
          1.8876584534559304,
          1.0068376194540218,
          0.20649832656467781,
          -0.3831842413954928,
          0.8146880661445408,
          0.7525580546906689,
          -0.9499437266514072,
          -0.5124677266513444,
          -0.07070799266437955,
          0.24842935771077734,
          -0.47466919918713246,
          0.1329640121766927,
          0.7101899364369233,
          -0.8129158041745252,
          -0.9065188940398232,
          -0.576101023436274,
          0.7211521933563564,
          0.4980075228147292,
          -0.4772199892654312,
          -0.25876529291204786,
          0.02805869936306022,
          -1.1120841762313531,
          -0.34773983569211936,
          0.5592457342025116,
          -2.2329856221230426,
          1.244429738539221,
          -0.3558037971356808,
          -1.7071760167849175,
          -0.38601241809639797,
          -1.2101106786862859,
          0.39581149532187293,
          -1.613409089316727,
          -0.017707675178522137,
          -0.51674385539429,
          0.5508169727530585,
          -0.7657147803155174,
          2.102266470888824,
          -1.9500668951535425,
          0.08582168052356781,
          -1.2031543487810075,
          0.09047246874201739,
          -1.2046473795482855,
          0.057008372010706757,
          -0.6793292136001533,
          -0.16868751384288672,
          0.013752896177967523,
          0.13559208744343473,
          -0.9630115477948523,
          0.7230504579164195,
          -0.7957538189923294,
          -0.5367136225824187,
          -1.0077205412350119,
          -1.7914055716137376,
          -1.230050510713824,
          0.8679372146419765,
          0.016712192818447498,
          -1.7296404941674273,
          0.6279507372489606,
          2.2072101493033247,
          -1.426478309767374,
          -0.10793231034668634,
          0.2825793489947289,
          -1.980919281504627,
          1.355967324544568,
          -0.7001789060327122,
          -1.2722359256963178,
          0.09299395157163394,
          0.9666985831548762,
          -0.3146817160528018,
          0.5624621245870179,
          -0.4257065060814728,
          2.8239069121719327,
          -0.6597234857277737,
          0.045685732120529614,
          -0.01918897826138856,
          0.19400035829565307,
          0.331512334519879,
          -0.14894837996905405,
          -0.35260660854332354,
          0.4922341899645374,
          0.512147456731329,
          0.06474390398539126,
          2.3772022790380962,
          0.4500853579083613,
          -0.6527657639931757,
          -0.047316453982068685,
          0.4678256940750706,
          -0.5795657304715769,
          -1.2899242922557217,
          -0.3685463537980794,
          0.25886314902995966,
          -0.659454095923306,
          -0.28299923424564427,
          -1.3644779963994549,
          -0.07484015266979967
         ]
        }
       ],
       "layout": {
        "legend": {
         "bgcolor": "#F5F6F9",
         "font": {
          "color": "#4D5663"
         }
        },
        "paper_bgcolor": "#F5F6F9",
        "plot_bgcolor": "#F5F6F9",
        "template": {
         "data": {
          "bar": [
           {
            "error_x": {
             "color": "#2a3f5f"
            },
            "error_y": {
             "color": "#2a3f5f"
            },
            "marker": {
             "line": {
              "color": "#E5ECF6",
              "width": 0.5
             }
            },
            "type": "bar"
           }
          ],
          "barpolar": [
           {
            "marker": {
             "line": {
              "color": "#E5ECF6",
              "width": 0.5
             }
            },
            "type": "barpolar"
           }
          ],
          "carpet": [
           {
            "aaxis": {
             "endlinecolor": "#2a3f5f",
             "gridcolor": "white",
             "linecolor": "white",
             "minorgridcolor": "white",
             "startlinecolor": "#2a3f5f"
            },
            "baxis": {
             "endlinecolor": "#2a3f5f",
             "gridcolor": "white",
             "linecolor": "white",
             "minorgridcolor": "white",
             "startlinecolor": "#2a3f5f"
            },
            "type": "carpet"
           }
          ],
          "choropleth": [
           {
            "colorbar": {
             "outlinewidth": 0,
             "ticks": ""
            },
            "type": "choropleth"
           }
          ],
          "contour": [
           {
            "colorbar": {
             "outlinewidth": 0,
             "ticks": ""
            },
            "colorscale": [
             [
              0,
              "#0d0887"
             ],
             [
              0.1111111111111111,
              "#46039f"
             ],
             [
              0.2222222222222222,
              "#7201a8"
             ],
             [
              0.3333333333333333,
              "#9c179e"
             ],
             [
              0.4444444444444444,
              "#bd3786"
             ],
             [
              0.5555555555555556,
              "#d8576b"
             ],
             [
              0.6666666666666666,
              "#ed7953"
             ],
             [
              0.7777777777777778,
              "#fb9f3a"
             ],
             [
              0.8888888888888888,
              "#fdca26"
             ],
             [
              1,
              "#f0f921"
             ]
            ],
            "type": "contour"
           }
          ],
          "contourcarpet": [
           {
            "colorbar": {
             "outlinewidth": 0,
             "ticks": ""
            },
            "type": "contourcarpet"
           }
          ],
          "heatmap": [
           {
            "colorbar": {
             "outlinewidth": 0,
             "ticks": ""
            },
            "colorscale": [
             [
              0,
              "#0d0887"
             ],
             [
              0.1111111111111111,
              "#46039f"
             ],
             [
              0.2222222222222222,
              "#7201a8"
             ],
             [
              0.3333333333333333,
              "#9c179e"
             ],
             [
              0.4444444444444444,
              "#bd3786"
             ],
             [
              0.5555555555555556,
              "#d8576b"
             ],
             [
              0.6666666666666666,
              "#ed7953"
             ],
             [
              0.7777777777777778,
              "#fb9f3a"
             ],
             [
              0.8888888888888888,
              "#fdca26"
             ],
             [
              1,
              "#f0f921"
             ]
            ],
            "type": "heatmap"
           }
          ],
          "heatmapgl": [
           {
            "colorbar": {
             "outlinewidth": 0,
             "ticks": ""
            },
            "colorscale": [
             [
              0,
              "#0d0887"
             ],
             [
              0.1111111111111111,
              "#46039f"
             ],
             [
              0.2222222222222222,
              "#7201a8"
             ],
             [
              0.3333333333333333,
              "#9c179e"
             ],
             [
              0.4444444444444444,
              "#bd3786"
             ],
             [
              0.5555555555555556,
              "#d8576b"
             ],
             [
              0.6666666666666666,
              "#ed7953"
             ],
             [
              0.7777777777777778,
              "#fb9f3a"
             ],
             [
              0.8888888888888888,
              "#fdca26"
             ],
             [
              1,
              "#f0f921"
             ]
            ],
            "type": "heatmapgl"
           }
          ],
          "histogram": [
           {
            "marker": {
             "colorbar": {
              "outlinewidth": 0,
              "ticks": ""
             }
            },
            "type": "histogram"
           }
          ],
          "histogram2d": [
           {
            "colorbar": {
             "outlinewidth": 0,
             "ticks": ""
            },
            "colorscale": [
             [
              0,
              "#0d0887"
             ],
             [
              0.1111111111111111,
              "#46039f"
             ],
             [
              0.2222222222222222,
              "#7201a8"
             ],
             [
              0.3333333333333333,
              "#9c179e"
             ],
             [
              0.4444444444444444,
              "#bd3786"
             ],
             [
              0.5555555555555556,
              "#d8576b"
             ],
             [
              0.6666666666666666,
              "#ed7953"
             ],
             [
              0.7777777777777778,
              "#fb9f3a"
             ],
             [
              0.8888888888888888,
              "#fdca26"
             ],
             [
              1,
              "#f0f921"
             ]
            ],
            "type": "histogram2d"
           }
          ],
          "histogram2dcontour": [
           {
            "colorbar": {
             "outlinewidth": 0,
             "ticks": ""
            },
            "colorscale": [
             [
              0,
              "#0d0887"
             ],
             [
              0.1111111111111111,
              "#46039f"
             ],
             [
              0.2222222222222222,
              "#7201a8"
             ],
             [
              0.3333333333333333,
              "#9c179e"
             ],
             [
              0.4444444444444444,
              "#bd3786"
             ],
             [
              0.5555555555555556,
              "#d8576b"
             ],
             [
              0.6666666666666666,
              "#ed7953"
             ],
             [
              0.7777777777777778,
              "#fb9f3a"
             ],
             [
              0.8888888888888888,
              "#fdca26"
             ],
             [
              1,
              "#f0f921"
             ]
            ],
            "type": "histogram2dcontour"
           }
          ],
          "mesh3d": [
           {
            "colorbar": {
             "outlinewidth": 0,
             "ticks": ""
            },
            "type": "mesh3d"
           }
          ],
          "parcoords": [
           {
            "line": {
             "colorbar": {
              "outlinewidth": 0,
              "ticks": ""
             }
            },
            "type": "parcoords"
           }
          ],
          "pie": [
           {
            "automargin": true,
            "type": "pie"
           }
          ],
          "scatter": [
           {
            "marker": {
             "colorbar": {
              "outlinewidth": 0,
              "ticks": ""
             }
            },
            "type": "scatter"
           }
          ],
          "scatter3d": [
           {
            "line": {
             "colorbar": {
              "outlinewidth": 0,
              "ticks": ""
             }
            },
            "marker": {
             "colorbar": {
              "outlinewidth": 0,
              "ticks": ""
             }
            },
            "type": "scatter3d"
           }
          ],
          "scattercarpet": [
           {
            "marker": {
             "colorbar": {
              "outlinewidth": 0,
              "ticks": ""
             }
            },
            "type": "scattercarpet"
           }
          ],
          "scattergeo": [
           {
            "marker": {
             "colorbar": {
              "outlinewidth": 0,
              "ticks": ""
             }
            },
            "type": "scattergeo"
           }
          ],
          "scattergl": [
           {
            "marker": {
             "colorbar": {
              "outlinewidth": 0,
              "ticks": ""
             }
            },
            "type": "scattergl"
           }
          ],
          "scattermapbox": [
           {
            "marker": {
             "colorbar": {
              "outlinewidth": 0,
              "ticks": ""
             }
            },
            "type": "scattermapbox"
           }
          ],
          "scatterpolar": [
           {
            "marker": {
             "colorbar": {
              "outlinewidth": 0,
              "ticks": ""
             }
            },
            "type": "scatterpolar"
           }
          ],
          "scatterpolargl": [
           {
            "marker": {
             "colorbar": {
              "outlinewidth": 0,
              "ticks": ""
             }
            },
            "type": "scatterpolargl"
           }
          ],
          "scatterternary": [
           {
            "marker": {
             "colorbar": {
              "outlinewidth": 0,
              "ticks": ""
             }
            },
            "type": "scatterternary"
           }
          ],
          "surface": [
           {
            "colorbar": {
             "outlinewidth": 0,
             "ticks": ""
            },
            "colorscale": [
             [
              0,
              "#0d0887"
             ],
             [
              0.1111111111111111,
              "#46039f"
             ],
             [
              0.2222222222222222,
              "#7201a8"
             ],
             [
              0.3333333333333333,
              "#9c179e"
             ],
             [
              0.4444444444444444,
              "#bd3786"
             ],
             [
              0.5555555555555556,
              "#d8576b"
             ],
             [
              0.6666666666666666,
              "#ed7953"
             ],
             [
              0.7777777777777778,
              "#fb9f3a"
             ],
             [
              0.8888888888888888,
              "#fdca26"
             ],
             [
              1,
              "#f0f921"
             ]
            ],
            "type": "surface"
           }
          ],
          "table": [
           {
            "cells": {
             "fill": {
              "color": "#EBF0F8"
             },
             "line": {
              "color": "white"
             }
            },
            "header": {
             "fill": {
              "color": "#C8D4E3"
             },
             "line": {
              "color": "white"
             }
            },
            "type": "table"
           }
          ]
         },
         "layout": {
          "annotationdefaults": {
           "arrowcolor": "#2a3f5f",
           "arrowhead": 0,
           "arrowwidth": 1
          },
          "coloraxis": {
           "colorbar": {
            "outlinewidth": 0,
            "ticks": ""
           }
          },
          "colorscale": {
           "diverging": [
            [
             0,
             "#8e0152"
            ],
            [
             0.1,
             "#c51b7d"
            ],
            [
             0.2,
             "#de77ae"
            ],
            [
             0.3,
             "#f1b6da"
            ],
            [
             0.4,
             "#fde0ef"
            ],
            [
             0.5,
             "#f7f7f7"
            ],
            [
             0.6,
             "#e6f5d0"
            ],
            [
             0.7,
             "#b8e186"
            ],
            [
             0.8,
             "#7fbc41"
            ],
            [
             0.9,
             "#4d9221"
            ],
            [
             1,
             "#276419"
            ]
           ],
           "sequential": [
            [
             0,
             "#0d0887"
            ],
            [
             0.1111111111111111,
             "#46039f"
            ],
            [
             0.2222222222222222,
             "#7201a8"
            ],
            [
             0.3333333333333333,
             "#9c179e"
            ],
            [
             0.4444444444444444,
             "#bd3786"
            ],
            [
             0.5555555555555556,
             "#d8576b"
            ],
            [
             0.6666666666666666,
             "#ed7953"
            ],
            [
             0.7777777777777778,
             "#fb9f3a"
            ],
            [
             0.8888888888888888,
             "#fdca26"
            ],
            [
             1,
             "#f0f921"
            ]
           ],
           "sequentialminus": [
            [
             0,
             "#0d0887"
            ],
            [
             0.1111111111111111,
             "#46039f"
            ],
            [
             0.2222222222222222,
             "#7201a8"
            ],
            [
             0.3333333333333333,
             "#9c179e"
            ],
            [
             0.4444444444444444,
             "#bd3786"
            ],
            [
             0.5555555555555556,
             "#d8576b"
            ],
            [
             0.6666666666666666,
             "#ed7953"
            ],
            [
             0.7777777777777778,
             "#fb9f3a"
            ],
            [
             0.8888888888888888,
             "#fdca26"
            ],
            [
             1,
             "#f0f921"
            ]
           ]
          },
          "colorway": [
           "#636efa",
           "#EF553B",
           "#00cc96",
           "#ab63fa",
           "#FFA15A",
           "#19d3f3",
           "#FF6692",
           "#B6E880",
           "#FF97FF",
           "#FECB52"
          ],
          "font": {
           "color": "#2a3f5f"
          },
          "geo": {
           "bgcolor": "white",
           "lakecolor": "white",
           "landcolor": "#E5ECF6",
           "showlakes": true,
           "showland": true,
           "subunitcolor": "white"
          },
          "hoverlabel": {
           "align": "left"
          },
          "hovermode": "closest",
          "mapbox": {
           "style": "light"
          },
          "paper_bgcolor": "white",
          "plot_bgcolor": "#E5ECF6",
          "polar": {
           "angularaxis": {
            "gridcolor": "white",
            "linecolor": "white",
            "ticks": ""
           },
           "bgcolor": "#E5ECF6",
           "radialaxis": {
            "gridcolor": "white",
            "linecolor": "white",
            "ticks": ""
           }
          },
          "scene": {
           "xaxis": {
            "backgroundcolor": "#E5ECF6",
            "gridcolor": "white",
            "gridwidth": 2,
            "linecolor": "white",
            "showbackground": true,
            "ticks": "",
            "zerolinecolor": "white"
           },
           "yaxis": {
            "backgroundcolor": "#E5ECF6",
            "gridcolor": "white",
            "gridwidth": 2,
            "linecolor": "white",
            "showbackground": true,
            "ticks": "",
            "zerolinecolor": "white"
           },
           "zaxis": {
            "backgroundcolor": "#E5ECF6",
            "gridcolor": "white",
            "gridwidth": 2,
            "linecolor": "white",
            "showbackground": true,
            "ticks": "",
            "zerolinecolor": "white"
           }
          },
          "shapedefaults": {
           "line": {
            "color": "#2a3f5f"
           }
          },
          "ternary": {
           "aaxis": {
            "gridcolor": "white",
            "linecolor": "white",
            "ticks": ""
           },
           "baxis": {
            "gridcolor": "white",
            "linecolor": "white",
            "ticks": ""
           },
           "bgcolor": "#E5ECF6",
           "caxis": {
            "gridcolor": "white",
            "linecolor": "white",
            "ticks": ""
           }
          },
          "title": {
           "x": 0.05
          },
          "xaxis": {
           "automargin": true,
           "gridcolor": "white",
           "linecolor": "white",
           "ticks": "",
           "title": {
            "standoff": 15
           },
           "zerolinecolor": "white",
           "zerolinewidth": 2
          },
          "yaxis": {
           "automargin": true,
           "gridcolor": "white",
           "linecolor": "white",
           "ticks": "",
           "title": {
            "standoff": 15
           },
           "zerolinecolor": "white",
           "zerolinewidth": 2
          }
         }
        },
        "title": {
         "font": {
          "color": "#4D5663"
         }
        },
        "xaxis": {
         "gridcolor": "#E1E5ED",
         "showgrid": true,
         "tickfont": {
          "color": "#4D5663"
         },
         "title": {
          "font": {
           "color": "#4D5663"
          },
          "text": ""
         },
         "zerolinecolor": "#E1E5ED"
        },
        "yaxis": {
         "gridcolor": "#E1E5ED",
         "showgrid": true,
         "tickfont": {
          "color": "#4D5663"
         },
         "title": {
          "font": {
           "color": "#4D5663"
          },
          "text": ""
         },
         "zerolinecolor": "#E1E5ED"
        }
       }
      },
      "text/html": [
       "<div>\n",
       "        \n",
       "        \n",
       "            <div id=\"29aa8ab9-aa75-414d-8de3-e8bc52c1d7f8\" class=\"plotly-graph-div\" style=\"height:525px; width:100%;\"></div>\n",
       "            <script type=\"text/javascript\">\n",
       "                require([\"plotly\"], function(Plotly) {\n",
       "                    window.PLOTLYENV=window.PLOTLYENV || {};\n",
       "                    window.PLOTLYENV.BASE_URL='https://plot.ly';\n",
       "                    \n",
       "                if (document.getElementById(\"29aa8ab9-aa75-414d-8de3-e8bc52c1d7f8\")) {\n",
       "                    Plotly.newPlot(\n",
       "                        '29aa8ab9-aa75-414d-8de3-e8bc52c1d7f8',\n",
       "                        [{\"line\": {\"color\": \"rgba(255, 153, 51, 1.0)\", \"dash\": \"solid\", \"shape\": \"linear\", \"width\": 1.3}, \"marker\": {\"size\": 20, \"symbol\": \"circle\"}, \"mode\": \"markers\", \"name\": \"B\", \"text\": \"\", \"type\": \"scatter\", \"x\": [0.8565004406896697, 0.616667033466685, 0.9298916478237453, -1.6724634436675336, -0.019950485747430385, -0.32800911299570507, -0.520848431309861, -1.30147296225039, 0.918170020841073, -0.003030796847175438, 1.8515261305902329, -2.4657644444358904, -1.439356632219261, 0.15387753978794932, 0.07641025126858664, 0.05696079491628426, 0.994002604240455, 1.3063555379994916, 0.11680196973249214, -0.06144614746125791, 0.16965506162971544, -1.5592095724925938, 1.7362505416468237, -0.5158156181616896, 0.3112988643540849, 0.6367371116974732, -1.5536536001503518, -1.7685320204209458, -0.5392754585148415, 0.10192996646476966, 0.5568460660823932, 0.4092568775144538, 0.6425257437679849, 0.09284381524121892, 1.7894845246730584, -1.5779423255162153, -1.789479229742878, 0.7609651113838944, -0.6674139141954538, -0.4214512133650312, -0.44539736631937926, 0.5186930794439539, -1.0086390260505254, 0.7345811131541214, -0.8682151792015697, -0.5138030956228592, 2.44506810870039, -0.48872333105082555, 1.3671166266258052, -0.01753294451379828, 0.11685967207261917, 1.0155837704561772, -0.5150792361553516, -0.4189522845684282, -1.671800498378324, 0.00849610436739744, -0.895038429064667, -0.7234219959912285, 0.206272727623923, 0.3226173070103636, -0.4358213189085439, 1.485019297233284, 1.3145577597333455, 1.1418099258834655, 0.3899155275990936, 0.6744845811903896, -1.5421747306588416, 0.10759935916787118, -0.29174756418219683, 0.4816850364526941, 0.06383954088766132, 0.805862380002143, 1.7922318721731754, 0.7711332871154744, 1.5493299640694245, 2.1568955364366897, 1.1670866728363158, 0.7987843837817445, 0.5924788058898702, 0.46868961780136764, 0.041509628887594935, 1.4403527221146417, 0.06159499985984685, -0.37884426150130707, -0.5712864766608926, -0.05456501732571868, -1.374456821319399, -0.29150627018452924, -0.5060841247039243, -0.9116186430932947, -0.03191657470382843, -1.1907703476630989, -0.2240749488357738, 0.9880910702602029, -0.6027601036139539, -0.804412324683554, -0.42504929417141835, 0.23827330110499453, 1.2763718707572826, -0.6127361720543995], \"y\": [1.475589520025869, 0.058193690147613136, 0.8858587130605142, -1.0062473781673018, 0.46803675911740583, 1.8876584534559304, 1.0068376194540218, 0.20649832656467781, -0.3831842413954928, 0.8146880661445408, 0.7525580546906689, -0.9499437266514072, -0.5124677266513444, -0.07070799266437955, 0.24842935771077734, -0.47466919918713246, 0.1329640121766927, 0.7101899364369233, -0.8129158041745252, -0.9065188940398232, -0.576101023436274, 0.7211521933563564, 0.4980075228147292, -0.4772199892654312, -0.25876529291204786, 0.02805869936306022, -1.1120841762313531, -0.34773983569211936, 0.5592457342025116, -2.2329856221230426, 1.244429738539221, -0.3558037971356808, -1.7071760167849175, -0.38601241809639797, -1.2101106786862859, 0.39581149532187293, -1.613409089316727, -0.017707675178522137, -0.51674385539429, 0.5508169727530585, -0.7657147803155174, 2.102266470888824, -1.9500668951535425, 0.08582168052356781, -1.2031543487810075, 0.09047246874201739, -1.2046473795482855, 0.057008372010706757, -0.6793292136001533, -0.16868751384288672, 0.013752896177967523, 0.13559208744343473, -0.9630115477948523, 0.7230504579164195, -0.7957538189923294, -0.5367136225824187, -1.0077205412350119, -1.7914055716137376, -1.230050510713824, 0.8679372146419765, 0.016712192818447498, -1.7296404941674273, 0.6279507372489606, 2.2072101493033247, -1.426478309767374, -0.10793231034668634, 0.2825793489947289, -1.980919281504627, 1.355967324544568, -0.7001789060327122, -1.2722359256963178, 0.09299395157163394, 0.9666985831548762, -0.3146817160528018, 0.5624621245870179, -0.4257065060814728, 2.8239069121719327, -0.6597234857277737, 0.045685732120529614, -0.01918897826138856, 0.19400035829565307, 0.331512334519879, -0.14894837996905405, -0.35260660854332354, 0.4922341899645374, 0.512147456731329, 0.06474390398539126, 2.3772022790380962, 0.4500853579083613, -0.6527657639931757, -0.047316453982068685, 0.4678256940750706, -0.5795657304715769, -1.2899242922557217, -0.3685463537980794, 0.25886314902995966, -0.659454095923306, -0.28299923424564427, -1.3644779963994549, -0.07484015266979967]}],\n",
       "                        {\"legend\": {\"bgcolor\": \"#F5F6F9\", \"font\": {\"color\": \"#4D5663\"}}, \"paper_bgcolor\": \"#F5F6F9\", \"plot_bgcolor\": \"#F5F6F9\", \"template\": {\"data\": {\"bar\": [{\"error_x\": {\"color\": \"#2a3f5f\"}, \"error_y\": {\"color\": \"#2a3f5f\"}, \"marker\": {\"line\": {\"color\": \"#E5ECF6\", \"width\": 0.5}}, \"type\": \"bar\"}], \"barpolar\": [{\"marker\": {\"line\": {\"color\": \"#E5ECF6\", \"width\": 0.5}}, \"type\": \"barpolar\"}], \"carpet\": [{\"aaxis\": {\"endlinecolor\": \"#2a3f5f\", \"gridcolor\": \"white\", \"linecolor\": \"white\", \"minorgridcolor\": \"white\", \"startlinecolor\": \"#2a3f5f\"}, \"baxis\": {\"endlinecolor\": \"#2a3f5f\", \"gridcolor\": \"white\", \"linecolor\": \"white\", \"minorgridcolor\": \"white\", \"startlinecolor\": \"#2a3f5f\"}, \"type\": \"carpet\"}], \"choropleth\": [{\"colorbar\": {\"outlinewidth\": 0, \"ticks\": \"\"}, \"type\": \"choropleth\"}], \"contour\": [{\"colorbar\": {\"outlinewidth\": 0, \"ticks\": \"\"}, \"colorscale\": [[0.0, \"#0d0887\"], [0.1111111111111111, \"#46039f\"], [0.2222222222222222, \"#7201a8\"], [0.3333333333333333, \"#9c179e\"], [0.4444444444444444, \"#bd3786\"], [0.5555555555555556, \"#d8576b\"], [0.6666666666666666, \"#ed7953\"], [0.7777777777777778, \"#fb9f3a\"], [0.8888888888888888, \"#fdca26\"], [1.0, \"#f0f921\"]], \"type\": \"contour\"}], \"contourcarpet\": [{\"colorbar\": {\"outlinewidth\": 0, \"ticks\": \"\"}, \"type\": \"contourcarpet\"}], \"heatmap\": [{\"colorbar\": {\"outlinewidth\": 0, \"ticks\": \"\"}, \"colorscale\": [[0.0, \"#0d0887\"], [0.1111111111111111, \"#46039f\"], [0.2222222222222222, \"#7201a8\"], [0.3333333333333333, \"#9c179e\"], [0.4444444444444444, \"#bd3786\"], [0.5555555555555556, \"#d8576b\"], [0.6666666666666666, \"#ed7953\"], [0.7777777777777778, \"#fb9f3a\"], [0.8888888888888888, \"#fdca26\"], [1.0, \"#f0f921\"]], \"type\": \"heatmap\"}], \"heatmapgl\": [{\"colorbar\": {\"outlinewidth\": 0, \"ticks\": \"\"}, \"colorscale\": [[0.0, \"#0d0887\"], [0.1111111111111111, \"#46039f\"], [0.2222222222222222, \"#7201a8\"], [0.3333333333333333, \"#9c179e\"], [0.4444444444444444, \"#bd3786\"], [0.5555555555555556, \"#d8576b\"], [0.6666666666666666, \"#ed7953\"], [0.7777777777777778, \"#fb9f3a\"], [0.8888888888888888, \"#fdca26\"], [1.0, \"#f0f921\"]], \"type\": \"heatmapgl\"}], \"histogram\": [{\"marker\": {\"colorbar\": {\"outlinewidth\": 0, \"ticks\": \"\"}}, \"type\": \"histogram\"}], \"histogram2d\": [{\"colorbar\": {\"outlinewidth\": 0, \"ticks\": \"\"}, \"colorscale\": [[0.0, \"#0d0887\"], [0.1111111111111111, \"#46039f\"], [0.2222222222222222, \"#7201a8\"], [0.3333333333333333, \"#9c179e\"], [0.4444444444444444, \"#bd3786\"], [0.5555555555555556, \"#d8576b\"], [0.6666666666666666, \"#ed7953\"], [0.7777777777777778, \"#fb9f3a\"], [0.8888888888888888, \"#fdca26\"], [1.0, \"#f0f921\"]], \"type\": \"histogram2d\"}], \"histogram2dcontour\": [{\"colorbar\": {\"outlinewidth\": 0, \"ticks\": \"\"}, \"colorscale\": [[0.0, \"#0d0887\"], [0.1111111111111111, \"#46039f\"], [0.2222222222222222, \"#7201a8\"], [0.3333333333333333, \"#9c179e\"], [0.4444444444444444, \"#bd3786\"], [0.5555555555555556, \"#d8576b\"], [0.6666666666666666, \"#ed7953\"], [0.7777777777777778, \"#fb9f3a\"], [0.8888888888888888, \"#fdca26\"], [1.0, \"#f0f921\"]], \"type\": \"histogram2dcontour\"}], \"mesh3d\": [{\"colorbar\": {\"outlinewidth\": 0, \"ticks\": \"\"}, \"type\": \"mesh3d\"}], \"parcoords\": [{\"line\": {\"colorbar\": {\"outlinewidth\": 0, \"ticks\": \"\"}}, \"type\": \"parcoords\"}], \"pie\": [{\"automargin\": true, \"type\": \"pie\"}], \"scatter\": [{\"marker\": {\"colorbar\": {\"outlinewidth\": 0, \"ticks\": \"\"}}, \"type\": \"scatter\"}], \"scatter3d\": [{\"line\": {\"colorbar\": {\"outlinewidth\": 0, \"ticks\": \"\"}}, \"marker\": {\"colorbar\": {\"outlinewidth\": 0, \"ticks\": \"\"}}, \"type\": \"scatter3d\"}], \"scattercarpet\": [{\"marker\": {\"colorbar\": {\"outlinewidth\": 0, \"ticks\": \"\"}}, \"type\": \"scattercarpet\"}], \"scattergeo\": [{\"marker\": {\"colorbar\": {\"outlinewidth\": 0, \"ticks\": \"\"}}, \"type\": \"scattergeo\"}], \"scattergl\": [{\"marker\": {\"colorbar\": {\"outlinewidth\": 0, \"ticks\": \"\"}}, \"type\": \"scattergl\"}], \"scattermapbox\": [{\"marker\": {\"colorbar\": {\"outlinewidth\": 0, \"ticks\": \"\"}}, \"type\": \"scattermapbox\"}], \"scatterpolar\": [{\"marker\": {\"colorbar\": {\"outlinewidth\": 0, \"ticks\": \"\"}}, \"type\": \"scatterpolar\"}], \"scatterpolargl\": [{\"marker\": {\"colorbar\": {\"outlinewidth\": 0, \"ticks\": \"\"}}, \"type\": \"scatterpolargl\"}], \"scatterternary\": [{\"marker\": {\"colorbar\": {\"outlinewidth\": 0, \"ticks\": \"\"}}, \"type\": \"scatterternary\"}], \"surface\": [{\"colorbar\": {\"outlinewidth\": 0, \"ticks\": \"\"}, \"colorscale\": [[0.0, \"#0d0887\"], [0.1111111111111111, \"#46039f\"], [0.2222222222222222, \"#7201a8\"], [0.3333333333333333, \"#9c179e\"], [0.4444444444444444, \"#bd3786\"], [0.5555555555555556, \"#d8576b\"], [0.6666666666666666, \"#ed7953\"], [0.7777777777777778, \"#fb9f3a\"], [0.8888888888888888, \"#fdca26\"], [1.0, \"#f0f921\"]], \"type\": \"surface\"}], \"table\": [{\"cells\": {\"fill\": {\"color\": \"#EBF0F8\"}, \"line\": {\"color\": \"white\"}}, \"header\": {\"fill\": {\"color\": \"#C8D4E3\"}, \"line\": {\"color\": \"white\"}}, \"type\": \"table\"}]}, \"layout\": {\"annotationdefaults\": {\"arrowcolor\": \"#2a3f5f\", \"arrowhead\": 0, \"arrowwidth\": 1}, \"coloraxis\": {\"colorbar\": {\"outlinewidth\": 0, \"ticks\": \"\"}}, \"colorscale\": {\"diverging\": [[0, \"#8e0152\"], [0.1, \"#c51b7d\"], [0.2, \"#de77ae\"], [0.3, \"#f1b6da\"], [0.4, \"#fde0ef\"], [0.5, \"#f7f7f7\"], [0.6, \"#e6f5d0\"], [0.7, \"#b8e186\"], [0.8, \"#7fbc41\"], [0.9, \"#4d9221\"], [1, \"#276419\"]], \"sequential\": [[0.0, \"#0d0887\"], [0.1111111111111111, \"#46039f\"], [0.2222222222222222, \"#7201a8\"], [0.3333333333333333, \"#9c179e\"], [0.4444444444444444, \"#bd3786\"], [0.5555555555555556, \"#d8576b\"], [0.6666666666666666, \"#ed7953\"], [0.7777777777777778, \"#fb9f3a\"], [0.8888888888888888, \"#fdca26\"], [1.0, \"#f0f921\"]], \"sequentialminus\": [[0.0, \"#0d0887\"], [0.1111111111111111, \"#46039f\"], [0.2222222222222222, \"#7201a8\"], [0.3333333333333333, \"#9c179e\"], [0.4444444444444444, \"#bd3786\"], [0.5555555555555556, \"#d8576b\"], [0.6666666666666666, \"#ed7953\"], [0.7777777777777778, \"#fb9f3a\"], [0.8888888888888888, \"#fdca26\"], [1.0, \"#f0f921\"]]}, \"colorway\": [\"#636efa\", \"#EF553B\", \"#00cc96\", \"#ab63fa\", \"#FFA15A\", \"#19d3f3\", \"#FF6692\", \"#B6E880\", \"#FF97FF\", \"#FECB52\"], \"font\": {\"color\": \"#2a3f5f\"}, \"geo\": {\"bgcolor\": \"white\", \"lakecolor\": \"white\", \"landcolor\": \"#E5ECF6\", \"showlakes\": true, \"showland\": true, \"subunitcolor\": \"white\"}, \"hoverlabel\": {\"align\": \"left\"}, \"hovermode\": \"closest\", \"mapbox\": {\"style\": \"light\"}, \"paper_bgcolor\": \"white\", \"plot_bgcolor\": \"#E5ECF6\", \"polar\": {\"angularaxis\": {\"gridcolor\": \"white\", \"linecolor\": \"white\", \"ticks\": \"\"}, \"bgcolor\": \"#E5ECF6\", \"radialaxis\": {\"gridcolor\": \"white\", \"linecolor\": \"white\", \"ticks\": \"\"}}, \"scene\": {\"xaxis\": {\"backgroundcolor\": \"#E5ECF6\", \"gridcolor\": \"white\", \"gridwidth\": 2, \"linecolor\": \"white\", \"showbackground\": true, \"ticks\": \"\", \"zerolinecolor\": \"white\"}, \"yaxis\": {\"backgroundcolor\": \"#E5ECF6\", \"gridcolor\": \"white\", \"gridwidth\": 2, \"linecolor\": \"white\", \"showbackground\": true, \"ticks\": \"\", \"zerolinecolor\": \"white\"}, \"zaxis\": {\"backgroundcolor\": \"#E5ECF6\", \"gridcolor\": \"white\", \"gridwidth\": 2, \"linecolor\": \"white\", \"showbackground\": true, \"ticks\": \"\", \"zerolinecolor\": \"white\"}}, \"shapedefaults\": {\"line\": {\"color\": \"#2a3f5f\"}}, \"ternary\": {\"aaxis\": {\"gridcolor\": \"white\", \"linecolor\": \"white\", \"ticks\": \"\"}, \"baxis\": {\"gridcolor\": \"white\", \"linecolor\": \"white\", \"ticks\": \"\"}, \"bgcolor\": \"#E5ECF6\", \"caxis\": {\"gridcolor\": \"white\", \"linecolor\": \"white\", \"ticks\": \"\"}}, \"title\": {\"x\": 0.05}, \"xaxis\": {\"automargin\": true, \"gridcolor\": \"white\", \"linecolor\": \"white\", \"ticks\": \"\", \"title\": {\"standoff\": 15}, \"zerolinecolor\": \"white\", \"zerolinewidth\": 2}, \"yaxis\": {\"automargin\": true, \"gridcolor\": \"white\", \"linecolor\": \"white\", \"ticks\": \"\", \"title\": {\"standoff\": 15}, \"zerolinecolor\": \"white\", \"zerolinewidth\": 2}}}, \"title\": {\"font\": {\"color\": \"#4D5663\"}}, \"xaxis\": {\"gridcolor\": \"#E1E5ED\", \"showgrid\": true, \"tickfont\": {\"color\": \"#4D5663\"}, \"title\": {\"font\": {\"color\": \"#4D5663\"}, \"text\": \"\"}, \"zerolinecolor\": \"#E1E5ED\"}, \"yaxis\": {\"gridcolor\": \"#E1E5ED\", \"showgrid\": true, \"tickfont\": {\"color\": \"#4D5663\"}, \"title\": {\"font\": {\"color\": \"#4D5663\"}, \"text\": \"\"}, \"zerolinecolor\": \"#E1E5ED\"}},\n",
       "                        {\"showLink\": true, \"linkText\": \"Export to plot.ly\", \"plotlyServerURL\": \"https://plot.ly\", \"responsive\": true}\n",
       "                    ).then(function(){\n",
       "                            \n",
       "var gd = document.getElementById('29aa8ab9-aa75-414d-8de3-e8bc52c1d7f8');\n",
       "var x = new MutationObserver(function (mutations, observer) {{\n",
       "        var display = window.getComputedStyle(gd).display;\n",
       "        if (!display || display === 'none') {{\n",
       "            console.log([gd, 'removed!']);\n",
       "            Plotly.purge(gd);\n",
       "            observer.disconnect();\n",
       "        }}\n",
       "}});\n",
       "\n",
       "// Listen for the removal of the full notebook cells\n",
       "var notebookContainer = gd.closest('#notebook-container');\n",
       "if (notebookContainer) {{\n",
       "    x.observe(notebookContainer, {childList: true});\n",
       "}}\n",
       "\n",
       "// Listen for the clearing of the current output cell\n",
       "var outputEl = gd.closest('.output');\n",
       "if (outputEl) {{\n",
       "    x.observe(outputEl, {childList: true});\n",
       "}}\n",
       "\n",
       "                        })\n",
       "                };\n",
       "                });\n",
       "            </script>\n",
       "        </div>"
      ]
     },
     "metadata": {},
     "output_type": "display_data"
    }
   ],
   "source": [
    "df.iplot(kind='scatter',x='A',y='B',mode='markers',size=20)"
   ]
  },
  {
   "cell_type": "code",
   "execution_count": 37,
   "metadata": {},
   "outputs": [
    {
     "data": {
      "application/vnd.plotly.v1+json": {
       "config": {
        "linkText": "Export to plot.ly",
        "plotlyServerURL": "https://plot.ly",
        "showLink": true
       },
       "data": [
        {
         "marker": {
          "color": "rgba(255, 153, 51, 0.6)",
          "line": {
           "color": "rgba(255, 153, 51, 1.0)",
           "width": 1
          }
         },
         "name": "Values",
         "orientation": "v",
         "text": "",
         "type": "bar",
         "x": [
          "A",
          "B",
          "C"
         ],
         "y": [
          32,
          43,
          50
         ]
        }
       ],
       "layout": {
        "legend": {
         "bgcolor": "#F5F6F9",
         "font": {
          "color": "#4D5663"
         }
        },
        "paper_bgcolor": "#F5F6F9",
        "plot_bgcolor": "#F5F6F9",
        "template": {
         "data": {
          "bar": [
           {
            "error_x": {
             "color": "#2a3f5f"
            },
            "error_y": {
             "color": "#2a3f5f"
            },
            "marker": {
             "line": {
              "color": "#E5ECF6",
              "width": 0.5
             }
            },
            "type": "bar"
           }
          ],
          "barpolar": [
           {
            "marker": {
             "line": {
              "color": "#E5ECF6",
              "width": 0.5
             }
            },
            "type": "barpolar"
           }
          ],
          "carpet": [
           {
            "aaxis": {
             "endlinecolor": "#2a3f5f",
             "gridcolor": "white",
             "linecolor": "white",
             "minorgridcolor": "white",
             "startlinecolor": "#2a3f5f"
            },
            "baxis": {
             "endlinecolor": "#2a3f5f",
             "gridcolor": "white",
             "linecolor": "white",
             "minorgridcolor": "white",
             "startlinecolor": "#2a3f5f"
            },
            "type": "carpet"
           }
          ],
          "choropleth": [
           {
            "colorbar": {
             "outlinewidth": 0,
             "ticks": ""
            },
            "type": "choropleth"
           }
          ],
          "contour": [
           {
            "colorbar": {
             "outlinewidth": 0,
             "ticks": ""
            },
            "colorscale": [
             [
              0,
              "#0d0887"
             ],
             [
              0.1111111111111111,
              "#46039f"
             ],
             [
              0.2222222222222222,
              "#7201a8"
             ],
             [
              0.3333333333333333,
              "#9c179e"
             ],
             [
              0.4444444444444444,
              "#bd3786"
             ],
             [
              0.5555555555555556,
              "#d8576b"
             ],
             [
              0.6666666666666666,
              "#ed7953"
             ],
             [
              0.7777777777777778,
              "#fb9f3a"
             ],
             [
              0.8888888888888888,
              "#fdca26"
             ],
             [
              1,
              "#f0f921"
             ]
            ],
            "type": "contour"
           }
          ],
          "contourcarpet": [
           {
            "colorbar": {
             "outlinewidth": 0,
             "ticks": ""
            },
            "type": "contourcarpet"
           }
          ],
          "heatmap": [
           {
            "colorbar": {
             "outlinewidth": 0,
             "ticks": ""
            },
            "colorscale": [
             [
              0,
              "#0d0887"
             ],
             [
              0.1111111111111111,
              "#46039f"
             ],
             [
              0.2222222222222222,
              "#7201a8"
             ],
             [
              0.3333333333333333,
              "#9c179e"
             ],
             [
              0.4444444444444444,
              "#bd3786"
             ],
             [
              0.5555555555555556,
              "#d8576b"
             ],
             [
              0.6666666666666666,
              "#ed7953"
             ],
             [
              0.7777777777777778,
              "#fb9f3a"
             ],
             [
              0.8888888888888888,
              "#fdca26"
             ],
             [
              1,
              "#f0f921"
             ]
            ],
            "type": "heatmap"
           }
          ],
          "heatmapgl": [
           {
            "colorbar": {
             "outlinewidth": 0,
             "ticks": ""
            },
            "colorscale": [
             [
              0,
              "#0d0887"
             ],
             [
              0.1111111111111111,
              "#46039f"
             ],
             [
              0.2222222222222222,
              "#7201a8"
             ],
             [
              0.3333333333333333,
              "#9c179e"
             ],
             [
              0.4444444444444444,
              "#bd3786"
             ],
             [
              0.5555555555555556,
              "#d8576b"
             ],
             [
              0.6666666666666666,
              "#ed7953"
             ],
             [
              0.7777777777777778,
              "#fb9f3a"
             ],
             [
              0.8888888888888888,
              "#fdca26"
             ],
             [
              1,
              "#f0f921"
             ]
            ],
            "type": "heatmapgl"
           }
          ],
          "histogram": [
           {
            "marker": {
             "colorbar": {
              "outlinewidth": 0,
              "ticks": ""
             }
            },
            "type": "histogram"
           }
          ],
          "histogram2d": [
           {
            "colorbar": {
             "outlinewidth": 0,
             "ticks": ""
            },
            "colorscale": [
             [
              0,
              "#0d0887"
             ],
             [
              0.1111111111111111,
              "#46039f"
             ],
             [
              0.2222222222222222,
              "#7201a8"
             ],
             [
              0.3333333333333333,
              "#9c179e"
             ],
             [
              0.4444444444444444,
              "#bd3786"
             ],
             [
              0.5555555555555556,
              "#d8576b"
             ],
             [
              0.6666666666666666,
              "#ed7953"
             ],
             [
              0.7777777777777778,
              "#fb9f3a"
             ],
             [
              0.8888888888888888,
              "#fdca26"
             ],
             [
              1,
              "#f0f921"
             ]
            ],
            "type": "histogram2d"
           }
          ],
          "histogram2dcontour": [
           {
            "colorbar": {
             "outlinewidth": 0,
             "ticks": ""
            },
            "colorscale": [
             [
              0,
              "#0d0887"
             ],
             [
              0.1111111111111111,
              "#46039f"
             ],
             [
              0.2222222222222222,
              "#7201a8"
             ],
             [
              0.3333333333333333,
              "#9c179e"
             ],
             [
              0.4444444444444444,
              "#bd3786"
             ],
             [
              0.5555555555555556,
              "#d8576b"
             ],
             [
              0.6666666666666666,
              "#ed7953"
             ],
             [
              0.7777777777777778,
              "#fb9f3a"
             ],
             [
              0.8888888888888888,
              "#fdca26"
             ],
             [
              1,
              "#f0f921"
             ]
            ],
            "type": "histogram2dcontour"
           }
          ],
          "mesh3d": [
           {
            "colorbar": {
             "outlinewidth": 0,
             "ticks": ""
            },
            "type": "mesh3d"
           }
          ],
          "parcoords": [
           {
            "line": {
             "colorbar": {
              "outlinewidth": 0,
              "ticks": ""
             }
            },
            "type": "parcoords"
           }
          ],
          "pie": [
           {
            "automargin": true,
            "type": "pie"
           }
          ],
          "scatter": [
           {
            "marker": {
             "colorbar": {
              "outlinewidth": 0,
              "ticks": ""
             }
            },
            "type": "scatter"
           }
          ],
          "scatter3d": [
           {
            "line": {
             "colorbar": {
              "outlinewidth": 0,
              "ticks": ""
             }
            },
            "marker": {
             "colorbar": {
              "outlinewidth": 0,
              "ticks": ""
             }
            },
            "type": "scatter3d"
           }
          ],
          "scattercarpet": [
           {
            "marker": {
             "colorbar": {
              "outlinewidth": 0,
              "ticks": ""
             }
            },
            "type": "scattercarpet"
           }
          ],
          "scattergeo": [
           {
            "marker": {
             "colorbar": {
              "outlinewidth": 0,
              "ticks": ""
             }
            },
            "type": "scattergeo"
           }
          ],
          "scattergl": [
           {
            "marker": {
             "colorbar": {
              "outlinewidth": 0,
              "ticks": ""
             }
            },
            "type": "scattergl"
           }
          ],
          "scattermapbox": [
           {
            "marker": {
             "colorbar": {
              "outlinewidth": 0,
              "ticks": ""
             }
            },
            "type": "scattermapbox"
           }
          ],
          "scatterpolar": [
           {
            "marker": {
             "colorbar": {
              "outlinewidth": 0,
              "ticks": ""
             }
            },
            "type": "scatterpolar"
           }
          ],
          "scatterpolargl": [
           {
            "marker": {
             "colorbar": {
              "outlinewidth": 0,
              "ticks": ""
             }
            },
            "type": "scatterpolargl"
           }
          ],
          "scatterternary": [
           {
            "marker": {
             "colorbar": {
              "outlinewidth": 0,
              "ticks": ""
             }
            },
            "type": "scatterternary"
           }
          ],
          "surface": [
           {
            "colorbar": {
             "outlinewidth": 0,
             "ticks": ""
            },
            "colorscale": [
             [
              0,
              "#0d0887"
             ],
             [
              0.1111111111111111,
              "#46039f"
             ],
             [
              0.2222222222222222,
              "#7201a8"
             ],
             [
              0.3333333333333333,
              "#9c179e"
             ],
             [
              0.4444444444444444,
              "#bd3786"
             ],
             [
              0.5555555555555556,
              "#d8576b"
             ],
             [
              0.6666666666666666,
              "#ed7953"
             ],
             [
              0.7777777777777778,
              "#fb9f3a"
             ],
             [
              0.8888888888888888,
              "#fdca26"
             ],
             [
              1,
              "#f0f921"
             ]
            ],
            "type": "surface"
           }
          ],
          "table": [
           {
            "cells": {
             "fill": {
              "color": "#EBF0F8"
             },
             "line": {
              "color": "white"
             }
            },
            "header": {
             "fill": {
              "color": "#C8D4E3"
             },
             "line": {
              "color": "white"
             }
            },
            "type": "table"
           }
          ]
         },
         "layout": {
          "annotationdefaults": {
           "arrowcolor": "#2a3f5f",
           "arrowhead": 0,
           "arrowwidth": 1
          },
          "coloraxis": {
           "colorbar": {
            "outlinewidth": 0,
            "ticks": ""
           }
          },
          "colorscale": {
           "diverging": [
            [
             0,
             "#8e0152"
            ],
            [
             0.1,
             "#c51b7d"
            ],
            [
             0.2,
             "#de77ae"
            ],
            [
             0.3,
             "#f1b6da"
            ],
            [
             0.4,
             "#fde0ef"
            ],
            [
             0.5,
             "#f7f7f7"
            ],
            [
             0.6,
             "#e6f5d0"
            ],
            [
             0.7,
             "#b8e186"
            ],
            [
             0.8,
             "#7fbc41"
            ],
            [
             0.9,
             "#4d9221"
            ],
            [
             1,
             "#276419"
            ]
           ],
           "sequential": [
            [
             0,
             "#0d0887"
            ],
            [
             0.1111111111111111,
             "#46039f"
            ],
            [
             0.2222222222222222,
             "#7201a8"
            ],
            [
             0.3333333333333333,
             "#9c179e"
            ],
            [
             0.4444444444444444,
             "#bd3786"
            ],
            [
             0.5555555555555556,
             "#d8576b"
            ],
            [
             0.6666666666666666,
             "#ed7953"
            ],
            [
             0.7777777777777778,
             "#fb9f3a"
            ],
            [
             0.8888888888888888,
             "#fdca26"
            ],
            [
             1,
             "#f0f921"
            ]
           ],
           "sequentialminus": [
            [
             0,
             "#0d0887"
            ],
            [
             0.1111111111111111,
             "#46039f"
            ],
            [
             0.2222222222222222,
             "#7201a8"
            ],
            [
             0.3333333333333333,
             "#9c179e"
            ],
            [
             0.4444444444444444,
             "#bd3786"
            ],
            [
             0.5555555555555556,
             "#d8576b"
            ],
            [
             0.6666666666666666,
             "#ed7953"
            ],
            [
             0.7777777777777778,
             "#fb9f3a"
            ],
            [
             0.8888888888888888,
             "#fdca26"
            ],
            [
             1,
             "#f0f921"
            ]
           ]
          },
          "colorway": [
           "#636efa",
           "#EF553B",
           "#00cc96",
           "#ab63fa",
           "#FFA15A",
           "#19d3f3",
           "#FF6692",
           "#B6E880",
           "#FF97FF",
           "#FECB52"
          ],
          "font": {
           "color": "#2a3f5f"
          },
          "geo": {
           "bgcolor": "white",
           "lakecolor": "white",
           "landcolor": "#E5ECF6",
           "showlakes": true,
           "showland": true,
           "subunitcolor": "white"
          },
          "hoverlabel": {
           "align": "left"
          },
          "hovermode": "closest",
          "mapbox": {
           "style": "light"
          },
          "paper_bgcolor": "white",
          "plot_bgcolor": "#E5ECF6",
          "polar": {
           "angularaxis": {
            "gridcolor": "white",
            "linecolor": "white",
            "ticks": ""
           },
           "bgcolor": "#E5ECF6",
           "radialaxis": {
            "gridcolor": "white",
            "linecolor": "white",
            "ticks": ""
           }
          },
          "scene": {
           "xaxis": {
            "backgroundcolor": "#E5ECF6",
            "gridcolor": "white",
            "gridwidth": 2,
            "linecolor": "white",
            "showbackground": true,
            "ticks": "",
            "zerolinecolor": "white"
           },
           "yaxis": {
            "backgroundcolor": "#E5ECF6",
            "gridcolor": "white",
            "gridwidth": 2,
            "linecolor": "white",
            "showbackground": true,
            "ticks": "",
            "zerolinecolor": "white"
           },
           "zaxis": {
            "backgroundcolor": "#E5ECF6",
            "gridcolor": "white",
            "gridwidth": 2,
            "linecolor": "white",
            "showbackground": true,
            "ticks": "",
            "zerolinecolor": "white"
           }
          },
          "shapedefaults": {
           "line": {
            "color": "#2a3f5f"
           }
          },
          "ternary": {
           "aaxis": {
            "gridcolor": "white",
            "linecolor": "white",
            "ticks": ""
           },
           "baxis": {
            "gridcolor": "white",
            "linecolor": "white",
            "ticks": ""
           },
           "bgcolor": "#E5ECF6",
           "caxis": {
            "gridcolor": "white",
            "linecolor": "white",
            "ticks": ""
           }
          },
          "title": {
           "x": 0.05
          },
          "xaxis": {
           "automargin": true,
           "gridcolor": "white",
           "linecolor": "white",
           "ticks": "",
           "title": {
            "standoff": 15
           },
           "zerolinecolor": "white",
           "zerolinewidth": 2
          },
          "yaxis": {
           "automargin": true,
           "gridcolor": "white",
           "linecolor": "white",
           "ticks": "",
           "title": {
            "standoff": 15
           },
           "zerolinecolor": "white",
           "zerolinewidth": 2
          }
         }
        },
        "title": {
         "font": {
          "color": "#4D5663"
         }
        },
        "xaxis": {
         "gridcolor": "#E1E5ED",
         "showgrid": true,
         "tickfont": {
          "color": "#4D5663"
         },
         "title": {
          "font": {
           "color": "#4D5663"
          },
          "text": ""
         },
         "zerolinecolor": "#E1E5ED"
        },
        "yaxis": {
         "gridcolor": "#E1E5ED",
         "showgrid": true,
         "tickfont": {
          "color": "#4D5663"
         },
         "title": {
          "font": {
           "color": "#4D5663"
          },
          "text": ""
         },
         "zerolinecolor": "#E1E5ED"
        }
       }
      },
      "text/html": [
       "<div>\n",
       "        \n",
       "        \n",
       "            <div id=\"b8527842-ce03-4ad2-bffb-daca24b257fc\" class=\"plotly-graph-div\" style=\"height:525px; width:100%;\"></div>\n",
       "            <script type=\"text/javascript\">\n",
       "                require([\"plotly\"], function(Plotly) {\n",
       "                    window.PLOTLYENV=window.PLOTLYENV || {};\n",
       "                    window.PLOTLYENV.BASE_URL='https://plot.ly';\n",
       "                    \n",
       "                if (document.getElementById(\"b8527842-ce03-4ad2-bffb-daca24b257fc\")) {\n",
       "                    Plotly.newPlot(\n",
       "                        'b8527842-ce03-4ad2-bffb-daca24b257fc',\n",
       "                        [{\"marker\": {\"color\": \"rgba(255, 153, 51, 0.6)\", \"line\": {\"color\": \"rgba(255, 153, 51, 1.0)\", \"width\": 1}}, \"name\": \"Values\", \"orientation\": \"v\", \"text\": \"\", \"type\": \"bar\", \"x\": [\"A\", \"B\", \"C\"], \"y\": [32, 43, 50]}],\n",
       "                        {\"legend\": {\"bgcolor\": \"#F5F6F9\", \"font\": {\"color\": \"#4D5663\"}}, \"paper_bgcolor\": \"#F5F6F9\", \"plot_bgcolor\": \"#F5F6F9\", \"template\": {\"data\": {\"bar\": [{\"error_x\": {\"color\": \"#2a3f5f\"}, \"error_y\": {\"color\": \"#2a3f5f\"}, \"marker\": {\"line\": {\"color\": \"#E5ECF6\", \"width\": 0.5}}, \"type\": \"bar\"}], \"barpolar\": [{\"marker\": {\"line\": {\"color\": \"#E5ECF6\", \"width\": 0.5}}, \"type\": \"barpolar\"}], \"carpet\": [{\"aaxis\": {\"endlinecolor\": \"#2a3f5f\", \"gridcolor\": \"white\", \"linecolor\": \"white\", \"minorgridcolor\": \"white\", \"startlinecolor\": \"#2a3f5f\"}, \"baxis\": {\"endlinecolor\": \"#2a3f5f\", \"gridcolor\": \"white\", \"linecolor\": \"white\", \"minorgridcolor\": \"white\", \"startlinecolor\": \"#2a3f5f\"}, \"type\": \"carpet\"}], \"choropleth\": [{\"colorbar\": {\"outlinewidth\": 0, \"ticks\": \"\"}, \"type\": \"choropleth\"}], \"contour\": [{\"colorbar\": {\"outlinewidth\": 0, \"ticks\": \"\"}, \"colorscale\": [[0.0, \"#0d0887\"], [0.1111111111111111, \"#46039f\"], [0.2222222222222222, \"#7201a8\"], [0.3333333333333333, \"#9c179e\"], [0.4444444444444444, \"#bd3786\"], [0.5555555555555556, \"#d8576b\"], [0.6666666666666666, \"#ed7953\"], [0.7777777777777778, \"#fb9f3a\"], [0.8888888888888888, \"#fdca26\"], [1.0, \"#f0f921\"]], \"type\": \"contour\"}], \"contourcarpet\": [{\"colorbar\": {\"outlinewidth\": 0, \"ticks\": \"\"}, \"type\": \"contourcarpet\"}], \"heatmap\": [{\"colorbar\": {\"outlinewidth\": 0, \"ticks\": \"\"}, \"colorscale\": [[0.0, \"#0d0887\"], [0.1111111111111111, \"#46039f\"], [0.2222222222222222, \"#7201a8\"], [0.3333333333333333, \"#9c179e\"], [0.4444444444444444, \"#bd3786\"], [0.5555555555555556, \"#d8576b\"], [0.6666666666666666, \"#ed7953\"], [0.7777777777777778, \"#fb9f3a\"], [0.8888888888888888, \"#fdca26\"], [1.0, \"#f0f921\"]], \"type\": \"heatmap\"}], \"heatmapgl\": [{\"colorbar\": {\"outlinewidth\": 0, \"ticks\": \"\"}, \"colorscale\": [[0.0, \"#0d0887\"], [0.1111111111111111, \"#46039f\"], [0.2222222222222222, \"#7201a8\"], [0.3333333333333333, \"#9c179e\"], [0.4444444444444444, \"#bd3786\"], [0.5555555555555556, \"#d8576b\"], [0.6666666666666666, \"#ed7953\"], [0.7777777777777778, \"#fb9f3a\"], [0.8888888888888888, \"#fdca26\"], [1.0, \"#f0f921\"]], \"type\": \"heatmapgl\"}], \"histogram\": [{\"marker\": {\"colorbar\": {\"outlinewidth\": 0, \"ticks\": \"\"}}, \"type\": \"histogram\"}], \"histogram2d\": [{\"colorbar\": {\"outlinewidth\": 0, \"ticks\": \"\"}, \"colorscale\": [[0.0, \"#0d0887\"], [0.1111111111111111, \"#46039f\"], [0.2222222222222222, \"#7201a8\"], [0.3333333333333333, \"#9c179e\"], [0.4444444444444444, \"#bd3786\"], [0.5555555555555556, \"#d8576b\"], [0.6666666666666666, \"#ed7953\"], [0.7777777777777778, \"#fb9f3a\"], [0.8888888888888888, \"#fdca26\"], [1.0, \"#f0f921\"]], \"type\": \"histogram2d\"}], \"histogram2dcontour\": [{\"colorbar\": {\"outlinewidth\": 0, \"ticks\": \"\"}, \"colorscale\": [[0.0, \"#0d0887\"], [0.1111111111111111, \"#46039f\"], [0.2222222222222222, \"#7201a8\"], [0.3333333333333333, \"#9c179e\"], [0.4444444444444444, \"#bd3786\"], [0.5555555555555556, \"#d8576b\"], [0.6666666666666666, \"#ed7953\"], [0.7777777777777778, \"#fb9f3a\"], [0.8888888888888888, \"#fdca26\"], [1.0, \"#f0f921\"]], \"type\": \"histogram2dcontour\"}], \"mesh3d\": [{\"colorbar\": {\"outlinewidth\": 0, \"ticks\": \"\"}, \"type\": \"mesh3d\"}], \"parcoords\": [{\"line\": {\"colorbar\": {\"outlinewidth\": 0, \"ticks\": \"\"}}, \"type\": \"parcoords\"}], \"pie\": [{\"automargin\": true, \"type\": \"pie\"}], \"scatter\": [{\"marker\": {\"colorbar\": {\"outlinewidth\": 0, \"ticks\": \"\"}}, \"type\": \"scatter\"}], \"scatter3d\": [{\"line\": {\"colorbar\": {\"outlinewidth\": 0, \"ticks\": \"\"}}, \"marker\": {\"colorbar\": {\"outlinewidth\": 0, \"ticks\": \"\"}}, \"type\": \"scatter3d\"}], \"scattercarpet\": [{\"marker\": {\"colorbar\": {\"outlinewidth\": 0, \"ticks\": \"\"}}, \"type\": \"scattercarpet\"}], \"scattergeo\": [{\"marker\": {\"colorbar\": {\"outlinewidth\": 0, \"ticks\": \"\"}}, \"type\": \"scattergeo\"}], \"scattergl\": [{\"marker\": {\"colorbar\": {\"outlinewidth\": 0, \"ticks\": \"\"}}, \"type\": \"scattergl\"}], \"scattermapbox\": [{\"marker\": {\"colorbar\": {\"outlinewidth\": 0, \"ticks\": \"\"}}, \"type\": \"scattermapbox\"}], \"scatterpolar\": [{\"marker\": {\"colorbar\": {\"outlinewidth\": 0, \"ticks\": \"\"}}, \"type\": \"scatterpolar\"}], \"scatterpolargl\": [{\"marker\": {\"colorbar\": {\"outlinewidth\": 0, \"ticks\": \"\"}}, \"type\": \"scatterpolargl\"}], \"scatterternary\": [{\"marker\": {\"colorbar\": {\"outlinewidth\": 0, \"ticks\": \"\"}}, \"type\": \"scatterternary\"}], \"surface\": [{\"colorbar\": {\"outlinewidth\": 0, \"ticks\": \"\"}, \"colorscale\": [[0.0, \"#0d0887\"], [0.1111111111111111, \"#46039f\"], [0.2222222222222222, \"#7201a8\"], [0.3333333333333333, \"#9c179e\"], [0.4444444444444444, \"#bd3786\"], [0.5555555555555556, \"#d8576b\"], [0.6666666666666666, \"#ed7953\"], [0.7777777777777778, \"#fb9f3a\"], [0.8888888888888888, \"#fdca26\"], [1.0, \"#f0f921\"]], \"type\": \"surface\"}], \"table\": [{\"cells\": {\"fill\": {\"color\": \"#EBF0F8\"}, \"line\": {\"color\": \"white\"}}, \"header\": {\"fill\": {\"color\": \"#C8D4E3\"}, \"line\": {\"color\": \"white\"}}, \"type\": \"table\"}]}, \"layout\": {\"annotationdefaults\": {\"arrowcolor\": \"#2a3f5f\", \"arrowhead\": 0, \"arrowwidth\": 1}, \"coloraxis\": {\"colorbar\": {\"outlinewidth\": 0, \"ticks\": \"\"}}, \"colorscale\": {\"diverging\": [[0, \"#8e0152\"], [0.1, \"#c51b7d\"], [0.2, \"#de77ae\"], [0.3, \"#f1b6da\"], [0.4, \"#fde0ef\"], [0.5, \"#f7f7f7\"], [0.6, \"#e6f5d0\"], [0.7, \"#b8e186\"], [0.8, \"#7fbc41\"], [0.9, \"#4d9221\"], [1, \"#276419\"]], \"sequential\": [[0.0, \"#0d0887\"], [0.1111111111111111, \"#46039f\"], [0.2222222222222222, \"#7201a8\"], [0.3333333333333333, \"#9c179e\"], [0.4444444444444444, \"#bd3786\"], [0.5555555555555556, \"#d8576b\"], [0.6666666666666666, \"#ed7953\"], [0.7777777777777778, \"#fb9f3a\"], [0.8888888888888888, \"#fdca26\"], [1.0, \"#f0f921\"]], \"sequentialminus\": [[0.0, \"#0d0887\"], [0.1111111111111111, \"#46039f\"], [0.2222222222222222, \"#7201a8\"], [0.3333333333333333, \"#9c179e\"], [0.4444444444444444, \"#bd3786\"], [0.5555555555555556, \"#d8576b\"], [0.6666666666666666, \"#ed7953\"], [0.7777777777777778, \"#fb9f3a\"], [0.8888888888888888, \"#fdca26\"], [1.0, \"#f0f921\"]]}, \"colorway\": [\"#636efa\", \"#EF553B\", \"#00cc96\", \"#ab63fa\", \"#FFA15A\", \"#19d3f3\", \"#FF6692\", \"#B6E880\", \"#FF97FF\", \"#FECB52\"], \"font\": {\"color\": \"#2a3f5f\"}, \"geo\": {\"bgcolor\": \"white\", \"lakecolor\": \"white\", \"landcolor\": \"#E5ECF6\", \"showlakes\": true, \"showland\": true, \"subunitcolor\": \"white\"}, \"hoverlabel\": {\"align\": \"left\"}, \"hovermode\": \"closest\", \"mapbox\": {\"style\": \"light\"}, \"paper_bgcolor\": \"white\", \"plot_bgcolor\": \"#E5ECF6\", \"polar\": {\"angularaxis\": {\"gridcolor\": \"white\", \"linecolor\": \"white\", \"ticks\": \"\"}, \"bgcolor\": \"#E5ECF6\", \"radialaxis\": {\"gridcolor\": \"white\", \"linecolor\": \"white\", \"ticks\": \"\"}}, \"scene\": {\"xaxis\": {\"backgroundcolor\": \"#E5ECF6\", \"gridcolor\": \"white\", \"gridwidth\": 2, \"linecolor\": \"white\", \"showbackground\": true, \"ticks\": \"\", \"zerolinecolor\": \"white\"}, \"yaxis\": {\"backgroundcolor\": \"#E5ECF6\", \"gridcolor\": \"white\", \"gridwidth\": 2, \"linecolor\": \"white\", \"showbackground\": true, \"ticks\": \"\", \"zerolinecolor\": \"white\"}, \"zaxis\": {\"backgroundcolor\": \"#E5ECF6\", \"gridcolor\": \"white\", \"gridwidth\": 2, \"linecolor\": \"white\", \"showbackground\": true, \"ticks\": \"\", \"zerolinecolor\": \"white\"}}, \"shapedefaults\": {\"line\": {\"color\": \"#2a3f5f\"}}, \"ternary\": {\"aaxis\": {\"gridcolor\": \"white\", \"linecolor\": \"white\", \"ticks\": \"\"}, \"baxis\": {\"gridcolor\": \"white\", \"linecolor\": \"white\", \"ticks\": \"\"}, \"bgcolor\": \"#E5ECF6\", \"caxis\": {\"gridcolor\": \"white\", \"linecolor\": \"white\", \"ticks\": \"\"}}, \"title\": {\"x\": 0.05}, \"xaxis\": {\"automargin\": true, \"gridcolor\": \"white\", \"linecolor\": \"white\", \"ticks\": \"\", \"title\": {\"standoff\": 15}, \"zerolinecolor\": \"white\", \"zerolinewidth\": 2}, \"yaxis\": {\"automargin\": true, \"gridcolor\": \"white\", \"linecolor\": \"white\", \"ticks\": \"\", \"title\": {\"standoff\": 15}, \"zerolinecolor\": \"white\", \"zerolinewidth\": 2}}}, \"title\": {\"font\": {\"color\": \"#4D5663\"}}, \"xaxis\": {\"gridcolor\": \"#E1E5ED\", \"showgrid\": true, \"tickfont\": {\"color\": \"#4D5663\"}, \"title\": {\"font\": {\"color\": \"#4D5663\"}, \"text\": \"\"}, \"zerolinecolor\": \"#E1E5ED\"}, \"yaxis\": {\"gridcolor\": \"#E1E5ED\", \"showgrid\": true, \"tickfont\": {\"color\": \"#4D5663\"}, \"title\": {\"font\": {\"color\": \"#4D5663\"}, \"text\": \"\"}, \"zerolinecolor\": \"#E1E5ED\"}},\n",
       "                        {\"showLink\": true, \"linkText\": \"Export to plot.ly\", \"plotlyServerURL\": \"https://plot.ly\", \"responsive\": true}\n",
       "                    ).then(function(){\n",
       "                            \n",
       "var gd = document.getElementById('b8527842-ce03-4ad2-bffb-daca24b257fc');\n",
       "var x = new MutationObserver(function (mutations, observer) {{\n",
       "        var display = window.getComputedStyle(gd).display;\n",
       "        if (!display || display === 'none') {{\n",
       "            console.log([gd, 'removed!']);\n",
       "            Plotly.purge(gd);\n",
       "            observer.disconnect();\n",
       "        }}\n",
       "}});\n",
       "\n",
       "// Listen for the removal of the full notebook cells\n",
       "var notebookContainer = gd.closest('#notebook-container');\n",
       "if (notebookContainer) {{\n",
       "    x.observe(notebookContainer, {childList: true});\n",
       "}}\n",
       "\n",
       "// Listen for the clearing of the current output cell\n",
       "var outputEl = gd.closest('.output');\n",
       "if (outputEl) {{\n",
       "    x.observe(outputEl, {childList: true});\n",
       "}}\n",
       "\n",
       "                        })\n",
       "                };\n",
       "                });\n",
       "            </script>\n",
       "        </div>"
      ]
     },
     "metadata": {},
     "output_type": "display_data"
    }
   ],
   "source": [
    "df2.iplot(kind='bar',x='Category',y='Values')"
   ]
  },
  {
   "cell_type": "markdown",
   "metadata": {},
   "source": [
    "- Use groupby to arrange the data to a better form of plots"
   ]
  },
  {
   "cell_type": "code",
   "execution_count": 39,
   "metadata": {},
   "outputs": [
    {
     "data": {
      "text/html": [
       "<div>\n",
       "<style scoped>\n",
       "    .dataframe tbody tr th:only-of-type {\n",
       "        vertical-align: middle;\n",
       "    }\n",
       "\n",
       "    .dataframe tbody tr th {\n",
       "        vertical-align: top;\n",
       "    }\n",
       "\n",
       "    .dataframe thead th {\n",
       "        text-align: right;\n",
       "    }\n",
       "</style>\n",
       "<table border=\"1\" class=\"dataframe\">\n",
       "  <thead>\n",
       "    <tr style=\"text-align: right;\">\n",
       "      <th></th>\n",
       "      <th>A</th>\n",
       "      <th>B</th>\n",
       "      <th>C</th>\n",
       "      <th>D</th>\n",
       "    </tr>\n",
       "  </thead>\n",
       "  <tbody>\n",
       "    <tr>\n",
       "      <td>0</td>\n",
       "      <td>0.856500</td>\n",
       "      <td>1.475590</td>\n",
       "      <td>0.095365</td>\n",
       "      <td>-2.837108</td>\n",
       "    </tr>\n",
       "    <tr>\n",
       "      <td>1</td>\n",
       "      <td>0.616667</td>\n",
       "      <td>0.058194</td>\n",
       "      <td>-1.979873</td>\n",
       "      <td>0.187267</td>\n",
       "    </tr>\n",
       "    <tr>\n",
       "      <td>2</td>\n",
       "      <td>0.929892</td>\n",
       "      <td>0.885859</td>\n",
       "      <td>-0.800617</td>\n",
       "      <td>-0.635753</td>\n",
       "    </tr>\n",
       "    <tr>\n",
       "      <td>3</td>\n",
       "      <td>-1.672463</td>\n",
       "      <td>-1.006247</td>\n",
       "      <td>-1.408544</td>\n",
       "      <td>0.312049</td>\n",
       "    </tr>\n",
       "    <tr>\n",
       "      <td>4</td>\n",
       "      <td>-0.019950</td>\n",
       "      <td>0.468037</td>\n",
       "      <td>0.085479</td>\n",
       "      <td>-1.688462</td>\n",
       "    </tr>\n",
       "    <tr>\n",
       "      <td>...</td>\n",
       "      <td>...</td>\n",
       "      <td>...</td>\n",
       "      <td>...</td>\n",
       "      <td>...</td>\n",
       "    </tr>\n",
       "    <tr>\n",
       "      <td>95</td>\n",
       "      <td>-0.804412</td>\n",
       "      <td>0.258863</td>\n",
       "      <td>0.441403</td>\n",
       "      <td>-0.386878</td>\n",
       "    </tr>\n",
       "    <tr>\n",
       "      <td>96</td>\n",
       "      <td>-0.425049</td>\n",
       "      <td>-0.659454</td>\n",
       "      <td>0.374987</td>\n",
       "      <td>-0.906620</td>\n",
       "    </tr>\n",
       "    <tr>\n",
       "      <td>97</td>\n",
       "      <td>0.238273</td>\n",
       "      <td>-0.282999</td>\n",
       "      <td>-0.289199</td>\n",
       "      <td>1.026912</td>\n",
       "    </tr>\n",
       "    <tr>\n",
       "      <td>98</td>\n",
       "      <td>1.276372</td>\n",
       "      <td>-1.364478</td>\n",
       "      <td>-0.914043</td>\n",
       "      <td>0.507489</td>\n",
       "    </tr>\n",
       "    <tr>\n",
       "      <td>99</td>\n",
       "      <td>-0.612736</td>\n",
       "      <td>-0.074840</td>\n",
       "      <td>0.962494</td>\n",
       "      <td>1.954899</td>\n",
       "    </tr>\n",
       "  </tbody>\n",
       "</table>\n",
       "<p>100 rows × 4 columns</p>\n",
       "</div>"
      ],
      "text/plain": [
       "           A         B         C         D\n",
       "0   0.856500  1.475590  0.095365 -2.837108\n",
       "1   0.616667  0.058194 -1.979873  0.187267\n",
       "2   0.929892  0.885859 -0.800617 -0.635753\n",
       "3  -1.672463 -1.006247 -1.408544  0.312049\n",
       "4  -0.019950  0.468037  0.085479 -1.688462\n",
       "..       ...       ...       ...       ...\n",
       "95 -0.804412  0.258863  0.441403 -0.386878\n",
       "96 -0.425049 -0.659454  0.374987 -0.906620\n",
       "97  0.238273 -0.282999 -0.289199  1.026912\n",
       "98  1.276372 -1.364478 -0.914043  0.507489\n",
       "99 -0.612736 -0.074840  0.962494  1.954899\n",
       "\n",
       "[100 rows x 4 columns]"
      ]
     },
     "execution_count": 39,
     "metadata": {},
     "output_type": "execute_result"
    }
   ],
   "source": [
    "df"
   ]
  },
  {
   "cell_type": "markdown",
   "metadata": {},
   "source": [
    "- In this data we won't be able to call a bar on this data otherwise we will get a bunch of bars\n",
    "- for example see below \n",
    "- so data will need to take another form"
   ]
  },
  {
   "cell_type": "code",
   "execution_count": 46,
   "metadata": {},
   "outputs": [
    {
     "data": {
      "application/vnd.plotly.v1+json": {
       "config": {
        "linkText": "Export to plot.ly",
        "plotlyServerURL": "https://plot.ly",
        "showLink": true
       },
       "data": [
        {
         "marker": {
          "color": "rgba(255, 153, 51, 0.6)",
          "line": {
           "color": "rgba(255, 153, 51, 1.0)",
           "width": 1
          }
         },
         "name": "A",
         "orientation": "v",
         "text": "",
         "type": "bar",
         "x": [
          0,
          1,
          2,
          3,
          4,
          5,
          6,
          7,
          8,
          9,
          10,
          11,
          12,
          13,
          14,
          15,
          16,
          17,
          18,
          19,
          20,
          21,
          22,
          23,
          24,
          25,
          26,
          27,
          28,
          29,
          30,
          31,
          32,
          33,
          34,
          35,
          36,
          37,
          38,
          39,
          40,
          41,
          42,
          43,
          44,
          45,
          46,
          47,
          48,
          49,
          50,
          51,
          52,
          53,
          54,
          55,
          56,
          57,
          58,
          59,
          60,
          61,
          62,
          63,
          64,
          65,
          66,
          67,
          68,
          69,
          70,
          71,
          72,
          73,
          74,
          75,
          76,
          77,
          78,
          79,
          80,
          81,
          82,
          83,
          84,
          85,
          86,
          87,
          88,
          89,
          90,
          91,
          92,
          93,
          94,
          95,
          96,
          97,
          98,
          99
         ],
         "y": [
          0.8565004406896697,
          0.616667033466685,
          0.9298916478237453,
          -1.6724634436675336,
          -0.019950485747430385,
          -0.32800911299570507,
          -0.520848431309861,
          -1.30147296225039,
          0.918170020841073,
          -0.003030796847175438,
          1.8515261305902329,
          -2.4657644444358904,
          -1.439356632219261,
          0.15387753978794932,
          0.07641025126858664,
          0.05696079491628426,
          0.994002604240455,
          1.3063555379994916,
          0.11680196973249214,
          -0.06144614746125791,
          0.16965506162971544,
          -1.5592095724925938,
          1.7362505416468237,
          -0.5158156181616896,
          0.3112988643540849,
          0.6367371116974732,
          -1.5536536001503518,
          -1.7685320204209458,
          -0.5392754585148415,
          0.10192996646476966,
          0.5568460660823932,
          0.4092568775144538,
          0.6425257437679849,
          0.09284381524121892,
          1.7894845246730584,
          -1.5779423255162153,
          -1.789479229742878,
          0.7609651113838944,
          -0.6674139141954538,
          -0.4214512133650312,
          -0.44539736631937926,
          0.5186930794439539,
          -1.0086390260505254,
          0.7345811131541214,
          -0.8682151792015697,
          -0.5138030956228592,
          2.44506810870039,
          -0.48872333105082555,
          1.3671166266258052,
          -0.01753294451379828,
          0.11685967207261917,
          1.0155837704561772,
          -0.5150792361553516,
          -0.4189522845684282,
          -1.671800498378324,
          0.00849610436739744,
          -0.895038429064667,
          -0.7234219959912285,
          0.206272727623923,
          0.3226173070103636,
          -0.4358213189085439,
          1.485019297233284,
          1.3145577597333455,
          1.1418099258834655,
          0.3899155275990936,
          0.6744845811903896,
          -1.5421747306588416,
          0.10759935916787118,
          -0.29174756418219683,
          0.4816850364526941,
          0.06383954088766132,
          0.805862380002143,
          1.7922318721731754,
          0.7711332871154744,
          1.5493299640694245,
          2.1568955364366897,
          1.1670866728363158,
          0.7987843837817445,
          0.5924788058898702,
          0.46868961780136764,
          0.041509628887594935,
          1.4403527221146417,
          0.06159499985984685,
          -0.37884426150130707,
          -0.5712864766608926,
          -0.05456501732571868,
          -1.374456821319399,
          -0.29150627018452924,
          -0.5060841247039243,
          -0.9116186430932947,
          -0.03191657470382843,
          -1.1907703476630989,
          -0.2240749488357738,
          0.9880910702602029,
          -0.6027601036139539,
          -0.804412324683554,
          -0.42504929417141835,
          0.23827330110499453,
          1.2763718707572826,
          -0.6127361720543995
         ]
        },
        {
         "marker": {
          "color": "rgba(55, 128, 191, 0.6)",
          "line": {
           "color": "rgba(55, 128, 191, 1.0)",
           "width": 1
          }
         },
         "name": "B",
         "orientation": "v",
         "text": "",
         "type": "bar",
         "x": [
          0,
          1,
          2,
          3,
          4,
          5,
          6,
          7,
          8,
          9,
          10,
          11,
          12,
          13,
          14,
          15,
          16,
          17,
          18,
          19,
          20,
          21,
          22,
          23,
          24,
          25,
          26,
          27,
          28,
          29,
          30,
          31,
          32,
          33,
          34,
          35,
          36,
          37,
          38,
          39,
          40,
          41,
          42,
          43,
          44,
          45,
          46,
          47,
          48,
          49,
          50,
          51,
          52,
          53,
          54,
          55,
          56,
          57,
          58,
          59,
          60,
          61,
          62,
          63,
          64,
          65,
          66,
          67,
          68,
          69,
          70,
          71,
          72,
          73,
          74,
          75,
          76,
          77,
          78,
          79,
          80,
          81,
          82,
          83,
          84,
          85,
          86,
          87,
          88,
          89,
          90,
          91,
          92,
          93,
          94,
          95,
          96,
          97,
          98,
          99
         ],
         "y": [
          1.475589520025869,
          0.058193690147613136,
          0.8858587130605142,
          -1.0062473781673018,
          0.46803675911740583,
          1.8876584534559304,
          1.0068376194540218,
          0.20649832656467781,
          -0.3831842413954928,
          0.8146880661445408,
          0.7525580546906689,
          -0.9499437266514072,
          -0.5124677266513444,
          -0.07070799266437955,
          0.24842935771077734,
          -0.47466919918713246,
          0.1329640121766927,
          0.7101899364369233,
          -0.8129158041745252,
          -0.9065188940398232,
          -0.576101023436274,
          0.7211521933563564,
          0.4980075228147292,
          -0.4772199892654312,
          -0.25876529291204786,
          0.02805869936306022,
          -1.1120841762313531,
          -0.34773983569211936,
          0.5592457342025116,
          -2.2329856221230426,
          1.244429738539221,
          -0.3558037971356808,
          -1.7071760167849175,
          -0.38601241809639797,
          -1.2101106786862859,
          0.39581149532187293,
          -1.613409089316727,
          -0.017707675178522137,
          -0.51674385539429,
          0.5508169727530585,
          -0.7657147803155174,
          2.102266470888824,
          -1.9500668951535425,
          0.08582168052356781,
          -1.2031543487810075,
          0.09047246874201739,
          -1.2046473795482855,
          0.057008372010706757,
          -0.6793292136001533,
          -0.16868751384288672,
          0.013752896177967523,
          0.13559208744343473,
          -0.9630115477948523,
          0.7230504579164195,
          -0.7957538189923294,
          -0.5367136225824187,
          -1.0077205412350119,
          -1.7914055716137376,
          -1.230050510713824,
          0.8679372146419765,
          0.016712192818447498,
          -1.7296404941674273,
          0.6279507372489606,
          2.2072101493033247,
          -1.426478309767374,
          -0.10793231034668634,
          0.2825793489947289,
          -1.980919281504627,
          1.355967324544568,
          -0.7001789060327122,
          -1.2722359256963178,
          0.09299395157163394,
          0.9666985831548762,
          -0.3146817160528018,
          0.5624621245870179,
          -0.4257065060814728,
          2.8239069121719327,
          -0.6597234857277737,
          0.045685732120529614,
          -0.01918897826138856,
          0.19400035829565307,
          0.331512334519879,
          -0.14894837996905405,
          -0.35260660854332354,
          0.4922341899645374,
          0.512147456731329,
          0.06474390398539126,
          2.3772022790380962,
          0.4500853579083613,
          -0.6527657639931757,
          -0.047316453982068685,
          0.4678256940750706,
          -0.5795657304715769,
          -1.2899242922557217,
          -0.3685463537980794,
          0.25886314902995966,
          -0.659454095923306,
          -0.28299923424564427,
          -1.3644779963994549,
          -0.07484015266979967
         ]
        },
        {
         "marker": {
          "color": "rgba(50, 171, 96, 0.6)",
          "line": {
           "color": "rgba(50, 171, 96, 1.0)",
           "width": 1
          }
         },
         "name": "C",
         "orientation": "v",
         "text": "",
         "type": "bar",
         "x": [
          0,
          1,
          2,
          3,
          4,
          5,
          6,
          7,
          8,
          9,
          10,
          11,
          12,
          13,
          14,
          15,
          16,
          17,
          18,
          19,
          20,
          21,
          22,
          23,
          24,
          25,
          26,
          27,
          28,
          29,
          30,
          31,
          32,
          33,
          34,
          35,
          36,
          37,
          38,
          39,
          40,
          41,
          42,
          43,
          44,
          45,
          46,
          47,
          48,
          49,
          50,
          51,
          52,
          53,
          54,
          55,
          56,
          57,
          58,
          59,
          60,
          61,
          62,
          63,
          64,
          65,
          66,
          67,
          68,
          69,
          70,
          71,
          72,
          73,
          74,
          75,
          76,
          77,
          78,
          79,
          80,
          81,
          82,
          83,
          84,
          85,
          86,
          87,
          88,
          89,
          90,
          91,
          92,
          93,
          94,
          95,
          96,
          97,
          98,
          99
         ],
         "y": [
          0.09536454976164993,
          -1.979873229425567,
          -0.8006171220144002,
          -1.4085439333951777,
          0.08547942854432763,
          -0.008826093278719568,
          -0.2991548029353947,
          0.2576029505630603,
          0.8795221488870283,
          -0.07200754103600952,
          -0.046151183479252546,
          0.3374454762825173,
          -0.6779825948518686,
          -0.09763964035505414,
          1.599220362888875,
          0.17648750653606524,
          0.18213753336434174,
          -0.9245131437491316,
          2.050342741577169,
          -0.11525257001200029,
          -0.3081347973723833,
          -0.34588166791003433,
          -0.33520708347079836,
          -1.0388186655706726,
          0.46110275587050625,
          -0.5761386680731327,
          0.8801801412081522,
          -0.5334511453174319,
          2.179848881496895,
          0.8510521398255604,
          -1.302215746186497,
          -0.2758653764454315,
          0.4229725742656263,
          -0.6854796038539009,
          -0.46825269421393273,
          -0.059917604332156246,
          0.27907495323068693,
          -0.4774644670954662,
          0.5112678302701621,
          -2.653886389514963,
          0.5602132803496599,
          -0.09368145292452275,
          -0.5108472428829691,
          -0.0049541575064123555,
          0.8263529754001935,
          -1.0298167166950276,
          0.11615194577730661,
          -0.033485373062486425,
          -0.5023586159199206,
          -0.5343264848054067,
          1.2563645314112177,
          -0.670756044789189,
          0.04086236619495206,
          -0.48491239039460976,
          0.8368010161808237,
          -1.4747359948647716,
          -0.678626261666939,
          0.055916347271540726,
          -0.665548308946417,
          -0.7349920467327229,
          1.1431344385353945,
          0.10272624712609245,
          2.0337920267866245,
          -0.25664343368236386,
          0.3270272774134318,
          -0.9161936736943582,
          0.6640500241172738,
          0.45816299396646826,
          1.479109563408102,
          -1.0801874426617148,
          0.8645323939687818,
          1.556299817995986,
          -0.19584520336043118,
          -0.6074092807738445,
          -0.7036813686304971,
          -0.2522157220017819,
          1.9265828118823523,
          -1.5812188150203852,
          0.109577170426578,
          1.7041087583411898,
          -1.6958191071790105,
          -1.6508695078091753,
          -0.14063194438965274,
          0.9241987280821946,
          0.8150487836869047,
          0.5931459555812096,
          1.5264875107240874,
          0.9944396469378712,
          -1.3785578513262233,
          0.29406582022837885,
          -0.3913540100322184,
          -0.3505245746885777,
          0.01771170232228889,
          -0.42157829849596756,
          -1.130644127991805,
          0.44140298627012853,
          0.3749867305185496,
          -0.2891992005348076,
          -0.9140427672546457,
          0.962493619611387
         ]
        },
        {
         "marker": {
          "color": "rgba(128, 0, 128, 0.6)",
          "line": {
           "color": "rgba(128, 0, 128, 1.0)",
           "width": 1
          }
         },
         "name": "D",
         "orientation": "v",
         "text": "",
         "type": "bar",
         "x": [
          0,
          1,
          2,
          3,
          4,
          5,
          6,
          7,
          8,
          9,
          10,
          11,
          12,
          13,
          14,
          15,
          16,
          17,
          18,
          19,
          20,
          21,
          22,
          23,
          24,
          25,
          26,
          27,
          28,
          29,
          30,
          31,
          32,
          33,
          34,
          35,
          36,
          37,
          38,
          39,
          40,
          41,
          42,
          43,
          44,
          45,
          46,
          47,
          48,
          49,
          50,
          51,
          52,
          53,
          54,
          55,
          56,
          57,
          58,
          59,
          60,
          61,
          62,
          63,
          64,
          65,
          66,
          67,
          68,
          69,
          70,
          71,
          72,
          73,
          74,
          75,
          76,
          77,
          78,
          79,
          80,
          81,
          82,
          83,
          84,
          85,
          86,
          87,
          88,
          89,
          90,
          91,
          92,
          93,
          94,
          95,
          96,
          97,
          98,
          99
         ],
         "y": [
          -2.8371083245496616,
          0.18726671943935058,
          -0.635752704507406,
          0.31204885311241765,
          -1.6884623420901927,
          -2.218046636438145,
          0.8005326796231135,
          0.2571323568177598,
          -0.7517794685927304,
          0.7141700622967905,
          -0.7034274370151249,
          1.7601916791167034,
          -0.695062955483073,
          -0.2605103364893929,
          -0.46730855079440314,
          0.7343327121690637,
          -0.9815267713197737,
          0.08934937710201019,
          1.2228982710514336,
          -0.2558313016025286,
          0.08473537705506456,
          -0.2831432143808916,
          -0.5078694189178844,
          1.3868024785701536,
          -0.5953077204912341,
          1.848884077889904,
          1.5390355127582946,
          0.028268872843309582,
          -0.595582478100544,
          1.5427013777117144,
          -0.5267129535115503,
          -2.2191309716885237,
          0.0526380368058972,
          -1.362504559433225,
          0.347626808410747,
          -0.23159946754631258,
          -0.4455793612367743,
          -0.06588596165374287,
          -1.3878920907572154,
          -1.008227288385752,
          0.5214377993630165,
          -0.018950103896625235,
          -0.14910350029198688,
          -0.5731720468029629,
          -0.9448239720268437,
          -0.22647219243858305,
          0.23146433215176052,
          0.893712658602652,
          -0.6793475172366461,
          1.6732234146359781,
          1.3376624235505683,
          -2.2775249667085014,
          -0.35725965871140325,
          -0.4866196631848915,
          0.5221645015016327,
          -2.3512699124364085,
          -0.5692428042702953,
          0.10925410215289443,
          -0.36194004921095924,
          0.6334634171826902,
          -0.989516778828704,
          1.5894450940447842,
          1.6504996902903266,
          0.08065315455009567,
          0.06506507570552242,
          -0.2945574392855909,
          0.5163758035262357,
          0.7920140242556639,
          -1.1531881291574442,
          -0.45478802547050956,
          0.4148567561667146,
          -1.6225514034438266,
          -0.05256397906113001,
          -0.856629342427809,
          -1.128943548249932,
          2.591930395771614,
          -1.510629341644163,
          0.08673476546190459,
          0.2710878959149094,
          -0.38617512562306183,
          -0.25179677654739074,
          -0.23088214790287442,
          -2.2421051954884854,
          0.22438491327880083,
          0.3358240185176065,
          -1.9844158775313674,
          -1.1360740539664844,
          -0.5211490606702568,
          0.0976208293459543,
          1.6774681184560594,
          1.7459282462631893,
          -2.0453097398102043,
          0.7010203333543181,
          -0.42683017154972774,
          -0.5401712869994386,
          -0.38687846178588225,
          -0.9066203932855437,
          1.0269121046221774,
          0.507489187083504,
          1.9548992675904575
         ]
        }
       ],
       "layout": {
        "legend": {
         "bgcolor": "#F5F6F9",
         "font": {
          "color": "#4D5663"
         }
        },
        "paper_bgcolor": "#F5F6F9",
        "plot_bgcolor": "#F5F6F9",
        "template": {
         "data": {
          "bar": [
           {
            "error_x": {
             "color": "#2a3f5f"
            },
            "error_y": {
             "color": "#2a3f5f"
            },
            "marker": {
             "line": {
              "color": "#E5ECF6",
              "width": 0.5
             }
            },
            "type": "bar"
           }
          ],
          "barpolar": [
           {
            "marker": {
             "line": {
              "color": "#E5ECF6",
              "width": 0.5
             }
            },
            "type": "barpolar"
           }
          ],
          "carpet": [
           {
            "aaxis": {
             "endlinecolor": "#2a3f5f",
             "gridcolor": "white",
             "linecolor": "white",
             "minorgridcolor": "white",
             "startlinecolor": "#2a3f5f"
            },
            "baxis": {
             "endlinecolor": "#2a3f5f",
             "gridcolor": "white",
             "linecolor": "white",
             "minorgridcolor": "white",
             "startlinecolor": "#2a3f5f"
            },
            "type": "carpet"
           }
          ],
          "choropleth": [
           {
            "colorbar": {
             "outlinewidth": 0,
             "ticks": ""
            },
            "type": "choropleth"
           }
          ],
          "contour": [
           {
            "colorbar": {
             "outlinewidth": 0,
             "ticks": ""
            },
            "colorscale": [
             [
              0,
              "#0d0887"
             ],
             [
              0.1111111111111111,
              "#46039f"
             ],
             [
              0.2222222222222222,
              "#7201a8"
             ],
             [
              0.3333333333333333,
              "#9c179e"
             ],
             [
              0.4444444444444444,
              "#bd3786"
             ],
             [
              0.5555555555555556,
              "#d8576b"
             ],
             [
              0.6666666666666666,
              "#ed7953"
             ],
             [
              0.7777777777777778,
              "#fb9f3a"
             ],
             [
              0.8888888888888888,
              "#fdca26"
             ],
             [
              1,
              "#f0f921"
             ]
            ],
            "type": "contour"
           }
          ],
          "contourcarpet": [
           {
            "colorbar": {
             "outlinewidth": 0,
             "ticks": ""
            },
            "type": "contourcarpet"
           }
          ],
          "heatmap": [
           {
            "colorbar": {
             "outlinewidth": 0,
             "ticks": ""
            },
            "colorscale": [
             [
              0,
              "#0d0887"
             ],
             [
              0.1111111111111111,
              "#46039f"
             ],
             [
              0.2222222222222222,
              "#7201a8"
             ],
             [
              0.3333333333333333,
              "#9c179e"
             ],
             [
              0.4444444444444444,
              "#bd3786"
             ],
             [
              0.5555555555555556,
              "#d8576b"
             ],
             [
              0.6666666666666666,
              "#ed7953"
             ],
             [
              0.7777777777777778,
              "#fb9f3a"
             ],
             [
              0.8888888888888888,
              "#fdca26"
             ],
             [
              1,
              "#f0f921"
             ]
            ],
            "type": "heatmap"
           }
          ],
          "heatmapgl": [
           {
            "colorbar": {
             "outlinewidth": 0,
             "ticks": ""
            },
            "colorscale": [
             [
              0,
              "#0d0887"
             ],
             [
              0.1111111111111111,
              "#46039f"
             ],
             [
              0.2222222222222222,
              "#7201a8"
             ],
             [
              0.3333333333333333,
              "#9c179e"
             ],
             [
              0.4444444444444444,
              "#bd3786"
             ],
             [
              0.5555555555555556,
              "#d8576b"
             ],
             [
              0.6666666666666666,
              "#ed7953"
             ],
             [
              0.7777777777777778,
              "#fb9f3a"
             ],
             [
              0.8888888888888888,
              "#fdca26"
             ],
             [
              1,
              "#f0f921"
             ]
            ],
            "type": "heatmapgl"
           }
          ],
          "histogram": [
           {
            "marker": {
             "colorbar": {
              "outlinewidth": 0,
              "ticks": ""
             }
            },
            "type": "histogram"
           }
          ],
          "histogram2d": [
           {
            "colorbar": {
             "outlinewidth": 0,
             "ticks": ""
            },
            "colorscale": [
             [
              0,
              "#0d0887"
             ],
             [
              0.1111111111111111,
              "#46039f"
             ],
             [
              0.2222222222222222,
              "#7201a8"
             ],
             [
              0.3333333333333333,
              "#9c179e"
             ],
             [
              0.4444444444444444,
              "#bd3786"
             ],
             [
              0.5555555555555556,
              "#d8576b"
             ],
             [
              0.6666666666666666,
              "#ed7953"
             ],
             [
              0.7777777777777778,
              "#fb9f3a"
             ],
             [
              0.8888888888888888,
              "#fdca26"
             ],
             [
              1,
              "#f0f921"
             ]
            ],
            "type": "histogram2d"
           }
          ],
          "histogram2dcontour": [
           {
            "colorbar": {
             "outlinewidth": 0,
             "ticks": ""
            },
            "colorscale": [
             [
              0,
              "#0d0887"
             ],
             [
              0.1111111111111111,
              "#46039f"
             ],
             [
              0.2222222222222222,
              "#7201a8"
             ],
             [
              0.3333333333333333,
              "#9c179e"
             ],
             [
              0.4444444444444444,
              "#bd3786"
             ],
             [
              0.5555555555555556,
              "#d8576b"
             ],
             [
              0.6666666666666666,
              "#ed7953"
             ],
             [
              0.7777777777777778,
              "#fb9f3a"
             ],
             [
              0.8888888888888888,
              "#fdca26"
             ],
             [
              1,
              "#f0f921"
             ]
            ],
            "type": "histogram2dcontour"
           }
          ],
          "mesh3d": [
           {
            "colorbar": {
             "outlinewidth": 0,
             "ticks": ""
            },
            "type": "mesh3d"
           }
          ],
          "parcoords": [
           {
            "line": {
             "colorbar": {
              "outlinewidth": 0,
              "ticks": ""
             }
            },
            "type": "parcoords"
           }
          ],
          "pie": [
           {
            "automargin": true,
            "type": "pie"
           }
          ],
          "scatter": [
           {
            "marker": {
             "colorbar": {
              "outlinewidth": 0,
              "ticks": ""
             }
            },
            "type": "scatter"
           }
          ],
          "scatter3d": [
           {
            "line": {
             "colorbar": {
              "outlinewidth": 0,
              "ticks": ""
             }
            },
            "marker": {
             "colorbar": {
              "outlinewidth": 0,
              "ticks": ""
             }
            },
            "type": "scatter3d"
           }
          ],
          "scattercarpet": [
           {
            "marker": {
             "colorbar": {
              "outlinewidth": 0,
              "ticks": ""
             }
            },
            "type": "scattercarpet"
           }
          ],
          "scattergeo": [
           {
            "marker": {
             "colorbar": {
              "outlinewidth": 0,
              "ticks": ""
             }
            },
            "type": "scattergeo"
           }
          ],
          "scattergl": [
           {
            "marker": {
             "colorbar": {
              "outlinewidth": 0,
              "ticks": ""
             }
            },
            "type": "scattergl"
           }
          ],
          "scattermapbox": [
           {
            "marker": {
             "colorbar": {
              "outlinewidth": 0,
              "ticks": ""
             }
            },
            "type": "scattermapbox"
           }
          ],
          "scatterpolar": [
           {
            "marker": {
             "colorbar": {
              "outlinewidth": 0,
              "ticks": ""
             }
            },
            "type": "scatterpolar"
           }
          ],
          "scatterpolargl": [
           {
            "marker": {
             "colorbar": {
              "outlinewidth": 0,
              "ticks": ""
             }
            },
            "type": "scatterpolargl"
           }
          ],
          "scatterternary": [
           {
            "marker": {
             "colorbar": {
              "outlinewidth": 0,
              "ticks": ""
             }
            },
            "type": "scatterternary"
           }
          ],
          "surface": [
           {
            "colorbar": {
             "outlinewidth": 0,
             "ticks": ""
            },
            "colorscale": [
             [
              0,
              "#0d0887"
             ],
             [
              0.1111111111111111,
              "#46039f"
             ],
             [
              0.2222222222222222,
              "#7201a8"
             ],
             [
              0.3333333333333333,
              "#9c179e"
             ],
             [
              0.4444444444444444,
              "#bd3786"
             ],
             [
              0.5555555555555556,
              "#d8576b"
             ],
             [
              0.6666666666666666,
              "#ed7953"
             ],
             [
              0.7777777777777778,
              "#fb9f3a"
             ],
             [
              0.8888888888888888,
              "#fdca26"
             ],
             [
              1,
              "#f0f921"
             ]
            ],
            "type": "surface"
           }
          ],
          "table": [
           {
            "cells": {
             "fill": {
              "color": "#EBF0F8"
             },
             "line": {
              "color": "white"
             }
            },
            "header": {
             "fill": {
              "color": "#C8D4E3"
             },
             "line": {
              "color": "white"
             }
            },
            "type": "table"
           }
          ]
         },
         "layout": {
          "annotationdefaults": {
           "arrowcolor": "#2a3f5f",
           "arrowhead": 0,
           "arrowwidth": 1
          },
          "coloraxis": {
           "colorbar": {
            "outlinewidth": 0,
            "ticks": ""
           }
          },
          "colorscale": {
           "diverging": [
            [
             0,
             "#8e0152"
            ],
            [
             0.1,
             "#c51b7d"
            ],
            [
             0.2,
             "#de77ae"
            ],
            [
             0.3,
             "#f1b6da"
            ],
            [
             0.4,
             "#fde0ef"
            ],
            [
             0.5,
             "#f7f7f7"
            ],
            [
             0.6,
             "#e6f5d0"
            ],
            [
             0.7,
             "#b8e186"
            ],
            [
             0.8,
             "#7fbc41"
            ],
            [
             0.9,
             "#4d9221"
            ],
            [
             1,
             "#276419"
            ]
           ],
           "sequential": [
            [
             0,
             "#0d0887"
            ],
            [
             0.1111111111111111,
             "#46039f"
            ],
            [
             0.2222222222222222,
             "#7201a8"
            ],
            [
             0.3333333333333333,
             "#9c179e"
            ],
            [
             0.4444444444444444,
             "#bd3786"
            ],
            [
             0.5555555555555556,
             "#d8576b"
            ],
            [
             0.6666666666666666,
             "#ed7953"
            ],
            [
             0.7777777777777778,
             "#fb9f3a"
            ],
            [
             0.8888888888888888,
             "#fdca26"
            ],
            [
             1,
             "#f0f921"
            ]
           ],
           "sequentialminus": [
            [
             0,
             "#0d0887"
            ],
            [
             0.1111111111111111,
             "#46039f"
            ],
            [
             0.2222222222222222,
             "#7201a8"
            ],
            [
             0.3333333333333333,
             "#9c179e"
            ],
            [
             0.4444444444444444,
             "#bd3786"
            ],
            [
             0.5555555555555556,
             "#d8576b"
            ],
            [
             0.6666666666666666,
             "#ed7953"
            ],
            [
             0.7777777777777778,
             "#fb9f3a"
            ],
            [
             0.8888888888888888,
             "#fdca26"
            ],
            [
             1,
             "#f0f921"
            ]
           ]
          },
          "colorway": [
           "#636efa",
           "#EF553B",
           "#00cc96",
           "#ab63fa",
           "#FFA15A",
           "#19d3f3",
           "#FF6692",
           "#B6E880",
           "#FF97FF",
           "#FECB52"
          ],
          "font": {
           "color": "#2a3f5f"
          },
          "geo": {
           "bgcolor": "white",
           "lakecolor": "white",
           "landcolor": "#E5ECF6",
           "showlakes": true,
           "showland": true,
           "subunitcolor": "white"
          },
          "hoverlabel": {
           "align": "left"
          },
          "hovermode": "closest",
          "mapbox": {
           "style": "light"
          },
          "paper_bgcolor": "white",
          "plot_bgcolor": "#E5ECF6",
          "polar": {
           "angularaxis": {
            "gridcolor": "white",
            "linecolor": "white",
            "ticks": ""
           },
           "bgcolor": "#E5ECF6",
           "radialaxis": {
            "gridcolor": "white",
            "linecolor": "white",
            "ticks": ""
           }
          },
          "scene": {
           "xaxis": {
            "backgroundcolor": "#E5ECF6",
            "gridcolor": "white",
            "gridwidth": 2,
            "linecolor": "white",
            "showbackground": true,
            "ticks": "",
            "zerolinecolor": "white"
           },
           "yaxis": {
            "backgroundcolor": "#E5ECF6",
            "gridcolor": "white",
            "gridwidth": 2,
            "linecolor": "white",
            "showbackground": true,
            "ticks": "",
            "zerolinecolor": "white"
           },
           "zaxis": {
            "backgroundcolor": "#E5ECF6",
            "gridcolor": "white",
            "gridwidth": 2,
            "linecolor": "white",
            "showbackground": true,
            "ticks": "",
            "zerolinecolor": "white"
           }
          },
          "shapedefaults": {
           "line": {
            "color": "#2a3f5f"
           }
          },
          "ternary": {
           "aaxis": {
            "gridcolor": "white",
            "linecolor": "white",
            "ticks": ""
           },
           "baxis": {
            "gridcolor": "white",
            "linecolor": "white",
            "ticks": ""
           },
           "bgcolor": "#E5ECF6",
           "caxis": {
            "gridcolor": "white",
            "linecolor": "white",
            "ticks": ""
           }
          },
          "title": {
           "x": 0.05
          },
          "xaxis": {
           "automargin": true,
           "gridcolor": "white",
           "linecolor": "white",
           "ticks": "",
           "title": {
            "standoff": 15
           },
           "zerolinecolor": "white",
           "zerolinewidth": 2
          },
          "yaxis": {
           "automargin": true,
           "gridcolor": "white",
           "linecolor": "white",
           "ticks": "",
           "title": {
            "standoff": 15
           },
           "zerolinecolor": "white",
           "zerolinewidth": 2
          }
         }
        },
        "title": {
         "font": {
          "color": "#4D5663"
         }
        },
        "xaxis": {
         "gridcolor": "#E1E5ED",
         "showgrid": true,
         "tickfont": {
          "color": "#4D5663"
         },
         "title": {
          "font": {
           "color": "#4D5663"
          },
          "text": ""
         },
         "zerolinecolor": "#E1E5ED"
        },
        "yaxis": {
         "gridcolor": "#E1E5ED",
         "showgrid": true,
         "tickfont": {
          "color": "#4D5663"
         },
         "title": {
          "font": {
           "color": "#4D5663"
          },
          "text": ""
         },
         "zerolinecolor": "#E1E5ED"
        }
       }
      },
      "text/html": [
       "<div>\n",
       "        \n",
       "        \n",
       "            <div id=\"a545a2d4-842a-4a4d-8d21-95e8cc1fb505\" class=\"plotly-graph-div\" style=\"height:525px; width:100%;\"></div>\n",
       "            <script type=\"text/javascript\">\n",
       "                require([\"plotly\"], function(Plotly) {\n",
       "                    window.PLOTLYENV=window.PLOTLYENV || {};\n",
       "                    window.PLOTLYENV.BASE_URL='https://plot.ly';\n",
       "                    \n",
       "                if (document.getElementById(\"a545a2d4-842a-4a4d-8d21-95e8cc1fb505\")) {\n",
       "                    Plotly.newPlot(\n",
       "                        'a545a2d4-842a-4a4d-8d21-95e8cc1fb505',\n",
       "                        [{\"marker\": {\"color\": \"rgba(255, 153, 51, 0.6)\", \"line\": {\"color\": \"rgba(255, 153, 51, 1.0)\", \"width\": 1}}, \"name\": \"A\", \"orientation\": \"v\", \"text\": \"\", \"type\": \"bar\", \"x\": [0, 1, 2, 3, 4, 5, 6, 7, 8, 9, 10, 11, 12, 13, 14, 15, 16, 17, 18, 19, 20, 21, 22, 23, 24, 25, 26, 27, 28, 29, 30, 31, 32, 33, 34, 35, 36, 37, 38, 39, 40, 41, 42, 43, 44, 45, 46, 47, 48, 49, 50, 51, 52, 53, 54, 55, 56, 57, 58, 59, 60, 61, 62, 63, 64, 65, 66, 67, 68, 69, 70, 71, 72, 73, 74, 75, 76, 77, 78, 79, 80, 81, 82, 83, 84, 85, 86, 87, 88, 89, 90, 91, 92, 93, 94, 95, 96, 97, 98, 99], \"y\": [0.8565004406896697, 0.616667033466685, 0.9298916478237453, -1.6724634436675336, -0.019950485747430385, -0.32800911299570507, -0.520848431309861, -1.30147296225039, 0.918170020841073, -0.003030796847175438, 1.8515261305902329, -2.4657644444358904, -1.439356632219261, 0.15387753978794932, 0.07641025126858664, 0.05696079491628426, 0.994002604240455, 1.3063555379994916, 0.11680196973249214, -0.06144614746125791, 0.16965506162971544, -1.5592095724925938, 1.7362505416468237, -0.5158156181616896, 0.3112988643540849, 0.6367371116974732, -1.5536536001503518, -1.7685320204209458, -0.5392754585148415, 0.10192996646476966, 0.5568460660823932, 0.4092568775144538, 0.6425257437679849, 0.09284381524121892, 1.7894845246730584, -1.5779423255162153, -1.789479229742878, 0.7609651113838944, -0.6674139141954538, -0.4214512133650312, -0.44539736631937926, 0.5186930794439539, -1.0086390260505254, 0.7345811131541214, -0.8682151792015697, -0.5138030956228592, 2.44506810870039, -0.48872333105082555, 1.3671166266258052, -0.01753294451379828, 0.11685967207261917, 1.0155837704561772, -0.5150792361553516, -0.4189522845684282, -1.671800498378324, 0.00849610436739744, -0.895038429064667, -0.7234219959912285, 0.206272727623923, 0.3226173070103636, -0.4358213189085439, 1.485019297233284, 1.3145577597333455, 1.1418099258834655, 0.3899155275990936, 0.6744845811903896, -1.5421747306588416, 0.10759935916787118, -0.29174756418219683, 0.4816850364526941, 0.06383954088766132, 0.805862380002143, 1.7922318721731754, 0.7711332871154744, 1.5493299640694245, 2.1568955364366897, 1.1670866728363158, 0.7987843837817445, 0.5924788058898702, 0.46868961780136764, 0.041509628887594935, 1.4403527221146417, 0.06159499985984685, -0.37884426150130707, -0.5712864766608926, -0.05456501732571868, -1.374456821319399, -0.29150627018452924, -0.5060841247039243, -0.9116186430932947, -0.03191657470382843, -1.1907703476630989, -0.2240749488357738, 0.9880910702602029, -0.6027601036139539, -0.804412324683554, -0.42504929417141835, 0.23827330110499453, 1.2763718707572826, -0.6127361720543995]}, {\"marker\": {\"color\": \"rgba(55, 128, 191, 0.6)\", \"line\": {\"color\": \"rgba(55, 128, 191, 1.0)\", \"width\": 1}}, \"name\": \"B\", \"orientation\": \"v\", \"text\": \"\", \"type\": \"bar\", \"x\": [0, 1, 2, 3, 4, 5, 6, 7, 8, 9, 10, 11, 12, 13, 14, 15, 16, 17, 18, 19, 20, 21, 22, 23, 24, 25, 26, 27, 28, 29, 30, 31, 32, 33, 34, 35, 36, 37, 38, 39, 40, 41, 42, 43, 44, 45, 46, 47, 48, 49, 50, 51, 52, 53, 54, 55, 56, 57, 58, 59, 60, 61, 62, 63, 64, 65, 66, 67, 68, 69, 70, 71, 72, 73, 74, 75, 76, 77, 78, 79, 80, 81, 82, 83, 84, 85, 86, 87, 88, 89, 90, 91, 92, 93, 94, 95, 96, 97, 98, 99], \"y\": [1.475589520025869, 0.058193690147613136, 0.8858587130605142, -1.0062473781673018, 0.46803675911740583, 1.8876584534559304, 1.0068376194540218, 0.20649832656467781, -0.3831842413954928, 0.8146880661445408, 0.7525580546906689, -0.9499437266514072, -0.5124677266513444, -0.07070799266437955, 0.24842935771077734, -0.47466919918713246, 0.1329640121766927, 0.7101899364369233, -0.8129158041745252, -0.9065188940398232, -0.576101023436274, 0.7211521933563564, 0.4980075228147292, -0.4772199892654312, -0.25876529291204786, 0.02805869936306022, -1.1120841762313531, -0.34773983569211936, 0.5592457342025116, -2.2329856221230426, 1.244429738539221, -0.3558037971356808, -1.7071760167849175, -0.38601241809639797, -1.2101106786862859, 0.39581149532187293, -1.613409089316727, -0.017707675178522137, -0.51674385539429, 0.5508169727530585, -0.7657147803155174, 2.102266470888824, -1.9500668951535425, 0.08582168052356781, -1.2031543487810075, 0.09047246874201739, -1.2046473795482855, 0.057008372010706757, -0.6793292136001533, -0.16868751384288672, 0.013752896177967523, 0.13559208744343473, -0.9630115477948523, 0.7230504579164195, -0.7957538189923294, -0.5367136225824187, -1.0077205412350119, -1.7914055716137376, -1.230050510713824, 0.8679372146419765, 0.016712192818447498, -1.7296404941674273, 0.6279507372489606, 2.2072101493033247, -1.426478309767374, -0.10793231034668634, 0.2825793489947289, -1.980919281504627, 1.355967324544568, -0.7001789060327122, -1.2722359256963178, 0.09299395157163394, 0.9666985831548762, -0.3146817160528018, 0.5624621245870179, -0.4257065060814728, 2.8239069121719327, -0.6597234857277737, 0.045685732120529614, -0.01918897826138856, 0.19400035829565307, 0.331512334519879, -0.14894837996905405, -0.35260660854332354, 0.4922341899645374, 0.512147456731329, 0.06474390398539126, 2.3772022790380962, 0.4500853579083613, -0.6527657639931757, -0.047316453982068685, 0.4678256940750706, -0.5795657304715769, -1.2899242922557217, -0.3685463537980794, 0.25886314902995966, -0.659454095923306, -0.28299923424564427, -1.3644779963994549, -0.07484015266979967]}, {\"marker\": {\"color\": \"rgba(50, 171, 96, 0.6)\", \"line\": {\"color\": \"rgba(50, 171, 96, 1.0)\", \"width\": 1}}, \"name\": \"C\", \"orientation\": \"v\", \"text\": \"\", \"type\": \"bar\", \"x\": [0, 1, 2, 3, 4, 5, 6, 7, 8, 9, 10, 11, 12, 13, 14, 15, 16, 17, 18, 19, 20, 21, 22, 23, 24, 25, 26, 27, 28, 29, 30, 31, 32, 33, 34, 35, 36, 37, 38, 39, 40, 41, 42, 43, 44, 45, 46, 47, 48, 49, 50, 51, 52, 53, 54, 55, 56, 57, 58, 59, 60, 61, 62, 63, 64, 65, 66, 67, 68, 69, 70, 71, 72, 73, 74, 75, 76, 77, 78, 79, 80, 81, 82, 83, 84, 85, 86, 87, 88, 89, 90, 91, 92, 93, 94, 95, 96, 97, 98, 99], \"y\": [0.09536454976164993, -1.979873229425567, -0.8006171220144002, -1.4085439333951777, 0.08547942854432763, -0.008826093278719568, -0.2991548029353947, 0.2576029505630603, 0.8795221488870283, -0.07200754103600952, -0.046151183479252546, 0.3374454762825173, -0.6779825948518686, -0.09763964035505414, 1.599220362888875, 0.17648750653606524, 0.18213753336434174, -0.9245131437491316, 2.050342741577169, -0.11525257001200029, -0.3081347973723833, -0.34588166791003433, -0.33520708347079836, -1.0388186655706726, 0.46110275587050625, -0.5761386680731327, 0.8801801412081522, -0.5334511453174319, 2.179848881496895, 0.8510521398255604, -1.302215746186497, -0.2758653764454315, 0.4229725742656263, -0.6854796038539009, -0.46825269421393273, -0.059917604332156246, 0.27907495323068693, -0.4774644670954662, 0.5112678302701621, -2.653886389514963, 0.5602132803496599, -0.09368145292452275, -0.5108472428829691, -0.0049541575064123555, 0.8263529754001935, -1.0298167166950276, 0.11615194577730661, -0.033485373062486425, -0.5023586159199206, -0.5343264848054067, 1.2563645314112177, -0.670756044789189, 0.04086236619495206, -0.48491239039460976, 0.8368010161808237, -1.4747359948647716, -0.678626261666939, 0.055916347271540726, -0.665548308946417, -0.7349920467327229, 1.1431344385353945, 0.10272624712609245, 2.0337920267866245, -0.25664343368236386, 0.3270272774134318, -0.9161936736943582, 0.6640500241172738, 0.45816299396646826, 1.479109563408102, -1.0801874426617148, 0.8645323939687818, 1.556299817995986, -0.19584520336043118, -0.6074092807738445, -0.7036813686304971, -0.2522157220017819, 1.9265828118823523, -1.5812188150203852, 0.109577170426578, 1.7041087583411898, -1.6958191071790105, -1.6508695078091753, -0.14063194438965274, 0.9241987280821946, 0.8150487836869047, 0.5931459555812096, 1.5264875107240874, 0.9944396469378712, -1.3785578513262233, 0.29406582022837885, -0.3913540100322184, -0.3505245746885777, 0.01771170232228889, -0.42157829849596756, -1.130644127991805, 0.44140298627012853, 0.3749867305185496, -0.2891992005348076, -0.9140427672546457, 0.962493619611387]}, {\"marker\": {\"color\": \"rgba(128, 0, 128, 0.6)\", \"line\": {\"color\": \"rgba(128, 0, 128, 1.0)\", \"width\": 1}}, \"name\": \"D\", \"orientation\": \"v\", \"text\": \"\", \"type\": \"bar\", \"x\": [0, 1, 2, 3, 4, 5, 6, 7, 8, 9, 10, 11, 12, 13, 14, 15, 16, 17, 18, 19, 20, 21, 22, 23, 24, 25, 26, 27, 28, 29, 30, 31, 32, 33, 34, 35, 36, 37, 38, 39, 40, 41, 42, 43, 44, 45, 46, 47, 48, 49, 50, 51, 52, 53, 54, 55, 56, 57, 58, 59, 60, 61, 62, 63, 64, 65, 66, 67, 68, 69, 70, 71, 72, 73, 74, 75, 76, 77, 78, 79, 80, 81, 82, 83, 84, 85, 86, 87, 88, 89, 90, 91, 92, 93, 94, 95, 96, 97, 98, 99], \"y\": [-2.8371083245496616, 0.18726671943935058, -0.635752704507406, 0.31204885311241765, -1.6884623420901927, -2.218046636438145, 0.8005326796231135, 0.2571323568177598, -0.7517794685927304, 0.7141700622967905, -0.7034274370151249, 1.7601916791167034, -0.695062955483073, -0.2605103364893929, -0.46730855079440314, 0.7343327121690637, -0.9815267713197737, 0.08934937710201019, 1.2228982710514336, -0.2558313016025286, 0.08473537705506456, -0.2831432143808916, -0.5078694189178844, 1.3868024785701536, -0.5953077204912341, 1.848884077889904, 1.5390355127582946, 0.028268872843309582, -0.595582478100544, 1.5427013777117144, -0.5267129535115503, -2.2191309716885237, 0.0526380368058972, -1.362504559433225, 0.347626808410747, -0.23159946754631258, -0.4455793612367743, -0.06588596165374287, -1.3878920907572154, -1.008227288385752, 0.5214377993630165, -0.018950103896625235, -0.14910350029198688, -0.5731720468029629, -0.9448239720268437, -0.22647219243858305, 0.23146433215176052, 0.893712658602652, -0.6793475172366461, 1.6732234146359781, 1.3376624235505683, -2.2775249667085014, -0.35725965871140325, -0.4866196631848915, 0.5221645015016327, -2.3512699124364085, -0.5692428042702953, 0.10925410215289443, -0.36194004921095924, 0.6334634171826902, -0.989516778828704, 1.5894450940447842, 1.6504996902903266, 0.08065315455009567, 0.06506507570552242, -0.2945574392855909, 0.5163758035262357, 0.7920140242556639, -1.1531881291574442, -0.45478802547050956, 0.4148567561667146, -1.6225514034438266, -0.05256397906113001, -0.856629342427809, -1.128943548249932, 2.591930395771614, -1.510629341644163, 0.08673476546190459, 0.2710878959149094, -0.38617512562306183, -0.25179677654739074, -0.23088214790287442, -2.2421051954884854, 0.22438491327880083, 0.3358240185176065, -1.9844158775313674, -1.1360740539664844, -0.5211490606702568, 0.0976208293459543, 1.6774681184560594, 1.7459282462631893, -2.0453097398102043, 0.7010203333543181, -0.42683017154972774, -0.5401712869994386, -0.38687846178588225, -0.9066203932855437, 1.0269121046221774, 0.507489187083504, 1.9548992675904575]}],\n",
       "                        {\"legend\": {\"bgcolor\": \"#F5F6F9\", \"font\": {\"color\": \"#4D5663\"}}, \"paper_bgcolor\": \"#F5F6F9\", \"plot_bgcolor\": \"#F5F6F9\", \"template\": {\"data\": {\"bar\": [{\"error_x\": {\"color\": \"#2a3f5f\"}, \"error_y\": {\"color\": \"#2a3f5f\"}, \"marker\": {\"line\": {\"color\": \"#E5ECF6\", \"width\": 0.5}}, \"type\": \"bar\"}], \"barpolar\": [{\"marker\": {\"line\": {\"color\": \"#E5ECF6\", \"width\": 0.5}}, \"type\": \"barpolar\"}], \"carpet\": [{\"aaxis\": {\"endlinecolor\": \"#2a3f5f\", \"gridcolor\": \"white\", \"linecolor\": \"white\", \"minorgridcolor\": \"white\", \"startlinecolor\": \"#2a3f5f\"}, \"baxis\": {\"endlinecolor\": \"#2a3f5f\", \"gridcolor\": \"white\", \"linecolor\": \"white\", \"minorgridcolor\": \"white\", \"startlinecolor\": \"#2a3f5f\"}, \"type\": \"carpet\"}], \"choropleth\": [{\"colorbar\": {\"outlinewidth\": 0, \"ticks\": \"\"}, \"type\": \"choropleth\"}], \"contour\": [{\"colorbar\": {\"outlinewidth\": 0, \"ticks\": \"\"}, \"colorscale\": [[0.0, \"#0d0887\"], [0.1111111111111111, \"#46039f\"], [0.2222222222222222, \"#7201a8\"], [0.3333333333333333, \"#9c179e\"], [0.4444444444444444, \"#bd3786\"], [0.5555555555555556, \"#d8576b\"], [0.6666666666666666, \"#ed7953\"], [0.7777777777777778, \"#fb9f3a\"], [0.8888888888888888, \"#fdca26\"], [1.0, \"#f0f921\"]], \"type\": \"contour\"}], \"contourcarpet\": [{\"colorbar\": {\"outlinewidth\": 0, \"ticks\": \"\"}, \"type\": \"contourcarpet\"}], \"heatmap\": [{\"colorbar\": {\"outlinewidth\": 0, \"ticks\": \"\"}, \"colorscale\": [[0.0, \"#0d0887\"], [0.1111111111111111, \"#46039f\"], [0.2222222222222222, \"#7201a8\"], [0.3333333333333333, \"#9c179e\"], [0.4444444444444444, \"#bd3786\"], [0.5555555555555556, \"#d8576b\"], [0.6666666666666666, \"#ed7953\"], [0.7777777777777778, \"#fb9f3a\"], [0.8888888888888888, \"#fdca26\"], [1.0, \"#f0f921\"]], \"type\": \"heatmap\"}], \"heatmapgl\": [{\"colorbar\": {\"outlinewidth\": 0, \"ticks\": \"\"}, \"colorscale\": [[0.0, \"#0d0887\"], [0.1111111111111111, \"#46039f\"], [0.2222222222222222, \"#7201a8\"], [0.3333333333333333, \"#9c179e\"], [0.4444444444444444, \"#bd3786\"], [0.5555555555555556, \"#d8576b\"], [0.6666666666666666, \"#ed7953\"], [0.7777777777777778, \"#fb9f3a\"], [0.8888888888888888, \"#fdca26\"], [1.0, \"#f0f921\"]], \"type\": \"heatmapgl\"}], \"histogram\": [{\"marker\": {\"colorbar\": {\"outlinewidth\": 0, \"ticks\": \"\"}}, \"type\": \"histogram\"}], \"histogram2d\": [{\"colorbar\": {\"outlinewidth\": 0, \"ticks\": \"\"}, \"colorscale\": [[0.0, \"#0d0887\"], [0.1111111111111111, \"#46039f\"], [0.2222222222222222, \"#7201a8\"], [0.3333333333333333, \"#9c179e\"], [0.4444444444444444, \"#bd3786\"], [0.5555555555555556, \"#d8576b\"], [0.6666666666666666, \"#ed7953\"], [0.7777777777777778, \"#fb9f3a\"], [0.8888888888888888, \"#fdca26\"], [1.0, \"#f0f921\"]], \"type\": \"histogram2d\"}], \"histogram2dcontour\": [{\"colorbar\": {\"outlinewidth\": 0, \"ticks\": \"\"}, \"colorscale\": [[0.0, \"#0d0887\"], [0.1111111111111111, \"#46039f\"], [0.2222222222222222, \"#7201a8\"], [0.3333333333333333, \"#9c179e\"], [0.4444444444444444, \"#bd3786\"], [0.5555555555555556, \"#d8576b\"], [0.6666666666666666, \"#ed7953\"], [0.7777777777777778, \"#fb9f3a\"], [0.8888888888888888, \"#fdca26\"], [1.0, \"#f0f921\"]], \"type\": \"histogram2dcontour\"}], \"mesh3d\": [{\"colorbar\": {\"outlinewidth\": 0, \"ticks\": \"\"}, \"type\": \"mesh3d\"}], \"parcoords\": [{\"line\": {\"colorbar\": {\"outlinewidth\": 0, \"ticks\": \"\"}}, \"type\": \"parcoords\"}], \"pie\": [{\"automargin\": true, \"type\": \"pie\"}], \"scatter\": [{\"marker\": {\"colorbar\": {\"outlinewidth\": 0, \"ticks\": \"\"}}, \"type\": \"scatter\"}], \"scatter3d\": [{\"line\": {\"colorbar\": {\"outlinewidth\": 0, \"ticks\": \"\"}}, \"marker\": {\"colorbar\": {\"outlinewidth\": 0, \"ticks\": \"\"}}, \"type\": \"scatter3d\"}], \"scattercarpet\": [{\"marker\": {\"colorbar\": {\"outlinewidth\": 0, \"ticks\": \"\"}}, \"type\": \"scattercarpet\"}], \"scattergeo\": [{\"marker\": {\"colorbar\": {\"outlinewidth\": 0, \"ticks\": \"\"}}, \"type\": \"scattergeo\"}], \"scattergl\": [{\"marker\": {\"colorbar\": {\"outlinewidth\": 0, \"ticks\": \"\"}}, \"type\": \"scattergl\"}], \"scattermapbox\": [{\"marker\": {\"colorbar\": {\"outlinewidth\": 0, \"ticks\": \"\"}}, \"type\": \"scattermapbox\"}], \"scatterpolar\": [{\"marker\": {\"colorbar\": {\"outlinewidth\": 0, \"ticks\": \"\"}}, \"type\": \"scatterpolar\"}], \"scatterpolargl\": [{\"marker\": {\"colorbar\": {\"outlinewidth\": 0, \"ticks\": \"\"}}, \"type\": \"scatterpolargl\"}], \"scatterternary\": [{\"marker\": {\"colorbar\": {\"outlinewidth\": 0, \"ticks\": \"\"}}, \"type\": \"scatterternary\"}], \"surface\": [{\"colorbar\": {\"outlinewidth\": 0, \"ticks\": \"\"}, \"colorscale\": [[0.0, \"#0d0887\"], [0.1111111111111111, \"#46039f\"], [0.2222222222222222, \"#7201a8\"], [0.3333333333333333, \"#9c179e\"], [0.4444444444444444, \"#bd3786\"], [0.5555555555555556, \"#d8576b\"], [0.6666666666666666, \"#ed7953\"], [0.7777777777777778, \"#fb9f3a\"], [0.8888888888888888, \"#fdca26\"], [1.0, \"#f0f921\"]], \"type\": \"surface\"}], \"table\": [{\"cells\": {\"fill\": {\"color\": \"#EBF0F8\"}, \"line\": {\"color\": \"white\"}}, \"header\": {\"fill\": {\"color\": \"#C8D4E3\"}, \"line\": {\"color\": \"white\"}}, \"type\": \"table\"}]}, \"layout\": {\"annotationdefaults\": {\"arrowcolor\": \"#2a3f5f\", \"arrowhead\": 0, \"arrowwidth\": 1}, \"coloraxis\": {\"colorbar\": {\"outlinewidth\": 0, \"ticks\": \"\"}}, \"colorscale\": {\"diverging\": [[0, \"#8e0152\"], [0.1, \"#c51b7d\"], [0.2, \"#de77ae\"], [0.3, \"#f1b6da\"], [0.4, \"#fde0ef\"], [0.5, \"#f7f7f7\"], [0.6, \"#e6f5d0\"], [0.7, \"#b8e186\"], [0.8, \"#7fbc41\"], [0.9, \"#4d9221\"], [1, \"#276419\"]], \"sequential\": [[0.0, \"#0d0887\"], [0.1111111111111111, \"#46039f\"], [0.2222222222222222, \"#7201a8\"], [0.3333333333333333, \"#9c179e\"], [0.4444444444444444, \"#bd3786\"], [0.5555555555555556, \"#d8576b\"], [0.6666666666666666, \"#ed7953\"], [0.7777777777777778, \"#fb9f3a\"], [0.8888888888888888, \"#fdca26\"], [1.0, \"#f0f921\"]], \"sequentialminus\": [[0.0, \"#0d0887\"], [0.1111111111111111, \"#46039f\"], [0.2222222222222222, \"#7201a8\"], [0.3333333333333333, \"#9c179e\"], [0.4444444444444444, \"#bd3786\"], [0.5555555555555556, \"#d8576b\"], [0.6666666666666666, \"#ed7953\"], [0.7777777777777778, \"#fb9f3a\"], [0.8888888888888888, \"#fdca26\"], [1.0, \"#f0f921\"]]}, \"colorway\": [\"#636efa\", \"#EF553B\", \"#00cc96\", \"#ab63fa\", \"#FFA15A\", \"#19d3f3\", \"#FF6692\", \"#B6E880\", \"#FF97FF\", \"#FECB52\"], \"font\": {\"color\": \"#2a3f5f\"}, \"geo\": {\"bgcolor\": \"white\", \"lakecolor\": \"white\", \"landcolor\": \"#E5ECF6\", \"showlakes\": true, \"showland\": true, \"subunitcolor\": \"white\"}, \"hoverlabel\": {\"align\": \"left\"}, \"hovermode\": \"closest\", \"mapbox\": {\"style\": \"light\"}, \"paper_bgcolor\": \"white\", \"plot_bgcolor\": \"#E5ECF6\", \"polar\": {\"angularaxis\": {\"gridcolor\": \"white\", \"linecolor\": \"white\", \"ticks\": \"\"}, \"bgcolor\": \"#E5ECF6\", \"radialaxis\": {\"gridcolor\": \"white\", \"linecolor\": \"white\", \"ticks\": \"\"}}, \"scene\": {\"xaxis\": {\"backgroundcolor\": \"#E5ECF6\", \"gridcolor\": \"white\", \"gridwidth\": 2, \"linecolor\": \"white\", \"showbackground\": true, \"ticks\": \"\", \"zerolinecolor\": \"white\"}, \"yaxis\": {\"backgroundcolor\": \"#E5ECF6\", \"gridcolor\": \"white\", \"gridwidth\": 2, \"linecolor\": \"white\", \"showbackground\": true, \"ticks\": \"\", \"zerolinecolor\": \"white\"}, \"zaxis\": {\"backgroundcolor\": \"#E5ECF6\", \"gridcolor\": \"white\", \"gridwidth\": 2, \"linecolor\": \"white\", \"showbackground\": true, \"ticks\": \"\", \"zerolinecolor\": \"white\"}}, \"shapedefaults\": {\"line\": {\"color\": \"#2a3f5f\"}}, \"ternary\": {\"aaxis\": {\"gridcolor\": \"white\", \"linecolor\": \"white\", \"ticks\": \"\"}, \"baxis\": {\"gridcolor\": \"white\", \"linecolor\": \"white\", \"ticks\": \"\"}, \"bgcolor\": \"#E5ECF6\", \"caxis\": {\"gridcolor\": \"white\", \"linecolor\": \"white\", \"ticks\": \"\"}}, \"title\": {\"x\": 0.05}, \"xaxis\": {\"automargin\": true, \"gridcolor\": \"white\", \"linecolor\": \"white\", \"ticks\": \"\", \"title\": {\"standoff\": 15}, \"zerolinecolor\": \"white\", \"zerolinewidth\": 2}, \"yaxis\": {\"automargin\": true, \"gridcolor\": \"white\", \"linecolor\": \"white\", \"ticks\": \"\", \"title\": {\"standoff\": 15}, \"zerolinecolor\": \"white\", \"zerolinewidth\": 2}}}, \"title\": {\"font\": {\"color\": \"#4D5663\"}}, \"xaxis\": {\"gridcolor\": \"#E1E5ED\", \"showgrid\": true, \"tickfont\": {\"color\": \"#4D5663\"}, \"title\": {\"font\": {\"color\": \"#4D5663\"}, \"text\": \"\"}, \"zerolinecolor\": \"#E1E5ED\"}, \"yaxis\": {\"gridcolor\": \"#E1E5ED\", \"showgrid\": true, \"tickfont\": {\"color\": \"#4D5663\"}, \"title\": {\"font\": {\"color\": \"#4D5663\"}, \"text\": \"\"}, \"zerolinecolor\": \"#E1E5ED\"}},\n",
       "                        {\"showLink\": true, \"linkText\": \"Export to plot.ly\", \"plotlyServerURL\": \"https://plot.ly\", \"responsive\": true}\n",
       "                    ).then(function(){\n",
       "                            \n",
       "var gd = document.getElementById('a545a2d4-842a-4a4d-8d21-95e8cc1fb505');\n",
       "var x = new MutationObserver(function (mutations, observer) {{\n",
       "        var display = window.getComputedStyle(gd).display;\n",
       "        if (!display || display === 'none') {{\n",
       "            console.log([gd, 'removed!']);\n",
       "            Plotly.purge(gd);\n",
       "            observer.disconnect();\n",
       "        }}\n",
       "}});\n",
       "\n",
       "// Listen for the removal of the full notebook cells\n",
       "var notebookContainer = gd.closest('#notebook-container');\n",
       "if (notebookContainer) {{\n",
       "    x.observe(notebookContainer, {childList: true});\n",
       "}}\n",
       "\n",
       "// Listen for the clearing of the current output cell\n",
       "var outputEl = gd.closest('.output');\n",
       "if (outputEl) {{\n",
       "    x.observe(outputEl, {childList: true});\n",
       "}}\n",
       "\n",
       "                        })\n",
       "                };\n",
       "                });\n",
       "            </script>\n",
       "        </div>"
      ]
     },
     "metadata": {},
     "output_type": "display_data"
    }
   ],
   "source": [
    "df.iplot(kind='bar')"
   ]
  },
  {
   "cell_type": "markdown",
   "metadata": {},
   "source": [
    "- So I will need to perform some form of aggregate function\n",
    "- such as count, sum etc"
   ]
  },
  {
   "cell_type": "code",
   "execution_count": 49,
   "metadata": {},
   "outputs": [
    {
     "data": {
      "application/vnd.plotly.v1+json": {
       "config": {
        "linkText": "Export to plot.ly",
        "plotlyServerURL": "https://plot.ly",
        "showLink": true
       },
       "data": [
        {
         "marker": {
          "color": "rgba(255, 153, 51, 0.6)",
          "line": {
           "color": "rgba(255, 153, 51, 1.0)",
           "width": 1
          }
         },
         "name": "None",
         "orientation": "v",
         "text": "",
         "type": "bar",
         "x": [
          "A",
          "B",
          "C",
          "D"
         ],
         "y": [
          100,
          100,
          100,
          100
         ]
        }
       ],
       "layout": {
        "legend": {
         "bgcolor": "#F5F6F9",
         "font": {
          "color": "#4D5663"
         }
        },
        "paper_bgcolor": "#F5F6F9",
        "plot_bgcolor": "#F5F6F9",
        "template": {
         "data": {
          "bar": [
           {
            "error_x": {
             "color": "#2a3f5f"
            },
            "error_y": {
             "color": "#2a3f5f"
            },
            "marker": {
             "line": {
              "color": "#E5ECF6",
              "width": 0.5
             }
            },
            "type": "bar"
           }
          ],
          "barpolar": [
           {
            "marker": {
             "line": {
              "color": "#E5ECF6",
              "width": 0.5
             }
            },
            "type": "barpolar"
           }
          ],
          "carpet": [
           {
            "aaxis": {
             "endlinecolor": "#2a3f5f",
             "gridcolor": "white",
             "linecolor": "white",
             "minorgridcolor": "white",
             "startlinecolor": "#2a3f5f"
            },
            "baxis": {
             "endlinecolor": "#2a3f5f",
             "gridcolor": "white",
             "linecolor": "white",
             "minorgridcolor": "white",
             "startlinecolor": "#2a3f5f"
            },
            "type": "carpet"
           }
          ],
          "choropleth": [
           {
            "colorbar": {
             "outlinewidth": 0,
             "ticks": ""
            },
            "type": "choropleth"
           }
          ],
          "contour": [
           {
            "colorbar": {
             "outlinewidth": 0,
             "ticks": ""
            },
            "colorscale": [
             [
              0,
              "#0d0887"
             ],
             [
              0.1111111111111111,
              "#46039f"
             ],
             [
              0.2222222222222222,
              "#7201a8"
             ],
             [
              0.3333333333333333,
              "#9c179e"
             ],
             [
              0.4444444444444444,
              "#bd3786"
             ],
             [
              0.5555555555555556,
              "#d8576b"
             ],
             [
              0.6666666666666666,
              "#ed7953"
             ],
             [
              0.7777777777777778,
              "#fb9f3a"
             ],
             [
              0.8888888888888888,
              "#fdca26"
             ],
             [
              1,
              "#f0f921"
             ]
            ],
            "type": "contour"
           }
          ],
          "contourcarpet": [
           {
            "colorbar": {
             "outlinewidth": 0,
             "ticks": ""
            },
            "type": "contourcarpet"
           }
          ],
          "heatmap": [
           {
            "colorbar": {
             "outlinewidth": 0,
             "ticks": ""
            },
            "colorscale": [
             [
              0,
              "#0d0887"
             ],
             [
              0.1111111111111111,
              "#46039f"
             ],
             [
              0.2222222222222222,
              "#7201a8"
             ],
             [
              0.3333333333333333,
              "#9c179e"
             ],
             [
              0.4444444444444444,
              "#bd3786"
             ],
             [
              0.5555555555555556,
              "#d8576b"
             ],
             [
              0.6666666666666666,
              "#ed7953"
             ],
             [
              0.7777777777777778,
              "#fb9f3a"
             ],
             [
              0.8888888888888888,
              "#fdca26"
             ],
             [
              1,
              "#f0f921"
             ]
            ],
            "type": "heatmap"
           }
          ],
          "heatmapgl": [
           {
            "colorbar": {
             "outlinewidth": 0,
             "ticks": ""
            },
            "colorscale": [
             [
              0,
              "#0d0887"
             ],
             [
              0.1111111111111111,
              "#46039f"
             ],
             [
              0.2222222222222222,
              "#7201a8"
             ],
             [
              0.3333333333333333,
              "#9c179e"
             ],
             [
              0.4444444444444444,
              "#bd3786"
             ],
             [
              0.5555555555555556,
              "#d8576b"
             ],
             [
              0.6666666666666666,
              "#ed7953"
             ],
             [
              0.7777777777777778,
              "#fb9f3a"
             ],
             [
              0.8888888888888888,
              "#fdca26"
             ],
             [
              1,
              "#f0f921"
             ]
            ],
            "type": "heatmapgl"
           }
          ],
          "histogram": [
           {
            "marker": {
             "colorbar": {
              "outlinewidth": 0,
              "ticks": ""
             }
            },
            "type": "histogram"
           }
          ],
          "histogram2d": [
           {
            "colorbar": {
             "outlinewidth": 0,
             "ticks": ""
            },
            "colorscale": [
             [
              0,
              "#0d0887"
             ],
             [
              0.1111111111111111,
              "#46039f"
             ],
             [
              0.2222222222222222,
              "#7201a8"
             ],
             [
              0.3333333333333333,
              "#9c179e"
             ],
             [
              0.4444444444444444,
              "#bd3786"
             ],
             [
              0.5555555555555556,
              "#d8576b"
             ],
             [
              0.6666666666666666,
              "#ed7953"
             ],
             [
              0.7777777777777778,
              "#fb9f3a"
             ],
             [
              0.8888888888888888,
              "#fdca26"
             ],
             [
              1,
              "#f0f921"
             ]
            ],
            "type": "histogram2d"
           }
          ],
          "histogram2dcontour": [
           {
            "colorbar": {
             "outlinewidth": 0,
             "ticks": ""
            },
            "colorscale": [
             [
              0,
              "#0d0887"
             ],
             [
              0.1111111111111111,
              "#46039f"
             ],
             [
              0.2222222222222222,
              "#7201a8"
             ],
             [
              0.3333333333333333,
              "#9c179e"
             ],
             [
              0.4444444444444444,
              "#bd3786"
             ],
             [
              0.5555555555555556,
              "#d8576b"
             ],
             [
              0.6666666666666666,
              "#ed7953"
             ],
             [
              0.7777777777777778,
              "#fb9f3a"
             ],
             [
              0.8888888888888888,
              "#fdca26"
             ],
             [
              1,
              "#f0f921"
             ]
            ],
            "type": "histogram2dcontour"
           }
          ],
          "mesh3d": [
           {
            "colorbar": {
             "outlinewidth": 0,
             "ticks": ""
            },
            "type": "mesh3d"
           }
          ],
          "parcoords": [
           {
            "line": {
             "colorbar": {
              "outlinewidth": 0,
              "ticks": ""
             }
            },
            "type": "parcoords"
           }
          ],
          "pie": [
           {
            "automargin": true,
            "type": "pie"
           }
          ],
          "scatter": [
           {
            "marker": {
             "colorbar": {
              "outlinewidth": 0,
              "ticks": ""
             }
            },
            "type": "scatter"
           }
          ],
          "scatter3d": [
           {
            "line": {
             "colorbar": {
              "outlinewidth": 0,
              "ticks": ""
             }
            },
            "marker": {
             "colorbar": {
              "outlinewidth": 0,
              "ticks": ""
             }
            },
            "type": "scatter3d"
           }
          ],
          "scattercarpet": [
           {
            "marker": {
             "colorbar": {
              "outlinewidth": 0,
              "ticks": ""
             }
            },
            "type": "scattercarpet"
           }
          ],
          "scattergeo": [
           {
            "marker": {
             "colorbar": {
              "outlinewidth": 0,
              "ticks": ""
             }
            },
            "type": "scattergeo"
           }
          ],
          "scattergl": [
           {
            "marker": {
             "colorbar": {
              "outlinewidth": 0,
              "ticks": ""
             }
            },
            "type": "scattergl"
           }
          ],
          "scattermapbox": [
           {
            "marker": {
             "colorbar": {
              "outlinewidth": 0,
              "ticks": ""
             }
            },
            "type": "scattermapbox"
           }
          ],
          "scatterpolar": [
           {
            "marker": {
             "colorbar": {
              "outlinewidth": 0,
              "ticks": ""
             }
            },
            "type": "scatterpolar"
           }
          ],
          "scatterpolargl": [
           {
            "marker": {
             "colorbar": {
              "outlinewidth": 0,
              "ticks": ""
             }
            },
            "type": "scatterpolargl"
           }
          ],
          "scatterternary": [
           {
            "marker": {
             "colorbar": {
              "outlinewidth": 0,
              "ticks": ""
             }
            },
            "type": "scatterternary"
           }
          ],
          "surface": [
           {
            "colorbar": {
             "outlinewidth": 0,
             "ticks": ""
            },
            "colorscale": [
             [
              0,
              "#0d0887"
             ],
             [
              0.1111111111111111,
              "#46039f"
             ],
             [
              0.2222222222222222,
              "#7201a8"
             ],
             [
              0.3333333333333333,
              "#9c179e"
             ],
             [
              0.4444444444444444,
              "#bd3786"
             ],
             [
              0.5555555555555556,
              "#d8576b"
             ],
             [
              0.6666666666666666,
              "#ed7953"
             ],
             [
              0.7777777777777778,
              "#fb9f3a"
             ],
             [
              0.8888888888888888,
              "#fdca26"
             ],
             [
              1,
              "#f0f921"
             ]
            ],
            "type": "surface"
           }
          ],
          "table": [
           {
            "cells": {
             "fill": {
              "color": "#EBF0F8"
             },
             "line": {
              "color": "white"
             }
            },
            "header": {
             "fill": {
              "color": "#C8D4E3"
             },
             "line": {
              "color": "white"
             }
            },
            "type": "table"
           }
          ]
         },
         "layout": {
          "annotationdefaults": {
           "arrowcolor": "#2a3f5f",
           "arrowhead": 0,
           "arrowwidth": 1
          },
          "coloraxis": {
           "colorbar": {
            "outlinewidth": 0,
            "ticks": ""
           }
          },
          "colorscale": {
           "diverging": [
            [
             0,
             "#8e0152"
            ],
            [
             0.1,
             "#c51b7d"
            ],
            [
             0.2,
             "#de77ae"
            ],
            [
             0.3,
             "#f1b6da"
            ],
            [
             0.4,
             "#fde0ef"
            ],
            [
             0.5,
             "#f7f7f7"
            ],
            [
             0.6,
             "#e6f5d0"
            ],
            [
             0.7,
             "#b8e186"
            ],
            [
             0.8,
             "#7fbc41"
            ],
            [
             0.9,
             "#4d9221"
            ],
            [
             1,
             "#276419"
            ]
           ],
           "sequential": [
            [
             0,
             "#0d0887"
            ],
            [
             0.1111111111111111,
             "#46039f"
            ],
            [
             0.2222222222222222,
             "#7201a8"
            ],
            [
             0.3333333333333333,
             "#9c179e"
            ],
            [
             0.4444444444444444,
             "#bd3786"
            ],
            [
             0.5555555555555556,
             "#d8576b"
            ],
            [
             0.6666666666666666,
             "#ed7953"
            ],
            [
             0.7777777777777778,
             "#fb9f3a"
            ],
            [
             0.8888888888888888,
             "#fdca26"
            ],
            [
             1,
             "#f0f921"
            ]
           ],
           "sequentialminus": [
            [
             0,
             "#0d0887"
            ],
            [
             0.1111111111111111,
             "#46039f"
            ],
            [
             0.2222222222222222,
             "#7201a8"
            ],
            [
             0.3333333333333333,
             "#9c179e"
            ],
            [
             0.4444444444444444,
             "#bd3786"
            ],
            [
             0.5555555555555556,
             "#d8576b"
            ],
            [
             0.6666666666666666,
             "#ed7953"
            ],
            [
             0.7777777777777778,
             "#fb9f3a"
            ],
            [
             0.8888888888888888,
             "#fdca26"
            ],
            [
             1,
             "#f0f921"
            ]
           ]
          },
          "colorway": [
           "#636efa",
           "#EF553B",
           "#00cc96",
           "#ab63fa",
           "#FFA15A",
           "#19d3f3",
           "#FF6692",
           "#B6E880",
           "#FF97FF",
           "#FECB52"
          ],
          "font": {
           "color": "#2a3f5f"
          },
          "geo": {
           "bgcolor": "white",
           "lakecolor": "white",
           "landcolor": "#E5ECF6",
           "showlakes": true,
           "showland": true,
           "subunitcolor": "white"
          },
          "hoverlabel": {
           "align": "left"
          },
          "hovermode": "closest",
          "mapbox": {
           "style": "light"
          },
          "paper_bgcolor": "white",
          "plot_bgcolor": "#E5ECF6",
          "polar": {
           "angularaxis": {
            "gridcolor": "white",
            "linecolor": "white",
            "ticks": ""
           },
           "bgcolor": "#E5ECF6",
           "radialaxis": {
            "gridcolor": "white",
            "linecolor": "white",
            "ticks": ""
           }
          },
          "scene": {
           "xaxis": {
            "backgroundcolor": "#E5ECF6",
            "gridcolor": "white",
            "gridwidth": 2,
            "linecolor": "white",
            "showbackground": true,
            "ticks": "",
            "zerolinecolor": "white"
           },
           "yaxis": {
            "backgroundcolor": "#E5ECF6",
            "gridcolor": "white",
            "gridwidth": 2,
            "linecolor": "white",
            "showbackground": true,
            "ticks": "",
            "zerolinecolor": "white"
           },
           "zaxis": {
            "backgroundcolor": "#E5ECF6",
            "gridcolor": "white",
            "gridwidth": 2,
            "linecolor": "white",
            "showbackground": true,
            "ticks": "",
            "zerolinecolor": "white"
           }
          },
          "shapedefaults": {
           "line": {
            "color": "#2a3f5f"
           }
          },
          "ternary": {
           "aaxis": {
            "gridcolor": "white",
            "linecolor": "white",
            "ticks": ""
           },
           "baxis": {
            "gridcolor": "white",
            "linecolor": "white",
            "ticks": ""
           },
           "bgcolor": "#E5ECF6",
           "caxis": {
            "gridcolor": "white",
            "linecolor": "white",
            "ticks": ""
           }
          },
          "title": {
           "x": 0.05
          },
          "xaxis": {
           "automargin": true,
           "gridcolor": "white",
           "linecolor": "white",
           "ticks": "",
           "title": {
            "standoff": 15
           },
           "zerolinecolor": "white",
           "zerolinewidth": 2
          },
          "yaxis": {
           "automargin": true,
           "gridcolor": "white",
           "linecolor": "white",
           "ticks": "",
           "title": {
            "standoff": 15
           },
           "zerolinecolor": "white",
           "zerolinewidth": 2
          }
         }
        },
        "title": {
         "font": {
          "color": "#4D5663"
         }
        },
        "xaxis": {
         "gridcolor": "#E1E5ED",
         "showgrid": true,
         "tickfont": {
          "color": "#4D5663"
         },
         "title": {
          "font": {
           "color": "#4D5663"
          },
          "text": ""
         },
         "zerolinecolor": "#E1E5ED"
        },
        "yaxis": {
         "gridcolor": "#E1E5ED",
         "showgrid": true,
         "tickfont": {
          "color": "#4D5663"
         },
         "title": {
          "font": {
           "color": "#4D5663"
          },
          "text": ""
         },
         "zerolinecolor": "#E1E5ED"
        }
       }
      },
      "text/html": [
       "<div>\n",
       "        \n",
       "        \n",
       "            <div id=\"cd171ea7-8985-45fa-8e03-43ef0343a09a\" class=\"plotly-graph-div\" style=\"height:525px; width:100%;\"></div>\n",
       "            <script type=\"text/javascript\">\n",
       "                require([\"plotly\"], function(Plotly) {\n",
       "                    window.PLOTLYENV=window.PLOTLYENV || {};\n",
       "                    window.PLOTLYENV.BASE_URL='https://plot.ly';\n",
       "                    \n",
       "                if (document.getElementById(\"cd171ea7-8985-45fa-8e03-43ef0343a09a\")) {\n",
       "                    Plotly.newPlot(\n",
       "                        'cd171ea7-8985-45fa-8e03-43ef0343a09a',\n",
       "                        [{\"marker\": {\"color\": \"rgba(255, 153, 51, 0.6)\", \"line\": {\"color\": \"rgba(255, 153, 51, 1.0)\", \"width\": 1}}, \"name\": \"None\", \"orientation\": \"v\", \"text\": \"\", \"type\": \"bar\", \"x\": [\"A\", \"B\", \"C\", \"D\"], \"y\": [100, 100, 100, 100]}],\n",
       "                        {\"legend\": {\"bgcolor\": \"#F5F6F9\", \"font\": {\"color\": \"#4D5663\"}}, \"paper_bgcolor\": \"#F5F6F9\", \"plot_bgcolor\": \"#F5F6F9\", \"template\": {\"data\": {\"bar\": [{\"error_x\": {\"color\": \"#2a3f5f\"}, \"error_y\": {\"color\": \"#2a3f5f\"}, \"marker\": {\"line\": {\"color\": \"#E5ECF6\", \"width\": 0.5}}, \"type\": \"bar\"}], \"barpolar\": [{\"marker\": {\"line\": {\"color\": \"#E5ECF6\", \"width\": 0.5}}, \"type\": \"barpolar\"}], \"carpet\": [{\"aaxis\": {\"endlinecolor\": \"#2a3f5f\", \"gridcolor\": \"white\", \"linecolor\": \"white\", \"minorgridcolor\": \"white\", \"startlinecolor\": \"#2a3f5f\"}, \"baxis\": {\"endlinecolor\": \"#2a3f5f\", \"gridcolor\": \"white\", \"linecolor\": \"white\", \"minorgridcolor\": \"white\", \"startlinecolor\": \"#2a3f5f\"}, \"type\": \"carpet\"}], \"choropleth\": [{\"colorbar\": {\"outlinewidth\": 0, \"ticks\": \"\"}, \"type\": \"choropleth\"}], \"contour\": [{\"colorbar\": {\"outlinewidth\": 0, \"ticks\": \"\"}, \"colorscale\": [[0.0, \"#0d0887\"], [0.1111111111111111, \"#46039f\"], [0.2222222222222222, \"#7201a8\"], [0.3333333333333333, \"#9c179e\"], [0.4444444444444444, \"#bd3786\"], [0.5555555555555556, \"#d8576b\"], [0.6666666666666666, \"#ed7953\"], [0.7777777777777778, \"#fb9f3a\"], [0.8888888888888888, \"#fdca26\"], [1.0, \"#f0f921\"]], \"type\": \"contour\"}], \"contourcarpet\": [{\"colorbar\": {\"outlinewidth\": 0, \"ticks\": \"\"}, \"type\": \"contourcarpet\"}], \"heatmap\": [{\"colorbar\": {\"outlinewidth\": 0, \"ticks\": \"\"}, \"colorscale\": [[0.0, \"#0d0887\"], [0.1111111111111111, \"#46039f\"], [0.2222222222222222, \"#7201a8\"], [0.3333333333333333, \"#9c179e\"], [0.4444444444444444, \"#bd3786\"], [0.5555555555555556, \"#d8576b\"], [0.6666666666666666, \"#ed7953\"], [0.7777777777777778, \"#fb9f3a\"], [0.8888888888888888, \"#fdca26\"], [1.0, \"#f0f921\"]], \"type\": \"heatmap\"}], \"heatmapgl\": [{\"colorbar\": {\"outlinewidth\": 0, \"ticks\": \"\"}, \"colorscale\": [[0.0, \"#0d0887\"], [0.1111111111111111, \"#46039f\"], [0.2222222222222222, \"#7201a8\"], [0.3333333333333333, \"#9c179e\"], [0.4444444444444444, \"#bd3786\"], [0.5555555555555556, \"#d8576b\"], [0.6666666666666666, \"#ed7953\"], [0.7777777777777778, \"#fb9f3a\"], [0.8888888888888888, \"#fdca26\"], [1.0, \"#f0f921\"]], \"type\": \"heatmapgl\"}], \"histogram\": [{\"marker\": {\"colorbar\": {\"outlinewidth\": 0, \"ticks\": \"\"}}, \"type\": \"histogram\"}], \"histogram2d\": [{\"colorbar\": {\"outlinewidth\": 0, \"ticks\": \"\"}, \"colorscale\": [[0.0, \"#0d0887\"], [0.1111111111111111, \"#46039f\"], [0.2222222222222222, \"#7201a8\"], [0.3333333333333333, \"#9c179e\"], [0.4444444444444444, \"#bd3786\"], [0.5555555555555556, \"#d8576b\"], [0.6666666666666666, \"#ed7953\"], [0.7777777777777778, \"#fb9f3a\"], [0.8888888888888888, \"#fdca26\"], [1.0, \"#f0f921\"]], \"type\": \"histogram2d\"}], \"histogram2dcontour\": [{\"colorbar\": {\"outlinewidth\": 0, \"ticks\": \"\"}, \"colorscale\": [[0.0, \"#0d0887\"], [0.1111111111111111, \"#46039f\"], [0.2222222222222222, \"#7201a8\"], [0.3333333333333333, \"#9c179e\"], [0.4444444444444444, \"#bd3786\"], [0.5555555555555556, \"#d8576b\"], [0.6666666666666666, \"#ed7953\"], [0.7777777777777778, \"#fb9f3a\"], [0.8888888888888888, \"#fdca26\"], [1.0, \"#f0f921\"]], \"type\": \"histogram2dcontour\"}], \"mesh3d\": [{\"colorbar\": {\"outlinewidth\": 0, \"ticks\": \"\"}, \"type\": \"mesh3d\"}], \"parcoords\": [{\"line\": {\"colorbar\": {\"outlinewidth\": 0, \"ticks\": \"\"}}, \"type\": \"parcoords\"}], \"pie\": [{\"automargin\": true, \"type\": \"pie\"}], \"scatter\": [{\"marker\": {\"colorbar\": {\"outlinewidth\": 0, \"ticks\": \"\"}}, \"type\": \"scatter\"}], \"scatter3d\": [{\"line\": {\"colorbar\": {\"outlinewidth\": 0, \"ticks\": \"\"}}, \"marker\": {\"colorbar\": {\"outlinewidth\": 0, \"ticks\": \"\"}}, \"type\": \"scatter3d\"}], \"scattercarpet\": [{\"marker\": {\"colorbar\": {\"outlinewidth\": 0, \"ticks\": \"\"}}, \"type\": \"scattercarpet\"}], \"scattergeo\": [{\"marker\": {\"colorbar\": {\"outlinewidth\": 0, \"ticks\": \"\"}}, \"type\": \"scattergeo\"}], \"scattergl\": [{\"marker\": {\"colorbar\": {\"outlinewidth\": 0, \"ticks\": \"\"}}, \"type\": \"scattergl\"}], \"scattermapbox\": [{\"marker\": {\"colorbar\": {\"outlinewidth\": 0, \"ticks\": \"\"}}, \"type\": \"scattermapbox\"}], \"scatterpolar\": [{\"marker\": {\"colorbar\": {\"outlinewidth\": 0, \"ticks\": \"\"}}, \"type\": \"scatterpolar\"}], \"scatterpolargl\": [{\"marker\": {\"colorbar\": {\"outlinewidth\": 0, \"ticks\": \"\"}}, \"type\": \"scatterpolargl\"}], \"scatterternary\": [{\"marker\": {\"colorbar\": {\"outlinewidth\": 0, \"ticks\": \"\"}}, \"type\": \"scatterternary\"}], \"surface\": [{\"colorbar\": {\"outlinewidth\": 0, \"ticks\": \"\"}, \"colorscale\": [[0.0, \"#0d0887\"], [0.1111111111111111, \"#46039f\"], [0.2222222222222222, \"#7201a8\"], [0.3333333333333333, \"#9c179e\"], [0.4444444444444444, \"#bd3786\"], [0.5555555555555556, \"#d8576b\"], [0.6666666666666666, \"#ed7953\"], [0.7777777777777778, \"#fb9f3a\"], [0.8888888888888888, \"#fdca26\"], [1.0, \"#f0f921\"]], \"type\": \"surface\"}], \"table\": [{\"cells\": {\"fill\": {\"color\": \"#EBF0F8\"}, \"line\": {\"color\": \"white\"}}, \"header\": {\"fill\": {\"color\": \"#C8D4E3\"}, \"line\": {\"color\": \"white\"}}, \"type\": \"table\"}]}, \"layout\": {\"annotationdefaults\": {\"arrowcolor\": \"#2a3f5f\", \"arrowhead\": 0, \"arrowwidth\": 1}, \"coloraxis\": {\"colorbar\": {\"outlinewidth\": 0, \"ticks\": \"\"}}, \"colorscale\": {\"diverging\": [[0, \"#8e0152\"], [0.1, \"#c51b7d\"], [0.2, \"#de77ae\"], [0.3, \"#f1b6da\"], [0.4, \"#fde0ef\"], [0.5, \"#f7f7f7\"], [0.6, \"#e6f5d0\"], [0.7, \"#b8e186\"], [0.8, \"#7fbc41\"], [0.9, \"#4d9221\"], [1, \"#276419\"]], \"sequential\": [[0.0, \"#0d0887\"], [0.1111111111111111, \"#46039f\"], [0.2222222222222222, \"#7201a8\"], [0.3333333333333333, \"#9c179e\"], [0.4444444444444444, \"#bd3786\"], [0.5555555555555556, \"#d8576b\"], [0.6666666666666666, \"#ed7953\"], [0.7777777777777778, \"#fb9f3a\"], [0.8888888888888888, \"#fdca26\"], [1.0, \"#f0f921\"]], \"sequentialminus\": [[0.0, \"#0d0887\"], [0.1111111111111111, \"#46039f\"], [0.2222222222222222, \"#7201a8\"], [0.3333333333333333, \"#9c179e\"], [0.4444444444444444, \"#bd3786\"], [0.5555555555555556, \"#d8576b\"], [0.6666666666666666, \"#ed7953\"], [0.7777777777777778, \"#fb9f3a\"], [0.8888888888888888, \"#fdca26\"], [1.0, \"#f0f921\"]]}, \"colorway\": [\"#636efa\", \"#EF553B\", \"#00cc96\", \"#ab63fa\", \"#FFA15A\", \"#19d3f3\", \"#FF6692\", \"#B6E880\", \"#FF97FF\", \"#FECB52\"], \"font\": {\"color\": \"#2a3f5f\"}, \"geo\": {\"bgcolor\": \"white\", \"lakecolor\": \"white\", \"landcolor\": \"#E5ECF6\", \"showlakes\": true, \"showland\": true, \"subunitcolor\": \"white\"}, \"hoverlabel\": {\"align\": \"left\"}, \"hovermode\": \"closest\", \"mapbox\": {\"style\": \"light\"}, \"paper_bgcolor\": \"white\", \"plot_bgcolor\": \"#E5ECF6\", \"polar\": {\"angularaxis\": {\"gridcolor\": \"white\", \"linecolor\": \"white\", \"ticks\": \"\"}, \"bgcolor\": \"#E5ECF6\", \"radialaxis\": {\"gridcolor\": \"white\", \"linecolor\": \"white\", \"ticks\": \"\"}}, \"scene\": {\"xaxis\": {\"backgroundcolor\": \"#E5ECF6\", \"gridcolor\": \"white\", \"gridwidth\": 2, \"linecolor\": \"white\", \"showbackground\": true, \"ticks\": \"\", \"zerolinecolor\": \"white\"}, \"yaxis\": {\"backgroundcolor\": \"#E5ECF6\", \"gridcolor\": \"white\", \"gridwidth\": 2, \"linecolor\": \"white\", \"showbackground\": true, \"ticks\": \"\", \"zerolinecolor\": \"white\"}, \"zaxis\": {\"backgroundcolor\": \"#E5ECF6\", \"gridcolor\": \"white\", \"gridwidth\": 2, \"linecolor\": \"white\", \"showbackground\": true, \"ticks\": \"\", \"zerolinecolor\": \"white\"}}, \"shapedefaults\": {\"line\": {\"color\": \"#2a3f5f\"}}, \"ternary\": {\"aaxis\": {\"gridcolor\": \"white\", \"linecolor\": \"white\", \"ticks\": \"\"}, \"baxis\": {\"gridcolor\": \"white\", \"linecolor\": \"white\", \"ticks\": \"\"}, \"bgcolor\": \"#E5ECF6\", \"caxis\": {\"gridcolor\": \"white\", \"linecolor\": \"white\", \"ticks\": \"\"}}, \"title\": {\"x\": 0.05}, \"xaxis\": {\"automargin\": true, \"gridcolor\": \"white\", \"linecolor\": \"white\", \"ticks\": \"\", \"title\": {\"standoff\": 15}, \"zerolinecolor\": \"white\", \"zerolinewidth\": 2}, \"yaxis\": {\"automargin\": true, \"gridcolor\": \"white\", \"linecolor\": \"white\", \"ticks\": \"\", \"title\": {\"standoff\": 15}, \"zerolinecolor\": \"white\", \"zerolinewidth\": 2}}}, \"title\": {\"font\": {\"color\": \"#4D5663\"}}, \"xaxis\": {\"gridcolor\": \"#E1E5ED\", \"showgrid\": true, \"tickfont\": {\"color\": \"#4D5663\"}, \"title\": {\"font\": {\"color\": \"#4D5663\"}, \"text\": \"\"}, \"zerolinecolor\": \"#E1E5ED\"}, \"yaxis\": {\"gridcolor\": \"#E1E5ED\", \"showgrid\": true, \"tickfont\": {\"color\": \"#4D5663\"}, \"title\": {\"font\": {\"color\": \"#4D5663\"}, \"text\": \"\"}, \"zerolinecolor\": \"#E1E5ED\"}},\n",
       "                        {\"showLink\": true, \"linkText\": \"Export to plot.ly\", \"plotlyServerURL\": \"https://plot.ly\", \"responsive\": true}\n",
       "                    ).then(function(){\n",
       "                            \n",
       "var gd = document.getElementById('cd171ea7-8985-45fa-8e03-43ef0343a09a');\n",
       "var x = new MutationObserver(function (mutations, observer) {{\n",
       "        var display = window.getComputedStyle(gd).display;\n",
       "        if (!display || display === 'none') {{\n",
       "            console.log([gd, 'removed!']);\n",
       "            Plotly.purge(gd);\n",
       "            observer.disconnect();\n",
       "        }}\n",
       "}});\n",
       "\n",
       "// Listen for the removal of the full notebook cells\n",
       "var notebookContainer = gd.closest('#notebook-container');\n",
       "if (notebookContainer) {{\n",
       "    x.observe(notebookContainer, {childList: true});\n",
       "}}\n",
       "\n",
       "// Listen for the clearing of the current output cell\n",
       "var outputEl = gd.closest('.output');\n",
       "if (outputEl) {{\n",
       "    x.observe(outputEl, {childList: true});\n",
       "}}\n",
       "\n",
       "                        })\n",
       "                };\n",
       "                });\n",
       "            </script>\n",
       "        </div>"
      ]
     },
     "metadata": {},
     "output_type": "display_data"
    }
   ],
   "source": [
    "df.count().iplot(kind='bar')"
   ]
  },
  {
   "cell_type": "code",
   "execution_count": 52,
   "metadata": {},
   "outputs": [
    {
     "data": {
      "application/vnd.plotly.v1+json": {
       "config": {
        "linkText": "Export to plot.ly",
        "plotlyServerURL": "https://plot.ly",
        "showLink": true
       },
       "data": [
        {
         "marker": {
          "color": "rgba(255, 153, 51, 0.6)",
          "line": {
           "color": "rgba(255, 153, 51, 1.0)",
           "width": 1
          }
         },
         "name": "None",
         "orientation": "v",
         "text": "",
         "type": "bar",
         "x": [
          "A",
          "B",
          "C",
          "D"
         ],
         "y": [
          5.606299515829725,
          -11.831192859502188,
          -2.612083739518638,
          -13.68054740481726
         ]
        }
       ],
       "layout": {
        "legend": {
         "bgcolor": "#F5F6F9",
         "font": {
          "color": "#4D5663"
         }
        },
        "paper_bgcolor": "#F5F6F9",
        "plot_bgcolor": "#F5F6F9",
        "template": {
         "data": {
          "bar": [
           {
            "error_x": {
             "color": "#2a3f5f"
            },
            "error_y": {
             "color": "#2a3f5f"
            },
            "marker": {
             "line": {
              "color": "#E5ECF6",
              "width": 0.5
             }
            },
            "type": "bar"
           }
          ],
          "barpolar": [
           {
            "marker": {
             "line": {
              "color": "#E5ECF6",
              "width": 0.5
             }
            },
            "type": "barpolar"
           }
          ],
          "carpet": [
           {
            "aaxis": {
             "endlinecolor": "#2a3f5f",
             "gridcolor": "white",
             "linecolor": "white",
             "minorgridcolor": "white",
             "startlinecolor": "#2a3f5f"
            },
            "baxis": {
             "endlinecolor": "#2a3f5f",
             "gridcolor": "white",
             "linecolor": "white",
             "minorgridcolor": "white",
             "startlinecolor": "#2a3f5f"
            },
            "type": "carpet"
           }
          ],
          "choropleth": [
           {
            "colorbar": {
             "outlinewidth": 0,
             "ticks": ""
            },
            "type": "choropleth"
           }
          ],
          "contour": [
           {
            "colorbar": {
             "outlinewidth": 0,
             "ticks": ""
            },
            "colorscale": [
             [
              0,
              "#0d0887"
             ],
             [
              0.1111111111111111,
              "#46039f"
             ],
             [
              0.2222222222222222,
              "#7201a8"
             ],
             [
              0.3333333333333333,
              "#9c179e"
             ],
             [
              0.4444444444444444,
              "#bd3786"
             ],
             [
              0.5555555555555556,
              "#d8576b"
             ],
             [
              0.6666666666666666,
              "#ed7953"
             ],
             [
              0.7777777777777778,
              "#fb9f3a"
             ],
             [
              0.8888888888888888,
              "#fdca26"
             ],
             [
              1,
              "#f0f921"
             ]
            ],
            "type": "contour"
           }
          ],
          "contourcarpet": [
           {
            "colorbar": {
             "outlinewidth": 0,
             "ticks": ""
            },
            "type": "contourcarpet"
           }
          ],
          "heatmap": [
           {
            "colorbar": {
             "outlinewidth": 0,
             "ticks": ""
            },
            "colorscale": [
             [
              0,
              "#0d0887"
             ],
             [
              0.1111111111111111,
              "#46039f"
             ],
             [
              0.2222222222222222,
              "#7201a8"
             ],
             [
              0.3333333333333333,
              "#9c179e"
             ],
             [
              0.4444444444444444,
              "#bd3786"
             ],
             [
              0.5555555555555556,
              "#d8576b"
             ],
             [
              0.6666666666666666,
              "#ed7953"
             ],
             [
              0.7777777777777778,
              "#fb9f3a"
             ],
             [
              0.8888888888888888,
              "#fdca26"
             ],
             [
              1,
              "#f0f921"
             ]
            ],
            "type": "heatmap"
           }
          ],
          "heatmapgl": [
           {
            "colorbar": {
             "outlinewidth": 0,
             "ticks": ""
            },
            "colorscale": [
             [
              0,
              "#0d0887"
             ],
             [
              0.1111111111111111,
              "#46039f"
             ],
             [
              0.2222222222222222,
              "#7201a8"
             ],
             [
              0.3333333333333333,
              "#9c179e"
             ],
             [
              0.4444444444444444,
              "#bd3786"
             ],
             [
              0.5555555555555556,
              "#d8576b"
             ],
             [
              0.6666666666666666,
              "#ed7953"
             ],
             [
              0.7777777777777778,
              "#fb9f3a"
             ],
             [
              0.8888888888888888,
              "#fdca26"
             ],
             [
              1,
              "#f0f921"
             ]
            ],
            "type": "heatmapgl"
           }
          ],
          "histogram": [
           {
            "marker": {
             "colorbar": {
              "outlinewidth": 0,
              "ticks": ""
             }
            },
            "type": "histogram"
           }
          ],
          "histogram2d": [
           {
            "colorbar": {
             "outlinewidth": 0,
             "ticks": ""
            },
            "colorscale": [
             [
              0,
              "#0d0887"
             ],
             [
              0.1111111111111111,
              "#46039f"
             ],
             [
              0.2222222222222222,
              "#7201a8"
             ],
             [
              0.3333333333333333,
              "#9c179e"
             ],
             [
              0.4444444444444444,
              "#bd3786"
             ],
             [
              0.5555555555555556,
              "#d8576b"
             ],
             [
              0.6666666666666666,
              "#ed7953"
             ],
             [
              0.7777777777777778,
              "#fb9f3a"
             ],
             [
              0.8888888888888888,
              "#fdca26"
             ],
             [
              1,
              "#f0f921"
             ]
            ],
            "type": "histogram2d"
           }
          ],
          "histogram2dcontour": [
           {
            "colorbar": {
             "outlinewidth": 0,
             "ticks": ""
            },
            "colorscale": [
             [
              0,
              "#0d0887"
             ],
             [
              0.1111111111111111,
              "#46039f"
             ],
             [
              0.2222222222222222,
              "#7201a8"
             ],
             [
              0.3333333333333333,
              "#9c179e"
             ],
             [
              0.4444444444444444,
              "#bd3786"
             ],
             [
              0.5555555555555556,
              "#d8576b"
             ],
             [
              0.6666666666666666,
              "#ed7953"
             ],
             [
              0.7777777777777778,
              "#fb9f3a"
             ],
             [
              0.8888888888888888,
              "#fdca26"
             ],
             [
              1,
              "#f0f921"
             ]
            ],
            "type": "histogram2dcontour"
           }
          ],
          "mesh3d": [
           {
            "colorbar": {
             "outlinewidth": 0,
             "ticks": ""
            },
            "type": "mesh3d"
           }
          ],
          "parcoords": [
           {
            "line": {
             "colorbar": {
              "outlinewidth": 0,
              "ticks": ""
             }
            },
            "type": "parcoords"
           }
          ],
          "pie": [
           {
            "automargin": true,
            "type": "pie"
           }
          ],
          "scatter": [
           {
            "marker": {
             "colorbar": {
              "outlinewidth": 0,
              "ticks": ""
             }
            },
            "type": "scatter"
           }
          ],
          "scatter3d": [
           {
            "line": {
             "colorbar": {
              "outlinewidth": 0,
              "ticks": ""
             }
            },
            "marker": {
             "colorbar": {
              "outlinewidth": 0,
              "ticks": ""
             }
            },
            "type": "scatter3d"
           }
          ],
          "scattercarpet": [
           {
            "marker": {
             "colorbar": {
              "outlinewidth": 0,
              "ticks": ""
             }
            },
            "type": "scattercarpet"
           }
          ],
          "scattergeo": [
           {
            "marker": {
             "colorbar": {
              "outlinewidth": 0,
              "ticks": ""
             }
            },
            "type": "scattergeo"
           }
          ],
          "scattergl": [
           {
            "marker": {
             "colorbar": {
              "outlinewidth": 0,
              "ticks": ""
             }
            },
            "type": "scattergl"
           }
          ],
          "scattermapbox": [
           {
            "marker": {
             "colorbar": {
              "outlinewidth": 0,
              "ticks": ""
             }
            },
            "type": "scattermapbox"
           }
          ],
          "scatterpolar": [
           {
            "marker": {
             "colorbar": {
              "outlinewidth": 0,
              "ticks": ""
             }
            },
            "type": "scatterpolar"
           }
          ],
          "scatterpolargl": [
           {
            "marker": {
             "colorbar": {
              "outlinewidth": 0,
              "ticks": ""
             }
            },
            "type": "scatterpolargl"
           }
          ],
          "scatterternary": [
           {
            "marker": {
             "colorbar": {
              "outlinewidth": 0,
              "ticks": ""
             }
            },
            "type": "scatterternary"
           }
          ],
          "surface": [
           {
            "colorbar": {
             "outlinewidth": 0,
             "ticks": ""
            },
            "colorscale": [
             [
              0,
              "#0d0887"
             ],
             [
              0.1111111111111111,
              "#46039f"
             ],
             [
              0.2222222222222222,
              "#7201a8"
             ],
             [
              0.3333333333333333,
              "#9c179e"
             ],
             [
              0.4444444444444444,
              "#bd3786"
             ],
             [
              0.5555555555555556,
              "#d8576b"
             ],
             [
              0.6666666666666666,
              "#ed7953"
             ],
             [
              0.7777777777777778,
              "#fb9f3a"
             ],
             [
              0.8888888888888888,
              "#fdca26"
             ],
             [
              1,
              "#f0f921"
             ]
            ],
            "type": "surface"
           }
          ],
          "table": [
           {
            "cells": {
             "fill": {
              "color": "#EBF0F8"
             },
             "line": {
              "color": "white"
             }
            },
            "header": {
             "fill": {
              "color": "#C8D4E3"
             },
             "line": {
              "color": "white"
             }
            },
            "type": "table"
           }
          ]
         },
         "layout": {
          "annotationdefaults": {
           "arrowcolor": "#2a3f5f",
           "arrowhead": 0,
           "arrowwidth": 1
          },
          "coloraxis": {
           "colorbar": {
            "outlinewidth": 0,
            "ticks": ""
           }
          },
          "colorscale": {
           "diverging": [
            [
             0,
             "#8e0152"
            ],
            [
             0.1,
             "#c51b7d"
            ],
            [
             0.2,
             "#de77ae"
            ],
            [
             0.3,
             "#f1b6da"
            ],
            [
             0.4,
             "#fde0ef"
            ],
            [
             0.5,
             "#f7f7f7"
            ],
            [
             0.6,
             "#e6f5d0"
            ],
            [
             0.7,
             "#b8e186"
            ],
            [
             0.8,
             "#7fbc41"
            ],
            [
             0.9,
             "#4d9221"
            ],
            [
             1,
             "#276419"
            ]
           ],
           "sequential": [
            [
             0,
             "#0d0887"
            ],
            [
             0.1111111111111111,
             "#46039f"
            ],
            [
             0.2222222222222222,
             "#7201a8"
            ],
            [
             0.3333333333333333,
             "#9c179e"
            ],
            [
             0.4444444444444444,
             "#bd3786"
            ],
            [
             0.5555555555555556,
             "#d8576b"
            ],
            [
             0.6666666666666666,
             "#ed7953"
            ],
            [
             0.7777777777777778,
             "#fb9f3a"
            ],
            [
             0.8888888888888888,
             "#fdca26"
            ],
            [
             1,
             "#f0f921"
            ]
           ],
           "sequentialminus": [
            [
             0,
             "#0d0887"
            ],
            [
             0.1111111111111111,
             "#46039f"
            ],
            [
             0.2222222222222222,
             "#7201a8"
            ],
            [
             0.3333333333333333,
             "#9c179e"
            ],
            [
             0.4444444444444444,
             "#bd3786"
            ],
            [
             0.5555555555555556,
             "#d8576b"
            ],
            [
             0.6666666666666666,
             "#ed7953"
            ],
            [
             0.7777777777777778,
             "#fb9f3a"
            ],
            [
             0.8888888888888888,
             "#fdca26"
            ],
            [
             1,
             "#f0f921"
            ]
           ]
          },
          "colorway": [
           "#636efa",
           "#EF553B",
           "#00cc96",
           "#ab63fa",
           "#FFA15A",
           "#19d3f3",
           "#FF6692",
           "#B6E880",
           "#FF97FF",
           "#FECB52"
          ],
          "font": {
           "color": "#2a3f5f"
          },
          "geo": {
           "bgcolor": "white",
           "lakecolor": "white",
           "landcolor": "#E5ECF6",
           "showlakes": true,
           "showland": true,
           "subunitcolor": "white"
          },
          "hoverlabel": {
           "align": "left"
          },
          "hovermode": "closest",
          "mapbox": {
           "style": "light"
          },
          "paper_bgcolor": "white",
          "plot_bgcolor": "#E5ECF6",
          "polar": {
           "angularaxis": {
            "gridcolor": "white",
            "linecolor": "white",
            "ticks": ""
           },
           "bgcolor": "#E5ECF6",
           "radialaxis": {
            "gridcolor": "white",
            "linecolor": "white",
            "ticks": ""
           }
          },
          "scene": {
           "xaxis": {
            "backgroundcolor": "#E5ECF6",
            "gridcolor": "white",
            "gridwidth": 2,
            "linecolor": "white",
            "showbackground": true,
            "ticks": "",
            "zerolinecolor": "white"
           },
           "yaxis": {
            "backgroundcolor": "#E5ECF6",
            "gridcolor": "white",
            "gridwidth": 2,
            "linecolor": "white",
            "showbackground": true,
            "ticks": "",
            "zerolinecolor": "white"
           },
           "zaxis": {
            "backgroundcolor": "#E5ECF6",
            "gridcolor": "white",
            "gridwidth": 2,
            "linecolor": "white",
            "showbackground": true,
            "ticks": "",
            "zerolinecolor": "white"
           }
          },
          "shapedefaults": {
           "line": {
            "color": "#2a3f5f"
           }
          },
          "ternary": {
           "aaxis": {
            "gridcolor": "white",
            "linecolor": "white",
            "ticks": ""
           },
           "baxis": {
            "gridcolor": "white",
            "linecolor": "white",
            "ticks": ""
           },
           "bgcolor": "#E5ECF6",
           "caxis": {
            "gridcolor": "white",
            "linecolor": "white",
            "ticks": ""
           }
          },
          "title": {
           "x": 0.05
          },
          "xaxis": {
           "automargin": true,
           "gridcolor": "white",
           "linecolor": "white",
           "ticks": "",
           "title": {
            "standoff": 15
           },
           "zerolinecolor": "white",
           "zerolinewidth": 2
          },
          "yaxis": {
           "automargin": true,
           "gridcolor": "white",
           "linecolor": "white",
           "ticks": "",
           "title": {
            "standoff": 15
           },
           "zerolinecolor": "white",
           "zerolinewidth": 2
          }
         }
        },
        "title": {
         "font": {
          "color": "#4D5663"
         }
        },
        "xaxis": {
         "gridcolor": "#E1E5ED",
         "showgrid": true,
         "tickfont": {
          "color": "#4D5663"
         },
         "title": {
          "font": {
           "color": "#4D5663"
          },
          "text": ""
         },
         "zerolinecolor": "#E1E5ED"
        },
        "yaxis": {
         "gridcolor": "#E1E5ED",
         "showgrid": true,
         "tickfont": {
          "color": "#4D5663"
         },
         "title": {
          "font": {
           "color": "#4D5663"
          },
          "text": ""
         },
         "zerolinecolor": "#E1E5ED"
        }
       }
      },
      "text/html": [
       "<div>\n",
       "        \n",
       "        \n",
       "            <div id=\"910ba6cc-bf93-4b17-9e0a-c2155570e080\" class=\"plotly-graph-div\" style=\"height:525px; width:100%;\"></div>\n",
       "            <script type=\"text/javascript\">\n",
       "                require([\"plotly\"], function(Plotly) {\n",
       "                    window.PLOTLYENV=window.PLOTLYENV || {};\n",
       "                    window.PLOTLYENV.BASE_URL='https://plot.ly';\n",
       "                    \n",
       "                if (document.getElementById(\"910ba6cc-bf93-4b17-9e0a-c2155570e080\")) {\n",
       "                    Plotly.newPlot(\n",
       "                        '910ba6cc-bf93-4b17-9e0a-c2155570e080',\n",
       "                        [{\"marker\": {\"color\": \"rgba(255, 153, 51, 0.6)\", \"line\": {\"color\": \"rgba(255, 153, 51, 1.0)\", \"width\": 1}}, \"name\": \"None\", \"orientation\": \"v\", \"text\": \"\", \"type\": \"bar\", \"x\": [\"A\", \"B\", \"C\", \"D\"], \"y\": [5.606299515829725, -11.831192859502188, -2.612083739518638, -13.68054740481726]}],\n",
       "                        {\"legend\": {\"bgcolor\": \"#F5F6F9\", \"font\": {\"color\": \"#4D5663\"}}, \"paper_bgcolor\": \"#F5F6F9\", \"plot_bgcolor\": \"#F5F6F9\", \"template\": {\"data\": {\"bar\": [{\"error_x\": {\"color\": \"#2a3f5f\"}, \"error_y\": {\"color\": \"#2a3f5f\"}, \"marker\": {\"line\": {\"color\": \"#E5ECF6\", \"width\": 0.5}}, \"type\": \"bar\"}], \"barpolar\": [{\"marker\": {\"line\": {\"color\": \"#E5ECF6\", \"width\": 0.5}}, \"type\": \"barpolar\"}], \"carpet\": [{\"aaxis\": {\"endlinecolor\": \"#2a3f5f\", \"gridcolor\": \"white\", \"linecolor\": \"white\", \"minorgridcolor\": \"white\", \"startlinecolor\": \"#2a3f5f\"}, \"baxis\": {\"endlinecolor\": \"#2a3f5f\", \"gridcolor\": \"white\", \"linecolor\": \"white\", \"minorgridcolor\": \"white\", \"startlinecolor\": \"#2a3f5f\"}, \"type\": \"carpet\"}], \"choropleth\": [{\"colorbar\": {\"outlinewidth\": 0, \"ticks\": \"\"}, \"type\": \"choropleth\"}], \"contour\": [{\"colorbar\": {\"outlinewidth\": 0, \"ticks\": \"\"}, \"colorscale\": [[0.0, \"#0d0887\"], [0.1111111111111111, \"#46039f\"], [0.2222222222222222, \"#7201a8\"], [0.3333333333333333, \"#9c179e\"], [0.4444444444444444, \"#bd3786\"], [0.5555555555555556, \"#d8576b\"], [0.6666666666666666, \"#ed7953\"], [0.7777777777777778, \"#fb9f3a\"], [0.8888888888888888, \"#fdca26\"], [1.0, \"#f0f921\"]], \"type\": \"contour\"}], \"contourcarpet\": [{\"colorbar\": {\"outlinewidth\": 0, \"ticks\": \"\"}, \"type\": \"contourcarpet\"}], \"heatmap\": [{\"colorbar\": {\"outlinewidth\": 0, \"ticks\": \"\"}, \"colorscale\": [[0.0, \"#0d0887\"], [0.1111111111111111, \"#46039f\"], [0.2222222222222222, \"#7201a8\"], [0.3333333333333333, \"#9c179e\"], [0.4444444444444444, \"#bd3786\"], [0.5555555555555556, \"#d8576b\"], [0.6666666666666666, \"#ed7953\"], [0.7777777777777778, \"#fb9f3a\"], [0.8888888888888888, \"#fdca26\"], [1.0, \"#f0f921\"]], \"type\": \"heatmap\"}], \"heatmapgl\": [{\"colorbar\": {\"outlinewidth\": 0, \"ticks\": \"\"}, \"colorscale\": [[0.0, \"#0d0887\"], [0.1111111111111111, \"#46039f\"], [0.2222222222222222, \"#7201a8\"], [0.3333333333333333, \"#9c179e\"], [0.4444444444444444, \"#bd3786\"], [0.5555555555555556, \"#d8576b\"], [0.6666666666666666, \"#ed7953\"], [0.7777777777777778, \"#fb9f3a\"], [0.8888888888888888, \"#fdca26\"], [1.0, \"#f0f921\"]], \"type\": \"heatmapgl\"}], \"histogram\": [{\"marker\": {\"colorbar\": {\"outlinewidth\": 0, \"ticks\": \"\"}}, \"type\": \"histogram\"}], \"histogram2d\": [{\"colorbar\": {\"outlinewidth\": 0, \"ticks\": \"\"}, \"colorscale\": [[0.0, \"#0d0887\"], [0.1111111111111111, \"#46039f\"], [0.2222222222222222, \"#7201a8\"], [0.3333333333333333, \"#9c179e\"], [0.4444444444444444, \"#bd3786\"], [0.5555555555555556, \"#d8576b\"], [0.6666666666666666, \"#ed7953\"], [0.7777777777777778, \"#fb9f3a\"], [0.8888888888888888, \"#fdca26\"], [1.0, \"#f0f921\"]], \"type\": \"histogram2d\"}], \"histogram2dcontour\": [{\"colorbar\": {\"outlinewidth\": 0, \"ticks\": \"\"}, \"colorscale\": [[0.0, \"#0d0887\"], [0.1111111111111111, \"#46039f\"], [0.2222222222222222, \"#7201a8\"], [0.3333333333333333, \"#9c179e\"], [0.4444444444444444, \"#bd3786\"], [0.5555555555555556, \"#d8576b\"], [0.6666666666666666, \"#ed7953\"], [0.7777777777777778, \"#fb9f3a\"], [0.8888888888888888, \"#fdca26\"], [1.0, \"#f0f921\"]], \"type\": \"histogram2dcontour\"}], \"mesh3d\": [{\"colorbar\": {\"outlinewidth\": 0, \"ticks\": \"\"}, \"type\": \"mesh3d\"}], \"parcoords\": [{\"line\": {\"colorbar\": {\"outlinewidth\": 0, \"ticks\": \"\"}}, \"type\": \"parcoords\"}], \"pie\": [{\"automargin\": true, \"type\": \"pie\"}], \"scatter\": [{\"marker\": {\"colorbar\": {\"outlinewidth\": 0, \"ticks\": \"\"}}, \"type\": \"scatter\"}], \"scatter3d\": [{\"line\": {\"colorbar\": {\"outlinewidth\": 0, \"ticks\": \"\"}}, \"marker\": {\"colorbar\": {\"outlinewidth\": 0, \"ticks\": \"\"}}, \"type\": \"scatter3d\"}], \"scattercarpet\": [{\"marker\": {\"colorbar\": {\"outlinewidth\": 0, \"ticks\": \"\"}}, \"type\": \"scattercarpet\"}], \"scattergeo\": [{\"marker\": {\"colorbar\": {\"outlinewidth\": 0, \"ticks\": \"\"}}, \"type\": \"scattergeo\"}], \"scattergl\": [{\"marker\": {\"colorbar\": {\"outlinewidth\": 0, \"ticks\": \"\"}}, \"type\": \"scattergl\"}], \"scattermapbox\": [{\"marker\": {\"colorbar\": {\"outlinewidth\": 0, \"ticks\": \"\"}}, \"type\": \"scattermapbox\"}], \"scatterpolar\": [{\"marker\": {\"colorbar\": {\"outlinewidth\": 0, \"ticks\": \"\"}}, \"type\": \"scatterpolar\"}], \"scatterpolargl\": [{\"marker\": {\"colorbar\": {\"outlinewidth\": 0, \"ticks\": \"\"}}, \"type\": \"scatterpolargl\"}], \"scatterternary\": [{\"marker\": {\"colorbar\": {\"outlinewidth\": 0, \"ticks\": \"\"}}, \"type\": \"scatterternary\"}], \"surface\": [{\"colorbar\": {\"outlinewidth\": 0, \"ticks\": \"\"}, \"colorscale\": [[0.0, \"#0d0887\"], [0.1111111111111111, \"#46039f\"], [0.2222222222222222, \"#7201a8\"], [0.3333333333333333, \"#9c179e\"], [0.4444444444444444, \"#bd3786\"], [0.5555555555555556, \"#d8576b\"], [0.6666666666666666, \"#ed7953\"], [0.7777777777777778, \"#fb9f3a\"], [0.8888888888888888, \"#fdca26\"], [1.0, \"#f0f921\"]], \"type\": \"surface\"}], \"table\": [{\"cells\": {\"fill\": {\"color\": \"#EBF0F8\"}, \"line\": {\"color\": \"white\"}}, \"header\": {\"fill\": {\"color\": \"#C8D4E3\"}, \"line\": {\"color\": \"white\"}}, \"type\": \"table\"}]}, \"layout\": {\"annotationdefaults\": {\"arrowcolor\": \"#2a3f5f\", \"arrowhead\": 0, \"arrowwidth\": 1}, \"coloraxis\": {\"colorbar\": {\"outlinewidth\": 0, \"ticks\": \"\"}}, \"colorscale\": {\"diverging\": [[0, \"#8e0152\"], [0.1, \"#c51b7d\"], [0.2, \"#de77ae\"], [0.3, \"#f1b6da\"], [0.4, \"#fde0ef\"], [0.5, \"#f7f7f7\"], [0.6, \"#e6f5d0\"], [0.7, \"#b8e186\"], [0.8, \"#7fbc41\"], [0.9, \"#4d9221\"], [1, \"#276419\"]], \"sequential\": [[0.0, \"#0d0887\"], [0.1111111111111111, \"#46039f\"], [0.2222222222222222, \"#7201a8\"], [0.3333333333333333, \"#9c179e\"], [0.4444444444444444, \"#bd3786\"], [0.5555555555555556, \"#d8576b\"], [0.6666666666666666, \"#ed7953\"], [0.7777777777777778, \"#fb9f3a\"], [0.8888888888888888, \"#fdca26\"], [1.0, \"#f0f921\"]], \"sequentialminus\": [[0.0, \"#0d0887\"], [0.1111111111111111, \"#46039f\"], [0.2222222222222222, \"#7201a8\"], [0.3333333333333333, \"#9c179e\"], [0.4444444444444444, \"#bd3786\"], [0.5555555555555556, \"#d8576b\"], [0.6666666666666666, \"#ed7953\"], [0.7777777777777778, \"#fb9f3a\"], [0.8888888888888888, \"#fdca26\"], [1.0, \"#f0f921\"]]}, \"colorway\": [\"#636efa\", \"#EF553B\", \"#00cc96\", \"#ab63fa\", \"#FFA15A\", \"#19d3f3\", \"#FF6692\", \"#B6E880\", \"#FF97FF\", \"#FECB52\"], \"font\": {\"color\": \"#2a3f5f\"}, \"geo\": {\"bgcolor\": \"white\", \"lakecolor\": \"white\", \"landcolor\": \"#E5ECF6\", \"showlakes\": true, \"showland\": true, \"subunitcolor\": \"white\"}, \"hoverlabel\": {\"align\": \"left\"}, \"hovermode\": \"closest\", \"mapbox\": {\"style\": \"light\"}, \"paper_bgcolor\": \"white\", \"plot_bgcolor\": \"#E5ECF6\", \"polar\": {\"angularaxis\": {\"gridcolor\": \"white\", \"linecolor\": \"white\", \"ticks\": \"\"}, \"bgcolor\": \"#E5ECF6\", \"radialaxis\": {\"gridcolor\": \"white\", \"linecolor\": \"white\", \"ticks\": \"\"}}, \"scene\": {\"xaxis\": {\"backgroundcolor\": \"#E5ECF6\", \"gridcolor\": \"white\", \"gridwidth\": 2, \"linecolor\": \"white\", \"showbackground\": true, \"ticks\": \"\", \"zerolinecolor\": \"white\"}, \"yaxis\": {\"backgroundcolor\": \"#E5ECF6\", \"gridcolor\": \"white\", \"gridwidth\": 2, \"linecolor\": \"white\", \"showbackground\": true, \"ticks\": \"\", \"zerolinecolor\": \"white\"}, \"zaxis\": {\"backgroundcolor\": \"#E5ECF6\", \"gridcolor\": \"white\", \"gridwidth\": 2, \"linecolor\": \"white\", \"showbackground\": true, \"ticks\": \"\", \"zerolinecolor\": \"white\"}}, \"shapedefaults\": {\"line\": {\"color\": \"#2a3f5f\"}}, \"ternary\": {\"aaxis\": {\"gridcolor\": \"white\", \"linecolor\": \"white\", \"ticks\": \"\"}, \"baxis\": {\"gridcolor\": \"white\", \"linecolor\": \"white\", \"ticks\": \"\"}, \"bgcolor\": \"#E5ECF6\", \"caxis\": {\"gridcolor\": \"white\", \"linecolor\": \"white\", \"ticks\": \"\"}}, \"title\": {\"x\": 0.05}, \"xaxis\": {\"automargin\": true, \"gridcolor\": \"white\", \"linecolor\": \"white\", \"ticks\": \"\", \"title\": {\"standoff\": 15}, \"zerolinecolor\": \"white\", \"zerolinewidth\": 2}, \"yaxis\": {\"automargin\": true, \"gridcolor\": \"white\", \"linecolor\": \"white\", \"ticks\": \"\", \"title\": {\"standoff\": 15}, \"zerolinecolor\": \"white\", \"zerolinewidth\": 2}}}, \"title\": {\"font\": {\"color\": \"#4D5663\"}}, \"xaxis\": {\"gridcolor\": \"#E1E5ED\", \"showgrid\": true, \"tickfont\": {\"color\": \"#4D5663\"}, \"title\": {\"font\": {\"color\": \"#4D5663\"}, \"text\": \"\"}, \"zerolinecolor\": \"#E1E5ED\"}, \"yaxis\": {\"gridcolor\": \"#E1E5ED\", \"showgrid\": true, \"tickfont\": {\"color\": \"#4D5663\"}, \"title\": {\"font\": {\"color\": \"#4D5663\"}, \"text\": \"\"}, \"zerolinecolor\": \"#E1E5ED\"}},\n",
       "                        {\"showLink\": true, \"linkText\": \"Export to plot.ly\", \"plotlyServerURL\": \"https://plot.ly\", \"responsive\": true}\n",
       "                    ).then(function(){\n",
       "                            \n",
       "var gd = document.getElementById('910ba6cc-bf93-4b17-9e0a-c2155570e080');\n",
       "var x = new MutationObserver(function (mutations, observer) {{\n",
       "        var display = window.getComputedStyle(gd).display;\n",
       "        if (!display || display === 'none') {{\n",
       "            console.log([gd, 'removed!']);\n",
       "            Plotly.purge(gd);\n",
       "            observer.disconnect();\n",
       "        }}\n",
       "}});\n",
       "\n",
       "// Listen for the removal of the full notebook cells\n",
       "var notebookContainer = gd.closest('#notebook-container');\n",
       "if (notebookContainer) {{\n",
       "    x.observe(notebookContainer, {childList: true});\n",
       "}}\n",
       "\n",
       "// Listen for the clearing of the current output cell\n",
       "var outputEl = gd.closest('.output');\n",
       "if (outputEl) {{\n",
       "    x.observe(outputEl, {childList: true});\n",
       "}}\n",
       "\n",
       "                        })\n",
       "                };\n",
       "                });\n",
       "            </script>\n",
       "        </div>"
      ]
     },
     "metadata": {},
     "output_type": "display_data"
    }
   ],
   "source": [
    "df.sum().iplot(kind='bar')"
   ]
  },
  {
   "cell_type": "markdown",
   "metadata": {},
   "source": [
    "- Boxplots"
   ]
  },
  {
   "cell_type": "code",
   "execution_count": 55,
   "metadata": {},
   "outputs": [
    {
     "data": {
      "application/vnd.plotly.v1+json": {
       "config": {
        "linkText": "Export to plot.ly",
        "plotlyServerURL": "https://plot.ly",
        "showLink": true
       },
       "data": [
        {
         "boxpoints": false,
         "line": {
          "width": 1.3
         },
         "marker": {
          "color": "rgba(255, 153, 51, 1.0)"
         },
         "name": "A",
         "orientation": "v",
         "type": "box",
         "y": [
          0.8565004406896697,
          0.616667033466685,
          0.9298916478237453,
          -1.6724634436675336,
          -0.019950485747430385,
          -0.32800911299570507,
          -0.520848431309861,
          -1.30147296225039,
          0.918170020841073,
          -0.003030796847175438,
          1.8515261305902329,
          -2.4657644444358904,
          -1.439356632219261,
          0.15387753978794932,
          0.07641025126858664,
          0.05696079491628426,
          0.994002604240455,
          1.3063555379994916,
          0.11680196973249214,
          -0.06144614746125791,
          0.16965506162971544,
          -1.5592095724925938,
          1.7362505416468237,
          -0.5158156181616896,
          0.3112988643540849,
          0.6367371116974732,
          -1.5536536001503518,
          -1.7685320204209458,
          -0.5392754585148415,
          0.10192996646476966,
          0.5568460660823932,
          0.4092568775144538,
          0.6425257437679849,
          0.09284381524121892,
          1.7894845246730584,
          -1.5779423255162153,
          -1.789479229742878,
          0.7609651113838944,
          -0.6674139141954538,
          -0.4214512133650312,
          -0.44539736631937926,
          0.5186930794439539,
          -1.0086390260505254,
          0.7345811131541214,
          -0.8682151792015697,
          -0.5138030956228592,
          2.44506810870039,
          -0.48872333105082555,
          1.3671166266258052,
          -0.01753294451379828,
          0.11685967207261917,
          1.0155837704561772,
          -0.5150792361553516,
          -0.4189522845684282,
          -1.671800498378324,
          0.00849610436739744,
          -0.895038429064667,
          -0.7234219959912285,
          0.206272727623923,
          0.3226173070103636,
          -0.4358213189085439,
          1.485019297233284,
          1.3145577597333455,
          1.1418099258834655,
          0.3899155275990936,
          0.6744845811903896,
          -1.5421747306588416,
          0.10759935916787118,
          -0.29174756418219683,
          0.4816850364526941,
          0.06383954088766132,
          0.805862380002143,
          1.7922318721731754,
          0.7711332871154744,
          1.5493299640694245,
          2.1568955364366897,
          1.1670866728363158,
          0.7987843837817445,
          0.5924788058898702,
          0.46868961780136764,
          0.041509628887594935,
          1.4403527221146417,
          0.06159499985984685,
          -0.37884426150130707,
          -0.5712864766608926,
          -0.05456501732571868,
          -1.374456821319399,
          -0.29150627018452924,
          -0.5060841247039243,
          -0.9116186430932947,
          -0.03191657470382843,
          -1.1907703476630989,
          -0.2240749488357738,
          0.9880910702602029,
          -0.6027601036139539,
          -0.804412324683554,
          -0.42504929417141835,
          0.23827330110499453,
          1.2763718707572826,
          -0.6127361720543995
         ]
        },
        {
         "boxpoints": false,
         "line": {
          "width": 1.3
         },
         "marker": {
          "color": "rgba(55, 128, 191, 1.0)"
         },
         "name": "B",
         "orientation": "v",
         "type": "box",
         "y": [
          1.475589520025869,
          0.058193690147613136,
          0.8858587130605142,
          -1.0062473781673018,
          0.46803675911740583,
          1.8876584534559304,
          1.0068376194540218,
          0.20649832656467781,
          -0.3831842413954928,
          0.8146880661445408,
          0.7525580546906689,
          -0.9499437266514072,
          -0.5124677266513444,
          -0.07070799266437955,
          0.24842935771077734,
          -0.47466919918713246,
          0.1329640121766927,
          0.7101899364369233,
          -0.8129158041745252,
          -0.9065188940398232,
          -0.576101023436274,
          0.7211521933563564,
          0.4980075228147292,
          -0.4772199892654312,
          -0.25876529291204786,
          0.02805869936306022,
          -1.1120841762313531,
          -0.34773983569211936,
          0.5592457342025116,
          -2.2329856221230426,
          1.244429738539221,
          -0.3558037971356808,
          -1.7071760167849175,
          -0.38601241809639797,
          -1.2101106786862859,
          0.39581149532187293,
          -1.613409089316727,
          -0.017707675178522137,
          -0.51674385539429,
          0.5508169727530585,
          -0.7657147803155174,
          2.102266470888824,
          -1.9500668951535425,
          0.08582168052356781,
          -1.2031543487810075,
          0.09047246874201739,
          -1.2046473795482855,
          0.057008372010706757,
          -0.6793292136001533,
          -0.16868751384288672,
          0.013752896177967523,
          0.13559208744343473,
          -0.9630115477948523,
          0.7230504579164195,
          -0.7957538189923294,
          -0.5367136225824187,
          -1.0077205412350119,
          -1.7914055716137376,
          -1.230050510713824,
          0.8679372146419765,
          0.016712192818447498,
          -1.7296404941674273,
          0.6279507372489606,
          2.2072101493033247,
          -1.426478309767374,
          -0.10793231034668634,
          0.2825793489947289,
          -1.980919281504627,
          1.355967324544568,
          -0.7001789060327122,
          -1.2722359256963178,
          0.09299395157163394,
          0.9666985831548762,
          -0.3146817160528018,
          0.5624621245870179,
          -0.4257065060814728,
          2.8239069121719327,
          -0.6597234857277737,
          0.045685732120529614,
          -0.01918897826138856,
          0.19400035829565307,
          0.331512334519879,
          -0.14894837996905405,
          -0.35260660854332354,
          0.4922341899645374,
          0.512147456731329,
          0.06474390398539126,
          2.3772022790380962,
          0.4500853579083613,
          -0.6527657639931757,
          -0.047316453982068685,
          0.4678256940750706,
          -0.5795657304715769,
          -1.2899242922557217,
          -0.3685463537980794,
          0.25886314902995966,
          -0.659454095923306,
          -0.28299923424564427,
          -1.3644779963994549,
          -0.07484015266979967
         ]
        },
        {
         "boxpoints": false,
         "line": {
          "width": 1.3
         },
         "marker": {
          "color": "rgba(50, 171, 96, 1.0)"
         },
         "name": "C",
         "orientation": "v",
         "type": "box",
         "y": [
          0.09536454976164993,
          -1.979873229425567,
          -0.8006171220144002,
          -1.4085439333951777,
          0.08547942854432763,
          -0.008826093278719568,
          -0.2991548029353947,
          0.2576029505630603,
          0.8795221488870283,
          -0.07200754103600952,
          -0.046151183479252546,
          0.3374454762825173,
          -0.6779825948518686,
          -0.09763964035505414,
          1.599220362888875,
          0.17648750653606524,
          0.18213753336434174,
          -0.9245131437491316,
          2.050342741577169,
          -0.11525257001200029,
          -0.3081347973723833,
          -0.34588166791003433,
          -0.33520708347079836,
          -1.0388186655706726,
          0.46110275587050625,
          -0.5761386680731327,
          0.8801801412081522,
          -0.5334511453174319,
          2.179848881496895,
          0.8510521398255604,
          -1.302215746186497,
          -0.2758653764454315,
          0.4229725742656263,
          -0.6854796038539009,
          -0.46825269421393273,
          -0.059917604332156246,
          0.27907495323068693,
          -0.4774644670954662,
          0.5112678302701621,
          -2.653886389514963,
          0.5602132803496599,
          -0.09368145292452275,
          -0.5108472428829691,
          -0.0049541575064123555,
          0.8263529754001935,
          -1.0298167166950276,
          0.11615194577730661,
          -0.033485373062486425,
          -0.5023586159199206,
          -0.5343264848054067,
          1.2563645314112177,
          -0.670756044789189,
          0.04086236619495206,
          -0.48491239039460976,
          0.8368010161808237,
          -1.4747359948647716,
          -0.678626261666939,
          0.055916347271540726,
          -0.665548308946417,
          -0.7349920467327229,
          1.1431344385353945,
          0.10272624712609245,
          2.0337920267866245,
          -0.25664343368236386,
          0.3270272774134318,
          -0.9161936736943582,
          0.6640500241172738,
          0.45816299396646826,
          1.479109563408102,
          -1.0801874426617148,
          0.8645323939687818,
          1.556299817995986,
          -0.19584520336043118,
          -0.6074092807738445,
          -0.7036813686304971,
          -0.2522157220017819,
          1.9265828118823523,
          -1.5812188150203852,
          0.109577170426578,
          1.7041087583411898,
          -1.6958191071790105,
          -1.6508695078091753,
          -0.14063194438965274,
          0.9241987280821946,
          0.8150487836869047,
          0.5931459555812096,
          1.5264875107240874,
          0.9944396469378712,
          -1.3785578513262233,
          0.29406582022837885,
          -0.3913540100322184,
          -0.3505245746885777,
          0.01771170232228889,
          -0.42157829849596756,
          -1.130644127991805,
          0.44140298627012853,
          0.3749867305185496,
          -0.2891992005348076,
          -0.9140427672546457,
          0.962493619611387
         ]
        },
        {
         "boxpoints": false,
         "line": {
          "width": 1.3
         },
         "marker": {
          "color": "rgba(128, 0, 128, 1.0)"
         },
         "name": "D",
         "orientation": "v",
         "type": "box",
         "y": [
          -2.8371083245496616,
          0.18726671943935058,
          -0.635752704507406,
          0.31204885311241765,
          -1.6884623420901927,
          -2.218046636438145,
          0.8005326796231135,
          0.2571323568177598,
          -0.7517794685927304,
          0.7141700622967905,
          -0.7034274370151249,
          1.7601916791167034,
          -0.695062955483073,
          -0.2605103364893929,
          -0.46730855079440314,
          0.7343327121690637,
          -0.9815267713197737,
          0.08934937710201019,
          1.2228982710514336,
          -0.2558313016025286,
          0.08473537705506456,
          -0.2831432143808916,
          -0.5078694189178844,
          1.3868024785701536,
          -0.5953077204912341,
          1.848884077889904,
          1.5390355127582946,
          0.028268872843309582,
          -0.595582478100544,
          1.5427013777117144,
          -0.5267129535115503,
          -2.2191309716885237,
          0.0526380368058972,
          -1.362504559433225,
          0.347626808410747,
          -0.23159946754631258,
          -0.4455793612367743,
          -0.06588596165374287,
          -1.3878920907572154,
          -1.008227288385752,
          0.5214377993630165,
          -0.018950103896625235,
          -0.14910350029198688,
          -0.5731720468029629,
          -0.9448239720268437,
          -0.22647219243858305,
          0.23146433215176052,
          0.893712658602652,
          -0.6793475172366461,
          1.6732234146359781,
          1.3376624235505683,
          -2.2775249667085014,
          -0.35725965871140325,
          -0.4866196631848915,
          0.5221645015016327,
          -2.3512699124364085,
          -0.5692428042702953,
          0.10925410215289443,
          -0.36194004921095924,
          0.6334634171826902,
          -0.989516778828704,
          1.5894450940447842,
          1.6504996902903266,
          0.08065315455009567,
          0.06506507570552242,
          -0.2945574392855909,
          0.5163758035262357,
          0.7920140242556639,
          -1.1531881291574442,
          -0.45478802547050956,
          0.4148567561667146,
          -1.6225514034438266,
          -0.05256397906113001,
          -0.856629342427809,
          -1.128943548249932,
          2.591930395771614,
          -1.510629341644163,
          0.08673476546190459,
          0.2710878959149094,
          -0.38617512562306183,
          -0.25179677654739074,
          -0.23088214790287442,
          -2.2421051954884854,
          0.22438491327880083,
          0.3358240185176065,
          -1.9844158775313674,
          -1.1360740539664844,
          -0.5211490606702568,
          0.0976208293459543,
          1.6774681184560594,
          1.7459282462631893,
          -2.0453097398102043,
          0.7010203333543181,
          -0.42683017154972774,
          -0.5401712869994386,
          -0.38687846178588225,
          -0.9066203932855437,
          1.0269121046221774,
          0.507489187083504,
          1.9548992675904575
         ]
        }
       ],
       "layout": {
        "legend": {
         "bgcolor": "#F5F6F9",
         "font": {
          "color": "#4D5663"
         }
        },
        "paper_bgcolor": "#F5F6F9",
        "plot_bgcolor": "#F5F6F9",
        "template": {
         "data": {
          "bar": [
           {
            "error_x": {
             "color": "#2a3f5f"
            },
            "error_y": {
             "color": "#2a3f5f"
            },
            "marker": {
             "line": {
              "color": "#E5ECF6",
              "width": 0.5
             }
            },
            "type": "bar"
           }
          ],
          "barpolar": [
           {
            "marker": {
             "line": {
              "color": "#E5ECF6",
              "width": 0.5
             }
            },
            "type": "barpolar"
           }
          ],
          "carpet": [
           {
            "aaxis": {
             "endlinecolor": "#2a3f5f",
             "gridcolor": "white",
             "linecolor": "white",
             "minorgridcolor": "white",
             "startlinecolor": "#2a3f5f"
            },
            "baxis": {
             "endlinecolor": "#2a3f5f",
             "gridcolor": "white",
             "linecolor": "white",
             "minorgridcolor": "white",
             "startlinecolor": "#2a3f5f"
            },
            "type": "carpet"
           }
          ],
          "choropleth": [
           {
            "colorbar": {
             "outlinewidth": 0,
             "ticks": ""
            },
            "type": "choropleth"
           }
          ],
          "contour": [
           {
            "colorbar": {
             "outlinewidth": 0,
             "ticks": ""
            },
            "colorscale": [
             [
              0,
              "#0d0887"
             ],
             [
              0.1111111111111111,
              "#46039f"
             ],
             [
              0.2222222222222222,
              "#7201a8"
             ],
             [
              0.3333333333333333,
              "#9c179e"
             ],
             [
              0.4444444444444444,
              "#bd3786"
             ],
             [
              0.5555555555555556,
              "#d8576b"
             ],
             [
              0.6666666666666666,
              "#ed7953"
             ],
             [
              0.7777777777777778,
              "#fb9f3a"
             ],
             [
              0.8888888888888888,
              "#fdca26"
             ],
             [
              1,
              "#f0f921"
             ]
            ],
            "type": "contour"
           }
          ],
          "contourcarpet": [
           {
            "colorbar": {
             "outlinewidth": 0,
             "ticks": ""
            },
            "type": "contourcarpet"
           }
          ],
          "heatmap": [
           {
            "colorbar": {
             "outlinewidth": 0,
             "ticks": ""
            },
            "colorscale": [
             [
              0,
              "#0d0887"
             ],
             [
              0.1111111111111111,
              "#46039f"
             ],
             [
              0.2222222222222222,
              "#7201a8"
             ],
             [
              0.3333333333333333,
              "#9c179e"
             ],
             [
              0.4444444444444444,
              "#bd3786"
             ],
             [
              0.5555555555555556,
              "#d8576b"
             ],
             [
              0.6666666666666666,
              "#ed7953"
             ],
             [
              0.7777777777777778,
              "#fb9f3a"
             ],
             [
              0.8888888888888888,
              "#fdca26"
             ],
             [
              1,
              "#f0f921"
             ]
            ],
            "type": "heatmap"
           }
          ],
          "heatmapgl": [
           {
            "colorbar": {
             "outlinewidth": 0,
             "ticks": ""
            },
            "colorscale": [
             [
              0,
              "#0d0887"
             ],
             [
              0.1111111111111111,
              "#46039f"
             ],
             [
              0.2222222222222222,
              "#7201a8"
             ],
             [
              0.3333333333333333,
              "#9c179e"
             ],
             [
              0.4444444444444444,
              "#bd3786"
             ],
             [
              0.5555555555555556,
              "#d8576b"
             ],
             [
              0.6666666666666666,
              "#ed7953"
             ],
             [
              0.7777777777777778,
              "#fb9f3a"
             ],
             [
              0.8888888888888888,
              "#fdca26"
             ],
             [
              1,
              "#f0f921"
             ]
            ],
            "type": "heatmapgl"
           }
          ],
          "histogram": [
           {
            "marker": {
             "colorbar": {
              "outlinewidth": 0,
              "ticks": ""
             }
            },
            "type": "histogram"
           }
          ],
          "histogram2d": [
           {
            "colorbar": {
             "outlinewidth": 0,
             "ticks": ""
            },
            "colorscale": [
             [
              0,
              "#0d0887"
             ],
             [
              0.1111111111111111,
              "#46039f"
             ],
             [
              0.2222222222222222,
              "#7201a8"
             ],
             [
              0.3333333333333333,
              "#9c179e"
             ],
             [
              0.4444444444444444,
              "#bd3786"
             ],
             [
              0.5555555555555556,
              "#d8576b"
             ],
             [
              0.6666666666666666,
              "#ed7953"
             ],
             [
              0.7777777777777778,
              "#fb9f3a"
             ],
             [
              0.8888888888888888,
              "#fdca26"
             ],
             [
              1,
              "#f0f921"
             ]
            ],
            "type": "histogram2d"
           }
          ],
          "histogram2dcontour": [
           {
            "colorbar": {
             "outlinewidth": 0,
             "ticks": ""
            },
            "colorscale": [
             [
              0,
              "#0d0887"
             ],
             [
              0.1111111111111111,
              "#46039f"
             ],
             [
              0.2222222222222222,
              "#7201a8"
             ],
             [
              0.3333333333333333,
              "#9c179e"
             ],
             [
              0.4444444444444444,
              "#bd3786"
             ],
             [
              0.5555555555555556,
              "#d8576b"
             ],
             [
              0.6666666666666666,
              "#ed7953"
             ],
             [
              0.7777777777777778,
              "#fb9f3a"
             ],
             [
              0.8888888888888888,
              "#fdca26"
             ],
             [
              1,
              "#f0f921"
             ]
            ],
            "type": "histogram2dcontour"
           }
          ],
          "mesh3d": [
           {
            "colorbar": {
             "outlinewidth": 0,
             "ticks": ""
            },
            "type": "mesh3d"
           }
          ],
          "parcoords": [
           {
            "line": {
             "colorbar": {
              "outlinewidth": 0,
              "ticks": ""
             }
            },
            "type": "parcoords"
           }
          ],
          "pie": [
           {
            "automargin": true,
            "type": "pie"
           }
          ],
          "scatter": [
           {
            "marker": {
             "colorbar": {
              "outlinewidth": 0,
              "ticks": ""
             }
            },
            "type": "scatter"
           }
          ],
          "scatter3d": [
           {
            "line": {
             "colorbar": {
              "outlinewidth": 0,
              "ticks": ""
             }
            },
            "marker": {
             "colorbar": {
              "outlinewidth": 0,
              "ticks": ""
             }
            },
            "type": "scatter3d"
           }
          ],
          "scattercarpet": [
           {
            "marker": {
             "colorbar": {
              "outlinewidth": 0,
              "ticks": ""
             }
            },
            "type": "scattercarpet"
           }
          ],
          "scattergeo": [
           {
            "marker": {
             "colorbar": {
              "outlinewidth": 0,
              "ticks": ""
             }
            },
            "type": "scattergeo"
           }
          ],
          "scattergl": [
           {
            "marker": {
             "colorbar": {
              "outlinewidth": 0,
              "ticks": ""
             }
            },
            "type": "scattergl"
           }
          ],
          "scattermapbox": [
           {
            "marker": {
             "colorbar": {
              "outlinewidth": 0,
              "ticks": ""
             }
            },
            "type": "scattermapbox"
           }
          ],
          "scatterpolar": [
           {
            "marker": {
             "colorbar": {
              "outlinewidth": 0,
              "ticks": ""
             }
            },
            "type": "scatterpolar"
           }
          ],
          "scatterpolargl": [
           {
            "marker": {
             "colorbar": {
              "outlinewidth": 0,
              "ticks": ""
             }
            },
            "type": "scatterpolargl"
           }
          ],
          "scatterternary": [
           {
            "marker": {
             "colorbar": {
              "outlinewidth": 0,
              "ticks": ""
             }
            },
            "type": "scatterternary"
           }
          ],
          "surface": [
           {
            "colorbar": {
             "outlinewidth": 0,
             "ticks": ""
            },
            "colorscale": [
             [
              0,
              "#0d0887"
             ],
             [
              0.1111111111111111,
              "#46039f"
             ],
             [
              0.2222222222222222,
              "#7201a8"
             ],
             [
              0.3333333333333333,
              "#9c179e"
             ],
             [
              0.4444444444444444,
              "#bd3786"
             ],
             [
              0.5555555555555556,
              "#d8576b"
             ],
             [
              0.6666666666666666,
              "#ed7953"
             ],
             [
              0.7777777777777778,
              "#fb9f3a"
             ],
             [
              0.8888888888888888,
              "#fdca26"
             ],
             [
              1,
              "#f0f921"
             ]
            ],
            "type": "surface"
           }
          ],
          "table": [
           {
            "cells": {
             "fill": {
              "color": "#EBF0F8"
             },
             "line": {
              "color": "white"
             }
            },
            "header": {
             "fill": {
              "color": "#C8D4E3"
             },
             "line": {
              "color": "white"
             }
            },
            "type": "table"
           }
          ]
         },
         "layout": {
          "annotationdefaults": {
           "arrowcolor": "#2a3f5f",
           "arrowhead": 0,
           "arrowwidth": 1
          },
          "coloraxis": {
           "colorbar": {
            "outlinewidth": 0,
            "ticks": ""
           }
          },
          "colorscale": {
           "diverging": [
            [
             0,
             "#8e0152"
            ],
            [
             0.1,
             "#c51b7d"
            ],
            [
             0.2,
             "#de77ae"
            ],
            [
             0.3,
             "#f1b6da"
            ],
            [
             0.4,
             "#fde0ef"
            ],
            [
             0.5,
             "#f7f7f7"
            ],
            [
             0.6,
             "#e6f5d0"
            ],
            [
             0.7,
             "#b8e186"
            ],
            [
             0.8,
             "#7fbc41"
            ],
            [
             0.9,
             "#4d9221"
            ],
            [
             1,
             "#276419"
            ]
           ],
           "sequential": [
            [
             0,
             "#0d0887"
            ],
            [
             0.1111111111111111,
             "#46039f"
            ],
            [
             0.2222222222222222,
             "#7201a8"
            ],
            [
             0.3333333333333333,
             "#9c179e"
            ],
            [
             0.4444444444444444,
             "#bd3786"
            ],
            [
             0.5555555555555556,
             "#d8576b"
            ],
            [
             0.6666666666666666,
             "#ed7953"
            ],
            [
             0.7777777777777778,
             "#fb9f3a"
            ],
            [
             0.8888888888888888,
             "#fdca26"
            ],
            [
             1,
             "#f0f921"
            ]
           ],
           "sequentialminus": [
            [
             0,
             "#0d0887"
            ],
            [
             0.1111111111111111,
             "#46039f"
            ],
            [
             0.2222222222222222,
             "#7201a8"
            ],
            [
             0.3333333333333333,
             "#9c179e"
            ],
            [
             0.4444444444444444,
             "#bd3786"
            ],
            [
             0.5555555555555556,
             "#d8576b"
            ],
            [
             0.6666666666666666,
             "#ed7953"
            ],
            [
             0.7777777777777778,
             "#fb9f3a"
            ],
            [
             0.8888888888888888,
             "#fdca26"
            ],
            [
             1,
             "#f0f921"
            ]
           ]
          },
          "colorway": [
           "#636efa",
           "#EF553B",
           "#00cc96",
           "#ab63fa",
           "#FFA15A",
           "#19d3f3",
           "#FF6692",
           "#B6E880",
           "#FF97FF",
           "#FECB52"
          ],
          "font": {
           "color": "#2a3f5f"
          },
          "geo": {
           "bgcolor": "white",
           "lakecolor": "white",
           "landcolor": "#E5ECF6",
           "showlakes": true,
           "showland": true,
           "subunitcolor": "white"
          },
          "hoverlabel": {
           "align": "left"
          },
          "hovermode": "closest",
          "mapbox": {
           "style": "light"
          },
          "paper_bgcolor": "white",
          "plot_bgcolor": "#E5ECF6",
          "polar": {
           "angularaxis": {
            "gridcolor": "white",
            "linecolor": "white",
            "ticks": ""
           },
           "bgcolor": "#E5ECF6",
           "radialaxis": {
            "gridcolor": "white",
            "linecolor": "white",
            "ticks": ""
           }
          },
          "scene": {
           "xaxis": {
            "backgroundcolor": "#E5ECF6",
            "gridcolor": "white",
            "gridwidth": 2,
            "linecolor": "white",
            "showbackground": true,
            "ticks": "",
            "zerolinecolor": "white"
           },
           "yaxis": {
            "backgroundcolor": "#E5ECF6",
            "gridcolor": "white",
            "gridwidth": 2,
            "linecolor": "white",
            "showbackground": true,
            "ticks": "",
            "zerolinecolor": "white"
           },
           "zaxis": {
            "backgroundcolor": "#E5ECF6",
            "gridcolor": "white",
            "gridwidth": 2,
            "linecolor": "white",
            "showbackground": true,
            "ticks": "",
            "zerolinecolor": "white"
           }
          },
          "shapedefaults": {
           "line": {
            "color": "#2a3f5f"
           }
          },
          "ternary": {
           "aaxis": {
            "gridcolor": "white",
            "linecolor": "white",
            "ticks": ""
           },
           "baxis": {
            "gridcolor": "white",
            "linecolor": "white",
            "ticks": ""
           },
           "bgcolor": "#E5ECF6",
           "caxis": {
            "gridcolor": "white",
            "linecolor": "white",
            "ticks": ""
           }
          },
          "title": {
           "x": 0.05
          },
          "xaxis": {
           "automargin": true,
           "gridcolor": "white",
           "linecolor": "white",
           "ticks": "",
           "title": {
            "standoff": 15
           },
           "zerolinecolor": "white",
           "zerolinewidth": 2
          },
          "yaxis": {
           "automargin": true,
           "gridcolor": "white",
           "linecolor": "white",
           "ticks": "",
           "title": {
            "standoff": 15
           },
           "zerolinecolor": "white",
           "zerolinewidth": 2
          }
         }
        },
        "title": {
         "font": {
          "color": "#4D5663"
         }
        },
        "xaxis": {
         "gridcolor": "#E1E5ED",
         "showgrid": true,
         "tickfont": {
          "color": "#4D5663"
         },
         "title": {
          "font": {
           "color": "#4D5663"
          },
          "text": ""
         },
         "zerolinecolor": "#E1E5ED"
        },
        "yaxis": {
         "gridcolor": "#E1E5ED",
         "showgrid": true,
         "tickfont": {
          "color": "#4D5663"
         },
         "title": {
          "font": {
           "color": "#4D5663"
          },
          "text": ""
         },
         "zerolinecolor": "#E1E5ED"
        }
       }
      },
      "text/html": [
       "<div>\n",
       "        \n",
       "        \n",
       "            <div id=\"745d3fa6-102a-4345-a7ae-024cab9965d9\" class=\"plotly-graph-div\" style=\"height:525px; width:100%;\"></div>\n",
       "            <script type=\"text/javascript\">\n",
       "                require([\"plotly\"], function(Plotly) {\n",
       "                    window.PLOTLYENV=window.PLOTLYENV || {};\n",
       "                    window.PLOTLYENV.BASE_URL='https://plot.ly';\n",
       "                    \n",
       "                if (document.getElementById(\"745d3fa6-102a-4345-a7ae-024cab9965d9\")) {\n",
       "                    Plotly.newPlot(\n",
       "                        '745d3fa6-102a-4345-a7ae-024cab9965d9',\n",
       "                        [{\"boxpoints\": false, \"line\": {\"width\": 1.3}, \"marker\": {\"color\": \"rgba(255, 153, 51, 1.0)\"}, \"name\": \"A\", \"orientation\": \"v\", \"type\": \"box\", \"y\": [0.8565004406896697, 0.616667033466685, 0.9298916478237453, -1.6724634436675336, -0.019950485747430385, -0.32800911299570507, -0.520848431309861, -1.30147296225039, 0.918170020841073, -0.003030796847175438, 1.8515261305902329, -2.4657644444358904, -1.439356632219261, 0.15387753978794932, 0.07641025126858664, 0.05696079491628426, 0.994002604240455, 1.3063555379994916, 0.11680196973249214, -0.06144614746125791, 0.16965506162971544, -1.5592095724925938, 1.7362505416468237, -0.5158156181616896, 0.3112988643540849, 0.6367371116974732, -1.5536536001503518, -1.7685320204209458, -0.5392754585148415, 0.10192996646476966, 0.5568460660823932, 0.4092568775144538, 0.6425257437679849, 0.09284381524121892, 1.7894845246730584, -1.5779423255162153, -1.789479229742878, 0.7609651113838944, -0.6674139141954538, -0.4214512133650312, -0.44539736631937926, 0.5186930794439539, -1.0086390260505254, 0.7345811131541214, -0.8682151792015697, -0.5138030956228592, 2.44506810870039, -0.48872333105082555, 1.3671166266258052, -0.01753294451379828, 0.11685967207261917, 1.0155837704561772, -0.5150792361553516, -0.4189522845684282, -1.671800498378324, 0.00849610436739744, -0.895038429064667, -0.7234219959912285, 0.206272727623923, 0.3226173070103636, -0.4358213189085439, 1.485019297233284, 1.3145577597333455, 1.1418099258834655, 0.3899155275990936, 0.6744845811903896, -1.5421747306588416, 0.10759935916787118, -0.29174756418219683, 0.4816850364526941, 0.06383954088766132, 0.805862380002143, 1.7922318721731754, 0.7711332871154744, 1.5493299640694245, 2.1568955364366897, 1.1670866728363158, 0.7987843837817445, 0.5924788058898702, 0.46868961780136764, 0.041509628887594935, 1.4403527221146417, 0.06159499985984685, -0.37884426150130707, -0.5712864766608926, -0.05456501732571868, -1.374456821319399, -0.29150627018452924, -0.5060841247039243, -0.9116186430932947, -0.03191657470382843, -1.1907703476630989, -0.2240749488357738, 0.9880910702602029, -0.6027601036139539, -0.804412324683554, -0.42504929417141835, 0.23827330110499453, 1.2763718707572826, -0.6127361720543995]}, {\"boxpoints\": false, \"line\": {\"width\": 1.3}, \"marker\": {\"color\": \"rgba(55, 128, 191, 1.0)\"}, \"name\": \"B\", \"orientation\": \"v\", \"type\": \"box\", \"y\": [1.475589520025869, 0.058193690147613136, 0.8858587130605142, -1.0062473781673018, 0.46803675911740583, 1.8876584534559304, 1.0068376194540218, 0.20649832656467781, -0.3831842413954928, 0.8146880661445408, 0.7525580546906689, -0.9499437266514072, -0.5124677266513444, -0.07070799266437955, 0.24842935771077734, -0.47466919918713246, 0.1329640121766927, 0.7101899364369233, -0.8129158041745252, -0.9065188940398232, -0.576101023436274, 0.7211521933563564, 0.4980075228147292, -0.4772199892654312, -0.25876529291204786, 0.02805869936306022, -1.1120841762313531, -0.34773983569211936, 0.5592457342025116, -2.2329856221230426, 1.244429738539221, -0.3558037971356808, -1.7071760167849175, -0.38601241809639797, -1.2101106786862859, 0.39581149532187293, -1.613409089316727, -0.017707675178522137, -0.51674385539429, 0.5508169727530585, -0.7657147803155174, 2.102266470888824, -1.9500668951535425, 0.08582168052356781, -1.2031543487810075, 0.09047246874201739, -1.2046473795482855, 0.057008372010706757, -0.6793292136001533, -0.16868751384288672, 0.013752896177967523, 0.13559208744343473, -0.9630115477948523, 0.7230504579164195, -0.7957538189923294, -0.5367136225824187, -1.0077205412350119, -1.7914055716137376, -1.230050510713824, 0.8679372146419765, 0.016712192818447498, -1.7296404941674273, 0.6279507372489606, 2.2072101493033247, -1.426478309767374, -0.10793231034668634, 0.2825793489947289, -1.980919281504627, 1.355967324544568, -0.7001789060327122, -1.2722359256963178, 0.09299395157163394, 0.9666985831548762, -0.3146817160528018, 0.5624621245870179, -0.4257065060814728, 2.8239069121719327, -0.6597234857277737, 0.045685732120529614, -0.01918897826138856, 0.19400035829565307, 0.331512334519879, -0.14894837996905405, -0.35260660854332354, 0.4922341899645374, 0.512147456731329, 0.06474390398539126, 2.3772022790380962, 0.4500853579083613, -0.6527657639931757, -0.047316453982068685, 0.4678256940750706, -0.5795657304715769, -1.2899242922557217, -0.3685463537980794, 0.25886314902995966, -0.659454095923306, -0.28299923424564427, -1.3644779963994549, -0.07484015266979967]}, {\"boxpoints\": false, \"line\": {\"width\": 1.3}, \"marker\": {\"color\": \"rgba(50, 171, 96, 1.0)\"}, \"name\": \"C\", \"orientation\": \"v\", \"type\": \"box\", \"y\": [0.09536454976164993, -1.979873229425567, -0.8006171220144002, -1.4085439333951777, 0.08547942854432763, -0.008826093278719568, -0.2991548029353947, 0.2576029505630603, 0.8795221488870283, -0.07200754103600952, -0.046151183479252546, 0.3374454762825173, -0.6779825948518686, -0.09763964035505414, 1.599220362888875, 0.17648750653606524, 0.18213753336434174, -0.9245131437491316, 2.050342741577169, -0.11525257001200029, -0.3081347973723833, -0.34588166791003433, -0.33520708347079836, -1.0388186655706726, 0.46110275587050625, -0.5761386680731327, 0.8801801412081522, -0.5334511453174319, 2.179848881496895, 0.8510521398255604, -1.302215746186497, -0.2758653764454315, 0.4229725742656263, -0.6854796038539009, -0.46825269421393273, -0.059917604332156246, 0.27907495323068693, -0.4774644670954662, 0.5112678302701621, -2.653886389514963, 0.5602132803496599, -0.09368145292452275, -0.5108472428829691, -0.0049541575064123555, 0.8263529754001935, -1.0298167166950276, 0.11615194577730661, -0.033485373062486425, -0.5023586159199206, -0.5343264848054067, 1.2563645314112177, -0.670756044789189, 0.04086236619495206, -0.48491239039460976, 0.8368010161808237, -1.4747359948647716, -0.678626261666939, 0.055916347271540726, -0.665548308946417, -0.7349920467327229, 1.1431344385353945, 0.10272624712609245, 2.0337920267866245, -0.25664343368236386, 0.3270272774134318, -0.9161936736943582, 0.6640500241172738, 0.45816299396646826, 1.479109563408102, -1.0801874426617148, 0.8645323939687818, 1.556299817995986, -0.19584520336043118, -0.6074092807738445, -0.7036813686304971, -0.2522157220017819, 1.9265828118823523, -1.5812188150203852, 0.109577170426578, 1.7041087583411898, -1.6958191071790105, -1.6508695078091753, -0.14063194438965274, 0.9241987280821946, 0.8150487836869047, 0.5931459555812096, 1.5264875107240874, 0.9944396469378712, -1.3785578513262233, 0.29406582022837885, -0.3913540100322184, -0.3505245746885777, 0.01771170232228889, -0.42157829849596756, -1.130644127991805, 0.44140298627012853, 0.3749867305185496, -0.2891992005348076, -0.9140427672546457, 0.962493619611387]}, {\"boxpoints\": false, \"line\": {\"width\": 1.3}, \"marker\": {\"color\": \"rgba(128, 0, 128, 1.0)\"}, \"name\": \"D\", \"orientation\": \"v\", \"type\": \"box\", \"y\": [-2.8371083245496616, 0.18726671943935058, -0.635752704507406, 0.31204885311241765, -1.6884623420901927, -2.218046636438145, 0.8005326796231135, 0.2571323568177598, -0.7517794685927304, 0.7141700622967905, -0.7034274370151249, 1.7601916791167034, -0.695062955483073, -0.2605103364893929, -0.46730855079440314, 0.7343327121690637, -0.9815267713197737, 0.08934937710201019, 1.2228982710514336, -0.2558313016025286, 0.08473537705506456, -0.2831432143808916, -0.5078694189178844, 1.3868024785701536, -0.5953077204912341, 1.848884077889904, 1.5390355127582946, 0.028268872843309582, -0.595582478100544, 1.5427013777117144, -0.5267129535115503, -2.2191309716885237, 0.0526380368058972, -1.362504559433225, 0.347626808410747, -0.23159946754631258, -0.4455793612367743, -0.06588596165374287, -1.3878920907572154, -1.008227288385752, 0.5214377993630165, -0.018950103896625235, -0.14910350029198688, -0.5731720468029629, -0.9448239720268437, -0.22647219243858305, 0.23146433215176052, 0.893712658602652, -0.6793475172366461, 1.6732234146359781, 1.3376624235505683, -2.2775249667085014, -0.35725965871140325, -0.4866196631848915, 0.5221645015016327, -2.3512699124364085, -0.5692428042702953, 0.10925410215289443, -0.36194004921095924, 0.6334634171826902, -0.989516778828704, 1.5894450940447842, 1.6504996902903266, 0.08065315455009567, 0.06506507570552242, -0.2945574392855909, 0.5163758035262357, 0.7920140242556639, -1.1531881291574442, -0.45478802547050956, 0.4148567561667146, -1.6225514034438266, -0.05256397906113001, -0.856629342427809, -1.128943548249932, 2.591930395771614, -1.510629341644163, 0.08673476546190459, 0.2710878959149094, -0.38617512562306183, -0.25179677654739074, -0.23088214790287442, -2.2421051954884854, 0.22438491327880083, 0.3358240185176065, -1.9844158775313674, -1.1360740539664844, -0.5211490606702568, 0.0976208293459543, 1.6774681184560594, 1.7459282462631893, -2.0453097398102043, 0.7010203333543181, -0.42683017154972774, -0.5401712869994386, -0.38687846178588225, -0.9066203932855437, 1.0269121046221774, 0.507489187083504, 1.9548992675904575]}],\n",
       "                        {\"legend\": {\"bgcolor\": \"#F5F6F9\", \"font\": {\"color\": \"#4D5663\"}}, \"paper_bgcolor\": \"#F5F6F9\", \"plot_bgcolor\": \"#F5F6F9\", \"template\": {\"data\": {\"bar\": [{\"error_x\": {\"color\": \"#2a3f5f\"}, \"error_y\": {\"color\": \"#2a3f5f\"}, \"marker\": {\"line\": {\"color\": \"#E5ECF6\", \"width\": 0.5}}, \"type\": \"bar\"}], \"barpolar\": [{\"marker\": {\"line\": {\"color\": \"#E5ECF6\", \"width\": 0.5}}, \"type\": \"barpolar\"}], \"carpet\": [{\"aaxis\": {\"endlinecolor\": \"#2a3f5f\", \"gridcolor\": \"white\", \"linecolor\": \"white\", \"minorgridcolor\": \"white\", \"startlinecolor\": \"#2a3f5f\"}, \"baxis\": {\"endlinecolor\": \"#2a3f5f\", \"gridcolor\": \"white\", \"linecolor\": \"white\", \"minorgridcolor\": \"white\", \"startlinecolor\": \"#2a3f5f\"}, \"type\": \"carpet\"}], \"choropleth\": [{\"colorbar\": {\"outlinewidth\": 0, \"ticks\": \"\"}, \"type\": \"choropleth\"}], \"contour\": [{\"colorbar\": {\"outlinewidth\": 0, \"ticks\": \"\"}, \"colorscale\": [[0.0, \"#0d0887\"], [0.1111111111111111, \"#46039f\"], [0.2222222222222222, \"#7201a8\"], [0.3333333333333333, \"#9c179e\"], [0.4444444444444444, \"#bd3786\"], [0.5555555555555556, \"#d8576b\"], [0.6666666666666666, \"#ed7953\"], [0.7777777777777778, \"#fb9f3a\"], [0.8888888888888888, \"#fdca26\"], [1.0, \"#f0f921\"]], \"type\": \"contour\"}], \"contourcarpet\": [{\"colorbar\": {\"outlinewidth\": 0, \"ticks\": \"\"}, \"type\": \"contourcarpet\"}], \"heatmap\": [{\"colorbar\": {\"outlinewidth\": 0, \"ticks\": \"\"}, \"colorscale\": [[0.0, \"#0d0887\"], [0.1111111111111111, \"#46039f\"], [0.2222222222222222, \"#7201a8\"], [0.3333333333333333, \"#9c179e\"], [0.4444444444444444, \"#bd3786\"], [0.5555555555555556, \"#d8576b\"], [0.6666666666666666, \"#ed7953\"], [0.7777777777777778, \"#fb9f3a\"], [0.8888888888888888, \"#fdca26\"], [1.0, \"#f0f921\"]], \"type\": \"heatmap\"}], \"heatmapgl\": [{\"colorbar\": {\"outlinewidth\": 0, \"ticks\": \"\"}, \"colorscale\": [[0.0, \"#0d0887\"], [0.1111111111111111, \"#46039f\"], [0.2222222222222222, \"#7201a8\"], [0.3333333333333333, \"#9c179e\"], [0.4444444444444444, \"#bd3786\"], [0.5555555555555556, \"#d8576b\"], [0.6666666666666666, \"#ed7953\"], [0.7777777777777778, \"#fb9f3a\"], [0.8888888888888888, \"#fdca26\"], [1.0, \"#f0f921\"]], \"type\": \"heatmapgl\"}], \"histogram\": [{\"marker\": {\"colorbar\": {\"outlinewidth\": 0, \"ticks\": \"\"}}, \"type\": \"histogram\"}], \"histogram2d\": [{\"colorbar\": {\"outlinewidth\": 0, \"ticks\": \"\"}, \"colorscale\": [[0.0, \"#0d0887\"], [0.1111111111111111, \"#46039f\"], [0.2222222222222222, \"#7201a8\"], [0.3333333333333333, \"#9c179e\"], [0.4444444444444444, \"#bd3786\"], [0.5555555555555556, \"#d8576b\"], [0.6666666666666666, \"#ed7953\"], [0.7777777777777778, \"#fb9f3a\"], [0.8888888888888888, \"#fdca26\"], [1.0, \"#f0f921\"]], \"type\": \"histogram2d\"}], \"histogram2dcontour\": [{\"colorbar\": {\"outlinewidth\": 0, \"ticks\": \"\"}, \"colorscale\": [[0.0, \"#0d0887\"], [0.1111111111111111, \"#46039f\"], [0.2222222222222222, \"#7201a8\"], [0.3333333333333333, \"#9c179e\"], [0.4444444444444444, \"#bd3786\"], [0.5555555555555556, \"#d8576b\"], [0.6666666666666666, \"#ed7953\"], [0.7777777777777778, \"#fb9f3a\"], [0.8888888888888888, \"#fdca26\"], [1.0, \"#f0f921\"]], \"type\": \"histogram2dcontour\"}], \"mesh3d\": [{\"colorbar\": {\"outlinewidth\": 0, \"ticks\": \"\"}, \"type\": \"mesh3d\"}], \"parcoords\": [{\"line\": {\"colorbar\": {\"outlinewidth\": 0, \"ticks\": \"\"}}, \"type\": \"parcoords\"}], \"pie\": [{\"automargin\": true, \"type\": \"pie\"}], \"scatter\": [{\"marker\": {\"colorbar\": {\"outlinewidth\": 0, \"ticks\": \"\"}}, \"type\": \"scatter\"}], \"scatter3d\": [{\"line\": {\"colorbar\": {\"outlinewidth\": 0, \"ticks\": \"\"}}, \"marker\": {\"colorbar\": {\"outlinewidth\": 0, \"ticks\": \"\"}}, \"type\": \"scatter3d\"}], \"scattercarpet\": [{\"marker\": {\"colorbar\": {\"outlinewidth\": 0, \"ticks\": \"\"}}, \"type\": \"scattercarpet\"}], \"scattergeo\": [{\"marker\": {\"colorbar\": {\"outlinewidth\": 0, \"ticks\": \"\"}}, \"type\": \"scattergeo\"}], \"scattergl\": [{\"marker\": {\"colorbar\": {\"outlinewidth\": 0, \"ticks\": \"\"}}, \"type\": \"scattergl\"}], \"scattermapbox\": [{\"marker\": {\"colorbar\": {\"outlinewidth\": 0, \"ticks\": \"\"}}, \"type\": \"scattermapbox\"}], \"scatterpolar\": [{\"marker\": {\"colorbar\": {\"outlinewidth\": 0, \"ticks\": \"\"}}, \"type\": \"scatterpolar\"}], \"scatterpolargl\": [{\"marker\": {\"colorbar\": {\"outlinewidth\": 0, \"ticks\": \"\"}}, \"type\": \"scatterpolargl\"}], \"scatterternary\": [{\"marker\": {\"colorbar\": {\"outlinewidth\": 0, \"ticks\": \"\"}}, \"type\": \"scatterternary\"}], \"surface\": [{\"colorbar\": {\"outlinewidth\": 0, \"ticks\": \"\"}, \"colorscale\": [[0.0, \"#0d0887\"], [0.1111111111111111, \"#46039f\"], [0.2222222222222222, \"#7201a8\"], [0.3333333333333333, \"#9c179e\"], [0.4444444444444444, \"#bd3786\"], [0.5555555555555556, \"#d8576b\"], [0.6666666666666666, \"#ed7953\"], [0.7777777777777778, \"#fb9f3a\"], [0.8888888888888888, \"#fdca26\"], [1.0, \"#f0f921\"]], \"type\": \"surface\"}], \"table\": [{\"cells\": {\"fill\": {\"color\": \"#EBF0F8\"}, \"line\": {\"color\": \"white\"}}, \"header\": {\"fill\": {\"color\": \"#C8D4E3\"}, \"line\": {\"color\": \"white\"}}, \"type\": \"table\"}]}, \"layout\": {\"annotationdefaults\": {\"arrowcolor\": \"#2a3f5f\", \"arrowhead\": 0, \"arrowwidth\": 1}, \"coloraxis\": {\"colorbar\": {\"outlinewidth\": 0, \"ticks\": \"\"}}, \"colorscale\": {\"diverging\": [[0, \"#8e0152\"], [0.1, \"#c51b7d\"], [0.2, \"#de77ae\"], [0.3, \"#f1b6da\"], [0.4, \"#fde0ef\"], [0.5, \"#f7f7f7\"], [0.6, \"#e6f5d0\"], [0.7, \"#b8e186\"], [0.8, \"#7fbc41\"], [0.9, \"#4d9221\"], [1, \"#276419\"]], \"sequential\": [[0.0, \"#0d0887\"], [0.1111111111111111, \"#46039f\"], [0.2222222222222222, \"#7201a8\"], [0.3333333333333333, \"#9c179e\"], [0.4444444444444444, \"#bd3786\"], [0.5555555555555556, \"#d8576b\"], [0.6666666666666666, \"#ed7953\"], [0.7777777777777778, \"#fb9f3a\"], [0.8888888888888888, \"#fdca26\"], [1.0, \"#f0f921\"]], \"sequentialminus\": [[0.0, \"#0d0887\"], [0.1111111111111111, \"#46039f\"], [0.2222222222222222, \"#7201a8\"], [0.3333333333333333, \"#9c179e\"], [0.4444444444444444, \"#bd3786\"], [0.5555555555555556, \"#d8576b\"], [0.6666666666666666, \"#ed7953\"], [0.7777777777777778, \"#fb9f3a\"], [0.8888888888888888, \"#fdca26\"], [1.0, \"#f0f921\"]]}, \"colorway\": [\"#636efa\", \"#EF553B\", \"#00cc96\", \"#ab63fa\", \"#FFA15A\", \"#19d3f3\", \"#FF6692\", \"#B6E880\", \"#FF97FF\", \"#FECB52\"], \"font\": {\"color\": \"#2a3f5f\"}, \"geo\": {\"bgcolor\": \"white\", \"lakecolor\": \"white\", \"landcolor\": \"#E5ECF6\", \"showlakes\": true, \"showland\": true, \"subunitcolor\": \"white\"}, \"hoverlabel\": {\"align\": \"left\"}, \"hovermode\": \"closest\", \"mapbox\": {\"style\": \"light\"}, \"paper_bgcolor\": \"white\", \"plot_bgcolor\": \"#E5ECF6\", \"polar\": {\"angularaxis\": {\"gridcolor\": \"white\", \"linecolor\": \"white\", \"ticks\": \"\"}, \"bgcolor\": \"#E5ECF6\", \"radialaxis\": {\"gridcolor\": \"white\", \"linecolor\": \"white\", \"ticks\": \"\"}}, \"scene\": {\"xaxis\": {\"backgroundcolor\": \"#E5ECF6\", \"gridcolor\": \"white\", \"gridwidth\": 2, \"linecolor\": \"white\", \"showbackground\": true, \"ticks\": \"\", \"zerolinecolor\": \"white\"}, \"yaxis\": {\"backgroundcolor\": \"#E5ECF6\", \"gridcolor\": \"white\", \"gridwidth\": 2, \"linecolor\": \"white\", \"showbackground\": true, \"ticks\": \"\", \"zerolinecolor\": \"white\"}, \"zaxis\": {\"backgroundcolor\": \"#E5ECF6\", \"gridcolor\": \"white\", \"gridwidth\": 2, \"linecolor\": \"white\", \"showbackground\": true, \"ticks\": \"\", \"zerolinecolor\": \"white\"}}, \"shapedefaults\": {\"line\": {\"color\": \"#2a3f5f\"}}, \"ternary\": {\"aaxis\": {\"gridcolor\": \"white\", \"linecolor\": \"white\", \"ticks\": \"\"}, \"baxis\": {\"gridcolor\": \"white\", \"linecolor\": \"white\", \"ticks\": \"\"}, \"bgcolor\": \"#E5ECF6\", \"caxis\": {\"gridcolor\": \"white\", \"linecolor\": \"white\", \"ticks\": \"\"}}, \"title\": {\"x\": 0.05}, \"xaxis\": {\"automargin\": true, \"gridcolor\": \"white\", \"linecolor\": \"white\", \"ticks\": \"\", \"title\": {\"standoff\": 15}, \"zerolinecolor\": \"white\", \"zerolinewidth\": 2}, \"yaxis\": {\"automargin\": true, \"gridcolor\": \"white\", \"linecolor\": \"white\", \"ticks\": \"\", \"title\": {\"standoff\": 15}, \"zerolinecolor\": \"white\", \"zerolinewidth\": 2}}}, \"title\": {\"font\": {\"color\": \"#4D5663\"}}, \"xaxis\": {\"gridcolor\": \"#E1E5ED\", \"showgrid\": true, \"tickfont\": {\"color\": \"#4D5663\"}, \"title\": {\"font\": {\"color\": \"#4D5663\"}, \"text\": \"\"}, \"zerolinecolor\": \"#E1E5ED\"}, \"yaxis\": {\"gridcolor\": \"#E1E5ED\", \"showgrid\": true, \"tickfont\": {\"color\": \"#4D5663\"}, \"title\": {\"font\": {\"color\": \"#4D5663\"}, \"text\": \"\"}, \"zerolinecolor\": \"#E1E5ED\"}},\n",
       "                        {\"showLink\": true, \"linkText\": \"Export to plot.ly\", \"plotlyServerURL\": \"https://plot.ly\", \"responsive\": true}\n",
       "                    ).then(function(){\n",
       "                            \n",
       "var gd = document.getElementById('745d3fa6-102a-4345-a7ae-024cab9965d9');\n",
       "var x = new MutationObserver(function (mutations, observer) {{\n",
       "        var display = window.getComputedStyle(gd).display;\n",
       "        if (!display || display === 'none') {{\n",
       "            console.log([gd, 'removed!']);\n",
       "            Plotly.purge(gd);\n",
       "            observer.disconnect();\n",
       "        }}\n",
       "}});\n",
       "\n",
       "// Listen for the removal of the full notebook cells\n",
       "var notebookContainer = gd.closest('#notebook-container');\n",
       "if (notebookContainer) {{\n",
       "    x.observe(notebookContainer, {childList: true});\n",
       "}}\n",
       "\n",
       "// Listen for the clearing of the current output cell\n",
       "var outputEl = gd.closest('.output');\n",
       "if (outputEl) {{\n",
       "    x.observe(outputEl, {childList: true});\n",
       "}}\n",
       "\n",
       "                        })\n",
       "                };\n",
       "                });\n",
       "            </script>\n",
       "        </div>"
      ]
     },
     "metadata": {},
     "output_type": "display_data"
    }
   ],
   "source": [
    "df.iplot(kind='box')"
   ]
  },
  {
   "cell_type": "markdown",
   "metadata": {},
   "source": [
    "## 3D surface plot\n",
    "\n",
    "- In order to create a surface plot, I will need to craete a new dataFrame called'df3'"
   ]
  },
  {
   "cell_type": "code",
   "execution_count": 57,
   "metadata": {},
   "outputs": [],
   "source": [
    "df3 = pd.DataFrame({'x':[1,2,3,4,5],'y':[10,20,30,20,10],'z':[500,400,300,200,100]})"
   ]
  },
  {
   "cell_type": "code",
   "execution_count": 59,
   "metadata": {},
   "outputs": [
    {
     "data": {
      "text/html": [
       "<div>\n",
       "<style scoped>\n",
       "    .dataframe tbody tr th:only-of-type {\n",
       "        vertical-align: middle;\n",
       "    }\n",
       "\n",
       "    .dataframe tbody tr th {\n",
       "        vertical-align: top;\n",
       "    }\n",
       "\n",
       "    .dataframe thead th {\n",
       "        text-align: right;\n",
       "    }\n",
       "</style>\n",
       "<table border=\"1\" class=\"dataframe\">\n",
       "  <thead>\n",
       "    <tr style=\"text-align: right;\">\n",
       "      <th></th>\n",
       "      <th>x</th>\n",
       "      <th>y</th>\n",
       "      <th>z</th>\n",
       "    </tr>\n",
       "  </thead>\n",
       "  <tbody>\n",
       "    <tr>\n",
       "      <td>0</td>\n",
       "      <td>1</td>\n",
       "      <td>10</td>\n",
       "      <td>500</td>\n",
       "    </tr>\n",
       "    <tr>\n",
       "      <td>1</td>\n",
       "      <td>2</td>\n",
       "      <td>20</td>\n",
       "      <td>400</td>\n",
       "    </tr>\n",
       "    <tr>\n",
       "      <td>2</td>\n",
       "      <td>3</td>\n",
       "      <td>30</td>\n",
       "      <td>300</td>\n",
       "    </tr>\n",
       "    <tr>\n",
       "      <td>3</td>\n",
       "      <td>4</td>\n",
       "      <td>20</td>\n",
       "      <td>200</td>\n",
       "    </tr>\n",
       "    <tr>\n",
       "      <td>4</td>\n",
       "      <td>5</td>\n",
       "      <td>10</td>\n",
       "      <td>100</td>\n",
       "    </tr>\n",
       "  </tbody>\n",
       "</table>\n",
       "</div>"
      ],
      "text/plain": [
       "   x   y    z\n",
       "0  1  10  500\n",
       "1  2  20  400\n",
       "2  3  30  300\n",
       "3  4  20  200\n",
       "4  5  10  100"
      ]
     },
     "execution_count": 59,
     "metadata": {},
     "output_type": "execute_result"
    }
   ],
   "source": [
    "df3"
   ]
  },
  {
   "cell_type": "code",
   "execution_count": 60,
   "metadata": {},
   "outputs": [
    {
     "data": {
      "application/vnd.plotly.v1+json": {
       "config": {
        "linkText": "Export to plot.ly",
        "plotlyServerURL": "https://plot.ly",
        "showLink": true
       },
       "data": [
        {
         "colorscale": [
          [
           0,
           "rgb(255, 153, 51)"
          ],
          [
           0.1111111111111111,
           "rgb(55, 128, 191)"
          ],
          [
           0.2222222222222222,
           "rgb(50, 171, 96)"
          ],
          [
           0.3333333333333333,
           "rgb(128, 0, 128)"
          ],
          [
           0.4444444444444444,
           "rgb(219, 64, 82)"
          ],
          [
           0.5555555555555556,
           "rgb(0, 128, 128)"
          ],
          [
           0.6666666666666666,
           "rgb(255, 255, 51)"
          ],
          [
           0.7777777777777778,
           "rgb(128, 128, 0)"
          ],
          [
           0.8888888888888888,
           "rgb(251, 128, 114)"
          ],
          [
           1,
           "rgb(128, 177, 211)"
          ]
         ],
         "type": "surface",
         "x": [
          0,
          1,
          2,
          3,
          4
         ],
         "y": [
          "x",
          "y",
          "z"
         ],
         "z": [
          [
           1,
           2,
           3,
           4,
           5
          ],
          [
           10,
           20,
           30,
           20,
           10
          ],
          [
           500,
           400,
           300,
           200,
           100
          ]
         ]
        }
       ],
       "layout": {
        "legend": {
         "bgcolor": "#F5F6F9",
         "font": {
          "color": "#4D5663"
         }
        },
        "paper_bgcolor": "#F5F6F9",
        "plot_bgcolor": "#F5F6F9",
        "template": {
         "data": {
          "bar": [
           {
            "error_x": {
             "color": "#2a3f5f"
            },
            "error_y": {
             "color": "#2a3f5f"
            },
            "marker": {
             "line": {
              "color": "#E5ECF6",
              "width": 0.5
             }
            },
            "type": "bar"
           }
          ],
          "barpolar": [
           {
            "marker": {
             "line": {
              "color": "#E5ECF6",
              "width": 0.5
             }
            },
            "type": "barpolar"
           }
          ],
          "carpet": [
           {
            "aaxis": {
             "endlinecolor": "#2a3f5f",
             "gridcolor": "white",
             "linecolor": "white",
             "minorgridcolor": "white",
             "startlinecolor": "#2a3f5f"
            },
            "baxis": {
             "endlinecolor": "#2a3f5f",
             "gridcolor": "white",
             "linecolor": "white",
             "minorgridcolor": "white",
             "startlinecolor": "#2a3f5f"
            },
            "type": "carpet"
           }
          ],
          "choropleth": [
           {
            "colorbar": {
             "outlinewidth": 0,
             "ticks": ""
            },
            "type": "choropleth"
           }
          ],
          "contour": [
           {
            "colorbar": {
             "outlinewidth": 0,
             "ticks": ""
            },
            "colorscale": [
             [
              0,
              "#0d0887"
             ],
             [
              0.1111111111111111,
              "#46039f"
             ],
             [
              0.2222222222222222,
              "#7201a8"
             ],
             [
              0.3333333333333333,
              "#9c179e"
             ],
             [
              0.4444444444444444,
              "#bd3786"
             ],
             [
              0.5555555555555556,
              "#d8576b"
             ],
             [
              0.6666666666666666,
              "#ed7953"
             ],
             [
              0.7777777777777778,
              "#fb9f3a"
             ],
             [
              0.8888888888888888,
              "#fdca26"
             ],
             [
              1,
              "#f0f921"
             ]
            ],
            "type": "contour"
           }
          ],
          "contourcarpet": [
           {
            "colorbar": {
             "outlinewidth": 0,
             "ticks": ""
            },
            "type": "contourcarpet"
           }
          ],
          "heatmap": [
           {
            "colorbar": {
             "outlinewidth": 0,
             "ticks": ""
            },
            "colorscale": [
             [
              0,
              "#0d0887"
             ],
             [
              0.1111111111111111,
              "#46039f"
             ],
             [
              0.2222222222222222,
              "#7201a8"
             ],
             [
              0.3333333333333333,
              "#9c179e"
             ],
             [
              0.4444444444444444,
              "#bd3786"
             ],
             [
              0.5555555555555556,
              "#d8576b"
             ],
             [
              0.6666666666666666,
              "#ed7953"
             ],
             [
              0.7777777777777778,
              "#fb9f3a"
             ],
             [
              0.8888888888888888,
              "#fdca26"
             ],
             [
              1,
              "#f0f921"
             ]
            ],
            "type": "heatmap"
           }
          ],
          "heatmapgl": [
           {
            "colorbar": {
             "outlinewidth": 0,
             "ticks": ""
            },
            "colorscale": [
             [
              0,
              "#0d0887"
             ],
             [
              0.1111111111111111,
              "#46039f"
             ],
             [
              0.2222222222222222,
              "#7201a8"
             ],
             [
              0.3333333333333333,
              "#9c179e"
             ],
             [
              0.4444444444444444,
              "#bd3786"
             ],
             [
              0.5555555555555556,
              "#d8576b"
             ],
             [
              0.6666666666666666,
              "#ed7953"
             ],
             [
              0.7777777777777778,
              "#fb9f3a"
             ],
             [
              0.8888888888888888,
              "#fdca26"
             ],
             [
              1,
              "#f0f921"
             ]
            ],
            "type": "heatmapgl"
           }
          ],
          "histogram": [
           {
            "marker": {
             "colorbar": {
              "outlinewidth": 0,
              "ticks": ""
             }
            },
            "type": "histogram"
           }
          ],
          "histogram2d": [
           {
            "colorbar": {
             "outlinewidth": 0,
             "ticks": ""
            },
            "colorscale": [
             [
              0,
              "#0d0887"
             ],
             [
              0.1111111111111111,
              "#46039f"
             ],
             [
              0.2222222222222222,
              "#7201a8"
             ],
             [
              0.3333333333333333,
              "#9c179e"
             ],
             [
              0.4444444444444444,
              "#bd3786"
             ],
             [
              0.5555555555555556,
              "#d8576b"
             ],
             [
              0.6666666666666666,
              "#ed7953"
             ],
             [
              0.7777777777777778,
              "#fb9f3a"
             ],
             [
              0.8888888888888888,
              "#fdca26"
             ],
             [
              1,
              "#f0f921"
             ]
            ],
            "type": "histogram2d"
           }
          ],
          "histogram2dcontour": [
           {
            "colorbar": {
             "outlinewidth": 0,
             "ticks": ""
            },
            "colorscale": [
             [
              0,
              "#0d0887"
             ],
             [
              0.1111111111111111,
              "#46039f"
             ],
             [
              0.2222222222222222,
              "#7201a8"
             ],
             [
              0.3333333333333333,
              "#9c179e"
             ],
             [
              0.4444444444444444,
              "#bd3786"
             ],
             [
              0.5555555555555556,
              "#d8576b"
             ],
             [
              0.6666666666666666,
              "#ed7953"
             ],
             [
              0.7777777777777778,
              "#fb9f3a"
             ],
             [
              0.8888888888888888,
              "#fdca26"
             ],
             [
              1,
              "#f0f921"
             ]
            ],
            "type": "histogram2dcontour"
           }
          ],
          "mesh3d": [
           {
            "colorbar": {
             "outlinewidth": 0,
             "ticks": ""
            },
            "type": "mesh3d"
           }
          ],
          "parcoords": [
           {
            "line": {
             "colorbar": {
              "outlinewidth": 0,
              "ticks": ""
             }
            },
            "type": "parcoords"
           }
          ],
          "pie": [
           {
            "automargin": true,
            "type": "pie"
           }
          ],
          "scatter": [
           {
            "marker": {
             "colorbar": {
              "outlinewidth": 0,
              "ticks": ""
             }
            },
            "type": "scatter"
           }
          ],
          "scatter3d": [
           {
            "line": {
             "colorbar": {
              "outlinewidth": 0,
              "ticks": ""
             }
            },
            "marker": {
             "colorbar": {
              "outlinewidth": 0,
              "ticks": ""
             }
            },
            "type": "scatter3d"
           }
          ],
          "scattercarpet": [
           {
            "marker": {
             "colorbar": {
              "outlinewidth": 0,
              "ticks": ""
             }
            },
            "type": "scattercarpet"
           }
          ],
          "scattergeo": [
           {
            "marker": {
             "colorbar": {
              "outlinewidth": 0,
              "ticks": ""
             }
            },
            "type": "scattergeo"
           }
          ],
          "scattergl": [
           {
            "marker": {
             "colorbar": {
              "outlinewidth": 0,
              "ticks": ""
             }
            },
            "type": "scattergl"
           }
          ],
          "scattermapbox": [
           {
            "marker": {
             "colorbar": {
              "outlinewidth": 0,
              "ticks": ""
             }
            },
            "type": "scattermapbox"
           }
          ],
          "scatterpolar": [
           {
            "marker": {
             "colorbar": {
              "outlinewidth": 0,
              "ticks": ""
             }
            },
            "type": "scatterpolar"
           }
          ],
          "scatterpolargl": [
           {
            "marker": {
             "colorbar": {
              "outlinewidth": 0,
              "ticks": ""
             }
            },
            "type": "scatterpolargl"
           }
          ],
          "scatterternary": [
           {
            "marker": {
             "colorbar": {
              "outlinewidth": 0,
              "ticks": ""
             }
            },
            "type": "scatterternary"
           }
          ],
          "surface": [
           {
            "colorbar": {
             "outlinewidth": 0,
             "ticks": ""
            },
            "colorscale": [
             [
              0,
              "#0d0887"
             ],
             [
              0.1111111111111111,
              "#46039f"
             ],
             [
              0.2222222222222222,
              "#7201a8"
             ],
             [
              0.3333333333333333,
              "#9c179e"
             ],
             [
              0.4444444444444444,
              "#bd3786"
             ],
             [
              0.5555555555555556,
              "#d8576b"
             ],
             [
              0.6666666666666666,
              "#ed7953"
             ],
             [
              0.7777777777777778,
              "#fb9f3a"
             ],
             [
              0.8888888888888888,
              "#fdca26"
             ],
             [
              1,
              "#f0f921"
             ]
            ],
            "type": "surface"
           }
          ],
          "table": [
           {
            "cells": {
             "fill": {
              "color": "#EBF0F8"
             },
             "line": {
              "color": "white"
             }
            },
            "header": {
             "fill": {
              "color": "#C8D4E3"
             },
             "line": {
              "color": "white"
             }
            },
            "type": "table"
           }
          ]
         },
         "layout": {
          "annotationdefaults": {
           "arrowcolor": "#2a3f5f",
           "arrowhead": 0,
           "arrowwidth": 1
          },
          "coloraxis": {
           "colorbar": {
            "outlinewidth": 0,
            "ticks": ""
           }
          },
          "colorscale": {
           "diverging": [
            [
             0,
             "#8e0152"
            ],
            [
             0.1,
             "#c51b7d"
            ],
            [
             0.2,
             "#de77ae"
            ],
            [
             0.3,
             "#f1b6da"
            ],
            [
             0.4,
             "#fde0ef"
            ],
            [
             0.5,
             "#f7f7f7"
            ],
            [
             0.6,
             "#e6f5d0"
            ],
            [
             0.7,
             "#b8e186"
            ],
            [
             0.8,
             "#7fbc41"
            ],
            [
             0.9,
             "#4d9221"
            ],
            [
             1,
             "#276419"
            ]
           ],
           "sequential": [
            [
             0,
             "#0d0887"
            ],
            [
             0.1111111111111111,
             "#46039f"
            ],
            [
             0.2222222222222222,
             "#7201a8"
            ],
            [
             0.3333333333333333,
             "#9c179e"
            ],
            [
             0.4444444444444444,
             "#bd3786"
            ],
            [
             0.5555555555555556,
             "#d8576b"
            ],
            [
             0.6666666666666666,
             "#ed7953"
            ],
            [
             0.7777777777777778,
             "#fb9f3a"
            ],
            [
             0.8888888888888888,
             "#fdca26"
            ],
            [
             1,
             "#f0f921"
            ]
           ],
           "sequentialminus": [
            [
             0,
             "#0d0887"
            ],
            [
             0.1111111111111111,
             "#46039f"
            ],
            [
             0.2222222222222222,
             "#7201a8"
            ],
            [
             0.3333333333333333,
             "#9c179e"
            ],
            [
             0.4444444444444444,
             "#bd3786"
            ],
            [
             0.5555555555555556,
             "#d8576b"
            ],
            [
             0.6666666666666666,
             "#ed7953"
            ],
            [
             0.7777777777777778,
             "#fb9f3a"
            ],
            [
             0.8888888888888888,
             "#fdca26"
            ],
            [
             1,
             "#f0f921"
            ]
           ]
          },
          "colorway": [
           "#636efa",
           "#EF553B",
           "#00cc96",
           "#ab63fa",
           "#FFA15A",
           "#19d3f3",
           "#FF6692",
           "#B6E880",
           "#FF97FF",
           "#FECB52"
          ],
          "font": {
           "color": "#2a3f5f"
          },
          "geo": {
           "bgcolor": "white",
           "lakecolor": "white",
           "landcolor": "#E5ECF6",
           "showlakes": true,
           "showland": true,
           "subunitcolor": "white"
          },
          "hoverlabel": {
           "align": "left"
          },
          "hovermode": "closest",
          "mapbox": {
           "style": "light"
          },
          "paper_bgcolor": "white",
          "plot_bgcolor": "#E5ECF6",
          "polar": {
           "angularaxis": {
            "gridcolor": "white",
            "linecolor": "white",
            "ticks": ""
           },
           "bgcolor": "#E5ECF6",
           "radialaxis": {
            "gridcolor": "white",
            "linecolor": "white",
            "ticks": ""
           }
          },
          "scene": {
           "xaxis": {
            "backgroundcolor": "#E5ECF6",
            "gridcolor": "white",
            "gridwidth": 2,
            "linecolor": "white",
            "showbackground": true,
            "ticks": "",
            "zerolinecolor": "white"
           },
           "yaxis": {
            "backgroundcolor": "#E5ECF6",
            "gridcolor": "white",
            "gridwidth": 2,
            "linecolor": "white",
            "showbackground": true,
            "ticks": "",
            "zerolinecolor": "white"
           },
           "zaxis": {
            "backgroundcolor": "#E5ECF6",
            "gridcolor": "white",
            "gridwidth": 2,
            "linecolor": "white",
            "showbackground": true,
            "ticks": "",
            "zerolinecolor": "white"
           }
          },
          "shapedefaults": {
           "line": {
            "color": "#2a3f5f"
           }
          },
          "ternary": {
           "aaxis": {
            "gridcolor": "white",
            "linecolor": "white",
            "ticks": ""
           },
           "baxis": {
            "gridcolor": "white",
            "linecolor": "white",
            "ticks": ""
           },
           "bgcolor": "#E5ECF6",
           "caxis": {
            "gridcolor": "white",
            "linecolor": "white",
            "ticks": ""
           }
          },
          "title": {
           "x": 0.05
          },
          "xaxis": {
           "automargin": true,
           "gridcolor": "white",
           "linecolor": "white",
           "ticks": "",
           "title": {
            "standoff": 15
           },
           "zerolinecolor": "white",
           "zerolinewidth": 2
          },
          "yaxis": {
           "automargin": true,
           "gridcolor": "white",
           "linecolor": "white",
           "ticks": "",
           "title": {
            "standoff": 15
           },
           "zerolinecolor": "white",
           "zerolinewidth": 2
          }
         }
        },
        "title": {
         "font": {
          "color": "#4D5663"
         }
        },
        "xaxis": {
         "gridcolor": "#E1E5ED",
         "showgrid": true,
         "tickfont": {
          "color": "#4D5663"
         },
         "title": {
          "font": {
           "color": "#4D5663"
          },
          "text": ""
         },
         "zerolinecolor": "#E1E5ED"
        },
        "yaxis": {
         "gridcolor": "#E1E5ED",
         "showgrid": true,
         "tickfont": {
          "color": "#4D5663"
         },
         "title": {
          "font": {
           "color": "#4D5663"
          },
          "text": ""
         },
         "zerolinecolor": "#E1E5ED"
        }
       }
      },
      "text/html": [
       "<div>\n",
       "        \n",
       "        \n",
       "            <div id=\"236e28c6-08f8-4af4-9b72-4b6da03fc9bc\" class=\"plotly-graph-div\" style=\"height:525px; width:100%;\"></div>\n",
       "            <script type=\"text/javascript\">\n",
       "                require([\"plotly\"], function(Plotly) {\n",
       "                    window.PLOTLYENV=window.PLOTLYENV || {};\n",
       "                    window.PLOTLYENV.BASE_URL='https://plot.ly';\n",
       "                    \n",
       "                if (document.getElementById(\"236e28c6-08f8-4af4-9b72-4b6da03fc9bc\")) {\n",
       "                    Plotly.newPlot(\n",
       "                        '236e28c6-08f8-4af4-9b72-4b6da03fc9bc',\n",
       "                        [{\"colorscale\": [[0.0, \"rgb(255, 153, 51)\"], [0.1111111111111111, \"rgb(55, 128, 191)\"], [0.2222222222222222, \"rgb(50, 171, 96)\"], [0.3333333333333333, \"rgb(128, 0, 128)\"], [0.4444444444444444, \"rgb(219, 64, 82)\"], [0.5555555555555556, \"rgb(0, 128, 128)\"], [0.6666666666666666, \"rgb(255, 255, 51)\"], [0.7777777777777778, \"rgb(128, 128, 0)\"], [0.8888888888888888, \"rgb(251, 128, 114)\"], [1.0, \"rgb(128, 177, 211)\"]], \"type\": \"surface\", \"x\": [0, 1, 2, 3, 4], \"y\": [\"x\", \"y\", \"z\"], \"z\": [[1, 2, 3, 4, 5], [10, 20, 30, 20, 10], [500, 400, 300, 200, 100]]}],\n",
       "                        {\"legend\": {\"bgcolor\": \"#F5F6F9\", \"font\": {\"color\": \"#4D5663\"}}, \"paper_bgcolor\": \"#F5F6F9\", \"plot_bgcolor\": \"#F5F6F9\", \"template\": {\"data\": {\"bar\": [{\"error_x\": {\"color\": \"#2a3f5f\"}, \"error_y\": {\"color\": \"#2a3f5f\"}, \"marker\": {\"line\": {\"color\": \"#E5ECF6\", \"width\": 0.5}}, \"type\": \"bar\"}], \"barpolar\": [{\"marker\": {\"line\": {\"color\": \"#E5ECF6\", \"width\": 0.5}}, \"type\": \"barpolar\"}], \"carpet\": [{\"aaxis\": {\"endlinecolor\": \"#2a3f5f\", \"gridcolor\": \"white\", \"linecolor\": \"white\", \"minorgridcolor\": \"white\", \"startlinecolor\": \"#2a3f5f\"}, \"baxis\": {\"endlinecolor\": \"#2a3f5f\", \"gridcolor\": \"white\", \"linecolor\": \"white\", \"minorgridcolor\": \"white\", \"startlinecolor\": \"#2a3f5f\"}, \"type\": \"carpet\"}], \"choropleth\": [{\"colorbar\": {\"outlinewidth\": 0, \"ticks\": \"\"}, \"type\": \"choropleth\"}], \"contour\": [{\"colorbar\": {\"outlinewidth\": 0, \"ticks\": \"\"}, \"colorscale\": [[0.0, \"#0d0887\"], [0.1111111111111111, \"#46039f\"], [0.2222222222222222, \"#7201a8\"], [0.3333333333333333, \"#9c179e\"], [0.4444444444444444, \"#bd3786\"], [0.5555555555555556, \"#d8576b\"], [0.6666666666666666, \"#ed7953\"], [0.7777777777777778, \"#fb9f3a\"], [0.8888888888888888, \"#fdca26\"], [1.0, \"#f0f921\"]], \"type\": \"contour\"}], \"contourcarpet\": [{\"colorbar\": {\"outlinewidth\": 0, \"ticks\": \"\"}, \"type\": \"contourcarpet\"}], \"heatmap\": [{\"colorbar\": {\"outlinewidth\": 0, \"ticks\": \"\"}, \"colorscale\": [[0.0, \"#0d0887\"], [0.1111111111111111, \"#46039f\"], [0.2222222222222222, \"#7201a8\"], [0.3333333333333333, \"#9c179e\"], [0.4444444444444444, \"#bd3786\"], [0.5555555555555556, \"#d8576b\"], [0.6666666666666666, \"#ed7953\"], [0.7777777777777778, \"#fb9f3a\"], [0.8888888888888888, \"#fdca26\"], [1.0, \"#f0f921\"]], \"type\": \"heatmap\"}], \"heatmapgl\": [{\"colorbar\": {\"outlinewidth\": 0, \"ticks\": \"\"}, \"colorscale\": [[0.0, \"#0d0887\"], [0.1111111111111111, \"#46039f\"], [0.2222222222222222, \"#7201a8\"], [0.3333333333333333, \"#9c179e\"], [0.4444444444444444, \"#bd3786\"], [0.5555555555555556, \"#d8576b\"], [0.6666666666666666, \"#ed7953\"], [0.7777777777777778, \"#fb9f3a\"], [0.8888888888888888, \"#fdca26\"], [1.0, \"#f0f921\"]], \"type\": \"heatmapgl\"}], \"histogram\": [{\"marker\": {\"colorbar\": {\"outlinewidth\": 0, \"ticks\": \"\"}}, \"type\": \"histogram\"}], \"histogram2d\": [{\"colorbar\": {\"outlinewidth\": 0, \"ticks\": \"\"}, \"colorscale\": [[0.0, \"#0d0887\"], [0.1111111111111111, \"#46039f\"], [0.2222222222222222, \"#7201a8\"], [0.3333333333333333, \"#9c179e\"], [0.4444444444444444, \"#bd3786\"], [0.5555555555555556, \"#d8576b\"], [0.6666666666666666, \"#ed7953\"], [0.7777777777777778, \"#fb9f3a\"], [0.8888888888888888, \"#fdca26\"], [1.0, \"#f0f921\"]], \"type\": \"histogram2d\"}], \"histogram2dcontour\": [{\"colorbar\": {\"outlinewidth\": 0, \"ticks\": \"\"}, \"colorscale\": [[0.0, \"#0d0887\"], [0.1111111111111111, \"#46039f\"], [0.2222222222222222, \"#7201a8\"], [0.3333333333333333, \"#9c179e\"], [0.4444444444444444, \"#bd3786\"], [0.5555555555555556, \"#d8576b\"], [0.6666666666666666, \"#ed7953\"], [0.7777777777777778, \"#fb9f3a\"], [0.8888888888888888, \"#fdca26\"], [1.0, \"#f0f921\"]], \"type\": \"histogram2dcontour\"}], \"mesh3d\": [{\"colorbar\": {\"outlinewidth\": 0, \"ticks\": \"\"}, \"type\": \"mesh3d\"}], \"parcoords\": [{\"line\": {\"colorbar\": {\"outlinewidth\": 0, \"ticks\": \"\"}}, \"type\": \"parcoords\"}], \"pie\": [{\"automargin\": true, \"type\": \"pie\"}], \"scatter\": [{\"marker\": {\"colorbar\": {\"outlinewidth\": 0, \"ticks\": \"\"}}, \"type\": \"scatter\"}], \"scatter3d\": [{\"line\": {\"colorbar\": {\"outlinewidth\": 0, \"ticks\": \"\"}}, \"marker\": {\"colorbar\": {\"outlinewidth\": 0, \"ticks\": \"\"}}, \"type\": \"scatter3d\"}], \"scattercarpet\": [{\"marker\": {\"colorbar\": {\"outlinewidth\": 0, \"ticks\": \"\"}}, \"type\": \"scattercarpet\"}], \"scattergeo\": [{\"marker\": {\"colorbar\": {\"outlinewidth\": 0, \"ticks\": \"\"}}, \"type\": \"scattergeo\"}], \"scattergl\": [{\"marker\": {\"colorbar\": {\"outlinewidth\": 0, \"ticks\": \"\"}}, \"type\": \"scattergl\"}], \"scattermapbox\": [{\"marker\": {\"colorbar\": {\"outlinewidth\": 0, \"ticks\": \"\"}}, \"type\": \"scattermapbox\"}], \"scatterpolar\": [{\"marker\": {\"colorbar\": {\"outlinewidth\": 0, \"ticks\": \"\"}}, \"type\": \"scatterpolar\"}], \"scatterpolargl\": [{\"marker\": {\"colorbar\": {\"outlinewidth\": 0, \"ticks\": \"\"}}, \"type\": \"scatterpolargl\"}], \"scatterternary\": [{\"marker\": {\"colorbar\": {\"outlinewidth\": 0, \"ticks\": \"\"}}, \"type\": \"scatterternary\"}], \"surface\": [{\"colorbar\": {\"outlinewidth\": 0, \"ticks\": \"\"}, \"colorscale\": [[0.0, \"#0d0887\"], [0.1111111111111111, \"#46039f\"], [0.2222222222222222, \"#7201a8\"], [0.3333333333333333, \"#9c179e\"], [0.4444444444444444, \"#bd3786\"], [0.5555555555555556, \"#d8576b\"], [0.6666666666666666, \"#ed7953\"], [0.7777777777777778, \"#fb9f3a\"], [0.8888888888888888, \"#fdca26\"], [1.0, \"#f0f921\"]], \"type\": \"surface\"}], \"table\": [{\"cells\": {\"fill\": {\"color\": \"#EBF0F8\"}, \"line\": {\"color\": \"white\"}}, \"header\": {\"fill\": {\"color\": \"#C8D4E3\"}, \"line\": {\"color\": \"white\"}}, \"type\": \"table\"}]}, \"layout\": {\"annotationdefaults\": {\"arrowcolor\": \"#2a3f5f\", \"arrowhead\": 0, \"arrowwidth\": 1}, \"coloraxis\": {\"colorbar\": {\"outlinewidth\": 0, \"ticks\": \"\"}}, \"colorscale\": {\"diverging\": [[0, \"#8e0152\"], [0.1, \"#c51b7d\"], [0.2, \"#de77ae\"], [0.3, \"#f1b6da\"], [0.4, \"#fde0ef\"], [0.5, \"#f7f7f7\"], [0.6, \"#e6f5d0\"], [0.7, \"#b8e186\"], [0.8, \"#7fbc41\"], [0.9, \"#4d9221\"], [1, \"#276419\"]], \"sequential\": [[0.0, \"#0d0887\"], [0.1111111111111111, \"#46039f\"], [0.2222222222222222, \"#7201a8\"], [0.3333333333333333, \"#9c179e\"], [0.4444444444444444, \"#bd3786\"], [0.5555555555555556, \"#d8576b\"], [0.6666666666666666, \"#ed7953\"], [0.7777777777777778, \"#fb9f3a\"], [0.8888888888888888, \"#fdca26\"], [1.0, \"#f0f921\"]], \"sequentialminus\": [[0.0, \"#0d0887\"], [0.1111111111111111, \"#46039f\"], [0.2222222222222222, \"#7201a8\"], [0.3333333333333333, \"#9c179e\"], [0.4444444444444444, \"#bd3786\"], [0.5555555555555556, \"#d8576b\"], [0.6666666666666666, \"#ed7953\"], [0.7777777777777778, \"#fb9f3a\"], [0.8888888888888888, \"#fdca26\"], [1.0, \"#f0f921\"]]}, \"colorway\": [\"#636efa\", \"#EF553B\", \"#00cc96\", \"#ab63fa\", \"#FFA15A\", \"#19d3f3\", \"#FF6692\", \"#B6E880\", \"#FF97FF\", \"#FECB52\"], \"font\": {\"color\": \"#2a3f5f\"}, \"geo\": {\"bgcolor\": \"white\", \"lakecolor\": \"white\", \"landcolor\": \"#E5ECF6\", \"showlakes\": true, \"showland\": true, \"subunitcolor\": \"white\"}, \"hoverlabel\": {\"align\": \"left\"}, \"hovermode\": \"closest\", \"mapbox\": {\"style\": \"light\"}, \"paper_bgcolor\": \"white\", \"plot_bgcolor\": \"#E5ECF6\", \"polar\": {\"angularaxis\": {\"gridcolor\": \"white\", \"linecolor\": \"white\", \"ticks\": \"\"}, \"bgcolor\": \"#E5ECF6\", \"radialaxis\": {\"gridcolor\": \"white\", \"linecolor\": \"white\", \"ticks\": \"\"}}, \"scene\": {\"xaxis\": {\"backgroundcolor\": \"#E5ECF6\", \"gridcolor\": \"white\", \"gridwidth\": 2, \"linecolor\": \"white\", \"showbackground\": true, \"ticks\": \"\", \"zerolinecolor\": \"white\"}, \"yaxis\": {\"backgroundcolor\": \"#E5ECF6\", \"gridcolor\": \"white\", \"gridwidth\": 2, \"linecolor\": \"white\", \"showbackground\": true, \"ticks\": \"\", \"zerolinecolor\": \"white\"}, \"zaxis\": {\"backgroundcolor\": \"#E5ECF6\", \"gridcolor\": \"white\", \"gridwidth\": 2, \"linecolor\": \"white\", \"showbackground\": true, \"ticks\": \"\", \"zerolinecolor\": \"white\"}}, \"shapedefaults\": {\"line\": {\"color\": \"#2a3f5f\"}}, \"ternary\": {\"aaxis\": {\"gridcolor\": \"white\", \"linecolor\": \"white\", \"ticks\": \"\"}, \"baxis\": {\"gridcolor\": \"white\", \"linecolor\": \"white\", \"ticks\": \"\"}, \"bgcolor\": \"#E5ECF6\", \"caxis\": {\"gridcolor\": \"white\", \"linecolor\": \"white\", \"ticks\": \"\"}}, \"title\": {\"x\": 0.05}, \"xaxis\": {\"automargin\": true, \"gridcolor\": \"white\", \"linecolor\": \"white\", \"ticks\": \"\", \"title\": {\"standoff\": 15}, \"zerolinecolor\": \"white\", \"zerolinewidth\": 2}, \"yaxis\": {\"automargin\": true, \"gridcolor\": \"white\", \"linecolor\": \"white\", \"ticks\": \"\", \"title\": {\"standoff\": 15}, \"zerolinecolor\": \"white\", \"zerolinewidth\": 2}}}, \"title\": {\"font\": {\"color\": \"#4D5663\"}}, \"xaxis\": {\"gridcolor\": \"#E1E5ED\", \"showgrid\": true, \"tickfont\": {\"color\": \"#4D5663\"}, \"title\": {\"font\": {\"color\": \"#4D5663\"}, \"text\": \"\"}, \"zerolinecolor\": \"#E1E5ED\"}, \"yaxis\": {\"gridcolor\": \"#E1E5ED\", \"showgrid\": true, \"tickfont\": {\"color\": \"#4D5663\"}, \"title\": {\"font\": {\"color\": \"#4D5663\"}, \"text\": \"\"}, \"zerolinecolor\": \"#E1E5ED\"}},\n",
       "                        {\"showLink\": true, \"linkText\": \"Export to plot.ly\", \"plotlyServerURL\": \"https://plot.ly\", \"responsive\": true}\n",
       "                    ).then(function(){\n",
       "                            \n",
       "var gd = document.getElementById('236e28c6-08f8-4af4-9b72-4b6da03fc9bc');\n",
       "var x = new MutationObserver(function (mutations, observer) {{\n",
       "        var display = window.getComputedStyle(gd).display;\n",
       "        if (!display || display === 'none') {{\n",
       "            console.log([gd, 'removed!']);\n",
       "            Plotly.purge(gd);\n",
       "            observer.disconnect();\n",
       "        }}\n",
       "}});\n",
       "\n",
       "// Listen for the removal of the full notebook cells\n",
       "var notebookContainer = gd.closest('#notebook-container');\n",
       "if (notebookContainer) {{\n",
       "    x.observe(notebookContainer, {childList: true});\n",
       "}}\n",
       "\n",
       "// Listen for the clearing of the current output cell\n",
       "var outputEl = gd.closest('.output');\n",
       "if (outputEl) {{\n",
       "    x.observe(outputEl, {childList: true});\n",
       "}}\n",
       "\n",
       "                        })\n",
       "                };\n",
       "                });\n",
       "            </script>\n",
       "        </div>"
      ]
     },
     "metadata": {},
     "output_type": "display_data"
    }
   ],
   "source": [
    "#surface plot\n",
    "df3.iplot(kind='surface')"
   ]
  },
  {
   "cell_type": "markdown",
   "metadata": {},
   "source": [
    "- Change the values around 'z'\n",
    "- Modify the color code. Tips: check plotly website for color codes"
   ]
  },
  {
   "cell_type": "code",
   "execution_count": 61,
   "metadata": {},
   "outputs": [],
   "source": [
    "df3 = pd.DataFrame({'x':[1,2,3,4,5],'y':[10,20,30,20,10],'z':[5,4,3,2,1]})"
   ]
  },
  {
   "cell_type": "code",
   "execution_count": 66,
   "metadata": {},
   "outputs": [
    {
     "data": {
      "application/vnd.plotly.v1+json": {
       "config": {
        "linkText": "Export to plot.ly",
        "plotlyServerURL": "https://plot.ly",
        "showLink": true
       },
       "data": [
        {
         "colorscale": [
          [
           0,
           "rgb(165,0,38)"
          ],
          [
           0.1,
           "rgb(215,48,39)"
          ],
          [
           0.2,
           "rgb(244,109,67)"
          ],
          [
           0.3,
           "rgb(253,174,97)"
          ],
          [
           0.4,
           "rgb(254,224,144)"
          ],
          [
           0.5,
           "rgb(255,255,191)"
          ],
          [
           0.6,
           "rgb(224,243,248)"
          ],
          [
           0.7,
           "rgb(171,217,233)"
          ],
          [
           0.8,
           "rgb(116,173,209)"
          ],
          [
           0.9,
           "rgb(69,117,180)"
          ],
          [
           1,
           "rgb(49,54,149)"
          ]
         ],
         "type": "surface",
         "x": [
          0,
          1,
          2,
          3,
          4
         ],
         "y": [
          "x",
          "y",
          "z"
         ],
         "z": [
          [
           1,
           2,
           3,
           4,
           5
          ],
          [
           10,
           20,
           30,
           20,
           10
          ],
          [
           5,
           4,
           3,
           2,
           1
          ]
         ]
        }
       ],
       "layout": {
        "legend": {
         "bgcolor": "#F5F6F9",
         "font": {
          "color": "#4D5663"
         }
        },
        "paper_bgcolor": "#F5F6F9",
        "plot_bgcolor": "#F5F6F9",
        "template": {
         "data": {
          "bar": [
           {
            "error_x": {
             "color": "#2a3f5f"
            },
            "error_y": {
             "color": "#2a3f5f"
            },
            "marker": {
             "line": {
              "color": "#E5ECF6",
              "width": 0.5
             }
            },
            "type": "bar"
           }
          ],
          "barpolar": [
           {
            "marker": {
             "line": {
              "color": "#E5ECF6",
              "width": 0.5
             }
            },
            "type": "barpolar"
           }
          ],
          "carpet": [
           {
            "aaxis": {
             "endlinecolor": "#2a3f5f",
             "gridcolor": "white",
             "linecolor": "white",
             "minorgridcolor": "white",
             "startlinecolor": "#2a3f5f"
            },
            "baxis": {
             "endlinecolor": "#2a3f5f",
             "gridcolor": "white",
             "linecolor": "white",
             "minorgridcolor": "white",
             "startlinecolor": "#2a3f5f"
            },
            "type": "carpet"
           }
          ],
          "choropleth": [
           {
            "colorbar": {
             "outlinewidth": 0,
             "ticks": ""
            },
            "type": "choropleth"
           }
          ],
          "contour": [
           {
            "colorbar": {
             "outlinewidth": 0,
             "ticks": ""
            },
            "colorscale": [
             [
              0,
              "#0d0887"
             ],
             [
              0.1111111111111111,
              "#46039f"
             ],
             [
              0.2222222222222222,
              "#7201a8"
             ],
             [
              0.3333333333333333,
              "#9c179e"
             ],
             [
              0.4444444444444444,
              "#bd3786"
             ],
             [
              0.5555555555555556,
              "#d8576b"
             ],
             [
              0.6666666666666666,
              "#ed7953"
             ],
             [
              0.7777777777777778,
              "#fb9f3a"
             ],
             [
              0.8888888888888888,
              "#fdca26"
             ],
             [
              1,
              "#f0f921"
             ]
            ],
            "type": "contour"
           }
          ],
          "contourcarpet": [
           {
            "colorbar": {
             "outlinewidth": 0,
             "ticks": ""
            },
            "type": "contourcarpet"
           }
          ],
          "heatmap": [
           {
            "colorbar": {
             "outlinewidth": 0,
             "ticks": ""
            },
            "colorscale": [
             [
              0,
              "#0d0887"
             ],
             [
              0.1111111111111111,
              "#46039f"
             ],
             [
              0.2222222222222222,
              "#7201a8"
             ],
             [
              0.3333333333333333,
              "#9c179e"
             ],
             [
              0.4444444444444444,
              "#bd3786"
             ],
             [
              0.5555555555555556,
              "#d8576b"
             ],
             [
              0.6666666666666666,
              "#ed7953"
             ],
             [
              0.7777777777777778,
              "#fb9f3a"
             ],
             [
              0.8888888888888888,
              "#fdca26"
             ],
             [
              1,
              "#f0f921"
             ]
            ],
            "type": "heatmap"
           }
          ],
          "heatmapgl": [
           {
            "colorbar": {
             "outlinewidth": 0,
             "ticks": ""
            },
            "colorscale": [
             [
              0,
              "#0d0887"
             ],
             [
              0.1111111111111111,
              "#46039f"
             ],
             [
              0.2222222222222222,
              "#7201a8"
             ],
             [
              0.3333333333333333,
              "#9c179e"
             ],
             [
              0.4444444444444444,
              "#bd3786"
             ],
             [
              0.5555555555555556,
              "#d8576b"
             ],
             [
              0.6666666666666666,
              "#ed7953"
             ],
             [
              0.7777777777777778,
              "#fb9f3a"
             ],
             [
              0.8888888888888888,
              "#fdca26"
             ],
             [
              1,
              "#f0f921"
             ]
            ],
            "type": "heatmapgl"
           }
          ],
          "histogram": [
           {
            "marker": {
             "colorbar": {
              "outlinewidth": 0,
              "ticks": ""
             }
            },
            "type": "histogram"
           }
          ],
          "histogram2d": [
           {
            "colorbar": {
             "outlinewidth": 0,
             "ticks": ""
            },
            "colorscale": [
             [
              0,
              "#0d0887"
             ],
             [
              0.1111111111111111,
              "#46039f"
             ],
             [
              0.2222222222222222,
              "#7201a8"
             ],
             [
              0.3333333333333333,
              "#9c179e"
             ],
             [
              0.4444444444444444,
              "#bd3786"
             ],
             [
              0.5555555555555556,
              "#d8576b"
             ],
             [
              0.6666666666666666,
              "#ed7953"
             ],
             [
              0.7777777777777778,
              "#fb9f3a"
             ],
             [
              0.8888888888888888,
              "#fdca26"
             ],
             [
              1,
              "#f0f921"
             ]
            ],
            "type": "histogram2d"
           }
          ],
          "histogram2dcontour": [
           {
            "colorbar": {
             "outlinewidth": 0,
             "ticks": ""
            },
            "colorscale": [
             [
              0,
              "#0d0887"
             ],
             [
              0.1111111111111111,
              "#46039f"
             ],
             [
              0.2222222222222222,
              "#7201a8"
             ],
             [
              0.3333333333333333,
              "#9c179e"
             ],
             [
              0.4444444444444444,
              "#bd3786"
             ],
             [
              0.5555555555555556,
              "#d8576b"
             ],
             [
              0.6666666666666666,
              "#ed7953"
             ],
             [
              0.7777777777777778,
              "#fb9f3a"
             ],
             [
              0.8888888888888888,
              "#fdca26"
             ],
             [
              1,
              "#f0f921"
             ]
            ],
            "type": "histogram2dcontour"
           }
          ],
          "mesh3d": [
           {
            "colorbar": {
             "outlinewidth": 0,
             "ticks": ""
            },
            "type": "mesh3d"
           }
          ],
          "parcoords": [
           {
            "line": {
             "colorbar": {
              "outlinewidth": 0,
              "ticks": ""
             }
            },
            "type": "parcoords"
           }
          ],
          "pie": [
           {
            "automargin": true,
            "type": "pie"
           }
          ],
          "scatter": [
           {
            "marker": {
             "colorbar": {
              "outlinewidth": 0,
              "ticks": ""
             }
            },
            "type": "scatter"
           }
          ],
          "scatter3d": [
           {
            "line": {
             "colorbar": {
              "outlinewidth": 0,
              "ticks": ""
             }
            },
            "marker": {
             "colorbar": {
              "outlinewidth": 0,
              "ticks": ""
             }
            },
            "type": "scatter3d"
           }
          ],
          "scattercarpet": [
           {
            "marker": {
             "colorbar": {
              "outlinewidth": 0,
              "ticks": ""
             }
            },
            "type": "scattercarpet"
           }
          ],
          "scattergeo": [
           {
            "marker": {
             "colorbar": {
              "outlinewidth": 0,
              "ticks": ""
             }
            },
            "type": "scattergeo"
           }
          ],
          "scattergl": [
           {
            "marker": {
             "colorbar": {
              "outlinewidth": 0,
              "ticks": ""
             }
            },
            "type": "scattergl"
           }
          ],
          "scattermapbox": [
           {
            "marker": {
             "colorbar": {
              "outlinewidth": 0,
              "ticks": ""
             }
            },
            "type": "scattermapbox"
           }
          ],
          "scatterpolar": [
           {
            "marker": {
             "colorbar": {
              "outlinewidth": 0,
              "ticks": ""
             }
            },
            "type": "scatterpolar"
           }
          ],
          "scatterpolargl": [
           {
            "marker": {
             "colorbar": {
              "outlinewidth": 0,
              "ticks": ""
             }
            },
            "type": "scatterpolargl"
           }
          ],
          "scatterternary": [
           {
            "marker": {
             "colorbar": {
              "outlinewidth": 0,
              "ticks": ""
             }
            },
            "type": "scatterternary"
           }
          ],
          "surface": [
           {
            "colorbar": {
             "outlinewidth": 0,
             "ticks": ""
            },
            "colorscale": [
             [
              0,
              "#0d0887"
             ],
             [
              0.1111111111111111,
              "#46039f"
             ],
             [
              0.2222222222222222,
              "#7201a8"
             ],
             [
              0.3333333333333333,
              "#9c179e"
             ],
             [
              0.4444444444444444,
              "#bd3786"
             ],
             [
              0.5555555555555556,
              "#d8576b"
             ],
             [
              0.6666666666666666,
              "#ed7953"
             ],
             [
              0.7777777777777778,
              "#fb9f3a"
             ],
             [
              0.8888888888888888,
              "#fdca26"
             ],
             [
              1,
              "#f0f921"
             ]
            ],
            "type": "surface"
           }
          ],
          "table": [
           {
            "cells": {
             "fill": {
              "color": "#EBF0F8"
             },
             "line": {
              "color": "white"
             }
            },
            "header": {
             "fill": {
              "color": "#C8D4E3"
             },
             "line": {
              "color": "white"
             }
            },
            "type": "table"
           }
          ]
         },
         "layout": {
          "annotationdefaults": {
           "arrowcolor": "#2a3f5f",
           "arrowhead": 0,
           "arrowwidth": 1
          },
          "coloraxis": {
           "colorbar": {
            "outlinewidth": 0,
            "ticks": ""
           }
          },
          "colorscale": {
           "diverging": [
            [
             0,
             "#8e0152"
            ],
            [
             0.1,
             "#c51b7d"
            ],
            [
             0.2,
             "#de77ae"
            ],
            [
             0.3,
             "#f1b6da"
            ],
            [
             0.4,
             "#fde0ef"
            ],
            [
             0.5,
             "#f7f7f7"
            ],
            [
             0.6,
             "#e6f5d0"
            ],
            [
             0.7,
             "#b8e186"
            ],
            [
             0.8,
             "#7fbc41"
            ],
            [
             0.9,
             "#4d9221"
            ],
            [
             1,
             "#276419"
            ]
           ],
           "sequential": [
            [
             0,
             "#0d0887"
            ],
            [
             0.1111111111111111,
             "#46039f"
            ],
            [
             0.2222222222222222,
             "#7201a8"
            ],
            [
             0.3333333333333333,
             "#9c179e"
            ],
            [
             0.4444444444444444,
             "#bd3786"
            ],
            [
             0.5555555555555556,
             "#d8576b"
            ],
            [
             0.6666666666666666,
             "#ed7953"
            ],
            [
             0.7777777777777778,
             "#fb9f3a"
            ],
            [
             0.8888888888888888,
             "#fdca26"
            ],
            [
             1,
             "#f0f921"
            ]
           ],
           "sequentialminus": [
            [
             0,
             "#0d0887"
            ],
            [
             0.1111111111111111,
             "#46039f"
            ],
            [
             0.2222222222222222,
             "#7201a8"
            ],
            [
             0.3333333333333333,
             "#9c179e"
            ],
            [
             0.4444444444444444,
             "#bd3786"
            ],
            [
             0.5555555555555556,
             "#d8576b"
            ],
            [
             0.6666666666666666,
             "#ed7953"
            ],
            [
             0.7777777777777778,
             "#fb9f3a"
            ],
            [
             0.8888888888888888,
             "#fdca26"
            ],
            [
             1,
             "#f0f921"
            ]
           ]
          },
          "colorway": [
           "#636efa",
           "#EF553B",
           "#00cc96",
           "#ab63fa",
           "#FFA15A",
           "#19d3f3",
           "#FF6692",
           "#B6E880",
           "#FF97FF",
           "#FECB52"
          ],
          "font": {
           "color": "#2a3f5f"
          },
          "geo": {
           "bgcolor": "white",
           "lakecolor": "white",
           "landcolor": "#E5ECF6",
           "showlakes": true,
           "showland": true,
           "subunitcolor": "white"
          },
          "hoverlabel": {
           "align": "left"
          },
          "hovermode": "closest",
          "mapbox": {
           "style": "light"
          },
          "paper_bgcolor": "white",
          "plot_bgcolor": "#E5ECF6",
          "polar": {
           "angularaxis": {
            "gridcolor": "white",
            "linecolor": "white",
            "ticks": ""
           },
           "bgcolor": "#E5ECF6",
           "radialaxis": {
            "gridcolor": "white",
            "linecolor": "white",
            "ticks": ""
           }
          },
          "scene": {
           "xaxis": {
            "backgroundcolor": "#E5ECF6",
            "gridcolor": "white",
            "gridwidth": 2,
            "linecolor": "white",
            "showbackground": true,
            "ticks": "",
            "zerolinecolor": "white"
           },
           "yaxis": {
            "backgroundcolor": "#E5ECF6",
            "gridcolor": "white",
            "gridwidth": 2,
            "linecolor": "white",
            "showbackground": true,
            "ticks": "",
            "zerolinecolor": "white"
           },
           "zaxis": {
            "backgroundcolor": "#E5ECF6",
            "gridcolor": "white",
            "gridwidth": 2,
            "linecolor": "white",
            "showbackground": true,
            "ticks": "",
            "zerolinecolor": "white"
           }
          },
          "shapedefaults": {
           "line": {
            "color": "#2a3f5f"
           }
          },
          "ternary": {
           "aaxis": {
            "gridcolor": "white",
            "linecolor": "white",
            "ticks": ""
           },
           "baxis": {
            "gridcolor": "white",
            "linecolor": "white",
            "ticks": ""
           },
           "bgcolor": "#E5ECF6",
           "caxis": {
            "gridcolor": "white",
            "linecolor": "white",
            "ticks": ""
           }
          },
          "title": {
           "x": 0.05
          },
          "xaxis": {
           "automargin": true,
           "gridcolor": "white",
           "linecolor": "white",
           "ticks": "",
           "title": {
            "standoff": 15
           },
           "zerolinecolor": "white",
           "zerolinewidth": 2
          },
          "yaxis": {
           "automargin": true,
           "gridcolor": "white",
           "linecolor": "white",
           "ticks": "",
           "title": {
            "standoff": 15
           },
           "zerolinecolor": "white",
           "zerolinewidth": 2
          }
         }
        },
        "title": {
         "font": {
          "color": "#4D5663"
         }
        },
        "xaxis": {
         "gridcolor": "#E1E5ED",
         "showgrid": true,
         "tickfont": {
          "color": "#4D5663"
         },
         "title": {
          "font": {
           "color": "#4D5663"
          },
          "text": ""
         },
         "zerolinecolor": "#E1E5ED"
        },
        "yaxis": {
         "gridcolor": "#E1E5ED",
         "showgrid": true,
         "tickfont": {
          "color": "#4D5663"
         },
         "title": {
          "font": {
           "color": "#4D5663"
          },
          "text": ""
         },
         "zerolinecolor": "#E1E5ED"
        }
       }
      },
      "text/html": [
       "<div>\n",
       "        \n",
       "        \n",
       "            <div id=\"80987ead-0c21-4efc-b550-afbaed809030\" class=\"plotly-graph-div\" style=\"height:525px; width:100%;\"></div>\n",
       "            <script type=\"text/javascript\">\n",
       "                require([\"plotly\"], function(Plotly) {\n",
       "                    window.PLOTLYENV=window.PLOTLYENV || {};\n",
       "                    window.PLOTLYENV.BASE_URL='https://plot.ly';\n",
       "                    \n",
       "                if (document.getElementById(\"80987ead-0c21-4efc-b550-afbaed809030\")) {\n",
       "                    Plotly.newPlot(\n",
       "                        '80987ead-0c21-4efc-b550-afbaed809030',\n",
       "                        [{\"colorscale\": [[0.0, \"rgb(165,0,38)\"], [0.1, \"rgb(215,48,39)\"], [0.2, \"rgb(244,109,67)\"], [0.3, \"rgb(253,174,97)\"], [0.4, \"rgb(254,224,144)\"], [0.5, \"rgb(255,255,191)\"], [0.6, \"rgb(224,243,248)\"], [0.7, \"rgb(171,217,233)\"], [0.8, \"rgb(116,173,209)\"], [0.9, \"rgb(69,117,180)\"], [1.0, \"rgb(49,54,149)\"]], \"type\": \"surface\", \"x\": [0, 1, 2, 3, 4], \"y\": [\"x\", \"y\", \"z\"], \"z\": [[1, 2, 3, 4, 5], [10, 20, 30, 20, 10], [5, 4, 3, 2, 1]]}],\n",
       "                        {\"legend\": {\"bgcolor\": \"#F5F6F9\", \"font\": {\"color\": \"#4D5663\"}}, \"paper_bgcolor\": \"#F5F6F9\", \"plot_bgcolor\": \"#F5F6F9\", \"template\": {\"data\": {\"bar\": [{\"error_x\": {\"color\": \"#2a3f5f\"}, \"error_y\": {\"color\": \"#2a3f5f\"}, \"marker\": {\"line\": {\"color\": \"#E5ECF6\", \"width\": 0.5}}, \"type\": \"bar\"}], \"barpolar\": [{\"marker\": {\"line\": {\"color\": \"#E5ECF6\", \"width\": 0.5}}, \"type\": \"barpolar\"}], \"carpet\": [{\"aaxis\": {\"endlinecolor\": \"#2a3f5f\", \"gridcolor\": \"white\", \"linecolor\": \"white\", \"minorgridcolor\": \"white\", \"startlinecolor\": \"#2a3f5f\"}, \"baxis\": {\"endlinecolor\": \"#2a3f5f\", \"gridcolor\": \"white\", \"linecolor\": \"white\", \"minorgridcolor\": \"white\", \"startlinecolor\": \"#2a3f5f\"}, \"type\": \"carpet\"}], \"choropleth\": [{\"colorbar\": {\"outlinewidth\": 0, \"ticks\": \"\"}, \"type\": \"choropleth\"}], \"contour\": [{\"colorbar\": {\"outlinewidth\": 0, \"ticks\": \"\"}, \"colorscale\": [[0.0, \"#0d0887\"], [0.1111111111111111, \"#46039f\"], [0.2222222222222222, \"#7201a8\"], [0.3333333333333333, \"#9c179e\"], [0.4444444444444444, \"#bd3786\"], [0.5555555555555556, \"#d8576b\"], [0.6666666666666666, \"#ed7953\"], [0.7777777777777778, \"#fb9f3a\"], [0.8888888888888888, \"#fdca26\"], [1.0, \"#f0f921\"]], \"type\": \"contour\"}], \"contourcarpet\": [{\"colorbar\": {\"outlinewidth\": 0, \"ticks\": \"\"}, \"type\": \"contourcarpet\"}], \"heatmap\": [{\"colorbar\": {\"outlinewidth\": 0, \"ticks\": \"\"}, \"colorscale\": [[0.0, \"#0d0887\"], [0.1111111111111111, \"#46039f\"], [0.2222222222222222, \"#7201a8\"], [0.3333333333333333, \"#9c179e\"], [0.4444444444444444, \"#bd3786\"], [0.5555555555555556, \"#d8576b\"], [0.6666666666666666, \"#ed7953\"], [0.7777777777777778, \"#fb9f3a\"], [0.8888888888888888, \"#fdca26\"], [1.0, \"#f0f921\"]], \"type\": \"heatmap\"}], \"heatmapgl\": [{\"colorbar\": {\"outlinewidth\": 0, \"ticks\": \"\"}, \"colorscale\": [[0.0, \"#0d0887\"], [0.1111111111111111, \"#46039f\"], [0.2222222222222222, \"#7201a8\"], [0.3333333333333333, \"#9c179e\"], [0.4444444444444444, \"#bd3786\"], [0.5555555555555556, \"#d8576b\"], [0.6666666666666666, \"#ed7953\"], [0.7777777777777778, \"#fb9f3a\"], [0.8888888888888888, \"#fdca26\"], [1.0, \"#f0f921\"]], \"type\": \"heatmapgl\"}], \"histogram\": [{\"marker\": {\"colorbar\": {\"outlinewidth\": 0, \"ticks\": \"\"}}, \"type\": \"histogram\"}], \"histogram2d\": [{\"colorbar\": {\"outlinewidth\": 0, \"ticks\": \"\"}, \"colorscale\": [[0.0, \"#0d0887\"], [0.1111111111111111, \"#46039f\"], [0.2222222222222222, \"#7201a8\"], [0.3333333333333333, \"#9c179e\"], [0.4444444444444444, \"#bd3786\"], [0.5555555555555556, \"#d8576b\"], [0.6666666666666666, \"#ed7953\"], [0.7777777777777778, \"#fb9f3a\"], [0.8888888888888888, \"#fdca26\"], [1.0, \"#f0f921\"]], \"type\": \"histogram2d\"}], \"histogram2dcontour\": [{\"colorbar\": {\"outlinewidth\": 0, \"ticks\": \"\"}, \"colorscale\": [[0.0, \"#0d0887\"], [0.1111111111111111, \"#46039f\"], [0.2222222222222222, \"#7201a8\"], [0.3333333333333333, \"#9c179e\"], [0.4444444444444444, \"#bd3786\"], [0.5555555555555556, \"#d8576b\"], [0.6666666666666666, \"#ed7953\"], [0.7777777777777778, \"#fb9f3a\"], [0.8888888888888888, \"#fdca26\"], [1.0, \"#f0f921\"]], \"type\": \"histogram2dcontour\"}], \"mesh3d\": [{\"colorbar\": {\"outlinewidth\": 0, \"ticks\": \"\"}, \"type\": \"mesh3d\"}], \"parcoords\": [{\"line\": {\"colorbar\": {\"outlinewidth\": 0, \"ticks\": \"\"}}, \"type\": \"parcoords\"}], \"pie\": [{\"automargin\": true, \"type\": \"pie\"}], \"scatter\": [{\"marker\": {\"colorbar\": {\"outlinewidth\": 0, \"ticks\": \"\"}}, \"type\": \"scatter\"}], \"scatter3d\": [{\"line\": {\"colorbar\": {\"outlinewidth\": 0, \"ticks\": \"\"}}, \"marker\": {\"colorbar\": {\"outlinewidth\": 0, \"ticks\": \"\"}}, \"type\": \"scatter3d\"}], \"scattercarpet\": [{\"marker\": {\"colorbar\": {\"outlinewidth\": 0, \"ticks\": \"\"}}, \"type\": \"scattercarpet\"}], \"scattergeo\": [{\"marker\": {\"colorbar\": {\"outlinewidth\": 0, \"ticks\": \"\"}}, \"type\": \"scattergeo\"}], \"scattergl\": [{\"marker\": {\"colorbar\": {\"outlinewidth\": 0, \"ticks\": \"\"}}, \"type\": \"scattergl\"}], \"scattermapbox\": [{\"marker\": {\"colorbar\": {\"outlinewidth\": 0, \"ticks\": \"\"}}, \"type\": \"scattermapbox\"}], \"scatterpolar\": [{\"marker\": {\"colorbar\": {\"outlinewidth\": 0, \"ticks\": \"\"}}, \"type\": \"scatterpolar\"}], \"scatterpolargl\": [{\"marker\": {\"colorbar\": {\"outlinewidth\": 0, \"ticks\": \"\"}}, \"type\": \"scatterpolargl\"}], \"scatterternary\": [{\"marker\": {\"colorbar\": {\"outlinewidth\": 0, \"ticks\": \"\"}}, \"type\": \"scatterternary\"}], \"surface\": [{\"colorbar\": {\"outlinewidth\": 0, \"ticks\": \"\"}, \"colorscale\": [[0.0, \"#0d0887\"], [0.1111111111111111, \"#46039f\"], [0.2222222222222222, \"#7201a8\"], [0.3333333333333333, \"#9c179e\"], [0.4444444444444444, \"#bd3786\"], [0.5555555555555556, \"#d8576b\"], [0.6666666666666666, \"#ed7953\"], [0.7777777777777778, \"#fb9f3a\"], [0.8888888888888888, \"#fdca26\"], [1.0, \"#f0f921\"]], \"type\": \"surface\"}], \"table\": [{\"cells\": {\"fill\": {\"color\": \"#EBF0F8\"}, \"line\": {\"color\": \"white\"}}, \"header\": {\"fill\": {\"color\": \"#C8D4E3\"}, \"line\": {\"color\": \"white\"}}, \"type\": \"table\"}]}, \"layout\": {\"annotationdefaults\": {\"arrowcolor\": \"#2a3f5f\", \"arrowhead\": 0, \"arrowwidth\": 1}, \"coloraxis\": {\"colorbar\": {\"outlinewidth\": 0, \"ticks\": \"\"}}, \"colorscale\": {\"diverging\": [[0, \"#8e0152\"], [0.1, \"#c51b7d\"], [0.2, \"#de77ae\"], [0.3, \"#f1b6da\"], [0.4, \"#fde0ef\"], [0.5, \"#f7f7f7\"], [0.6, \"#e6f5d0\"], [0.7, \"#b8e186\"], [0.8, \"#7fbc41\"], [0.9, \"#4d9221\"], [1, \"#276419\"]], \"sequential\": [[0.0, \"#0d0887\"], [0.1111111111111111, \"#46039f\"], [0.2222222222222222, \"#7201a8\"], [0.3333333333333333, \"#9c179e\"], [0.4444444444444444, \"#bd3786\"], [0.5555555555555556, \"#d8576b\"], [0.6666666666666666, \"#ed7953\"], [0.7777777777777778, \"#fb9f3a\"], [0.8888888888888888, \"#fdca26\"], [1.0, \"#f0f921\"]], \"sequentialminus\": [[0.0, \"#0d0887\"], [0.1111111111111111, \"#46039f\"], [0.2222222222222222, \"#7201a8\"], [0.3333333333333333, \"#9c179e\"], [0.4444444444444444, \"#bd3786\"], [0.5555555555555556, \"#d8576b\"], [0.6666666666666666, \"#ed7953\"], [0.7777777777777778, \"#fb9f3a\"], [0.8888888888888888, \"#fdca26\"], [1.0, \"#f0f921\"]]}, \"colorway\": [\"#636efa\", \"#EF553B\", \"#00cc96\", \"#ab63fa\", \"#FFA15A\", \"#19d3f3\", \"#FF6692\", \"#B6E880\", \"#FF97FF\", \"#FECB52\"], \"font\": {\"color\": \"#2a3f5f\"}, \"geo\": {\"bgcolor\": \"white\", \"lakecolor\": \"white\", \"landcolor\": \"#E5ECF6\", \"showlakes\": true, \"showland\": true, \"subunitcolor\": \"white\"}, \"hoverlabel\": {\"align\": \"left\"}, \"hovermode\": \"closest\", \"mapbox\": {\"style\": \"light\"}, \"paper_bgcolor\": \"white\", \"plot_bgcolor\": \"#E5ECF6\", \"polar\": {\"angularaxis\": {\"gridcolor\": \"white\", \"linecolor\": \"white\", \"ticks\": \"\"}, \"bgcolor\": \"#E5ECF6\", \"radialaxis\": {\"gridcolor\": \"white\", \"linecolor\": \"white\", \"ticks\": \"\"}}, \"scene\": {\"xaxis\": {\"backgroundcolor\": \"#E5ECF6\", \"gridcolor\": \"white\", \"gridwidth\": 2, \"linecolor\": \"white\", \"showbackground\": true, \"ticks\": \"\", \"zerolinecolor\": \"white\"}, \"yaxis\": {\"backgroundcolor\": \"#E5ECF6\", \"gridcolor\": \"white\", \"gridwidth\": 2, \"linecolor\": \"white\", \"showbackground\": true, \"ticks\": \"\", \"zerolinecolor\": \"white\"}, \"zaxis\": {\"backgroundcolor\": \"#E5ECF6\", \"gridcolor\": \"white\", \"gridwidth\": 2, \"linecolor\": \"white\", \"showbackground\": true, \"ticks\": \"\", \"zerolinecolor\": \"white\"}}, \"shapedefaults\": {\"line\": {\"color\": \"#2a3f5f\"}}, \"ternary\": {\"aaxis\": {\"gridcolor\": \"white\", \"linecolor\": \"white\", \"ticks\": \"\"}, \"baxis\": {\"gridcolor\": \"white\", \"linecolor\": \"white\", \"ticks\": \"\"}, \"bgcolor\": \"#E5ECF6\", \"caxis\": {\"gridcolor\": \"white\", \"linecolor\": \"white\", \"ticks\": \"\"}}, \"title\": {\"x\": 0.05}, \"xaxis\": {\"automargin\": true, \"gridcolor\": \"white\", \"linecolor\": \"white\", \"ticks\": \"\", \"title\": {\"standoff\": 15}, \"zerolinecolor\": \"white\", \"zerolinewidth\": 2}, \"yaxis\": {\"automargin\": true, \"gridcolor\": \"white\", \"linecolor\": \"white\", \"ticks\": \"\", \"title\": {\"standoff\": 15}, \"zerolinecolor\": \"white\", \"zerolinewidth\": 2}}}, \"title\": {\"font\": {\"color\": \"#4D5663\"}}, \"xaxis\": {\"gridcolor\": \"#E1E5ED\", \"showgrid\": true, \"tickfont\": {\"color\": \"#4D5663\"}, \"title\": {\"font\": {\"color\": \"#4D5663\"}, \"text\": \"\"}, \"zerolinecolor\": \"#E1E5ED\"}, \"yaxis\": {\"gridcolor\": \"#E1E5ED\", \"showgrid\": true, \"tickfont\": {\"color\": \"#4D5663\"}, \"title\": {\"font\": {\"color\": \"#4D5663\"}, \"text\": \"\"}, \"zerolinecolor\": \"#E1E5ED\"}},\n",
       "                        {\"showLink\": true, \"linkText\": \"Export to plot.ly\", \"plotlyServerURL\": \"https://plot.ly\", \"responsive\": true}\n",
       "                    ).then(function(){\n",
       "                            \n",
       "var gd = document.getElementById('80987ead-0c21-4efc-b550-afbaed809030');\n",
       "var x = new MutationObserver(function (mutations, observer) {{\n",
       "        var display = window.getComputedStyle(gd).display;\n",
       "        if (!display || display === 'none') {{\n",
       "            console.log([gd, 'removed!']);\n",
       "            Plotly.purge(gd);\n",
       "            observer.disconnect();\n",
       "        }}\n",
       "}});\n",
       "\n",
       "// Listen for the removal of the full notebook cells\n",
       "var notebookContainer = gd.closest('#notebook-container');\n",
       "if (notebookContainer) {{\n",
       "    x.observe(notebookContainer, {childList: true});\n",
       "}}\n",
       "\n",
       "// Listen for the clearing of the current output cell\n",
       "var outputEl = gd.closest('.output');\n",
       "if (outputEl) {{\n",
       "    x.observe(outputEl, {childList: true});\n",
       "}}\n",
       "\n",
       "                        })\n",
       "                };\n",
       "                });\n",
       "            </script>\n",
       "        </div>"
      ]
     },
     "metadata": {},
     "output_type": "display_data"
    }
   ],
   "source": [
    "df3.iplot(kind='surface',colorscale='rdylbu')# rdyl for red & bu for blue"
   ]
  },
  {
   "cell_type": "markdown",
   "metadata": {},
   "source": [
    "**Bins to plot histrograms**"
   ]
  },
  {
   "cell_type": "code",
   "execution_count": 68,
   "metadata": {},
   "outputs": [
    {
     "data": {
      "text/html": [
       "<div>\n",
       "<style scoped>\n",
       "    .dataframe tbody tr th:only-of-type {\n",
       "        vertical-align: middle;\n",
       "    }\n",
       "\n",
       "    .dataframe tbody tr th {\n",
       "        vertical-align: top;\n",
       "    }\n",
       "\n",
       "    .dataframe thead th {\n",
       "        text-align: right;\n",
       "    }\n",
       "</style>\n",
       "<table border=\"1\" class=\"dataframe\">\n",
       "  <thead>\n",
       "    <tr style=\"text-align: right;\">\n",
       "      <th></th>\n",
       "      <th>A</th>\n",
       "      <th>B</th>\n",
       "      <th>C</th>\n",
       "      <th>D</th>\n",
       "    </tr>\n",
       "  </thead>\n",
       "  <tbody>\n",
       "    <tr>\n",
       "      <td>0</td>\n",
       "      <td>0.856500</td>\n",
       "      <td>1.475590</td>\n",
       "      <td>0.095365</td>\n",
       "      <td>-2.837108</td>\n",
       "    </tr>\n",
       "    <tr>\n",
       "      <td>1</td>\n",
       "      <td>0.616667</td>\n",
       "      <td>0.058194</td>\n",
       "      <td>-1.979873</td>\n",
       "      <td>0.187267</td>\n",
       "    </tr>\n",
       "    <tr>\n",
       "      <td>2</td>\n",
       "      <td>0.929892</td>\n",
       "      <td>0.885859</td>\n",
       "      <td>-0.800617</td>\n",
       "      <td>-0.635753</td>\n",
       "    </tr>\n",
       "    <tr>\n",
       "      <td>3</td>\n",
       "      <td>-1.672463</td>\n",
       "      <td>-1.006247</td>\n",
       "      <td>-1.408544</td>\n",
       "      <td>0.312049</td>\n",
       "    </tr>\n",
       "    <tr>\n",
       "      <td>4</td>\n",
       "      <td>-0.019950</td>\n",
       "      <td>0.468037</td>\n",
       "      <td>0.085479</td>\n",
       "      <td>-1.688462</td>\n",
       "    </tr>\n",
       "    <tr>\n",
       "      <td>...</td>\n",
       "      <td>...</td>\n",
       "      <td>...</td>\n",
       "      <td>...</td>\n",
       "      <td>...</td>\n",
       "    </tr>\n",
       "    <tr>\n",
       "      <td>95</td>\n",
       "      <td>-0.804412</td>\n",
       "      <td>0.258863</td>\n",
       "      <td>0.441403</td>\n",
       "      <td>-0.386878</td>\n",
       "    </tr>\n",
       "    <tr>\n",
       "      <td>96</td>\n",
       "      <td>-0.425049</td>\n",
       "      <td>-0.659454</td>\n",
       "      <td>0.374987</td>\n",
       "      <td>-0.906620</td>\n",
       "    </tr>\n",
       "    <tr>\n",
       "      <td>97</td>\n",
       "      <td>0.238273</td>\n",
       "      <td>-0.282999</td>\n",
       "      <td>-0.289199</td>\n",
       "      <td>1.026912</td>\n",
       "    </tr>\n",
       "    <tr>\n",
       "      <td>98</td>\n",
       "      <td>1.276372</td>\n",
       "      <td>-1.364478</td>\n",
       "      <td>-0.914043</td>\n",
       "      <td>0.507489</td>\n",
       "    </tr>\n",
       "    <tr>\n",
       "      <td>99</td>\n",
       "      <td>-0.612736</td>\n",
       "      <td>-0.074840</td>\n",
       "      <td>0.962494</td>\n",
       "      <td>1.954899</td>\n",
       "    </tr>\n",
       "  </tbody>\n",
       "</table>\n",
       "<p>100 rows × 4 columns</p>\n",
       "</div>"
      ],
      "text/plain": [
       "           A         B         C         D\n",
       "0   0.856500  1.475590  0.095365 -2.837108\n",
       "1   0.616667  0.058194 -1.979873  0.187267\n",
       "2   0.929892  0.885859 -0.800617 -0.635753\n",
       "3  -1.672463 -1.006247 -1.408544  0.312049\n",
       "4  -0.019950  0.468037  0.085479 -1.688462\n",
       "..       ...       ...       ...       ...\n",
       "95 -0.804412  0.258863  0.441403 -0.386878\n",
       "96 -0.425049 -0.659454  0.374987 -0.906620\n",
       "97  0.238273 -0.282999 -0.289199  1.026912\n",
       "98  1.276372 -1.364478 -0.914043  0.507489\n",
       "99 -0.612736 -0.074840  0.962494  1.954899\n",
       "\n",
       "[100 rows x 4 columns]"
      ]
     },
     "execution_count": 68,
     "metadata": {},
     "output_type": "execute_result"
    }
   ],
   "source": [
    "df"
   ]
  },
  {
   "cell_type": "code",
   "execution_count": 73,
   "metadata": {},
   "outputs": [
    {
     "data": {
      "application/vnd.plotly.v1+json": {
       "config": {
        "linkText": "Export to plot.ly",
        "plotlyServerURL": "https://plot.ly",
        "showLink": true
       },
       "data": [
        {
         "histfunc": "count",
         "histnorm": "",
         "marker": {
          "color": "rgba(255, 153, 51, 1.0)",
          "line": {
           "color": "#4D5663",
           "width": 1.3
          }
         },
         "name": "A",
         "nbinsx": 25,
         "opacity": 0.8,
         "orientation": "v",
         "type": "histogram",
         "x": [
          0.8565004406896697,
          0.616667033466685,
          0.9298916478237453,
          -1.6724634436675336,
          -0.019950485747430385,
          -0.32800911299570507,
          -0.520848431309861,
          -1.30147296225039,
          0.918170020841073,
          -0.003030796847175438,
          1.8515261305902329,
          -2.4657644444358904,
          -1.439356632219261,
          0.15387753978794932,
          0.07641025126858664,
          0.05696079491628426,
          0.994002604240455,
          1.3063555379994916,
          0.11680196973249214,
          -0.06144614746125791,
          0.16965506162971544,
          -1.5592095724925938,
          1.7362505416468237,
          -0.5158156181616896,
          0.3112988643540849,
          0.6367371116974732,
          -1.5536536001503518,
          -1.7685320204209458,
          -0.5392754585148415,
          0.10192996646476966,
          0.5568460660823932,
          0.4092568775144538,
          0.6425257437679849,
          0.09284381524121892,
          1.7894845246730584,
          -1.5779423255162153,
          -1.789479229742878,
          0.7609651113838944,
          -0.6674139141954538,
          -0.4214512133650312,
          -0.44539736631937926,
          0.5186930794439539,
          -1.0086390260505254,
          0.7345811131541214,
          -0.8682151792015697,
          -0.5138030956228592,
          2.44506810870039,
          -0.48872333105082555,
          1.3671166266258052,
          -0.01753294451379828,
          0.11685967207261917,
          1.0155837704561772,
          -0.5150792361553516,
          -0.4189522845684282,
          -1.671800498378324,
          0.00849610436739744,
          -0.895038429064667,
          -0.7234219959912285,
          0.206272727623923,
          0.3226173070103636,
          -0.4358213189085439,
          1.485019297233284,
          1.3145577597333455,
          1.1418099258834655,
          0.3899155275990936,
          0.6744845811903896,
          -1.5421747306588416,
          0.10759935916787118,
          -0.29174756418219683,
          0.4816850364526941,
          0.06383954088766132,
          0.805862380002143,
          1.7922318721731754,
          0.7711332871154744,
          1.5493299640694245,
          2.1568955364366897,
          1.1670866728363158,
          0.7987843837817445,
          0.5924788058898702,
          0.46868961780136764,
          0.041509628887594935,
          1.4403527221146417,
          0.06159499985984685,
          -0.37884426150130707,
          -0.5712864766608926,
          -0.05456501732571868,
          -1.374456821319399,
          -0.29150627018452924,
          -0.5060841247039243,
          -0.9116186430932947,
          -0.03191657470382843,
          -1.1907703476630989,
          -0.2240749488357738,
          0.9880910702602029,
          -0.6027601036139539,
          -0.804412324683554,
          -0.42504929417141835,
          0.23827330110499453,
          1.2763718707572826,
          -0.6127361720543995
         ]
        }
       ],
       "layout": {
        "barmode": "overlay",
        "legend": {
         "bgcolor": "#F5F6F9",
         "font": {
          "color": "#4D5663"
         }
        },
        "paper_bgcolor": "#F5F6F9",
        "plot_bgcolor": "#F5F6F9",
        "template": {
         "data": {
          "bar": [
           {
            "error_x": {
             "color": "#2a3f5f"
            },
            "error_y": {
             "color": "#2a3f5f"
            },
            "marker": {
             "line": {
              "color": "#E5ECF6",
              "width": 0.5
             }
            },
            "type": "bar"
           }
          ],
          "barpolar": [
           {
            "marker": {
             "line": {
              "color": "#E5ECF6",
              "width": 0.5
             }
            },
            "type": "barpolar"
           }
          ],
          "carpet": [
           {
            "aaxis": {
             "endlinecolor": "#2a3f5f",
             "gridcolor": "white",
             "linecolor": "white",
             "minorgridcolor": "white",
             "startlinecolor": "#2a3f5f"
            },
            "baxis": {
             "endlinecolor": "#2a3f5f",
             "gridcolor": "white",
             "linecolor": "white",
             "minorgridcolor": "white",
             "startlinecolor": "#2a3f5f"
            },
            "type": "carpet"
           }
          ],
          "choropleth": [
           {
            "colorbar": {
             "outlinewidth": 0,
             "ticks": ""
            },
            "type": "choropleth"
           }
          ],
          "contour": [
           {
            "colorbar": {
             "outlinewidth": 0,
             "ticks": ""
            },
            "colorscale": [
             [
              0,
              "#0d0887"
             ],
             [
              0.1111111111111111,
              "#46039f"
             ],
             [
              0.2222222222222222,
              "#7201a8"
             ],
             [
              0.3333333333333333,
              "#9c179e"
             ],
             [
              0.4444444444444444,
              "#bd3786"
             ],
             [
              0.5555555555555556,
              "#d8576b"
             ],
             [
              0.6666666666666666,
              "#ed7953"
             ],
             [
              0.7777777777777778,
              "#fb9f3a"
             ],
             [
              0.8888888888888888,
              "#fdca26"
             ],
             [
              1,
              "#f0f921"
             ]
            ],
            "type": "contour"
           }
          ],
          "contourcarpet": [
           {
            "colorbar": {
             "outlinewidth": 0,
             "ticks": ""
            },
            "type": "contourcarpet"
           }
          ],
          "heatmap": [
           {
            "colorbar": {
             "outlinewidth": 0,
             "ticks": ""
            },
            "colorscale": [
             [
              0,
              "#0d0887"
             ],
             [
              0.1111111111111111,
              "#46039f"
             ],
             [
              0.2222222222222222,
              "#7201a8"
             ],
             [
              0.3333333333333333,
              "#9c179e"
             ],
             [
              0.4444444444444444,
              "#bd3786"
             ],
             [
              0.5555555555555556,
              "#d8576b"
             ],
             [
              0.6666666666666666,
              "#ed7953"
             ],
             [
              0.7777777777777778,
              "#fb9f3a"
             ],
             [
              0.8888888888888888,
              "#fdca26"
             ],
             [
              1,
              "#f0f921"
             ]
            ],
            "type": "heatmap"
           }
          ],
          "heatmapgl": [
           {
            "colorbar": {
             "outlinewidth": 0,
             "ticks": ""
            },
            "colorscale": [
             [
              0,
              "#0d0887"
             ],
             [
              0.1111111111111111,
              "#46039f"
             ],
             [
              0.2222222222222222,
              "#7201a8"
             ],
             [
              0.3333333333333333,
              "#9c179e"
             ],
             [
              0.4444444444444444,
              "#bd3786"
             ],
             [
              0.5555555555555556,
              "#d8576b"
             ],
             [
              0.6666666666666666,
              "#ed7953"
             ],
             [
              0.7777777777777778,
              "#fb9f3a"
             ],
             [
              0.8888888888888888,
              "#fdca26"
             ],
             [
              1,
              "#f0f921"
             ]
            ],
            "type": "heatmapgl"
           }
          ],
          "histogram": [
           {
            "marker": {
             "colorbar": {
              "outlinewidth": 0,
              "ticks": ""
             }
            },
            "type": "histogram"
           }
          ],
          "histogram2d": [
           {
            "colorbar": {
             "outlinewidth": 0,
             "ticks": ""
            },
            "colorscale": [
             [
              0,
              "#0d0887"
             ],
             [
              0.1111111111111111,
              "#46039f"
             ],
             [
              0.2222222222222222,
              "#7201a8"
             ],
             [
              0.3333333333333333,
              "#9c179e"
             ],
             [
              0.4444444444444444,
              "#bd3786"
             ],
             [
              0.5555555555555556,
              "#d8576b"
             ],
             [
              0.6666666666666666,
              "#ed7953"
             ],
             [
              0.7777777777777778,
              "#fb9f3a"
             ],
             [
              0.8888888888888888,
              "#fdca26"
             ],
             [
              1,
              "#f0f921"
             ]
            ],
            "type": "histogram2d"
           }
          ],
          "histogram2dcontour": [
           {
            "colorbar": {
             "outlinewidth": 0,
             "ticks": ""
            },
            "colorscale": [
             [
              0,
              "#0d0887"
             ],
             [
              0.1111111111111111,
              "#46039f"
             ],
             [
              0.2222222222222222,
              "#7201a8"
             ],
             [
              0.3333333333333333,
              "#9c179e"
             ],
             [
              0.4444444444444444,
              "#bd3786"
             ],
             [
              0.5555555555555556,
              "#d8576b"
             ],
             [
              0.6666666666666666,
              "#ed7953"
             ],
             [
              0.7777777777777778,
              "#fb9f3a"
             ],
             [
              0.8888888888888888,
              "#fdca26"
             ],
             [
              1,
              "#f0f921"
             ]
            ],
            "type": "histogram2dcontour"
           }
          ],
          "mesh3d": [
           {
            "colorbar": {
             "outlinewidth": 0,
             "ticks": ""
            },
            "type": "mesh3d"
           }
          ],
          "parcoords": [
           {
            "line": {
             "colorbar": {
              "outlinewidth": 0,
              "ticks": ""
             }
            },
            "type": "parcoords"
           }
          ],
          "pie": [
           {
            "automargin": true,
            "type": "pie"
           }
          ],
          "scatter": [
           {
            "marker": {
             "colorbar": {
              "outlinewidth": 0,
              "ticks": ""
             }
            },
            "type": "scatter"
           }
          ],
          "scatter3d": [
           {
            "line": {
             "colorbar": {
              "outlinewidth": 0,
              "ticks": ""
             }
            },
            "marker": {
             "colorbar": {
              "outlinewidth": 0,
              "ticks": ""
             }
            },
            "type": "scatter3d"
           }
          ],
          "scattercarpet": [
           {
            "marker": {
             "colorbar": {
              "outlinewidth": 0,
              "ticks": ""
             }
            },
            "type": "scattercarpet"
           }
          ],
          "scattergeo": [
           {
            "marker": {
             "colorbar": {
              "outlinewidth": 0,
              "ticks": ""
             }
            },
            "type": "scattergeo"
           }
          ],
          "scattergl": [
           {
            "marker": {
             "colorbar": {
              "outlinewidth": 0,
              "ticks": ""
             }
            },
            "type": "scattergl"
           }
          ],
          "scattermapbox": [
           {
            "marker": {
             "colorbar": {
              "outlinewidth": 0,
              "ticks": ""
             }
            },
            "type": "scattermapbox"
           }
          ],
          "scatterpolar": [
           {
            "marker": {
             "colorbar": {
              "outlinewidth": 0,
              "ticks": ""
             }
            },
            "type": "scatterpolar"
           }
          ],
          "scatterpolargl": [
           {
            "marker": {
             "colorbar": {
              "outlinewidth": 0,
              "ticks": ""
             }
            },
            "type": "scatterpolargl"
           }
          ],
          "scatterternary": [
           {
            "marker": {
             "colorbar": {
              "outlinewidth": 0,
              "ticks": ""
             }
            },
            "type": "scatterternary"
           }
          ],
          "surface": [
           {
            "colorbar": {
             "outlinewidth": 0,
             "ticks": ""
            },
            "colorscale": [
             [
              0,
              "#0d0887"
             ],
             [
              0.1111111111111111,
              "#46039f"
             ],
             [
              0.2222222222222222,
              "#7201a8"
             ],
             [
              0.3333333333333333,
              "#9c179e"
             ],
             [
              0.4444444444444444,
              "#bd3786"
             ],
             [
              0.5555555555555556,
              "#d8576b"
             ],
             [
              0.6666666666666666,
              "#ed7953"
             ],
             [
              0.7777777777777778,
              "#fb9f3a"
             ],
             [
              0.8888888888888888,
              "#fdca26"
             ],
             [
              1,
              "#f0f921"
             ]
            ],
            "type": "surface"
           }
          ],
          "table": [
           {
            "cells": {
             "fill": {
              "color": "#EBF0F8"
             },
             "line": {
              "color": "white"
             }
            },
            "header": {
             "fill": {
              "color": "#C8D4E3"
             },
             "line": {
              "color": "white"
             }
            },
            "type": "table"
           }
          ]
         },
         "layout": {
          "annotationdefaults": {
           "arrowcolor": "#2a3f5f",
           "arrowhead": 0,
           "arrowwidth": 1
          },
          "coloraxis": {
           "colorbar": {
            "outlinewidth": 0,
            "ticks": ""
           }
          },
          "colorscale": {
           "diverging": [
            [
             0,
             "#8e0152"
            ],
            [
             0.1,
             "#c51b7d"
            ],
            [
             0.2,
             "#de77ae"
            ],
            [
             0.3,
             "#f1b6da"
            ],
            [
             0.4,
             "#fde0ef"
            ],
            [
             0.5,
             "#f7f7f7"
            ],
            [
             0.6,
             "#e6f5d0"
            ],
            [
             0.7,
             "#b8e186"
            ],
            [
             0.8,
             "#7fbc41"
            ],
            [
             0.9,
             "#4d9221"
            ],
            [
             1,
             "#276419"
            ]
           ],
           "sequential": [
            [
             0,
             "#0d0887"
            ],
            [
             0.1111111111111111,
             "#46039f"
            ],
            [
             0.2222222222222222,
             "#7201a8"
            ],
            [
             0.3333333333333333,
             "#9c179e"
            ],
            [
             0.4444444444444444,
             "#bd3786"
            ],
            [
             0.5555555555555556,
             "#d8576b"
            ],
            [
             0.6666666666666666,
             "#ed7953"
            ],
            [
             0.7777777777777778,
             "#fb9f3a"
            ],
            [
             0.8888888888888888,
             "#fdca26"
            ],
            [
             1,
             "#f0f921"
            ]
           ],
           "sequentialminus": [
            [
             0,
             "#0d0887"
            ],
            [
             0.1111111111111111,
             "#46039f"
            ],
            [
             0.2222222222222222,
             "#7201a8"
            ],
            [
             0.3333333333333333,
             "#9c179e"
            ],
            [
             0.4444444444444444,
             "#bd3786"
            ],
            [
             0.5555555555555556,
             "#d8576b"
            ],
            [
             0.6666666666666666,
             "#ed7953"
            ],
            [
             0.7777777777777778,
             "#fb9f3a"
            ],
            [
             0.8888888888888888,
             "#fdca26"
            ],
            [
             1,
             "#f0f921"
            ]
           ]
          },
          "colorway": [
           "#636efa",
           "#EF553B",
           "#00cc96",
           "#ab63fa",
           "#FFA15A",
           "#19d3f3",
           "#FF6692",
           "#B6E880",
           "#FF97FF",
           "#FECB52"
          ],
          "font": {
           "color": "#2a3f5f"
          },
          "geo": {
           "bgcolor": "white",
           "lakecolor": "white",
           "landcolor": "#E5ECF6",
           "showlakes": true,
           "showland": true,
           "subunitcolor": "white"
          },
          "hoverlabel": {
           "align": "left"
          },
          "hovermode": "closest",
          "mapbox": {
           "style": "light"
          },
          "paper_bgcolor": "white",
          "plot_bgcolor": "#E5ECF6",
          "polar": {
           "angularaxis": {
            "gridcolor": "white",
            "linecolor": "white",
            "ticks": ""
           },
           "bgcolor": "#E5ECF6",
           "radialaxis": {
            "gridcolor": "white",
            "linecolor": "white",
            "ticks": ""
           }
          },
          "scene": {
           "xaxis": {
            "backgroundcolor": "#E5ECF6",
            "gridcolor": "white",
            "gridwidth": 2,
            "linecolor": "white",
            "showbackground": true,
            "ticks": "",
            "zerolinecolor": "white"
           },
           "yaxis": {
            "backgroundcolor": "#E5ECF6",
            "gridcolor": "white",
            "gridwidth": 2,
            "linecolor": "white",
            "showbackground": true,
            "ticks": "",
            "zerolinecolor": "white"
           },
           "zaxis": {
            "backgroundcolor": "#E5ECF6",
            "gridcolor": "white",
            "gridwidth": 2,
            "linecolor": "white",
            "showbackground": true,
            "ticks": "",
            "zerolinecolor": "white"
           }
          },
          "shapedefaults": {
           "line": {
            "color": "#2a3f5f"
           }
          },
          "ternary": {
           "aaxis": {
            "gridcolor": "white",
            "linecolor": "white",
            "ticks": ""
           },
           "baxis": {
            "gridcolor": "white",
            "linecolor": "white",
            "ticks": ""
           },
           "bgcolor": "#E5ECF6",
           "caxis": {
            "gridcolor": "white",
            "linecolor": "white",
            "ticks": ""
           }
          },
          "title": {
           "x": 0.05
          },
          "xaxis": {
           "automargin": true,
           "gridcolor": "white",
           "linecolor": "white",
           "ticks": "",
           "title": {
            "standoff": 15
           },
           "zerolinecolor": "white",
           "zerolinewidth": 2
          },
          "yaxis": {
           "automargin": true,
           "gridcolor": "white",
           "linecolor": "white",
           "ticks": "",
           "title": {
            "standoff": 15
           },
           "zerolinecolor": "white",
           "zerolinewidth": 2
          }
         }
        },
        "title": {
         "font": {
          "color": "#4D5663"
         }
        },
        "xaxis": {
         "gridcolor": "#E1E5ED",
         "showgrid": true,
         "tickfont": {
          "color": "#4D5663"
         },
         "title": {
          "font": {
           "color": "#4D5663"
          },
          "text": ""
         },
         "zerolinecolor": "#E1E5ED"
        },
        "yaxis": {
         "gridcolor": "#E1E5ED",
         "showgrid": true,
         "tickfont": {
          "color": "#4D5663"
         },
         "title": {
          "font": {
           "color": "#4D5663"
          },
          "text": ""
         },
         "zerolinecolor": "#E1E5ED"
        }
       }
      },
      "text/html": [
       "<div>\n",
       "        \n",
       "        \n",
       "            <div id=\"3e79e393-7133-44b8-be1b-a454e3730780\" class=\"plotly-graph-div\" style=\"height:525px; width:100%;\"></div>\n",
       "            <script type=\"text/javascript\">\n",
       "                require([\"plotly\"], function(Plotly) {\n",
       "                    window.PLOTLYENV=window.PLOTLYENV || {};\n",
       "                    window.PLOTLYENV.BASE_URL='https://plot.ly';\n",
       "                    \n",
       "                if (document.getElementById(\"3e79e393-7133-44b8-be1b-a454e3730780\")) {\n",
       "                    Plotly.newPlot(\n",
       "                        '3e79e393-7133-44b8-be1b-a454e3730780',\n",
       "                        [{\"histfunc\": \"count\", \"histnorm\": \"\", \"marker\": {\"color\": \"rgba(255, 153, 51, 1.0)\", \"line\": {\"color\": \"#4D5663\", \"width\": 1.3}}, \"name\": \"A\", \"nbinsx\": 25, \"opacity\": 0.8, \"orientation\": \"v\", \"type\": \"histogram\", \"x\": [0.8565004406896697, 0.616667033466685, 0.9298916478237453, -1.6724634436675336, -0.019950485747430385, -0.32800911299570507, -0.520848431309861, -1.30147296225039, 0.918170020841073, -0.003030796847175438, 1.8515261305902329, -2.4657644444358904, -1.439356632219261, 0.15387753978794932, 0.07641025126858664, 0.05696079491628426, 0.994002604240455, 1.3063555379994916, 0.11680196973249214, -0.06144614746125791, 0.16965506162971544, -1.5592095724925938, 1.7362505416468237, -0.5158156181616896, 0.3112988643540849, 0.6367371116974732, -1.5536536001503518, -1.7685320204209458, -0.5392754585148415, 0.10192996646476966, 0.5568460660823932, 0.4092568775144538, 0.6425257437679849, 0.09284381524121892, 1.7894845246730584, -1.5779423255162153, -1.789479229742878, 0.7609651113838944, -0.6674139141954538, -0.4214512133650312, -0.44539736631937926, 0.5186930794439539, -1.0086390260505254, 0.7345811131541214, -0.8682151792015697, -0.5138030956228592, 2.44506810870039, -0.48872333105082555, 1.3671166266258052, -0.01753294451379828, 0.11685967207261917, 1.0155837704561772, -0.5150792361553516, -0.4189522845684282, -1.671800498378324, 0.00849610436739744, -0.895038429064667, -0.7234219959912285, 0.206272727623923, 0.3226173070103636, -0.4358213189085439, 1.485019297233284, 1.3145577597333455, 1.1418099258834655, 0.3899155275990936, 0.6744845811903896, -1.5421747306588416, 0.10759935916787118, -0.29174756418219683, 0.4816850364526941, 0.06383954088766132, 0.805862380002143, 1.7922318721731754, 0.7711332871154744, 1.5493299640694245, 2.1568955364366897, 1.1670866728363158, 0.7987843837817445, 0.5924788058898702, 0.46868961780136764, 0.041509628887594935, 1.4403527221146417, 0.06159499985984685, -0.37884426150130707, -0.5712864766608926, -0.05456501732571868, -1.374456821319399, -0.29150627018452924, -0.5060841247039243, -0.9116186430932947, -0.03191657470382843, -1.1907703476630989, -0.2240749488357738, 0.9880910702602029, -0.6027601036139539, -0.804412324683554, -0.42504929417141835, 0.23827330110499453, 1.2763718707572826, -0.6127361720543995]}],\n",
       "                        {\"barmode\": \"overlay\", \"legend\": {\"bgcolor\": \"#F5F6F9\", \"font\": {\"color\": \"#4D5663\"}}, \"paper_bgcolor\": \"#F5F6F9\", \"plot_bgcolor\": \"#F5F6F9\", \"template\": {\"data\": {\"bar\": [{\"error_x\": {\"color\": \"#2a3f5f\"}, \"error_y\": {\"color\": \"#2a3f5f\"}, \"marker\": {\"line\": {\"color\": \"#E5ECF6\", \"width\": 0.5}}, \"type\": \"bar\"}], \"barpolar\": [{\"marker\": {\"line\": {\"color\": \"#E5ECF6\", \"width\": 0.5}}, \"type\": \"barpolar\"}], \"carpet\": [{\"aaxis\": {\"endlinecolor\": \"#2a3f5f\", \"gridcolor\": \"white\", \"linecolor\": \"white\", \"minorgridcolor\": \"white\", \"startlinecolor\": \"#2a3f5f\"}, \"baxis\": {\"endlinecolor\": \"#2a3f5f\", \"gridcolor\": \"white\", \"linecolor\": \"white\", \"minorgridcolor\": \"white\", \"startlinecolor\": \"#2a3f5f\"}, \"type\": \"carpet\"}], \"choropleth\": [{\"colorbar\": {\"outlinewidth\": 0, \"ticks\": \"\"}, \"type\": \"choropleth\"}], \"contour\": [{\"colorbar\": {\"outlinewidth\": 0, \"ticks\": \"\"}, \"colorscale\": [[0.0, \"#0d0887\"], [0.1111111111111111, \"#46039f\"], [0.2222222222222222, \"#7201a8\"], [0.3333333333333333, \"#9c179e\"], [0.4444444444444444, \"#bd3786\"], [0.5555555555555556, \"#d8576b\"], [0.6666666666666666, \"#ed7953\"], [0.7777777777777778, \"#fb9f3a\"], [0.8888888888888888, \"#fdca26\"], [1.0, \"#f0f921\"]], \"type\": \"contour\"}], \"contourcarpet\": [{\"colorbar\": {\"outlinewidth\": 0, \"ticks\": \"\"}, \"type\": \"contourcarpet\"}], \"heatmap\": [{\"colorbar\": {\"outlinewidth\": 0, \"ticks\": \"\"}, \"colorscale\": [[0.0, \"#0d0887\"], [0.1111111111111111, \"#46039f\"], [0.2222222222222222, \"#7201a8\"], [0.3333333333333333, \"#9c179e\"], [0.4444444444444444, \"#bd3786\"], [0.5555555555555556, \"#d8576b\"], [0.6666666666666666, \"#ed7953\"], [0.7777777777777778, \"#fb9f3a\"], [0.8888888888888888, \"#fdca26\"], [1.0, \"#f0f921\"]], \"type\": \"heatmap\"}], \"heatmapgl\": [{\"colorbar\": {\"outlinewidth\": 0, \"ticks\": \"\"}, \"colorscale\": [[0.0, \"#0d0887\"], [0.1111111111111111, \"#46039f\"], [0.2222222222222222, \"#7201a8\"], [0.3333333333333333, \"#9c179e\"], [0.4444444444444444, \"#bd3786\"], [0.5555555555555556, \"#d8576b\"], [0.6666666666666666, \"#ed7953\"], [0.7777777777777778, \"#fb9f3a\"], [0.8888888888888888, \"#fdca26\"], [1.0, \"#f0f921\"]], \"type\": \"heatmapgl\"}], \"histogram\": [{\"marker\": {\"colorbar\": {\"outlinewidth\": 0, \"ticks\": \"\"}}, \"type\": \"histogram\"}], \"histogram2d\": [{\"colorbar\": {\"outlinewidth\": 0, \"ticks\": \"\"}, \"colorscale\": [[0.0, \"#0d0887\"], [0.1111111111111111, \"#46039f\"], [0.2222222222222222, \"#7201a8\"], [0.3333333333333333, \"#9c179e\"], [0.4444444444444444, \"#bd3786\"], [0.5555555555555556, \"#d8576b\"], [0.6666666666666666, \"#ed7953\"], [0.7777777777777778, \"#fb9f3a\"], [0.8888888888888888, \"#fdca26\"], [1.0, \"#f0f921\"]], \"type\": \"histogram2d\"}], \"histogram2dcontour\": [{\"colorbar\": {\"outlinewidth\": 0, \"ticks\": \"\"}, \"colorscale\": [[0.0, \"#0d0887\"], [0.1111111111111111, \"#46039f\"], [0.2222222222222222, \"#7201a8\"], [0.3333333333333333, \"#9c179e\"], [0.4444444444444444, \"#bd3786\"], [0.5555555555555556, \"#d8576b\"], [0.6666666666666666, \"#ed7953\"], [0.7777777777777778, \"#fb9f3a\"], [0.8888888888888888, \"#fdca26\"], [1.0, \"#f0f921\"]], \"type\": \"histogram2dcontour\"}], \"mesh3d\": [{\"colorbar\": {\"outlinewidth\": 0, \"ticks\": \"\"}, \"type\": \"mesh3d\"}], \"parcoords\": [{\"line\": {\"colorbar\": {\"outlinewidth\": 0, \"ticks\": \"\"}}, \"type\": \"parcoords\"}], \"pie\": [{\"automargin\": true, \"type\": \"pie\"}], \"scatter\": [{\"marker\": {\"colorbar\": {\"outlinewidth\": 0, \"ticks\": \"\"}}, \"type\": \"scatter\"}], \"scatter3d\": [{\"line\": {\"colorbar\": {\"outlinewidth\": 0, \"ticks\": \"\"}}, \"marker\": {\"colorbar\": {\"outlinewidth\": 0, \"ticks\": \"\"}}, \"type\": \"scatter3d\"}], \"scattercarpet\": [{\"marker\": {\"colorbar\": {\"outlinewidth\": 0, \"ticks\": \"\"}}, \"type\": \"scattercarpet\"}], \"scattergeo\": [{\"marker\": {\"colorbar\": {\"outlinewidth\": 0, \"ticks\": \"\"}}, \"type\": \"scattergeo\"}], \"scattergl\": [{\"marker\": {\"colorbar\": {\"outlinewidth\": 0, \"ticks\": \"\"}}, \"type\": \"scattergl\"}], \"scattermapbox\": [{\"marker\": {\"colorbar\": {\"outlinewidth\": 0, \"ticks\": \"\"}}, \"type\": \"scattermapbox\"}], \"scatterpolar\": [{\"marker\": {\"colorbar\": {\"outlinewidth\": 0, \"ticks\": \"\"}}, \"type\": \"scatterpolar\"}], \"scatterpolargl\": [{\"marker\": {\"colorbar\": {\"outlinewidth\": 0, \"ticks\": \"\"}}, \"type\": \"scatterpolargl\"}], \"scatterternary\": [{\"marker\": {\"colorbar\": {\"outlinewidth\": 0, \"ticks\": \"\"}}, \"type\": \"scatterternary\"}], \"surface\": [{\"colorbar\": {\"outlinewidth\": 0, \"ticks\": \"\"}, \"colorscale\": [[0.0, \"#0d0887\"], [0.1111111111111111, \"#46039f\"], [0.2222222222222222, \"#7201a8\"], [0.3333333333333333, \"#9c179e\"], [0.4444444444444444, \"#bd3786\"], [0.5555555555555556, \"#d8576b\"], [0.6666666666666666, \"#ed7953\"], [0.7777777777777778, \"#fb9f3a\"], [0.8888888888888888, \"#fdca26\"], [1.0, \"#f0f921\"]], \"type\": \"surface\"}], \"table\": [{\"cells\": {\"fill\": {\"color\": \"#EBF0F8\"}, \"line\": {\"color\": \"white\"}}, \"header\": {\"fill\": {\"color\": \"#C8D4E3\"}, \"line\": {\"color\": \"white\"}}, \"type\": \"table\"}]}, \"layout\": {\"annotationdefaults\": {\"arrowcolor\": \"#2a3f5f\", \"arrowhead\": 0, \"arrowwidth\": 1}, \"coloraxis\": {\"colorbar\": {\"outlinewidth\": 0, \"ticks\": \"\"}}, \"colorscale\": {\"diverging\": [[0, \"#8e0152\"], [0.1, \"#c51b7d\"], [0.2, \"#de77ae\"], [0.3, \"#f1b6da\"], [0.4, \"#fde0ef\"], [0.5, \"#f7f7f7\"], [0.6, \"#e6f5d0\"], [0.7, \"#b8e186\"], [0.8, \"#7fbc41\"], [0.9, \"#4d9221\"], [1, \"#276419\"]], \"sequential\": [[0.0, \"#0d0887\"], [0.1111111111111111, \"#46039f\"], [0.2222222222222222, \"#7201a8\"], [0.3333333333333333, \"#9c179e\"], [0.4444444444444444, \"#bd3786\"], [0.5555555555555556, \"#d8576b\"], [0.6666666666666666, \"#ed7953\"], [0.7777777777777778, \"#fb9f3a\"], [0.8888888888888888, \"#fdca26\"], [1.0, \"#f0f921\"]], \"sequentialminus\": [[0.0, \"#0d0887\"], [0.1111111111111111, \"#46039f\"], [0.2222222222222222, \"#7201a8\"], [0.3333333333333333, \"#9c179e\"], [0.4444444444444444, \"#bd3786\"], [0.5555555555555556, \"#d8576b\"], [0.6666666666666666, \"#ed7953\"], [0.7777777777777778, \"#fb9f3a\"], [0.8888888888888888, \"#fdca26\"], [1.0, \"#f0f921\"]]}, \"colorway\": [\"#636efa\", \"#EF553B\", \"#00cc96\", \"#ab63fa\", \"#FFA15A\", \"#19d3f3\", \"#FF6692\", \"#B6E880\", \"#FF97FF\", \"#FECB52\"], \"font\": {\"color\": \"#2a3f5f\"}, \"geo\": {\"bgcolor\": \"white\", \"lakecolor\": \"white\", \"landcolor\": \"#E5ECF6\", \"showlakes\": true, \"showland\": true, \"subunitcolor\": \"white\"}, \"hoverlabel\": {\"align\": \"left\"}, \"hovermode\": \"closest\", \"mapbox\": {\"style\": \"light\"}, \"paper_bgcolor\": \"white\", \"plot_bgcolor\": \"#E5ECF6\", \"polar\": {\"angularaxis\": {\"gridcolor\": \"white\", \"linecolor\": \"white\", \"ticks\": \"\"}, \"bgcolor\": \"#E5ECF6\", \"radialaxis\": {\"gridcolor\": \"white\", \"linecolor\": \"white\", \"ticks\": \"\"}}, \"scene\": {\"xaxis\": {\"backgroundcolor\": \"#E5ECF6\", \"gridcolor\": \"white\", \"gridwidth\": 2, \"linecolor\": \"white\", \"showbackground\": true, \"ticks\": \"\", \"zerolinecolor\": \"white\"}, \"yaxis\": {\"backgroundcolor\": \"#E5ECF6\", \"gridcolor\": \"white\", \"gridwidth\": 2, \"linecolor\": \"white\", \"showbackground\": true, \"ticks\": \"\", \"zerolinecolor\": \"white\"}, \"zaxis\": {\"backgroundcolor\": \"#E5ECF6\", \"gridcolor\": \"white\", \"gridwidth\": 2, \"linecolor\": \"white\", \"showbackground\": true, \"ticks\": \"\", \"zerolinecolor\": \"white\"}}, \"shapedefaults\": {\"line\": {\"color\": \"#2a3f5f\"}}, \"ternary\": {\"aaxis\": {\"gridcolor\": \"white\", \"linecolor\": \"white\", \"ticks\": \"\"}, \"baxis\": {\"gridcolor\": \"white\", \"linecolor\": \"white\", \"ticks\": \"\"}, \"bgcolor\": \"#E5ECF6\", \"caxis\": {\"gridcolor\": \"white\", \"linecolor\": \"white\", \"ticks\": \"\"}}, \"title\": {\"x\": 0.05}, \"xaxis\": {\"automargin\": true, \"gridcolor\": \"white\", \"linecolor\": \"white\", \"ticks\": \"\", \"title\": {\"standoff\": 15}, \"zerolinecolor\": \"white\", \"zerolinewidth\": 2}, \"yaxis\": {\"automargin\": true, \"gridcolor\": \"white\", \"linecolor\": \"white\", \"ticks\": \"\", \"title\": {\"standoff\": 15}, \"zerolinecolor\": \"white\", \"zerolinewidth\": 2}}}, \"title\": {\"font\": {\"color\": \"#4D5663\"}}, \"xaxis\": {\"gridcolor\": \"#E1E5ED\", \"showgrid\": true, \"tickfont\": {\"color\": \"#4D5663\"}, \"title\": {\"font\": {\"color\": \"#4D5663\"}, \"text\": \"\"}, \"zerolinecolor\": \"#E1E5ED\"}, \"yaxis\": {\"gridcolor\": \"#E1E5ED\", \"showgrid\": true, \"tickfont\": {\"color\": \"#4D5663\"}, \"title\": {\"font\": {\"color\": \"#4D5663\"}, \"text\": \"\"}, \"zerolinecolor\": \"#E1E5ED\"}},\n",
       "                        {\"showLink\": true, \"linkText\": \"Export to plot.ly\", \"plotlyServerURL\": \"https://plot.ly\", \"responsive\": true}\n",
       "                    ).then(function(){\n",
       "                            \n",
       "var gd = document.getElementById('3e79e393-7133-44b8-be1b-a454e3730780');\n",
       "var x = new MutationObserver(function (mutations, observer) {{\n",
       "        var display = window.getComputedStyle(gd).display;\n",
       "        if (!display || display === 'none') {{\n",
       "            console.log([gd, 'removed!']);\n",
       "            Plotly.purge(gd);\n",
       "            observer.disconnect();\n",
       "        }}\n",
       "}});\n",
       "\n",
       "// Listen for the removal of the full notebook cells\n",
       "var notebookContainer = gd.closest('#notebook-container');\n",
       "if (notebookContainer) {{\n",
       "    x.observe(notebookContainer, {childList: true});\n",
       "}}\n",
       "\n",
       "// Listen for the clearing of the current output cell\n",
       "var outputEl = gd.closest('.output');\n",
       "if (outputEl) {{\n",
       "    x.observe(outputEl, {childList: true});\n",
       "}}\n",
       "\n",
       "                        })\n",
       "                };\n",
       "                });\n",
       "            </script>\n",
       "        </div>"
      ]
     },
     "metadata": {},
     "output_type": "display_data"
    }
   ],
   "source": [
    "#for column A\n",
    "df['A'].iplot(kind='hist',bins=25)"
   ]
  },
  {
   "cell_type": "markdown",
   "metadata": {},
   "source": [
    "- Note: If I go ahead to plot all the data, I will get and overlapping histrograms which I can compare by turnng on and off each histogram"
   ]
  },
  {
   "cell_type": "code",
   "execution_count": 75,
   "metadata": {},
   "outputs": [
    {
     "data": {
      "application/vnd.plotly.v1+json": {
       "config": {
        "linkText": "Export to plot.ly",
        "plotlyServerURL": "https://plot.ly",
        "showLink": true
       },
       "data": [
        {
         "histfunc": "count",
         "histnorm": "",
         "marker": {
          "color": "rgba(255, 153, 51, 1.0)",
          "line": {
           "color": "#4D5663",
           "width": 1.3
          }
         },
         "name": "A",
         "opacity": 0.8,
         "orientation": "v",
         "type": "histogram",
         "x": [
          0.8565004406896697,
          0.616667033466685,
          0.9298916478237453,
          -1.6724634436675336,
          -0.019950485747430385,
          -0.32800911299570507,
          -0.520848431309861,
          -1.30147296225039,
          0.918170020841073,
          -0.003030796847175438,
          1.8515261305902329,
          -2.4657644444358904,
          -1.439356632219261,
          0.15387753978794932,
          0.07641025126858664,
          0.05696079491628426,
          0.994002604240455,
          1.3063555379994916,
          0.11680196973249214,
          -0.06144614746125791,
          0.16965506162971544,
          -1.5592095724925938,
          1.7362505416468237,
          -0.5158156181616896,
          0.3112988643540849,
          0.6367371116974732,
          -1.5536536001503518,
          -1.7685320204209458,
          -0.5392754585148415,
          0.10192996646476966,
          0.5568460660823932,
          0.4092568775144538,
          0.6425257437679849,
          0.09284381524121892,
          1.7894845246730584,
          -1.5779423255162153,
          -1.789479229742878,
          0.7609651113838944,
          -0.6674139141954538,
          -0.4214512133650312,
          -0.44539736631937926,
          0.5186930794439539,
          -1.0086390260505254,
          0.7345811131541214,
          -0.8682151792015697,
          -0.5138030956228592,
          2.44506810870039,
          -0.48872333105082555,
          1.3671166266258052,
          -0.01753294451379828,
          0.11685967207261917,
          1.0155837704561772,
          -0.5150792361553516,
          -0.4189522845684282,
          -1.671800498378324,
          0.00849610436739744,
          -0.895038429064667,
          -0.7234219959912285,
          0.206272727623923,
          0.3226173070103636,
          -0.4358213189085439,
          1.485019297233284,
          1.3145577597333455,
          1.1418099258834655,
          0.3899155275990936,
          0.6744845811903896,
          -1.5421747306588416,
          0.10759935916787118,
          -0.29174756418219683,
          0.4816850364526941,
          0.06383954088766132,
          0.805862380002143,
          1.7922318721731754,
          0.7711332871154744,
          1.5493299640694245,
          2.1568955364366897,
          1.1670866728363158,
          0.7987843837817445,
          0.5924788058898702,
          0.46868961780136764,
          0.041509628887594935,
          1.4403527221146417,
          0.06159499985984685,
          -0.37884426150130707,
          -0.5712864766608926,
          -0.05456501732571868,
          -1.374456821319399,
          -0.29150627018452924,
          -0.5060841247039243,
          -0.9116186430932947,
          -0.03191657470382843,
          -1.1907703476630989,
          -0.2240749488357738,
          0.9880910702602029,
          -0.6027601036139539,
          -0.804412324683554,
          -0.42504929417141835,
          0.23827330110499453,
          1.2763718707572826,
          -0.6127361720543995
         ]
        },
        {
         "histfunc": "count",
         "histnorm": "",
         "marker": {
          "color": "rgba(55, 128, 191, 1.0)",
          "line": {
           "color": "#4D5663",
           "width": 1.3
          }
         },
         "name": "B",
         "opacity": 0.8,
         "orientation": "v",
         "type": "histogram",
         "x": [
          1.475589520025869,
          0.058193690147613136,
          0.8858587130605142,
          -1.0062473781673018,
          0.46803675911740583,
          1.8876584534559304,
          1.0068376194540218,
          0.20649832656467781,
          -0.3831842413954928,
          0.8146880661445408,
          0.7525580546906689,
          -0.9499437266514072,
          -0.5124677266513444,
          -0.07070799266437955,
          0.24842935771077734,
          -0.47466919918713246,
          0.1329640121766927,
          0.7101899364369233,
          -0.8129158041745252,
          -0.9065188940398232,
          -0.576101023436274,
          0.7211521933563564,
          0.4980075228147292,
          -0.4772199892654312,
          -0.25876529291204786,
          0.02805869936306022,
          -1.1120841762313531,
          -0.34773983569211936,
          0.5592457342025116,
          -2.2329856221230426,
          1.244429738539221,
          -0.3558037971356808,
          -1.7071760167849175,
          -0.38601241809639797,
          -1.2101106786862859,
          0.39581149532187293,
          -1.613409089316727,
          -0.017707675178522137,
          -0.51674385539429,
          0.5508169727530585,
          -0.7657147803155174,
          2.102266470888824,
          -1.9500668951535425,
          0.08582168052356781,
          -1.2031543487810075,
          0.09047246874201739,
          -1.2046473795482855,
          0.057008372010706757,
          -0.6793292136001533,
          -0.16868751384288672,
          0.013752896177967523,
          0.13559208744343473,
          -0.9630115477948523,
          0.7230504579164195,
          -0.7957538189923294,
          -0.5367136225824187,
          -1.0077205412350119,
          -1.7914055716137376,
          -1.230050510713824,
          0.8679372146419765,
          0.016712192818447498,
          -1.7296404941674273,
          0.6279507372489606,
          2.2072101493033247,
          -1.426478309767374,
          -0.10793231034668634,
          0.2825793489947289,
          -1.980919281504627,
          1.355967324544568,
          -0.7001789060327122,
          -1.2722359256963178,
          0.09299395157163394,
          0.9666985831548762,
          -0.3146817160528018,
          0.5624621245870179,
          -0.4257065060814728,
          2.8239069121719327,
          -0.6597234857277737,
          0.045685732120529614,
          -0.01918897826138856,
          0.19400035829565307,
          0.331512334519879,
          -0.14894837996905405,
          -0.35260660854332354,
          0.4922341899645374,
          0.512147456731329,
          0.06474390398539126,
          2.3772022790380962,
          0.4500853579083613,
          -0.6527657639931757,
          -0.047316453982068685,
          0.4678256940750706,
          -0.5795657304715769,
          -1.2899242922557217,
          -0.3685463537980794,
          0.25886314902995966,
          -0.659454095923306,
          -0.28299923424564427,
          -1.3644779963994549,
          -0.07484015266979967
         ]
        },
        {
         "histfunc": "count",
         "histnorm": "",
         "marker": {
          "color": "rgba(50, 171, 96, 1.0)",
          "line": {
           "color": "#4D5663",
           "width": 1.3
          }
         },
         "name": "C",
         "opacity": 0.8,
         "orientation": "v",
         "type": "histogram",
         "x": [
          0.09536454976164993,
          -1.979873229425567,
          -0.8006171220144002,
          -1.4085439333951777,
          0.08547942854432763,
          -0.008826093278719568,
          -0.2991548029353947,
          0.2576029505630603,
          0.8795221488870283,
          -0.07200754103600952,
          -0.046151183479252546,
          0.3374454762825173,
          -0.6779825948518686,
          -0.09763964035505414,
          1.599220362888875,
          0.17648750653606524,
          0.18213753336434174,
          -0.9245131437491316,
          2.050342741577169,
          -0.11525257001200029,
          -0.3081347973723833,
          -0.34588166791003433,
          -0.33520708347079836,
          -1.0388186655706726,
          0.46110275587050625,
          -0.5761386680731327,
          0.8801801412081522,
          -0.5334511453174319,
          2.179848881496895,
          0.8510521398255604,
          -1.302215746186497,
          -0.2758653764454315,
          0.4229725742656263,
          -0.6854796038539009,
          -0.46825269421393273,
          -0.059917604332156246,
          0.27907495323068693,
          -0.4774644670954662,
          0.5112678302701621,
          -2.653886389514963,
          0.5602132803496599,
          -0.09368145292452275,
          -0.5108472428829691,
          -0.0049541575064123555,
          0.8263529754001935,
          -1.0298167166950276,
          0.11615194577730661,
          -0.033485373062486425,
          -0.5023586159199206,
          -0.5343264848054067,
          1.2563645314112177,
          -0.670756044789189,
          0.04086236619495206,
          -0.48491239039460976,
          0.8368010161808237,
          -1.4747359948647716,
          -0.678626261666939,
          0.055916347271540726,
          -0.665548308946417,
          -0.7349920467327229,
          1.1431344385353945,
          0.10272624712609245,
          2.0337920267866245,
          -0.25664343368236386,
          0.3270272774134318,
          -0.9161936736943582,
          0.6640500241172738,
          0.45816299396646826,
          1.479109563408102,
          -1.0801874426617148,
          0.8645323939687818,
          1.556299817995986,
          -0.19584520336043118,
          -0.6074092807738445,
          -0.7036813686304971,
          -0.2522157220017819,
          1.9265828118823523,
          -1.5812188150203852,
          0.109577170426578,
          1.7041087583411898,
          -1.6958191071790105,
          -1.6508695078091753,
          -0.14063194438965274,
          0.9241987280821946,
          0.8150487836869047,
          0.5931459555812096,
          1.5264875107240874,
          0.9944396469378712,
          -1.3785578513262233,
          0.29406582022837885,
          -0.3913540100322184,
          -0.3505245746885777,
          0.01771170232228889,
          -0.42157829849596756,
          -1.130644127991805,
          0.44140298627012853,
          0.3749867305185496,
          -0.2891992005348076,
          -0.9140427672546457,
          0.962493619611387
         ]
        },
        {
         "histfunc": "count",
         "histnorm": "",
         "marker": {
          "color": "rgba(128, 0, 128, 1.0)",
          "line": {
           "color": "#4D5663",
           "width": 1.3
          }
         },
         "name": "D",
         "opacity": 0.8,
         "orientation": "v",
         "type": "histogram",
         "x": [
          -2.8371083245496616,
          0.18726671943935058,
          -0.635752704507406,
          0.31204885311241765,
          -1.6884623420901927,
          -2.218046636438145,
          0.8005326796231135,
          0.2571323568177598,
          -0.7517794685927304,
          0.7141700622967905,
          -0.7034274370151249,
          1.7601916791167034,
          -0.695062955483073,
          -0.2605103364893929,
          -0.46730855079440314,
          0.7343327121690637,
          -0.9815267713197737,
          0.08934937710201019,
          1.2228982710514336,
          -0.2558313016025286,
          0.08473537705506456,
          -0.2831432143808916,
          -0.5078694189178844,
          1.3868024785701536,
          -0.5953077204912341,
          1.848884077889904,
          1.5390355127582946,
          0.028268872843309582,
          -0.595582478100544,
          1.5427013777117144,
          -0.5267129535115503,
          -2.2191309716885237,
          0.0526380368058972,
          -1.362504559433225,
          0.347626808410747,
          -0.23159946754631258,
          -0.4455793612367743,
          -0.06588596165374287,
          -1.3878920907572154,
          -1.008227288385752,
          0.5214377993630165,
          -0.018950103896625235,
          -0.14910350029198688,
          -0.5731720468029629,
          -0.9448239720268437,
          -0.22647219243858305,
          0.23146433215176052,
          0.893712658602652,
          -0.6793475172366461,
          1.6732234146359781,
          1.3376624235505683,
          -2.2775249667085014,
          -0.35725965871140325,
          -0.4866196631848915,
          0.5221645015016327,
          -2.3512699124364085,
          -0.5692428042702953,
          0.10925410215289443,
          -0.36194004921095924,
          0.6334634171826902,
          -0.989516778828704,
          1.5894450940447842,
          1.6504996902903266,
          0.08065315455009567,
          0.06506507570552242,
          -0.2945574392855909,
          0.5163758035262357,
          0.7920140242556639,
          -1.1531881291574442,
          -0.45478802547050956,
          0.4148567561667146,
          -1.6225514034438266,
          -0.05256397906113001,
          -0.856629342427809,
          -1.128943548249932,
          2.591930395771614,
          -1.510629341644163,
          0.08673476546190459,
          0.2710878959149094,
          -0.38617512562306183,
          -0.25179677654739074,
          -0.23088214790287442,
          -2.2421051954884854,
          0.22438491327880083,
          0.3358240185176065,
          -1.9844158775313674,
          -1.1360740539664844,
          -0.5211490606702568,
          0.0976208293459543,
          1.6774681184560594,
          1.7459282462631893,
          -2.0453097398102043,
          0.7010203333543181,
          -0.42683017154972774,
          -0.5401712869994386,
          -0.38687846178588225,
          -0.9066203932855437,
          1.0269121046221774,
          0.507489187083504,
          1.9548992675904575
         ]
        }
       ],
       "layout": {
        "barmode": "overlay",
        "legend": {
         "bgcolor": "#F5F6F9",
         "font": {
          "color": "#4D5663"
         }
        },
        "paper_bgcolor": "#F5F6F9",
        "plot_bgcolor": "#F5F6F9",
        "template": {
         "data": {
          "bar": [
           {
            "error_x": {
             "color": "#2a3f5f"
            },
            "error_y": {
             "color": "#2a3f5f"
            },
            "marker": {
             "line": {
              "color": "#E5ECF6",
              "width": 0.5
             }
            },
            "type": "bar"
           }
          ],
          "barpolar": [
           {
            "marker": {
             "line": {
              "color": "#E5ECF6",
              "width": 0.5
             }
            },
            "type": "barpolar"
           }
          ],
          "carpet": [
           {
            "aaxis": {
             "endlinecolor": "#2a3f5f",
             "gridcolor": "white",
             "linecolor": "white",
             "minorgridcolor": "white",
             "startlinecolor": "#2a3f5f"
            },
            "baxis": {
             "endlinecolor": "#2a3f5f",
             "gridcolor": "white",
             "linecolor": "white",
             "minorgridcolor": "white",
             "startlinecolor": "#2a3f5f"
            },
            "type": "carpet"
           }
          ],
          "choropleth": [
           {
            "colorbar": {
             "outlinewidth": 0,
             "ticks": ""
            },
            "type": "choropleth"
           }
          ],
          "contour": [
           {
            "colorbar": {
             "outlinewidth": 0,
             "ticks": ""
            },
            "colorscale": [
             [
              0,
              "#0d0887"
             ],
             [
              0.1111111111111111,
              "#46039f"
             ],
             [
              0.2222222222222222,
              "#7201a8"
             ],
             [
              0.3333333333333333,
              "#9c179e"
             ],
             [
              0.4444444444444444,
              "#bd3786"
             ],
             [
              0.5555555555555556,
              "#d8576b"
             ],
             [
              0.6666666666666666,
              "#ed7953"
             ],
             [
              0.7777777777777778,
              "#fb9f3a"
             ],
             [
              0.8888888888888888,
              "#fdca26"
             ],
             [
              1,
              "#f0f921"
             ]
            ],
            "type": "contour"
           }
          ],
          "contourcarpet": [
           {
            "colorbar": {
             "outlinewidth": 0,
             "ticks": ""
            },
            "type": "contourcarpet"
           }
          ],
          "heatmap": [
           {
            "colorbar": {
             "outlinewidth": 0,
             "ticks": ""
            },
            "colorscale": [
             [
              0,
              "#0d0887"
             ],
             [
              0.1111111111111111,
              "#46039f"
             ],
             [
              0.2222222222222222,
              "#7201a8"
             ],
             [
              0.3333333333333333,
              "#9c179e"
             ],
             [
              0.4444444444444444,
              "#bd3786"
             ],
             [
              0.5555555555555556,
              "#d8576b"
             ],
             [
              0.6666666666666666,
              "#ed7953"
             ],
             [
              0.7777777777777778,
              "#fb9f3a"
             ],
             [
              0.8888888888888888,
              "#fdca26"
             ],
             [
              1,
              "#f0f921"
             ]
            ],
            "type": "heatmap"
           }
          ],
          "heatmapgl": [
           {
            "colorbar": {
             "outlinewidth": 0,
             "ticks": ""
            },
            "colorscale": [
             [
              0,
              "#0d0887"
             ],
             [
              0.1111111111111111,
              "#46039f"
             ],
             [
              0.2222222222222222,
              "#7201a8"
             ],
             [
              0.3333333333333333,
              "#9c179e"
             ],
             [
              0.4444444444444444,
              "#bd3786"
             ],
             [
              0.5555555555555556,
              "#d8576b"
             ],
             [
              0.6666666666666666,
              "#ed7953"
             ],
             [
              0.7777777777777778,
              "#fb9f3a"
             ],
             [
              0.8888888888888888,
              "#fdca26"
             ],
             [
              1,
              "#f0f921"
             ]
            ],
            "type": "heatmapgl"
           }
          ],
          "histogram": [
           {
            "marker": {
             "colorbar": {
              "outlinewidth": 0,
              "ticks": ""
             }
            },
            "type": "histogram"
           }
          ],
          "histogram2d": [
           {
            "colorbar": {
             "outlinewidth": 0,
             "ticks": ""
            },
            "colorscale": [
             [
              0,
              "#0d0887"
             ],
             [
              0.1111111111111111,
              "#46039f"
             ],
             [
              0.2222222222222222,
              "#7201a8"
             ],
             [
              0.3333333333333333,
              "#9c179e"
             ],
             [
              0.4444444444444444,
              "#bd3786"
             ],
             [
              0.5555555555555556,
              "#d8576b"
             ],
             [
              0.6666666666666666,
              "#ed7953"
             ],
             [
              0.7777777777777778,
              "#fb9f3a"
             ],
             [
              0.8888888888888888,
              "#fdca26"
             ],
             [
              1,
              "#f0f921"
             ]
            ],
            "type": "histogram2d"
           }
          ],
          "histogram2dcontour": [
           {
            "colorbar": {
             "outlinewidth": 0,
             "ticks": ""
            },
            "colorscale": [
             [
              0,
              "#0d0887"
             ],
             [
              0.1111111111111111,
              "#46039f"
             ],
             [
              0.2222222222222222,
              "#7201a8"
             ],
             [
              0.3333333333333333,
              "#9c179e"
             ],
             [
              0.4444444444444444,
              "#bd3786"
             ],
             [
              0.5555555555555556,
              "#d8576b"
             ],
             [
              0.6666666666666666,
              "#ed7953"
             ],
             [
              0.7777777777777778,
              "#fb9f3a"
             ],
             [
              0.8888888888888888,
              "#fdca26"
             ],
             [
              1,
              "#f0f921"
             ]
            ],
            "type": "histogram2dcontour"
           }
          ],
          "mesh3d": [
           {
            "colorbar": {
             "outlinewidth": 0,
             "ticks": ""
            },
            "type": "mesh3d"
           }
          ],
          "parcoords": [
           {
            "line": {
             "colorbar": {
              "outlinewidth": 0,
              "ticks": ""
             }
            },
            "type": "parcoords"
           }
          ],
          "pie": [
           {
            "automargin": true,
            "type": "pie"
           }
          ],
          "scatter": [
           {
            "marker": {
             "colorbar": {
              "outlinewidth": 0,
              "ticks": ""
             }
            },
            "type": "scatter"
           }
          ],
          "scatter3d": [
           {
            "line": {
             "colorbar": {
              "outlinewidth": 0,
              "ticks": ""
             }
            },
            "marker": {
             "colorbar": {
              "outlinewidth": 0,
              "ticks": ""
             }
            },
            "type": "scatter3d"
           }
          ],
          "scattercarpet": [
           {
            "marker": {
             "colorbar": {
              "outlinewidth": 0,
              "ticks": ""
             }
            },
            "type": "scattercarpet"
           }
          ],
          "scattergeo": [
           {
            "marker": {
             "colorbar": {
              "outlinewidth": 0,
              "ticks": ""
             }
            },
            "type": "scattergeo"
           }
          ],
          "scattergl": [
           {
            "marker": {
             "colorbar": {
              "outlinewidth": 0,
              "ticks": ""
             }
            },
            "type": "scattergl"
           }
          ],
          "scattermapbox": [
           {
            "marker": {
             "colorbar": {
              "outlinewidth": 0,
              "ticks": ""
             }
            },
            "type": "scattermapbox"
           }
          ],
          "scatterpolar": [
           {
            "marker": {
             "colorbar": {
              "outlinewidth": 0,
              "ticks": ""
             }
            },
            "type": "scatterpolar"
           }
          ],
          "scatterpolargl": [
           {
            "marker": {
             "colorbar": {
              "outlinewidth": 0,
              "ticks": ""
             }
            },
            "type": "scatterpolargl"
           }
          ],
          "scatterternary": [
           {
            "marker": {
             "colorbar": {
              "outlinewidth": 0,
              "ticks": ""
             }
            },
            "type": "scatterternary"
           }
          ],
          "surface": [
           {
            "colorbar": {
             "outlinewidth": 0,
             "ticks": ""
            },
            "colorscale": [
             [
              0,
              "#0d0887"
             ],
             [
              0.1111111111111111,
              "#46039f"
             ],
             [
              0.2222222222222222,
              "#7201a8"
             ],
             [
              0.3333333333333333,
              "#9c179e"
             ],
             [
              0.4444444444444444,
              "#bd3786"
             ],
             [
              0.5555555555555556,
              "#d8576b"
             ],
             [
              0.6666666666666666,
              "#ed7953"
             ],
             [
              0.7777777777777778,
              "#fb9f3a"
             ],
             [
              0.8888888888888888,
              "#fdca26"
             ],
             [
              1,
              "#f0f921"
             ]
            ],
            "type": "surface"
           }
          ],
          "table": [
           {
            "cells": {
             "fill": {
              "color": "#EBF0F8"
             },
             "line": {
              "color": "white"
             }
            },
            "header": {
             "fill": {
              "color": "#C8D4E3"
             },
             "line": {
              "color": "white"
             }
            },
            "type": "table"
           }
          ]
         },
         "layout": {
          "annotationdefaults": {
           "arrowcolor": "#2a3f5f",
           "arrowhead": 0,
           "arrowwidth": 1
          },
          "coloraxis": {
           "colorbar": {
            "outlinewidth": 0,
            "ticks": ""
           }
          },
          "colorscale": {
           "diverging": [
            [
             0,
             "#8e0152"
            ],
            [
             0.1,
             "#c51b7d"
            ],
            [
             0.2,
             "#de77ae"
            ],
            [
             0.3,
             "#f1b6da"
            ],
            [
             0.4,
             "#fde0ef"
            ],
            [
             0.5,
             "#f7f7f7"
            ],
            [
             0.6,
             "#e6f5d0"
            ],
            [
             0.7,
             "#b8e186"
            ],
            [
             0.8,
             "#7fbc41"
            ],
            [
             0.9,
             "#4d9221"
            ],
            [
             1,
             "#276419"
            ]
           ],
           "sequential": [
            [
             0,
             "#0d0887"
            ],
            [
             0.1111111111111111,
             "#46039f"
            ],
            [
             0.2222222222222222,
             "#7201a8"
            ],
            [
             0.3333333333333333,
             "#9c179e"
            ],
            [
             0.4444444444444444,
             "#bd3786"
            ],
            [
             0.5555555555555556,
             "#d8576b"
            ],
            [
             0.6666666666666666,
             "#ed7953"
            ],
            [
             0.7777777777777778,
             "#fb9f3a"
            ],
            [
             0.8888888888888888,
             "#fdca26"
            ],
            [
             1,
             "#f0f921"
            ]
           ],
           "sequentialminus": [
            [
             0,
             "#0d0887"
            ],
            [
             0.1111111111111111,
             "#46039f"
            ],
            [
             0.2222222222222222,
             "#7201a8"
            ],
            [
             0.3333333333333333,
             "#9c179e"
            ],
            [
             0.4444444444444444,
             "#bd3786"
            ],
            [
             0.5555555555555556,
             "#d8576b"
            ],
            [
             0.6666666666666666,
             "#ed7953"
            ],
            [
             0.7777777777777778,
             "#fb9f3a"
            ],
            [
             0.8888888888888888,
             "#fdca26"
            ],
            [
             1,
             "#f0f921"
            ]
           ]
          },
          "colorway": [
           "#636efa",
           "#EF553B",
           "#00cc96",
           "#ab63fa",
           "#FFA15A",
           "#19d3f3",
           "#FF6692",
           "#B6E880",
           "#FF97FF",
           "#FECB52"
          ],
          "font": {
           "color": "#2a3f5f"
          },
          "geo": {
           "bgcolor": "white",
           "lakecolor": "white",
           "landcolor": "#E5ECF6",
           "showlakes": true,
           "showland": true,
           "subunitcolor": "white"
          },
          "hoverlabel": {
           "align": "left"
          },
          "hovermode": "closest",
          "mapbox": {
           "style": "light"
          },
          "paper_bgcolor": "white",
          "plot_bgcolor": "#E5ECF6",
          "polar": {
           "angularaxis": {
            "gridcolor": "white",
            "linecolor": "white",
            "ticks": ""
           },
           "bgcolor": "#E5ECF6",
           "radialaxis": {
            "gridcolor": "white",
            "linecolor": "white",
            "ticks": ""
           }
          },
          "scene": {
           "xaxis": {
            "backgroundcolor": "#E5ECF6",
            "gridcolor": "white",
            "gridwidth": 2,
            "linecolor": "white",
            "showbackground": true,
            "ticks": "",
            "zerolinecolor": "white"
           },
           "yaxis": {
            "backgroundcolor": "#E5ECF6",
            "gridcolor": "white",
            "gridwidth": 2,
            "linecolor": "white",
            "showbackground": true,
            "ticks": "",
            "zerolinecolor": "white"
           },
           "zaxis": {
            "backgroundcolor": "#E5ECF6",
            "gridcolor": "white",
            "gridwidth": 2,
            "linecolor": "white",
            "showbackground": true,
            "ticks": "",
            "zerolinecolor": "white"
           }
          },
          "shapedefaults": {
           "line": {
            "color": "#2a3f5f"
           }
          },
          "ternary": {
           "aaxis": {
            "gridcolor": "white",
            "linecolor": "white",
            "ticks": ""
           },
           "baxis": {
            "gridcolor": "white",
            "linecolor": "white",
            "ticks": ""
           },
           "bgcolor": "#E5ECF6",
           "caxis": {
            "gridcolor": "white",
            "linecolor": "white",
            "ticks": ""
           }
          },
          "title": {
           "x": 0.05
          },
          "xaxis": {
           "automargin": true,
           "gridcolor": "white",
           "linecolor": "white",
           "ticks": "",
           "title": {
            "standoff": 15
           },
           "zerolinecolor": "white",
           "zerolinewidth": 2
          },
          "yaxis": {
           "automargin": true,
           "gridcolor": "white",
           "linecolor": "white",
           "ticks": "",
           "title": {
            "standoff": 15
           },
           "zerolinecolor": "white",
           "zerolinewidth": 2
          }
         }
        },
        "title": {
         "font": {
          "color": "#4D5663"
         }
        },
        "xaxis": {
         "gridcolor": "#E1E5ED",
         "showgrid": true,
         "tickfont": {
          "color": "#4D5663"
         },
         "title": {
          "font": {
           "color": "#4D5663"
          },
          "text": ""
         },
         "zerolinecolor": "#E1E5ED"
        },
        "yaxis": {
         "gridcolor": "#E1E5ED",
         "showgrid": true,
         "tickfont": {
          "color": "#4D5663"
         },
         "title": {
          "font": {
           "color": "#4D5663"
          },
          "text": ""
         },
         "zerolinecolor": "#E1E5ED"
        }
       }
      },
      "text/html": [
       "<div>\n",
       "        \n",
       "        \n",
       "            <div id=\"618d445a-0306-4b1b-9f2b-6d6cdc165c22\" class=\"plotly-graph-div\" style=\"height:525px; width:100%;\"></div>\n",
       "            <script type=\"text/javascript\">\n",
       "                require([\"plotly\"], function(Plotly) {\n",
       "                    window.PLOTLYENV=window.PLOTLYENV || {};\n",
       "                    window.PLOTLYENV.BASE_URL='https://plot.ly';\n",
       "                    \n",
       "                if (document.getElementById(\"618d445a-0306-4b1b-9f2b-6d6cdc165c22\")) {\n",
       "                    Plotly.newPlot(\n",
       "                        '618d445a-0306-4b1b-9f2b-6d6cdc165c22',\n",
       "                        [{\"histfunc\": \"count\", \"histnorm\": \"\", \"marker\": {\"color\": \"rgba(255, 153, 51, 1.0)\", \"line\": {\"color\": \"#4D5663\", \"width\": 1.3}}, \"name\": \"A\", \"opacity\": 0.8, \"orientation\": \"v\", \"type\": \"histogram\", \"x\": [0.8565004406896697, 0.616667033466685, 0.9298916478237453, -1.6724634436675336, -0.019950485747430385, -0.32800911299570507, -0.520848431309861, -1.30147296225039, 0.918170020841073, -0.003030796847175438, 1.8515261305902329, -2.4657644444358904, -1.439356632219261, 0.15387753978794932, 0.07641025126858664, 0.05696079491628426, 0.994002604240455, 1.3063555379994916, 0.11680196973249214, -0.06144614746125791, 0.16965506162971544, -1.5592095724925938, 1.7362505416468237, -0.5158156181616896, 0.3112988643540849, 0.6367371116974732, -1.5536536001503518, -1.7685320204209458, -0.5392754585148415, 0.10192996646476966, 0.5568460660823932, 0.4092568775144538, 0.6425257437679849, 0.09284381524121892, 1.7894845246730584, -1.5779423255162153, -1.789479229742878, 0.7609651113838944, -0.6674139141954538, -0.4214512133650312, -0.44539736631937926, 0.5186930794439539, -1.0086390260505254, 0.7345811131541214, -0.8682151792015697, -0.5138030956228592, 2.44506810870039, -0.48872333105082555, 1.3671166266258052, -0.01753294451379828, 0.11685967207261917, 1.0155837704561772, -0.5150792361553516, -0.4189522845684282, -1.671800498378324, 0.00849610436739744, -0.895038429064667, -0.7234219959912285, 0.206272727623923, 0.3226173070103636, -0.4358213189085439, 1.485019297233284, 1.3145577597333455, 1.1418099258834655, 0.3899155275990936, 0.6744845811903896, -1.5421747306588416, 0.10759935916787118, -0.29174756418219683, 0.4816850364526941, 0.06383954088766132, 0.805862380002143, 1.7922318721731754, 0.7711332871154744, 1.5493299640694245, 2.1568955364366897, 1.1670866728363158, 0.7987843837817445, 0.5924788058898702, 0.46868961780136764, 0.041509628887594935, 1.4403527221146417, 0.06159499985984685, -0.37884426150130707, -0.5712864766608926, -0.05456501732571868, -1.374456821319399, -0.29150627018452924, -0.5060841247039243, -0.9116186430932947, -0.03191657470382843, -1.1907703476630989, -0.2240749488357738, 0.9880910702602029, -0.6027601036139539, -0.804412324683554, -0.42504929417141835, 0.23827330110499453, 1.2763718707572826, -0.6127361720543995]}, {\"histfunc\": \"count\", \"histnorm\": \"\", \"marker\": {\"color\": \"rgba(55, 128, 191, 1.0)\", \"line\": {\"color\": \"#4D5663\", \"width\": 1.3}}, \"name\": \"B\", \"opacity\": 0.8, \"orientation\": \"v\", \"type\": \"histogram\", \"x\": [1.475589520025869, 0.058193690147613136, 0.8858587130605142, -1.0062473781673018, 0.46803675911740583, 1.8876584534559304, 1.0068376194540218, 0.20649832656467781, -0.3831842413954928, 0.8146880661445408, 0.7525580546906689, -0.9499437266514072, -0.5124677266513444, -0.07070799266437955, 0.24842935771077734, -0.47466919918713246, 0.1329640121766927, 0.7101899364369233, -0.8129158041745252, -0.9065188940398232, -0.576101023436274, 0.7211521933563564, 0.4980075228147292, -0.4772199892654312, -0.25876529291204786, 0.02805869936306022, -1.1120841762313531, -0.34773983569211936, 0.5592457342025116, -2.2329856221230426, 1.244429738539221, -0.3558037971356808, -1.7071760167849175, -0.38601241809639797, -1.2101106786862859, 0.39581149532187293, -1.613409089316727, -0.017707675178522137, -0.51674385539429, 0.5508169727530585, -0.7657147803155174, 2.102266470888824, -1.9500668951535425, 0.08582168052356781, -1.2031543487810075, 0.09047246874201739, -1.2046473795482855, 0.057008372010706757, -0.6793292136001533, -0.16868751384288672, 0.013752896177967523, 0.13559208744343473, -0.9630115477948523, 0.7230504579164195, -0.7957538189923294, -0.5367136225824187, -1.0077205412350119, -1.7914055716137376, -1.230050510713824, 0.8679372146419765, 0.016712192818447498, -1.7296404941674273, 0.6279507372489606, 2.2072101493033247, -1.426478309767374, -0.10793231034668634, 0.2825793489947289, -1.980919281504627, 1.355967324544568, -0.7001789060327122, -1.2722359256963178, 0.09299395157163394, 0.9666985831548762, -0.3146817160528018, 0.5624621245870179, -0.4257065060814728, 2.8239069121719327, -0.6597234857277737, 0.045685732120529614, -0.01918897826138856, 0.19400035829565307, 0.331512334519879, -0.14894837996905405, -0.35260660854332354, 0.4922341899645374, 0.512147456731329, 0.06474390398539126, 2.3772022790380962, 0.4500853579083613, -0.6527657639931757, -0.047316453982068685, 0.4678256940750706, -0.5795657304715769, -1.2899242922557217, -0.3685463537980794, 0.25886314902995966, -0.659454095923306, -0.28299923424564427, -1.3644779963994549, -0.07484015266979967]}, {\"histfunc\": \"count\", \"histnorm\": \"\", \"marker\": {\"color\": \"rgba(50, 171, 96, 1.0)\", \"line\": {\"color\": \"#4D5663\", \"width\": 1.3}}, \"name\": \"C\", \"opacity\": 0.8, \"orientation\": \"v\", \"type\": \"histogram\", \"x\": [0.09536454976164993, -1.979873229425567, -0.8006171220144002, -1.4085439333951777, 0.08547942854432763, -0.008826093278719568, -0.2991548029353947, 0.2576029505630603, 0.8795221488870283, -0.07200754103600952, -0.046151183479252546, 0.3374454762825173, -0.6779825948518686, -0.09763964035505414, 1.599220362888875, 0.17648750653606524, 0.18213753336434174, -0.9245131437491316, 2.050342741577169, -0.11525257001200029, -0.3081347973723833, -0.34588166791003433, -0.33520708347079836, -1.0388186655706726, 0.46110275587050625, -0.5761386680731327, 0.8801801412081522, -0.5334511453174319, 2.179848881496895, 0.8510521398255604, -1.302215746186497, -0.2758653764454315, 0.4229725742656263, -0.6854796038539009, -0.46825269421393273, -0.059917604332156246, 0.27907495323068693, -0.4774644670954662, 0.5112678302701621, -2.653886389514963, 0.5602132803496599, -0.09368145292452275, -0.5108472428829691, -0.0049541575064123555, 0.8263529754001935, -1.0298167166950276, 0.11615194577730661, -0.033485373062486425, -0.5023586159199206, -0.5343264848054067, 1.2563645314112177, -0.670756044789189, 0.04086236619495206, -0.48491239039460976, 0.8368010161808237, -1.4747359948647716, -0.678626261666939, 0.055916347271540726, -0.665548308946417, -0.7349920467327229, 1.1431344385353945, 0.10272624712609245, 2.0337920267866245, -0.25664343368236386, 0.3270272774134318, -0.9161936736943582, 0.6640500241172738, 0.45816299396646826, 1.479109563408102, -1.0801874426617148, 0.8645323939687818, 1.556299817995986, -0.19584520336043118, -0.6074092807738445, -0.7036813686304971, -0.2522157220017819, 1.9265828118823523, -1.5812188150203852, 0.109577170426578, 1.7041087583411898, -1.6958191071790105, -1.6508695078091753, -0.14063194438965274, 0.9241987280821946, 0.8150487836869047, 0.5931459555812096, 1.5264875107240874, 0.9944396469378712, -1.3785578513262233, 0.29406582022837885, -0.3913540100322184, -0.3505245746885777, 0.01771170232228889, -0.42157829849596756, -1.130644127991805, 0.44140298627012853, 0.3749867305185496, -0.2891992005348076, -0.9140427672546457, 0.962493619611387]}, {\"histfunc\": \"count\", \"histnorm\": \"\", \"marker\": {\"color\": \"rgba(128, 0, 128, 1.0)\", \"line\": {\"color\": \"#4D5663\", \"width\": 1.3}}, \"name\": \"D\", \"opacity\": 0.8, \"orientation\": \"v\", \"type\": \"histogram\", \"x\": [-2.8371083245496616, 0.18726671943935058, -0.635752704507406, 0.31204885311241765, -1.6884623420901927, -2.218046636438145, 0.8005326796231135, 0.2571323568177598, -0.7517794685927304, 0.7141700622967905, -0.7034274370151249, 1.7601916791167034, -0.695062955483073, -0.2605103364893929, -0.46730855079440314, 0.7343327121690637, -0.9815267713197737, 0.08934937710201019, 1.2228982710514336, -0.2558313016025286, 0.08473537705506456, -0.2831432143808916, -0.5078694189178844, 1.3868024785701536, -0.5953077204912341, 1.848884077889904, 1.5390355127582946, 0.028268872843309582, -0.595582478100544, 1.5427013777117144, -0.5267129535115503, -2.2191309716885237, 0.0526380368058972, -1.362504559433225, 0.347626808410747, -0.23159946754631258, -0.4455793612367743, -0.06588596165374287, -1.3878920907572154, -1.008227288385752, 0.5214377993630165, -0.018950103896625235, -0.14910350029198688, -0.5731720468029629, -0.9448239720268437, -0.22647219243858305, 0.23146433215176052, 0.893712658602652, -0.6793475172366461, 1.6732234146359781, 1.3376624235505683, -2.2775249667085014, -0.35725965871140325, -0.4866196631848915, 0.5221645015016327, -2.3512699124364085, -0.5692428042702953, 0.10925410215289443, -0.36194004921095924, 0.6334634171826902, -0.989516778828704, 1.5894450940447842, 1.6504996902903266, 0.08065315455009567, 0.06506507570552242, -0.2945574392855909, 0.5163758035262357, 0.7920140242556639, -1.1531881291574442, -0.45478802547050956, 0.4148567561667146, -1.6225514034438266, -0.05256397906113001, -0.856629342427809, -1.128943548249932, 2.591930395771614, -1.510629341644163, 0.08673476546190459, 0.2710878959149094, -0.38617512562306183, -0.25179677654739074, -0.23088214790287442, -2.2421051954884854, 0.22438491327880083, 0.3358240185176065, -1.9844158775313674, -1.1360740539664844, -0.5211490606702568, 0.0976208293459543, 1.6774681184560594, 1.7459282462631893, -2.0453097398102043, 0.7010203333543181, -0.42683017154972774, -0.5401712869994386, -0.38687846178588225, -0.9066203932855437, 1.0269121046221774, 0.507489187083504, 1.9548992675904575]}],\n",
       "                        {\"barmode\": \"overlay\", \"legend\": {\"bgcolor\": \"#F5F6F9\", \"font\": {\"color\": \"#4D5663\"}}, \"paper_bgcolor\": \"#F5F6F9\", \"plot_bgcolor\": \"#F5F6F9\", \"template\": {\"data\": {\"bar\": [{\"error_x\": {\"color\": \"#2a3f5f\"}, \"error_y\": {\"color\": \"#2a3f5f\"}, \"marker\": {\"line\": {\"color\": \"#E5ECF6\", \"width\": 0.5}}, \"type\": \"bar\"}], \"barpolar\": [{\"marker\": {\"line\": {\"color\": \"#E5ECF6\", \"width\": 0.5}}, \"type\": \"barpolar\"}], \"carpet\": [{\"aaxis\": {\"endlinecolor\": \"#2a3f5f\", \"gridcolor\": \"white\", \"linecolor\": \"white\", \"minorgridcolor\": \"white\", \"startlinecolor\": \"#2a3f5f\"}, \"baxis\": {\"endlinecolor\": \"#2a3f5f\", \"gridcolor\": \"white\", \"linecolor\": \"white\", \"minorgridcolor\": \"white\", \"startlinecolor\": \"#2a3f5f\"}, \"type\": \"carpet\"}], \"choropleth\": [{\"colorbar\": {\"outlinewidth\": 0, \"ticks\": \"\"}, \"type\": \"choropleth\"}], \"contour\": [{\"colorbar\": {\"outlinewidth\": 0, \"ticks\": \"\"}, \"colorscale\": [[0.0, \"#0d0887\"], [0.1111111111111111, \"#46039f\"], [0.2222222222222222, \"#7201a8\"], [0.3333333333333333, \"#9c179e\"], [0.4444444444444444, \"#bd3786\"], [0.5555555555555556, \"#d8576b\"], [0.6666666666666666, \"#ed7953\"], [0.7777777777777778, \"#fb9f3a\"], [0.8888888888888888, \"#fdca26\"], [1.0, \"#f0f921\"]], \"type\": \"contour\"}], \"contourcarpet\": [{\"colorbar\": {\"outlinewidth\": 0, \"ticks\": \"\"}, \"type\": \"contourcarpet\"}], \"heatmap\": [{\"colorbar\": {\"outlinewidth\": 0, \"ticks\": \"\"}, \"colorscale\": [[0.0, \"#0d0887\"], [0.1111111111111111, \"#46039f\"], [0.2222222222222222, \"#7201a8\"], [0.3333333333333333, \"#9c179e\"], [0.4444444444444444, \"#bd3786\"], [0.5555555555555556, \"#d8576b\"], [0.6666666666666666, \"#ed7953\"], [0.7777777777777778, \"#fb9f3a\"], [0.8888888888888888, \"#fdca26\"], [1.0, \"#f0f921\"]], \"type\": \"heatmap\"}], \"heatmapgl\": [{\"colorbar\": {\"outlinewidth\": 0, \"ticks\": \"\"}, \"colorscale\": [[0.0, \"#0d0887\"], [0.1111111111111111, \"#46039f\"], [0.2222222222222222, \"#7201a8\"], [0.3333333333333333, \"#9c179e\"], [0.4444444444444444, \"#bd3786\"], [0.5555555555555556, \"#d8576b\"], [0.6666666666666666, \"#ed7953\"], [0.7777777777777778, \"#fb9f3a\"], [0.8888888888888888, \"#fdca26\"], [1.0, \"#f0f921\"]], \"type\": \"heatmapgl\"}], \"histogram\": [{\"marker\": {\"colorbar\": {\"outlinewidth\": 0, \"ticks\": \"\"}}, \"type\": \"histogram\"}], \"histogram2d\": [{\"colorbar\": {\"outlinewidth\": 0, \"ticks\": \"\"}, \"colorscale\": [[0.0, \"#0d0887\"], [0.1111111111111111, \"#46039f\"], [0.2222222222222222, \"#7201a8\"], [0.3333333333333333, \"#9c179e\"], [0.4444444444444444, \"#bd3786\"], [0.5555555555555556, \"#d8576b\"], [0.6666666666666666, \"#ed7953\"], [0.7777777777777778, \"#fb9f3a\"], [0.8888888888888888, \"#fdca26\"], [1.0, \"#f0f921\"]], \"type\": \"histogram2d\"}], \"histogram2dcontour\": [{\"colorbar\": {\"outlinewidth\": 0, \"ticks\": \"\"}, \"colorscale\": [[0.0, \"#0d0887\"], [0.1111111111111111, \"#46039f\"], [0.2222222222222222, \"#7201a8\"], [0.3333333333333333, \"#9c179e\"], [0.4444444444444444, \"#bd3786\"], [0.5555555555555556, \"#d8576b\"], [0.6666666666666666, \"#ed7953\"], [0.7777777777777778, \"#fb9f3a\"], [0.8888888888888888, \"#fdca26\"], [1.0, \"#f0f921\"]], \"type\": \"histogram2dcontour\"}], \"mesh3d\": [{\"colorbar\": {\"outlinewidth\": 0, \"ticks\": \"\"}, \"type\": \"mesh3d\"}], \"parcoords\": [{\"line\": {\"colorbar\": {\"outlinewidth\": 0, \"ticks\": \"\"}}, \"type\": \"parcoords\"}], \"pie\": [{\"automargin\": true, \"type\": \"pie\"}], \"scatter\": [{\"marker\": {\"colorbar\": {\"outlinewidth\": 0, \"ticks\": \"\"}}, \"type\": \"scatter\"}], \"scatter3d\": [{\"line\": {\"colorbar\": {\"outlinewidth\": 0, \"ticks\": \"\"}}, \"marker\": {\"colorbar\": {\"outlinewidth\": 0, \"ticks\": \"\"}}, \"type\": \"scatter3d\"}], \"scattercarpet\": [{\"marker\": {\"colorbar\": {\"outlinewidth\": 0, \"ticks\": \"\"}}, \"type\": \"scattercarpet\"}], \"scattergeo\": [{\"marker\": {\"colorbar\": {\"outlinewidth\": 0, \"ticks\": \"\"}}, \"type\": \"scattergeo\"}], \"scattergl\": [{\"marker\": {\"colorbar\": {\"outlinewidth\": 0, \"ticks\": \"\"}}, \"type\": \"scattergl\"}], \"scattermapbox\": [{\"marker\": {\"colorbar\": {\"outlinewidth\": 0, \"ticks\": \"\"}}, \"type\": \"scattermapbox\"}], \"scatterpolar\": [{\"marker\": {\"colorbar\": {\"outlinewidth\": 0, \"ticks\": \"\"}}, \"type\": \"scatterpolar\"}], \"scatterpolargl\": [{\"marker\": {\"colorbar\": {\"outlinewidth\": 0, \"ticks\": \"\"}}, \"type\": \"scatterpolargl\"}], \"scatterternary\": [{\"marker\": {\"colorbar\": {\"outlinewidth\": 0, \"ticks\": \"\"}}, \"type\": \"scatterternary\"}], \"surface\": [{\"colorbar\": {\"outlinewidth\": 0, \"ticks\": \"\"}, \"colorscale\": [[0.0, \"#0d0887\"], [0.1111111111111111, \"#46039f\"], [0.2222222222222222, \"#7201a8\"], [0.3333333333333333, \"#9c179e\"], [0.4444444444444444, \"#bd3786\"], [0.5555555555555556, \"#d8576b\"], [0.6666666666666666, \"#ed7953\"], [0.7777777777777778, \"#fb9f3a\"], [0.8888888888888888, \"#fdca26\"], [1.0, \"#f0f921\"]], \"type\": \"surface\"}], \"table\": [{\"cells\": {\"fill\": {\"color\": \"#EBF0F8\"}, \"line\": {\"color\": \"white\"}}, \"header\": {\"fill\": {\"color\": \"#C8D4E3\"}, \"line\": {\"color\": \"white\"}}, \"type\": \"table\"}]}, \"layout\": {\"annotationdefaults\": {\"arrowcolor\": \"#2a3f5f\", \"arrowhead\": 0, \"arrowwidth\": 1}, \"coloraxis\": {\"colorbar\": {\"outlinewidth\": 0, \"ticks\": \"\"}}, \"colorscale\": {\"diverging\": [[0, \"#8e0152\"], [0.1, \"#c51b7d\"], [0.2, \"#de77ae\"], [0.3, \"#f1b6da\"], [0.4, \"#fde0ef\"], [0.5, \"#f7f7f7\"], [0.6, \"#e6f5d0\"], [0.7, \"#b8e186\"], [0.8, \"#7fbc41\"], [0.9, \"#4d9221\"], [1, \"#276419\"]], \"sequential\": [[0.0, \"#0d0887\"], [0.1111111111111111, \"#46039f\"], [0.2222222222222222, \"#7201a8\"], [0.3333333333333333, \"#9c179e\"], [0.4444444444444444, \"#bd3786\"], [0.5555555555555556, \"#d8576b\"], [0.6666666666666666, \"#ed7953\"], [0.7777777777777778, \"#fb9f3a\"], [0.8888888888888888, \"#fdca26\"], [1.0, \"#f0f921\"]], \"sequentialminus\": [[0.0, \"#0d0887\"], [0.1111111111111111, \"#46039f\"], [0.2222222222222222, \"#7201a8\"], [0.3333333333333333, \"#9c179e\"], [0.4444444444444444, \"#bd3786\"], [0.5555555555555556, \"#d8576b\"], [0.6666666666666666, \"#ed7953\"], [0.7777777777777778, \"#fb9f3a\"], [0.8888888888888888, \"#fdca26\"], [1.0, \"#f0f921\"]]}, \"colorway\": [\"#636efa\", \"#EF553B\", \"#00cc96\", \"#ab63fa\", \"#FFA15A\", \"#19d3f3\", \"#FF6692\", \"#B6E880\", \"#FF97FF\", \"#FECB52\"], \"font\": {\"color\": \"#2a3f5f\"}, \"geo\": {\"bgcolor\": \"white\", \"lakecolor\": \"white\", \"landcolor\": \"#E5ECF6\", \"showlakes\": true, \"showland\": true, \"subunitcolor\": \"white\"}, \"hoverlabel\": {\"align\": \"left\"}, \"hovermode\": \"closest\", \"mapbox\": {\"style\": \"light\"}, \"paper_bgcolor\": \"white\", \"plot_bgcolor\": \"#E5ECF6\", \"polar\": {\"angularaxis\": {\"gridcolor\": \"white\", \"linecolor\": \"white\", \"ticks\": \"\"}, \"bgcolor\": \"#E5ECF6\", \"radialaxis\": {\"gridcolor\": \"white\", \"linecolor\": \"white\", \"ticks\": \"\"}}, \"scene\": {\"xaxis\": {\"backgroundcolor\": \"#E5ECF6\", \"gridcolor\": \"white\", \"gridwidth\": 2, \"linecolor\": \"white\", \"showbackground\": true, \"ticks\": \"\", \"zerolinecolor\": \"white\"}, \"yaxis\": {\"backgroundcolor\": \"#E5ECF6\", \"gridcolor\": \"white\", \"gridwidth\": 2, \"linecolor\": \"white\", \"showbackground\": true, \"ticks\": \"\", \"zerolinecolor\": \"white\"}, \"zaxis\": {\"backgroundcolor\": \"#E5ECF6\", \"gridcolor\": \"white\", \"gridwidth\": 2, \"linecolor\": \"white\", \"showbackground\": true, \"ticks\": \"\", \"zerolinecolor\": \"white\"}}, \"shapedefaults\": {\"line\": {\"color\": \"#2a3f5f\"}}, \"ternary\": {\"aaxis\": {\"gridcolor\": \"white\", \"linecolor\": \"white\", \"ticks\": \"\"}, \"baxis\": {\"gridcolor\": \"white\", \"linecolor\": \"white\", \"ticks\": \"\"}, \"bgcolor\": \"#E5ECF6\", \"caxis\": {\"gridcolor\": \"white\", \"linecolor\": \"white\", \"ticks\": \"\"}}, \"title\": {\"x\": 0.05}, \"xaxis\": {\"automargin\": true, \"gridcolor\": \"white\", \"linecolor\": \"white\", \"ticks\": \"\", \"title\": {\"standoff\": 15}, \"zerolinecolor\": \"white\", \"zerolinewidth\": 2}, \"yaxis\": {\"automargin\": true, \"gridcolor\": \"white\", \"linecolor\": \"white\", \"ticks\": \"\", \"title\": {\"standoff\": 15}, \"zerolinecolor\": \"white\", \"zerolinewidth\": 2}}}, \"title\": {\"font\": {\"color\": \"#4D5663\"}}, \"xaxis\": {\"gridcolor\": \"#E1E5ED\", \"showgrid\": true, \"tickfont\": {\"color\": \"#4D5663\"}, \"title\": {\"font\": {\"color\": \"#4D5663\"}, \"text\": \"\"}, \"zerolinecolor\": \"#E1E5ED\"}, \"yaxis\": {\"gridcolor\": \"#E1E5ED\", \"showgrid\": true, \"tickfont\": {\"color\": \"#4D5663\"}, \"title\": {\"font\": {\"color\": \"#4D5663\"}, \"text\": \"\"}, \"zerolinecolor\": \"#E1E5ED\"}},\n",
       "                        {\"showLink\": true, \"linkText\": \"Export to plot.ly\", \"plotlyServerURL\": \"https://plot.ly\", \"responsive\": true}\n",
       "                    ).then(function(){\n",
       "                            \n",
       "var gd = document.getElementById('618d445a-0306-4b1b-9f2b-6d6cdc165c22');\n",
       "var x = new MutationObserver(function (mutations, observer) {{\n",
       "        var display = window.getComputedStyle(gd).display;\n",
       "        if (!display || display === 'none') {{\n",
       "            console.log([gd, 'removed!']);\n",
       "            Plotly.purge(gd);\n",
       "            observer.disconnect();\n",
       "        }}\n",
       "}});\n",
       "\n",
       "// Listen for the removal of the full notebook cells\n",
       "var notebookContainer = gd.closest('#notebook-container');\n",
       "if (notebookContainer) {{\n",
       "    x.observe(notebookContainer, {childList: true});\n",
       "}}\n",
       "\n",
       "// Listen for the clearing of the current output cell\n",
       "var outputEl = gd.closest('.output');\n",
       "if (outputEl) {{\n",
       "    x.observe(outputEl, {childList: true});\n",
       "}}\n",
       "\n",
       "                        })\n",
       "                };\n",
       "                });\n",
       "            </script>\n",
       "        </div>"
      ]
     },
     "metadata": {},
     "output_type": "display_data"
    }
   ],
   "source": [
    "#All dataframe \n",
    "df.iplot(kind='hist')"
   ]
  },
  {
   "cell_type": "markdown",
   "metadata": {},
   "source": [
    "# Spread type visualisation \n",
    "- Spread type visualisation are usually used to visualise stock data\n",
    "- For this example I will use a random data "
   ]
  },
  {
   "cell_type": "code",
   "execution_count": 77,
   "metadata": {},
   "outputs": [
    {
     "data": {
      "text/html": [
       "<div>\n",
       "<style scoped>\n",
       "    .dataframe tbody tr th:only-of-type {\n",
       "        vertical-align: middle;\n",
       "    }\n",
       "\n",
       "    .dataframe tbody tr th {\n",
       "        vertical-align: top;\n",
       "    }\n",
       "\n",
       "    .dataframe thead th {\n",
       "        text-align: right;\n",
       "    }\n",
       "</style>\n",
       "<table border=\"1\" class=\"dataframe\">\n",
       "  <thead>\n",
       "    <tr style=\"text-align: right;\">\n",
       "      <th></th>\n",
       "      <th>A</th>\n",
       "      <th>B</th>\n",
       "    </tr>\n",
       "  </thead>\n",
       "  <tbody>\n",
       "    <tr>\n",
       "      <td>0</td>\n",
       "      <td>0.856500</td>\n",
       "      <td>1.475590</td>\n",
       "    </tr>\n",
       "    <tr>\n",
       "      <td>1</td>\n",
       "      <td>0.616667</td>\n",
       "      <td>0.058194</td>\n",
       "    </tr>\n",
       "    <tr>\n",
       "      <td>2</td>\n",
       "      <td>0.929892</td>\n",
       "      <td>0.885859</td>\n",
       "    </tr>\n",
       "    <tr>\n",
       "      <td>3</td>\n",
       "      <td>-1.672463</td>\n",
       "      <td>-1.006247</td>\n",
       "    </tr>\n",
       "    <tr>\n",
       "      <td>4</td>\n",
       "      <td>-0.019950</td>\n",
       "      <td>0.468037</td>\n",
       "    </tr>\n",
       "    <tr>\n",
       "      <td>...</td>\n",
       "      <td>...</td>\n",
       "      <td>...</td>\n",
       "    </tr>\n",
       "    <tr>\n",
       "      <td>95</td>\n",
       "      <td>-0.804412</td>\n",
       "      <td>0.258863</td>\n",
       "    </tr>\n",
       "    <tr>\n",
       "      <td>96</td>\n",
       "      <td>-0.425049</td>\n",
       "      <td>-0.659454</td>\n",
       "    </tr>\n",
       "    <tr>\n",
       "      <td>97</td>\n",
       "      <td>0.238273</td>\n",
       "      <td>-0.282999</td>\n",
       "    </tr>\n",
       "    <tr>\n",
       "      <td>98</td>\n",
       "      <td>1.276372</td>\n",
       "      <td>-1.364478</td>\n",
       "    </tr>\n",
       "    <tr>\n",
       "      <td>99</td>\n",
       "      <td>-0.612736</td>\n",
       "      <td>-0.074840</td>\n",
       "    </tr>\n",
       "  </tbody>\n",
       "</table>\n",
       "<p>100 rows × 2 columns</p>\n",
       "</div>"
      ],
      "text/plain": [
       "           A         B\n",
       "0   0.856500  1.475590\n",
       "1   0.616667  0.058194\n",
       "2   0.929892  0.885859\n",
       "3  -1.672463 -1.006247\n",
       "4  -0.019950  0.468037\n",
       "..       ...       ...\n",
       "95 -0.804412  0.258863\n",
       "96 -0.425049 -0.659454\n",
       "97  0.238273 -0.282999\n",
       "98  1.276372 -1.364478\n",
       "99 -0.612736 -0.074840\n",
       "\n",
       "[100 rows x 2 columns]"
      ]
     },
     "execution_count": 77,
     "metadata": {},
     "output_type": "execute_result"
    }
   ],
   "source": [
    "df[['A','B']]"
   ]
  },
  {
   "cell_type": "code",
   "execution_count": 80,
   "metadata": {},
   "outputs": [
    {
     "data": {
      "application/vnd.plotly.v1+json": {
       "config": {
        "linkText": "Export to plot.ly",
        "plotlyServerURL": "https://plot.ly",
        "showLink": true
       },
       "data": [
        {
         "line": {
          "color": "rgba(255, 153, 51, 1.0)",
          "dash": "solid",
          "shape": "linear",
          "width": 1.3
         },
         "mode": "lines",
         "name": "A",
         "text": "",
         "type": "scatter",
         "x": [
          0,
          1,
          2,
          3,
          4,
          5,
          6,
          7,
          8,
          9,
          10,
          11,
          12,
          13,
          14,
          15,
          16,
          17,
          18,
          19,
          20,
          21,
          22,
          23,
          24,
          25,
          26,
          27,
          28,
          29,
          30,
          31,
          32,
          33,
          34,
          35,
          36,
          37,
          38,
          39,
          40,
          41,
          42,
          43,
          44,
          45,
          46,
          47,
          48,
          49,
          50,
          51,
          52,
          53,
          54,
          55,
          56,
          57,
          58,
          59,
          60,
          61,
          62,
          63,
          64,
          65,
          66,
          67,
          68,
          69,
          70,
          71,
          72,
          73,
          74,
          75,
          76,
          77,
          78,
          79,
          80,
          81,
          82,
          83,
          84,
          85,
          86,
          87,
          88,
          89,
          90,
          91,
          92,
          93,
          94,
          95,
          96,
          97,
          98,
          99
         ],
         "y": [
          0.8565004406896697,
          0.616667033466685,
          0.9298916478237453,
          -1.6724634436675336,
          -0.019950485747430385,
          -0.32800911299570507,
          -0.520848431309861,
          -1.30147296225039,
          0.918170020841073,
          -0.003030796847175438,
          1.8515261305902329,
          -2.4657644444358904,
          -1.439356632219261,
          0.15387753978794932,
          0.07641025126858664,
          0.05696079491628426,
          0.994002604240455,
          1.3063555379994916,
          0.11680196973249214,
          -0.06144614746125791,
          0.16965506162971544,
          -1.5592095724925938,
          1.7362505416468237,
          -0.5158156181616896,
          0.3112988643540849,
          0.6367371116974732,
          -1.5536536001503518,
          -1.7685320204209458,
          -0.5392754585148415,
          0.10192996646476966,
          0.5568460660823932,
          0.4092568775144538,
          0.6425257437679849,
          0.09284381524121892,
          1.7894845246730584,
          -1.5779423255162153,
          -1.789479229742878,
          0.7609651113838944,
          -0.6674139141954538,
          -0.4214512133650312,
          -0.44539736631937926,
          0.5186930794439539,
          -1.0086390260505254,
          0.7345811131541214,
          -0.8682151792015697,
          -0.5138030956228592,
          2.44506810870039,
          -0.48872333105082555,
          1.3671166266258052,
          -0.01753294451379828,
          0.11685967207261917,
          1.0155837704561772,
          -0.5150792361553516,
          -0.4189522845684282,
          -1.671800498378324,
          0.00849610436739744,
          -0.895038429064667,
          -0.7234219959912285,
          0.206272727623923,
          0.3226173070103636,
          -0.4358213189085439,
          1.485019297233284,
          1.3145577597333455,
          1.1418099258834655,
          0.3899155275990936,
          0.6744845811903896,
          -1.5421747306588416,
          0.10759935916787118,
          -0.29174756418219683,
          0.4816850364526941,
          0.06383954088766132,
          0.805862380002143,
          1.7922318721731754,
          0.7711332871154744,
          1.5493299640694245,
          2.1568955364366897,
          1.1670866728363158,
          0.7987843837817445,
          0.5924788058898702,
          0.46868961780136764,
          0.041509628887594935,
          1.4403527221146417,
          0.06159499985984685,
          -0.37884426150130707,
          -0.5712864766608926,
          -0.05456501732571868,
          -1.374456821319399,
          -0.29150627018452924,
          -0.5060841247039243,
          -0.9116186430932947,
          -0.03191657470382843,
          -1.1907703476630989,
          -0.2240749488357738,
          0.9880910702602029,
          -0.6027601036139539,
          -0.804412324683554,
          -0.42504929417141835,
          0.23827330110499453,
          1.2763718707572826,
          -0.6127361720543995
         ]
        },
        {
         "line": {
          "color": "rgba(55, 128, 191, 1.0)",
          "dash": "solid",
          "shape": "linear",
          "width": 1.3
         },
         "mode": "lines",
         "name": "B",
         "text": "",
         "type": "scatter",
         "x": [
          0,
          1,
          2,
          3,
          4,
          5,
          6,
          7,
          8,
          9,
          10,
          11,
          12,
          13,
          14,
          15,
          16,
          17,
          18,
          19,
          20,
          21,
          22,
          23,
          24,
          25,
          26,
          27,
          28,
          29,
          30,
          31,
          32,
          33,
          34,
          35,
          36,
          37,
          38,
          39,
          40,
          41,
          42,
          43,
          44,
          45,
          46,
          47,
          48,
          49,
          50,
          51,
          52,
          53,
          54,
          55,
          56,
          57,
          58,
          59,
          60,
          61,
          62,
          63,
          64,
          65,
          66,
          67,
          68,
          69,
          70,
          71,
          72,
          73,
          74,
          75,
          76,
          77,
          78,
          79,
          80,
          81,
          82,
          83,
          84,
          85,
          86,
          87,
          88,
          89,
          90,
          91,
          92,
          93,
          94,
          95,
          96,
          97,
          98,
          99
         ],
         "y": [
          1.475589520025869,
          0.058193690147613136,
          0.8858587130605142,
          -1.0062473781673018,
          0.46803675911740583,
          1.8876584534559304,
          1.0068376194540218,
          0.20649832656467781,
          -0.3831842413954928,
          0.8146880661445408,
          0.7525580546906689,
          -0.9499437266514072,
          -0.5124677266513444,
          -0.07070799266437955,
          0.24842935771077734,
          -0.47466919918713246,
          0.1329640121766927,
          0.7101899364369233,
          -0.8129158041745252,
          -0.9065188940398232,
          -0.576101023436274,
          0.7211521933563564,
          0.4980075228147292,
          -0.4772199892654312,
          -0.25876529291204786,
          0.02805869936306022,
          -1.1120841762313531,
          -0.34773983569211936,
          0.5592457342025116,
          -2.2329856221230426,
          1.244429738539221,
          -0.3558037971356808,
          -1.7071760167849175,
          -0.38601241809639797,
          -1.2101106786862859,
          0.39581149532187293,
          -1.613409089316727,
          -0.017707675178522137,
          -0.51674385539429,
          0.5508169727530585,
          -0.7657147803155174,
          2.102266470888824,
          -1.9500668951535425,
          0.08582168052356781,
          -1.2031543487810075,
          0.09047246874201739,
          -1.2046473795482855,
          0.057008372010706757,
          -0.6793292136001533,
          -0.16868751384288672,
          0.013752896177967523,
          0.13559208744343473,
          -0.9630115477948523,
          0.7230504579164195,
          -0.7957538189923294,
          -0.5367136225824187,
          -1.0077205412350119,
          -1.7914055716137376,
          -1.230050510713824,
          0.8679372146419765,
          0.016712192818447498,
          -1.7296404941674273,
          0.6279507372489606,
          2.2072101493033247,
          -1.426478309767374,
          -0.10793231034668634,
          0.2825793489947289,
          -1.980919281504627,
          1.355967324544568,
          -0.7001789060327122,
          -1.2722359256963178,
          0.09299395157163394,
          0.9666985831548762,
          -0.3146817160528018,
          0.5624621245870179,
          -0.4257065060814728,
          2.8239069121719327,
          -0.6597234857277737,
          0.045685732120529614,
          -0.01918897826138856,
          0.19400035829565307,
          0.331512334519879,
          -0.14894837996905405,
          -0.35260660854332354,
          0.4922341899645374,
          0.512147456731329,
          0.06474390398539126,
          2.3772022790380962,
          0.4500853579083613,
          -0.6527657639931757,
          -0.047316453982068685,
          0.4678256940750706,
          -0.5795657304715769,
          -1.2899242922557217,
          -0.3685463537980794,
          0.25886314902995966,
          -0.659454095923306,
          -0.28299923424564427,
          -1.3644779963994549,
          -0.07484015266979967
         ]
        },
        {
         "connectgaps": false,
         "fill": "tozeroy",
         "line": {
          "color": "green",
          "dash": "solid",
          "shape": "linear",
          "width": 0.5
         },
         "mode": "lines",
         "name": "Spread",
         "showlegend": false,
         "type": "scatter",
         "x": [
          0,
          1,
          2,
          3,
          4,
          5,
          6,
          7,
          8,
          9,
          10,
          11,
          12,
          13,
          14,
          15,
          16,
          17,
          18,
          19,
          20,
          21,
          22,
          23,
          24,
          25,
          26,
          27,
          28,
          29,
          30,
          31,
          32,
          33,
          34,
          35,
          36,
          37,
          38,
          39,
          40,
          41,
          42,
          43,
          44,
          45,
          46,
          47,
          48,
          49,
          50,
          51,
          52,
          53,
          54,
          55,
          56,
          57,
          58,
          59,
          60,
          61,
          62,
          63,
          64,
          65,
          66,
          67,
          68,
          69,
          70,
          71,
          72,
          73,
          74,
          75,
          76,
          77,
          78,
          79,
          80,
          81,
          82,
          83,
          84,
          85,
          86,
          87,
          88,
          89,
          90,
          91,
          92,
          93,
          94,
          95,
          96,
          97,
          98,
          99
         ],
         "xaxis": "x2",
         "y": [
          "",
          0.558473343319072,
          0.04403293476323111,
          "",
          "",
          "",
          "",
          "",
          1.3013542622365657,
          "",
          1.098968075899564,
          "",
          "",
          0.22458553245232887,
          "",
          0.5316299941034167,
          0.8610385920637622,
          0.5961656015625683,
          0.9297177739070174,
          0.8450727465785653,
          0.7457560850659894,
          "",
          1.2382430188320945,
          "",
          0.5700641572661327,
          0.6086784123344129,
          "",
          "",
          "",
          2.3349155885878123,
          "",
          0.7650606746501345,
          2.3497017605529025,
          0.4788562333376169,
          2.9995952033593443,
          "",
          "",
          0.7786727865624166,
          "",
          "",
          0.32031741399613817,
          "",
          0.9414278691030171,
          0.6487594326305537,
          0.3349391695794378,
          "",
          3.6497154882486758,
          "",
          2.0464458402259584,
          0.15115456932908844,
          0.10310677589465164,
          0.8799916830127424,
          0.44793231163950076,
          "",
          "",
          0.5452097269498162,
          0.11268211217034485,
          1.0679835756225091,
          1.436323238337747,
          "",
          "",
          3.2146597914007113,
          0.686607022484385,
          "",
          1.8163938373664676,
          0.7824168915370759,
          "",
          2.0885186406724983,
          "",
          1.1818639424854063,
          1.3360754665839791,
          0.7128684284305091,
          0.8255332890182991,
          1.085815003168276,
          0.9868678394824065,
          2.5826020425181624,
          "",
          1.4585078695095182,
          0.5467930737693406,
          0.4878785960627562,
          "",
          1.1088403875947628,
          0.2105433798289009,
          "",
          "",
          "",
          "",
          "",
          "",
          "",
          0.015399879278240255,
          "",
          0.35549078163580305,
          2.2780153625159247,
          "",
          "",
          0.2344048017518876,
          0.5212725353506388,
          2.6408498671567378,
          ""
         ],
         "yaxis": "y2"
        },
        {
         "connectgaps": false,
         "fill": "tozeroy",
         "line": {
          "color": "red",
          "dash": "solid",
          "shape": "linear",
          "width": 0.5
         },
         "mode": "lines",
         "name": "Spread",
         "showlegend": false,
         "type": "scatter",
         "x": [
          0,
          1,
          2,
          3,
          4,
          5,
          6,
          7,
          8,
          9,
          10,
          11,
          12,
          13,
          14,
          15,
          16,
          17,
          18,
          19,
          20,
          21,
          22,
          23,
          24,
          25,
          26,
          27,
          28,
          29,
          30,
          31,
          32,
          33,
          34,
          35,
          36,
          37,
          38,
          39,
          40,
          41,
          42,
          43,
          44,
          45,
          46,
          47,
          48,
          49,
          50,
          51,
          52,
          53,
          54,
          55,
          56,
          57,
          58,
          59,
          60,
          61,
          62,
          63,
          64,
          65,
          66,
          67,
          68,
          69,
          70,
          71,
          72,
          73,
          74,
          75,
          76,
          77,
          78,
          79,
          80,
          81,
          82,
          83,
          84,
          85,
          86,
          87,
          88,
          89,
          90,
          91,
          92,
          93,
          94,
          95,
          96,
          97,
          98,
          99
         ],
         "xaxis": "x2",
         "y": [
          -0.6190890793361994,
          "",
          "",
          -0.6662160655002318,
          -0.48798724486483624,
          -2.2156675664516357,
          -1.527686050763883,
          -1.5079712888150678,
          "",
          -0.8177188629917163,
          "",
          -1.5158207177844831,
          -0.9268889055679166,
          "",
          -0.1720191064421907,
          "",
          "",
          "",
          "",
          "",
          "",
          -2.28036176584895,
          "",
          -0.03859562889625845,
          "",
          "",
          -0.44156942391899867,
          -1.4207921847288265,
          -1.098521192717353,
          "",
          -0.6875836724568277,
          "",
          "",
          "",
          "",
          -1.9737538208380883,
          -0.1760701404261511,
          "",
          -0.1506700588011638,
          -0.9722681861180897,
          "",
          -1.5835733914448702,
          "",
          "",
          "",
          -0.6042755643648766,
          "",
          -0.5457317030615323,
          "",
          "",
          "",
          "",
          "",
          -1.1420027424848478,
          -0.8760466793859945,
          "",
          "",
          "",
          "",
          -0.5453199076316129,
          -0.4525335117269914,
          "",
          "",
          -1.0654002234198592,
          "",
          "",
          -1.8247540796535704,
          "",
          -1.6477148887267647,
          "",
          "",
          "",
          "",
          "",
          "",
          "",
          -1.6568202393356168,
          "",
          "",
          "",
          -0.15249072940805813,
          "",
          "",
          -0.026237652957983526,
          -1.06352066662543,
          -0.5667124740570477,
          -1.4392007253047903,
          -2.6687085492226252,
          -0.9561694826122855,
          -0.258852879100119,
          "",
          -1.6585960417381695,
          "",
          "",
          -0.23421374981587456,
          -1.0632754737135137,
          "",
          "",
          "",
          -0.5378960193845997
         ],
         "yaxis": "y2"
        }
       ],
       "layout": {
        "hovermode": "x",
        "legend": {
         "bgcolor": "#F5F6F9",
         "font": {
          "color": "#4D5663"
         }
        },
        "paper_bgcolor": "#F5F6F9",
        "plot_bgcolor": "#F5F6F9",
        "template": {
         "data": {
          "bar": [
           {
            "error_x": {
             "color": "#2a3f5f"
            },
            "error_y": {
             "color": "#2a3f5f"
            },
            "marker": {
             "line": {
              "color": "#E5ECF6",
              "width": 0.5
             }
            },
            "type": "bar"
           }
          ],
          "barpolar": [
           {
            "marker": {
             "line": {
              "color": "#E5ECF6",
              "width": 0.5
             }
            },
            "type": "barpolar"
           }
          ],
          "carpet": [
           {
            "aaxis": {
             "endlinecolor": "#2a3f5f",
             "gridcolor": "white",
             "linecolor": "white",
             "minorgridcolor": "white",
             "startlinecolor": "#2a3f5f"
            },
            "baxis": {
             "endlinecolor": "#2a3f5f",
             "gridcolor": "white",
             "linecolor": "white",
             "minorgridcolor": "white",
             "startlinecolor": "#2a3f5f"
            },
            "type": "carpet"
           }
          ],
          "choropleth": [
           {
            "colorbar": {
             "outlinewidth": 0,
             "ticks": ""
            },
            "type": "choropleth"
           }
          ],
          "contour": [
           {
            "colorbar": {
             "outlinewidth": 0,
             "ticks": ""
            },
            "colorscale": [
             [
              0,
              "#0d0887"
             ],
             [
              0.1111111111111111,
              "#46039f"
             ],
             [
              0.2222222222222222,
              "#7201a8"
             ],
             [
              0.3333333333333333,
              "#9c179e"
             ],
             [
              0.4444444444444444,
              "#bd3786"
             ],
             [
              0.5555555555555556,
              "#d8576b"
             ],
             [
              0.6666666666666666,
              "#ed7953"
             ],
             [
              0.7777777777777778,
              "#fb9f3a"
             ],
             [
              0.8888888888888888,
              "#fdca26"
             ],
             [
              1,
              "#f0f921"
             ]
            ],
            "type": "contour"
           }
          ],
          "contourcarpet": [
           {
            "colorbar": {
             "outlinewidth": 0,
             "ticks": ""
            },
            "type": "contourcarpet"
           }
          ],
          "heatmap": [
           {
            "colorbar": {
             "outlinewidth": 0,
             "ticks": ""
            },
            "colorscale": [
             [
              0,
              "#0d0887"
             ],
             [
              0.1111111111111111,
              "#46039f"
             ],
             [
              0.2222222222222222,
              "#7201a8"
             ],
             [
              0.3333333333333333,
              "#9c179e"
             ],
             [
              0.4444444444444444,
              "#bd3786"
             ],
             [
              0.5555555555555556,
              "#d8576b"
             ],
             [
              0.6666666666666666,
              "#ed7953"
             ],
             [
              0.7777777777777778,
              "#fb9f3a"
             ],
             [
              0.8888888888888888,
              "#fdca26"
             ],
             [
              1,
              "#f0f921"
             ]
            ],
            "type": "heatmap"
           }
          ],
          "heatmapgl": [
           {
            "colorbar": {
             "outlinewidth": 0,
             "ticks": ""
            },
            "colorscale": [
             [
              0,
              "#0d0887"
             ],
             [
              0.1111111111111111,
              "#46039f"
             ],
             [
              0.2222222222222222,
              "#7201a8"
             ],
             [
              0.3333333333333333,
              "#9c179e"
             ],
             [
              0.4444444444444444,
              "#bd3786"
             ],
             [
              0.5555555555555556,
              "#d8576b"
             ],
             [
              0.6666666666666666,
              "#ed7953"
             ],
             [
              0.7777777777777778,
              "#fb9f3a"
             ],
             [
              0.8888888888888888,
              "#fdca26"
             ],
             [
              1,
              "#f0f921"
             ]
            ],
            "type": "heatmapgl"
           }
          ],
          "histogram": [
           {
            "marker": {
             "colorbar": {
              "outlinewidth": 0,
              "ticks": ""
             }
            },
            "type": "histogram"
           }
          ],
          "histogram2d": [
           {
            "colorbar": {
             "outlinewidth": 0,
             "ticks": ""
            },
            "colorscale": [
             [
              0,
              "#0d0887"
             ],
             [
              0.1111111111111111,
              "#46039f"
             ],
             [
              0.2222222222222222,
              "#7201a8"
             ],
             [
              0.3333333333333333,
              "#9c179e"
             ],
             [
              0.4444444444444444,
              "#bd3786"
             ],
             [
              0.5555555555555556,
              "#d8576b"
             ],
             [
              0.6666666666666666,
              "#ed7953"
             ],
             [
              0.7777777777777778,
              "#fb9f3a"
             ],
             [
              0.8888888888888888,
              "#fdca26"
             ],
             [
              1,
              "#f0f921"
             ]
            ],
            "type": "histogram2d"
           }
          ],
          "histogram2dcontour": [
           {
            "colorbar": {
             "outlinewidth": 0,
             "ticks": ""
            },
            "colorscale": [
             [
              0,
              "#0d0887"
             ],
             [
              0.1111111111111111,
              "#46039f"
             ],
             [
              0.2222222222222222,
              "#7201a8"
             ],
             [
              0.3333333333333333,
              "#9c179e"
             ],
             [
              0.4444444444444444,
              "#bd3786"
             ],
             [
              0.5555555555555556,
              "#d8576b"
             ],
             [
              0.6666666666666666,
              "#ed7953"
             ],
             [
              0.7777777777777778,
              "#fb9f3a"
             ],
             [
              0.8888888888888888,
              "#fdca26"
             ],
             [
              1,
              "#f0f921"
             ]
            ],
            "type": "histogram2dcontour"
           }
          ],
          "mesh3d": [
           {
            "colorbar": {
             "outlinewidth": 0,
             "ticks": ""
            },
            "type": "mesh3d"
           }
          ],
          "parcoords": [
           {
            "line": {
             "colorbar": {
              "outlinewidth": 0,
              "ticks": ""
             }
            },
            "type": "parcoords"
           }
          ],
          "pie": [
           {
            "automargin": true,
            "type": "pie"
           }
          ],
          "scatter": [
           {
            "marker": {
             "colorbar": {
              "outlinewidth": 0,
              "ticks": ""
             }
            },
            "type": "scatter"
           }
          ],
          "scatter3d": [
           {
            "line": {
             "colorbar": {
              "outlinewidth": 0,
              "ticks": ""
             }
            },
            "marker": {
             "colorbar": {
              "outlinewidth": 0,
              "ticks": ""
             }
            },
            "type": "scatter3d"
           }
          ],
          "scattercarpet": [
           {
            "marker": {
             "colorbar": {
              "outlinewidth": 0,
              "ticks": ""
             }
            },
            "type": "scattercarpet"
           }
          ],
          "scattergeo": [
           {
            "marker": {
             "colorbar": {
              "outlinewidth": 0,
              "ticks": ""
             }
            },
            "type": "scattergeo"
           }
          ],
          "scattergl": [
           {
            "marker": {
             "colorbar": {
              "outlinewidth": 0,
              "ticks": ""
             }
            },
            "type": "scattergl"
           }
          ],
          "scattermapbox": [
           {
            "marker": {
             "colorbar": {
              "outlinewidth": 0,
              "ticks": ""
             }
            },
            "type": "scattermapbox"
           }
          ],
          "scatterpolar": [
           {
            "marker": {
             "colorbar": {
              "outlinewidth": 0,
              "ticks": ""
             }
            },
            "type": "scatterpolar"
           }
          ],
          "scatterpolargl": [
           {
            "marker": {
             "colorbar": {
              "outlinewidth": 0,
              "ticks": ""
             }
            },
            "type": "scatterpolargl"
           }
          ],
          "scatterternary": [
           {
            "marker": {
             "colorbar": {
              "outlinewidth": 0,
              "ticks": ""
             }
            },
            "type": "scatterternary"
           }
          ],
          "surface": [
           {
            "colorbar": {
             "outlinewidth": 0,
             "ticks": ""
            },
            "colorscale": [
             [
              0,
              "#0d0887"
             ],
             [
              0.1111111111111111,
              "#46039f"
             ],
             [
              0.2222222222222222,
              "#7201a8"
             ],
             [
              0.3333333333333333,
              "#9c179e"
             ],
             [
              0.4444444444444444,
              "#bd3786"
             ],
             [
              0.5555555555555556,
              "#d8576b"
             ],
             [
              0.6666666666666666,
              "#ed7953"
             ],
             [
              0.7777777777777778,
              "#fb9f3a"
             ],
             [
              0.8888888888888888,
              "#fdca26"
             ],
             [
              1,
              "#f0f921"
             ]
            ],
            "type": "surface"
           }
          ],
          "table": [
           {
            "cells": {
             "fill": {
              "color": "#EBF0F8"
             },
             "line": {
              "color": "white"
             }
            },
            "header": {
             "fill": {
              "color": "#C8D4E3"
             },
             "line": {
              "color": "white"
             }
            },
            "type": "table"
           }
          ]
         },
         "layout": {
          "annotationdefaults": {
           "arrowcolor": "#2a3f5f",
           "arrowhead": 0,
           "arrowwidth": 1
          },
          "coloraxis": {
           "colorbar": {
            "outlinewidth": 0,
            "ticks": ""
           }
          },
          "colorscale": {
           "diverging": [
            [
             0,
             "#8e0152"
            ],
            [
             0.1,
             "#c51b7d"
            ],
            [
             0.2,
             "#de77ae"
            ],
            [
             0.3,
             "#f1b6da"
            ],
            [
             0.4,
             "#fde0ef"
            ],
            [
             0.5,
             "#f7f7f7"
            ],
            [
             0.6,
             "#e6f5d0"
            ],
            [
             0.7,
             "#b8e186"
            ],
            [
             0.8,
             "#7fbc41"
            ],
            [
             0.9,
             "#4d9221"
            ],
            [
             1,
             "#276419"
            ]
           ],
           "sequential": [
            [
             0,
             "#0d0887"
            ],
            [
             0.1111111111111111,
             "#46039f"
            ],
            [
             0.2222222222222222,
             "#7201a8"
            ],
            [
             0.3333333333333333,
             "#9c179e"
            ],
            [
             0.4444444444444444,
             "#bd3786"
            ],
            [
             0.5555555555555556,
             "#d8576b"
            ],
            [
             0.6666666666666666,
             "#ed7953"
            ],
            [
             0.7777777777777778,
             "#fb9f3a"
            ],
            [
             0.8888888888888888,
             "#fdca26"
            ],
            [
             1,
             "#f0f921"
            ]
           ],
           "sequentialminus": [
            [
             0,
             "#0d0887"
            ],
            [
             0.1111111111111111,
             "#46039f"
            ],
            [
             0.2222222222222222,
             "#7201a8"
            ],
            [
             0.3333333333333333,
             "#9c179e"
            ],
            [
             0.4444444444444444,
             "#bd3786"
            ],
            [
             0.5555555555555556,
             "#d8576b"
            ],
            [
             0.6666666666666666,
             "#ed7953"
            ],
            [
             0.7777777777777778,
             "#fb9f3a"
            ],
            [
             0.8888888888888888,
             "#fdca26"
            ],
            [
             1,
             "#f0f921"
            ]
           ]
          },
          "colorway": [
           "#636efa",
           "#EF553B",
           "#00cc96",
           "#ab63fa",
           "#FFA15A",
           "#19d3f3",
           "#FF6692",
           "#B6E880",
           "#FF97FF",
           "#FECB52"
          ],
          "font": {
           "color": "#2a3f5f"
          },
          "geo": {
           "bgcolor": "white",
           "lakecolor": "white",
           "landcolor": "#E5ECF6",
           "showlakes": true,
           "showland": true,
           "subunitcolor": "white"
          },
          "hoverlabel": {
           "align": "left"
          },
          "hovermode": "closest",
          "mapbox": {
           "style": "light"
          },
          "paper_bgcolor": "white",
          "plot_bgcolor": "#E5ECF6",
          "polar": {
           "angularaxis": {
            "gridcolor": "white",
            "linecolor": "white",
            "ticks": ""
           },
           "bgcolor": "#E5ECF6",
           "radialaxis": {
            "gridcolor": "white",
            "linecolor": "white",
            "ticks": ""
           }
          },
          "scene": {
           "xaxis": {
            "backgroundcolor": "#E5ECF6",
            "gridcolor": "white",
            "gridwidth": 2,
            "linecolor": "white",
            "showbackground": true,
            "ticks": "",
            "zerolinecolor": "white"
           },
           "yaxis": {
            "backgroundcolor": "#E5ECF6",
            "gridcolor": "white",
            "gridwidth": 2,
            "linecolor": "white",
            "showbackground": true,
            "ticks": "",
            "zerolinecolor": "white"
           },
           "zaxis": {
            "backgroundcolor": "#E5ECF6",
            "gridcolor": "white",
            "gridwidth": 2,
            "linecolor": "white",
            "showbackground": true,
            "ticks": "",
            "zerolinecolor": "white"
           }
          },
          "shapedefaults": {
           "line": {
            "color": "#2a3f5f"
           }
          },
          "ternary": {
           "aaxis": {
            "gridcolor": "white",
            "linecolor": "white",
            "ticks": ""
           },
           "baxis": {
            "gridcolor": "white",
            "linecolor": "white",
            "ticks": ""
           },
           "bgcolor": "#E5ECF6",
           "caxis": {
            "gridcolor": "white",
            "linecolor": "white",
            "ticks": ""
           }
          },
          "title": {
           "x": 0.05
          },
          "xaxis": {
           "automargin": true,
           "gridcolor": "white",
           "linecolor": "white",
           "ticks": "",
           "title": {
            "standoff": 15
           },
           "zerolinecolor": "white",
           "zerolinewidth": 2
          },
          "yaxis": {
           "automargin": true,
           "gridcolor": "white",
           "linecolor": "white",
           "ticks": "",
           "title": {
            "standoff": 15
           },
           "zerolinecolor": "white",
           "zerolinewidth": 2
          }
         }
        },
        "title": {
         "font": {
          "color": "#4D5663"
         }
        },
        "xaxis": {
         "gridcolor": "#E1E5ED",
         "showgrid": true,
         "tickfont": {
          "color": "#4D5663"
         },
         "title": {
          "font": {
           "color": "#4D5663"
          },
          "text": ""
         },
         "zerolinecolor": "#E1E5ED"
        },
        "xaxis2": {
         "anchor": "y2",
         "gridcolor": "#E1E5ED",
         "showgrid": true,
         "showticklabels": false,
         "tickfont": {
          "color": "#4D5663"
         },
         "title": {
          "font": {
           "color": "#4D5663"
          },
          "text": ""
         },
         "zerolinecolor": "#E1E5ED"
        },
        "yaxis": {
         "domain": [
          0.3,
          1
         ],
         "gridcolor": "#E1E5ED",
         "showgrid": true,
         "tickfont": {
          "color": "#4D5663"
         },
         "title": {
          "font": {
           "color": "#4D5663"
          },
          "text": ""
         },
         "zerolinecolor": "#E1E5ED"
        },
        "yaxis2": {
         "domain": [
          0,
          0.25
         ],
         "gridcolor": "#E1E5ED",
         "showgrid": true,
         "tickfont": {
          "color": "#4D5663"
         },
         "title": {
          "font": {
           "color": "#4D5663"
          },
          "text": "Spread"
         },
         "zerolinecolor": "#E1E5ED"
        }
       }
      },
      "text/html": [
       "<div>\n",
       "        \n",
       "        \n",
       "            <div id=\"181a98e3-a917-4229-a76a-a7e36a63f16a\" class=\"plotly-graph-div\" style=\"height:525px; width:100%;\"></div>\n",
       "            <script type=\"text/javascript\">\n",
       "                require([\"plotly\"], function(Plotly) {\n",
       "                    window.PLOTLYENV=window.PLOTLYENV || {};\n",
       "                    window.PLOTLYENV.BASE_URL='https://plot.ly';\n",
       "                    \n",
       "                if (document.getElementById(\"181a98e3-a917-4229-a76a-a7e36a63f16a\")) {\n",
       "                    Plotly.newPlot(\n",
       "                        '181a98e3-a917-4229-a76a-a7e36a63f16a',\n",
       "                        [{\"line\": {\"color\": \"rgba(255, 153, 51, 1.0)\", \"dash\": \"solid\", \"shape\": \"linear\", \"width\": 1.3}, \"mode\": \"lines\", \"name\": \"A\", \"text\": \"\", \"type\": \"scatter\", \"x\": [0, 1, 2, 3, 4, 5, 6, 7, 8, 9, 10, 11, 12, 13, 14, 15, 16, 17, 18, 19, 20, 21, 22, 23, 24, 25, 26, 27, 28, 29, 30, 31, 32, 33, 34, 35, 36, 37, 38, 39, 40, 41, 42, 43, 44, 45, 46, 47, 48, 49, 50, 51, 52, 53, 54, 55, 56, 57, 58, 59, 60, 61, 62, 63, 64, 65, 66, 67, 68, 69, 70, 71, 72, 73, 74, 75, 76, 77, 78, 79, 80, 81, 82, 83, 84, 85, 86, 87, 88, 89, 90, 91, 92, 93, 94, 95, 96, 97, 98, 99], \"y\": [0.8565004406896697, 0.616667033466685, 0.9298916478237453, -1.6724634436675336, -0.019950485747430385, -0.32800911299570507, -0.520848431309861, -1.30147296225039, 0.918170020841073, -0.003030796847175438, 1.8515261305902329, -2.4657644444358904, -1.439356632219261, 0.15387753978794932, 0.07641025126858664, 0.05696079491628426, 0.994002604240455, 1.3063555379994916, 0.11680196973249214, -0.06144614746125791, 0.16965506162971544, -1.5592095724925938, 1.7362505416468237, -0.5158156181616896, 0.3112988643540849, 0.6367371116974732, -1.5536536001503518, -1.7685320204209458, -0.5392754585148415, 0.10192996646476966, 0.5568460660823932, 0.4092568775144538, 0.6425257437679849, 0.09284381524121892, 1.7894845246730584, -1.5779423255162153, -1.789479229742878, 0.7609651113838944, -0.6674139141954538, -0.4214512133650312, -0.44539736631937926, 0.5186930794439539, -1.0086390260505254, 0.7345811131541214, -0.8682151792015697, -0.5138030956228592, 2.44506810870039, -0.48872333105082555, 1.3671166266258052, -0.01753294451379828, 0.11685967207261917, 1.0155837704561772, -0.5150792361553516, -0.4189522845684282, -1.671800498378324, 0.00849610436739744, -0.895038429064667, -0.7234219959912285, 0.206272727623923, 0.3226173070103636, -0.4358213189085439, 1.485019297233284, 1.3145577597333455, 1.1418099258834655, 0.3899155275990936, 0.6744845811903896, -1.5421747306588416, 0.10759935916787118, -0.29174756418219683, 0.4816850364526941, 0.06383954088766132, 0.805862380002143, 1.7922318721731754, 0.7711332871154744, 1.5493299640694245, 2.1568955364366897, 1.1670866728363158, 0.7987843837817445, 0.5924788058898702, 0.46868961780136764, 0.041509628887594935, 1.4403527221146417, 0.06159499985984685, -0.37884426150130707, -0.5712864766608926, -0.05456501732571868, -1.374456821319399, -0.29150627018452924, -0.5060841247039243, -0.9116186430932947, -0.03191657470382843, -1.1907703476630989, -0.2240749488357738, 0.9880910702602029, -0.6027601036139539, -0.804412324683554, -0.42504929417141835, 0.23827330110499453, 1.2763718707572826, -0.6127361720543995]}, {\"line\": {\"color\": \"rgba(55, 128, 191, 1.0)\", \"dash\": \"solid\", \"shape\": \"linear\", \"width\": 1.3}, \"mode\": \"lines\", \"name\": \"B\", \"text\": \"\", \"type\": \"scatter\", \"x\": [0, 1, 2, 3, 4, 5, 6, 7, 8, 9, 10, 11, 12, 13, 14, 15, 16, 17, 18, 19, 20, 21, 22, 23, 24, 25, 26, 27, 28, 29, 30, 31, 32, 33, 34, 35, 36, 37, 38, 39, 40, 41, 42, 43, 44, 45, 46, 47, 48, 49, 50, 51, 52, 53, 54, 55, 56, 57, 58, 59, 60, 61, 62, 63, 64, 65, 66, 67, 68, 69, 70, 71, 72, 73, 74, 75, 76, 77, 78, 79, 80, 81, 82, 83, 84, 85, 86, 87, 88, 89, 90, 91, 92, 93, 94, 95, 96, 97, 98, 99], \"y\": [1.475589520025869, 0.058193690147613136, 0.8858587130605142, -1.0062473781673018, 0.46803675911740583, 1.8876584534559304, 1.0068376194540218, 0.20649832656467781, -0.3831842413954928, 0.8146880661445408, 0.7525580546906689, -0.9499437266514072, -0.5124677266513444, -0.07070799266437955, 0.24842935771077734, -0.47466919918713246, 0.1329640121766927, 0.7101899364369233, -0.8129158041745252, -0.9065188940398232, -0.576101023436274, 0.7211521933563564, 0.4980075228147292, -0.4772199892654312, -0.25876529291204786, 0.02805869936306022, -1.1120841762313531, -0.34773983569211936, 0.5592457342025116, -2.2329856221230426, 1.244429738539221, -0.3558037971356808, -1.7071760167849175, -0.38601241809639797, -1.2101106786862859, 0.39581149532187293, -1.613409089316727, -0.017707675178522137, -0.51674385539429, 0.5508169727530585, -0.7657147803155174, 2.102266470888824, -1.9500668951535425, 0.08582168052356781, -1.2031543487810075, 0.09047246874201739, -1.2046473795482855, 0.057008372010706757, -0.6793292136001533, -0.16868751384288672, 0.013752896177967523, 0.13559208744343473, -0.9630115477948523, 0.7230504579164195, -0.7957538189923294, -0.5367136225824187, -1.0077205412350119, -1.7914055716137376, -1.230050510713824, 0.8679372146419765, 0.016712192818447498, -1.7296404941674273, 0.6279507372489606, 2.2072101493033247, -1.426478309767374, -0.10793231034668634, 0.2825793489947289, -1.980919281504627, 1.355967324544568, -0.7001789060327122, -1.2722359256963178, 0.09299395157163394, 0.9666985831548762, -0.3146817160528018, 0.5624621245870179, -0.4257065060814728, 2.8239069121719327, -0.6597234857277737, 0.045685732120529614, -0.01918897826138856, 0.19400035829565307, 0.331512334519879, -0.14894837996905405, -0.35260660854332354, 0.4922341899645374, 0.512147456731329, 0.06474390398539126, 2.3772022790380962, 0.4500853579083613, -0.6527657639931757, -0.047316453982068685, 0.4678256940750706, -0.5795657304715769, -1.2899242922557217, -0.3685463537980794, 0.25886314902995966, -0.659454095923306, -0.28299923424564427, -1.3644779963994549, -0.07484015266979967]}, {\"connectgaps\": false, \"fill\": \"tozeroy\", \"line\": {\"color\": \"green\", \"dash\": \"solid\", \"shape\": \"linear\", \"width\": 0.5}, \"mode\": \"lines\", \"name\": \"Spread\", \"showlegend\": false, \"type\": \"scatter\", \"x\": [0, 1, 2, 3, 4, 5, 6, 7, 8, 9, 10, 11, 12, 13, 14, 15, 16, 17, 18, 19, 20, 21, 22, 23, 24, 25, 26, 27, 28, 29, 30, 31, 32, 33, 34, 35, 36, 37, 38, 39, 40, 41, 42, 43, 44, 45, 46, 47, 48, 49, 50, 51, 52, 53, 54, 55, 56, 57, 58, 59, 60, 61, 62, 63, 64, 65, 66, 67, 68, 69, 70, 71, 72, 73, 74, 75, 76, 77, 78, 79, 80, 81, 82, 83, 84, 85, 86, 87, 88, 89, 90, 91, 92, 93, 94, 95, 96, 97, 98, 99], \"xaxis\": \"x2\", \"y\": [\"\", 0.558473343319072, 0.04403293476323111, \"\", \"\", \"\", \"\", \"\", 1.3013542622365657, \"\", 1.098968075899564, \"\", \"\", 0.22458553245232887, \"\", 0.5316299941034167, 0.8610385920637622, 0.5961656015625683, 0.9297177739070174, 0.8450727465785653, 0.7457560850659894, \"\", 1.2382430188320945, \"\", 0.5700641572661327, 0.6086784123344129, \"\", \"\", \"\", 2.3349155885878123, \"\", 0.7650606746501345, 2.3497017605529025, 0.4788562333376169, 2.9995952033593443, \"\", \"\", 0.7786727865624166, \"\", \"\", 0.32031741399613817, \"\", 0.9414278691030171, 0.6487594326305537, 0.3349391695794378, \"\", 3.6497154882486758, \"\", 2.0464458402259584, 0.15115456932908844, 0.10310677589465164, 0.8799916830127424, 0.44793231163950076, \"\", \"\", 0.5452097269498162, 0.11268211217034485, 1.0679835756225091, 1.436323238337747, \"\", \"\", 3.2146597914007113, 0.686607022484385, \"\", 1.8163938373664676, 0.7824168915370759, \"\", 2.0885186406724983, \"\", 1.1818639424854063, 1.3360754665839791, 0.7128684284305091, 0.8255332890182991, 1.085815003168276, 0.9868678394824065, 2.5826020425181624, \"\", 1.4585078695095182, 0.5467930737693406, 0.4878785960627562, \"\", 1.1088403875947628, 0.2105433798289009, \"\", \"\", \"\", \"\", \"\", \"\", \"\", 0.015399879278240255, \"\", 0.35549078163580305, 2.2780153625159247, \"\", \"\", 0.2344048017518876, 0.5212725353506388, 2.6408498671567378, \"\"], \"yaxis\": \"y2\"}, {\"connectgaps\": false, \"fill\": \"tozeroy\", \"line\": {\"color\": \"red\", \"dash\": \"solid\", \"shape\": \"linear\", \"width\": 0.5}, \"mode\": \"lines\", \"name\": \"Spread\", \"showlegend\": false, \"type\": \"scatter\", \"x\": [0, 1, 2, 3, 4, 5, 6, 7, 8, 9, 10, 11, 12, 13, 14, 15, 16, 17, 18, 19, 20, 21, 22, 23, 24, 25, 26, 27, 28, 29, 30, 31, 32, 33, 34, 35, 36, 37, 38, 39, 40, 41, 42, 43, 44, 45, 46, 47, 48, 49, 50, 51, 52, 53, 54, 55, 56, 57, 58, 59, 60, 61, 62, 63, 64, 65, 66, 67, 68, 69, 70, 71, 72, 73, 74, 75, 76, 77, 78, 79, 80, 81, 82, 83, 84, 85, 86, 87, 88, 89, 90, 91, 92, 93, 94, 95, 96, 97, 98, 99], \"xaxis\": \"x2\", \"y\": [-0.6190890793361994, \"\", \"\", -0.6662160655002318, -0.48798724486483624, -2.2156675664516357, -1.527686050763883, -1.5079712888150678, \"\", -0.8177188629917163, \"\", -1.5158207177844831, -0.9268889055679166, \"\", -0.1720191064421907, \"\", \"\", \"\", \"\", \"\", \"\", -2.28036176584895, \"\", -0.03859562889625845, \"\", \"\", -0.44156942391899867, -1.4207921847288265, -1.098521192717353, \"\", -0.6875836724568277, \"\", \"\", \"\", \"\", -1.9737538208380883, -0.1760701404261511, \"\", -0.1506700588011638, -0.9722681861180897, \"\", -1.5835733914448702, \"\", \"\", \"\", -0.6042755643648766, \"\", -0.5457317030615323, \"\", \"\", \"\", \"\", \"\", -1.1420027424848478, -0.8760466793859945, \"\", \"\", \"\", \"\", -0.5453199076316129, -0.4525335117269914, \"\", \"\", -1.0654002234198592, \"\", \"\", -1.8247540796535704, \"\", -1.6477148887267647, \"\", \"\", \"\", \"\", \"\", \"\", \"\", -1.6568202393356168, \"\", \"\", \"\", -0.15249072940805813, \"\", \"\", -0.026237652957983526, -1.06352066662543, -0.5667124740570477, -1.4392007253047903, -2.6687085492226252, -0.9561694826122855, -0.258852879100119, \"\", -1.6585960417381695, \"\", \"\", -0.23421374981587456, -1.0632754737135137, \"\", \"\", \"\", -0.5378960193845997], \"yaxis\": \"y2\"}],\n",
       "                        {\"hovermode\": \"x\", \"legend\": {\"bgcolor\": \"#F5F6F9\", \"font\": {\"color\": \"#4D5663\"}}, \"paper_bgcolor\": \"#F5F6F9\", \"plot_bgcolor\": \"#F5F6F9\", \"template\": {\"data\": {\"bar\": [{\"error_x\": {\"color\": \"#2a3f5f\"}, \"error_y\": {\"color\": \"#2a3f5f\"}, \"marker\": {\"line\": {\"color\": \"#E5ECF6\", \"width\": 0.5}}, \"type\": \"bar\"}], \"barpolar\": [{\"marker\": {\"line\": {\"color\": \"#E5ECF6\", \"width\": 0.5}}, \"type\": \"barpolar\"}], \"carpet\": [{\"aaxis\": {\"endlinecolor\": \"#2a3f5f\", \"gridcolor\": \"white\", \"linecolor\": \"white\", \"minorgridcolor\": \"white\", \"startlinecolor\": \"#2a3f5f\"}, \"baxis\": {\"endlinecolor\": \"#2a3f5f\", \"gridcolor\": \"white\", \"linecolor\": \"white\", \"minorgridcolor\": \"white\", \"startlinecolor\": \"#2a3f5f\"}, \"type\": \"carpet\"}], \"choropleth\": [{\"colorbar\": {\"outlinewidth\": 0, \"ticks\": \"\"}, \"type\": \"choropleth\"}], \"contour\": [{\"colorbar\": {\"outlinewidth\": 0, \"ticks\": \"\"}, \"colorscale\": [[0.0, \"#0d0887\"], [0.1111111111111111, \"#46039f\"], [0.2222222222222222, \"#7201a8\"], [0.3333333333333333, \"#9c179e\"], [0.4444444444444444, \"#bd3786\"], [0.5555555555555556, \"#d8576b\"], [0.6666666666666666, \"#ed7953\"], [0.7777777777777778, \"#fb9f3a\"], [0.8888888888888888, \"#fdca26\"], [1.0, \"#f0f921\"]], \"type\": \"contour\"}], \"contourcarpet\": [{\"colorbar\": {\"outlinewidth\": 0, \"ticks\": \"\"}, \"type\": \"contourcarpet\"}], \"heatmap\": [{\"colorbar\": {\"outlinewidth\": 0, \"ticks\": \"\"}, \"colorscale\": [[0.0, \"#0d0887\"], [0.1111111111111111, \"#46039f\"], [0.2222222222222222, \"#7201a8\"], [0.3333333333333333, \"#9c179e\"], [0.4444444444444444, \"#bd3786\"], [0.5555555555555556, \"#d8576b\"], [0.6666666666666666, \"#ed7953\"], [0.7777777777777778, \"#fb9f3a\"], [0.8888888888888888, \"#fdca26\"], [1.0, \"#f0f921\"]], \"type\": \"heatmap\"}], \"heatmapgl\": [{\"colorbar\": {\"outlinewidth\": 0, \"ticks\": \"\"}, \"colorscale\": [[0.0, \"#0d0887\"], [0.1111111111111111, \"#46039f\"], [0.2222222222222222, \"#7201a8\"], [0.3333333333333333, \"#9c179e\"], [0.4444444444444444, \"#bd3786\"], [0.5555555555555556, \"#d8576b\"], [0.6666666666666666, \"#ed7953\"], [0.7777777777777778, \"#fb9f3a\"], [0.8888888888888888, \"#fdca26\"], [1.0, \"#f0f921\"]], \"type\": \"heatmapgl\"}], \"histogram\": [{\"marker\": {\"colorbar\": {\"outlinewidth\": 0, \"ticks\": \"\"}}, \"type\": \"histogram\"}], \"histogram2d\": [{\"colorbar\": {\"outlinewidth\": 0, \"ticks\": \"\"}, \"colorscale\": [[0.0, \"#0d0887\"], [0.1111111111111111, \"#46039f\"], [0.2222222222222222, \"#7201a8\"], [0.3333333333333333, \"#9c179e\"], [0.4444444444444444, \"#bd3786\"], [0.5555555555555556, \"#d8576b\"], [0.6666666666666666, \"#ed7953\"], [0.7777777777777778, \"#fb9f3a\"], [0.8888888888888888, \"#fdca26\"], [1.0, \"#f0f921\"]], \"type\": \"histogram2d\"}], \"histogram2dcontour\": [{\"colorbar\": {\"outlinewidth\": 0, \"ticks\": \"\"}, \"colorscale\": [[0.0, \"#0d0887\"], [0.1111111111111111, \"#46039f\"], [0.2222222222222222, \"#7201a8\"], [0.3333333333333333, \"#9c179e\"], [0.4444444444444444, \"#bd3786\"], [0.5555555555555556, \"#d8576b\"], [0.6666666666666666, \"#ed7953\"], [0.7777777777777778, \"#fb9f3a\"], [0.8888888888888888, \"#fdca26\"], [1.0, \"#f0f921\"]], \"type\": \"histogram2dcontour\"}], \"mesh3d\": [{\"colorbar\": {\"outlinewidth\": 0, \"ticks\": \"\"}, \"type\": \"mesh3d\"}], \"parcoords\": [{\"line\": {\"colorbar\": {\"outlinewidth\": 0, \"ticks\": \"\"}}, \"type\": \"parcoords\"}], \"pie\": [{\"automargin\": true, \"type\": \"pie\"}], \"scatter\": [{\"marker\": {\"colorbar\": {\"outlinewidth\": 0, \"ticks\": \"\"}}, \"type\": \"scatter\"}], \"scatter3d\": [{\"line\": {\"colorbar\": {\"outlinewidth\": 0, \"ticks\": \"\"}}, \"marker\": {\"colorbar\": {\"outlinewidth\": 0, \"ticks\": \"\"}}, \"type\": \"scatter3d\"}], \"scattercarpet\": [{\"marker\": {\"colorbar\": {\"outlinewidth\": 0, \"ticks\": \"\"}}, \"type\": \"scattercarpet\"}], \"scattergeo\": [{\"marker\": {\"colorbar\": {\"outlinewidth\": 0, \"ticks\": \"\"}}, \"type\": \"scattergeo\"}], \"scattergl\": [{\"marker\": {\"colorbar\": {\"outlinewidth\": 0, \"ticks\": \"\"}}, \"type\": \"scattergl\"}], \"scattermapbox\": [{\"marker\": {\"colorbar\": {\"outlinewidth\": 0, \"ticks\": \"\"}}, \"type\": \"scattermapbox\"}], \"scatterpolar\": [{\"marker\": {\"colorbar\": {\"outlinewidth\": 0, \"ticks\": \"\"}}, \"type\": \"scatterpolar\"}], \"scatterpolargl\": [{\"marker\": {\"colorbar\": {\"outlinewidth\": 0, \"ticks\": \"\"}}, \"type\": \"scatterpolargl\"}], \"scatterternary\": [{\"marker\": {\"colorbar\": {\"outlinewidth\": 0, \"ticks\": \"\"}}, \"type\": \"scatterternary\"}], \"surface\": [{\"colorbar\": {\"outlinewidth\": 0, \"ticks\": \"\"}, \"colorscale\": [[0.0, \"#0d0887\"], [0.1111111111111111, \"#46039f\"], [0.2222222222222222, \"#7201a8\"], [0.3333333333333333, \"#9c179e\"], [0.4444444444444444, \"#bd3786\"], [0.5555555555555556, \"#d8576b\"], [0.6666666666666666, \"#ed7953\"], [0.7777777777777778, \"#fb9f3a\"], [0.8888888888888888, \"#fdca26\"], [1.0, \"#f0f921\"]], \"type\": \"surface\"}], \"table\": [{\"cells\": {\"fill\": {\"color\": \"#EBF0F8\"}, \"line\": {\"color\": \"white\"}}, \"header\": {\"fill\": {\"color\": \"#C8D4E3\"}, \"line\": {\"color\": \"white\"}}, \"type\": \"table\"}]}, \"layout\": {\"annotationdefaults\": {\"arrowcolor\": \"#2a3f5f\", \"arrowhead\": 0, \"arrowwidth\": 1}, \"coloraxis\": {\"colorbar\": {\"outlinewidth\": 0, \"ticks\": \"\"}}, \"colorscale\": {\"diverging\": [[0, \"#8e0152\"], [0.1, \"#c51b7d\"], [0.2, \"#de77ae\"], [0.3, \"#f1b6da\"], [0.4, \"#fde0ef\"], [0.5, \"#f7f7f7\"], [0.6, \"#e6f5d0\"], [0.7, \"#b8e186\"], [0.8, \"#7fbc41\"], [0.9, \"#4d9221\"], [1, \"#276419\"]], \"sequential\": [[0.0, \"#0d0887\"], [0.1111111111111111, \"#46039f\"], [0.2222222222222222, \"#7201a8\"], [0.3333333333333333, \"#9c179e\"], [0.4444444444444444, \"#bd3786\"], [0.5555555555555556, \"#d8576b\"], [0.6666666666666666, \"#ed7953\"], [0.7777777777777778, \"#fb9f3a\"], [0.8888888888888888, \"#fdca26\"], [1.0, \"#f0f921\"]], \"sequentialminus\": [[0.0, \"#0d0887\"], [0.1111111111111111, \"#46039f\"], [0.2222222222222222, \"#7201a8\"], [0.3333333333333333, \"#9c179e\"], [0.4444444444444444, \"#bd3786\"], [0.5555555555555556, \"#d8576b\"], [0.6666666666666666, \"#ed7953\"], [0.7777777777777778, \"#fb9f3a\"], [0.8888888888888888, \"#fdca26\"], [1.0, \"#f0f921\"]]}, \"colorway\": [\"#636efa\", \"#EF553B\", \"#00cc96\", \"#ab63fa\", \"#FFA15A\", \"#19d3f3\", \"#FF6692\", \"#B6E880\", \"#FF97FF\", \"#FECB52\"], \"font\": {\"color\": \"#2a3f5f\"}, \"geo\": {\"bgcolor\": \"white\", \"lakecolor\": \"white\", \"landcolor\": \"#E5ECF6\", \"showlakes\": true, \"showland\": true, \"subunitcolor\": \"white\"}, \"hoverlabel\": {\"align\": \"left\"}, \"hovermode\": \"closest\", \"mapbox\": {\"style\": \"light\"}, \"paper_bgcolor\": \"white\", \"plot_bgcolor\": \"#E5ECF6\", \"polar\": {\"angularaxis\": {\"gridcolor\": \"white\", \"linecolor\": \"white\", \"ticks\": \"\"}, \"bgcolor\": \"#E5ECF6\", \"radialaxis\": {\"gridcolor\": \"white\", \"linecolor\": \"white\", \"ticks\": \"\"}}, \"scene\": {\"xaxis\": {\"backgroundcolor\": \"#E5ECF6\", \"gridcolor\": \"white\", \"gridwidth\": 2, \"linecolor\": \"white\", \"showbackground\": true, \"ticks\": \"\", \"zerolinecolor\": \"white\"}, \"yaxis\": {\"backgroundcolor\": \"#E5ECF6\", \"gridcolor\": \"white\", \"gridwidth\": 2, \"linecolor\": \"white\", \"showbackground\": true, \"ticks\": \"\", \"zerolinecolor\": \"white\"}, \"zaxis\": {\"backgroundcolor\": \"#E5ECF6\", \"gridcolor\": \"white\", \"gridwidth\": 2, \"linecolor\": \"white\", \"showbackground\": true, \"ticks\": \"\", \"zerolinecolor\": \"white\"}}, \"shapedefaults\": {\"line\": {\"color\": \"#2a3f5f\"}}, \"ternary\": {\"aaxis\": {\"gridcolor\": \"white\", \"linecolor\": \"white\", \"ticks\": \"\"}, \"baxis\": {\"gridcolor\": \"white\", \"linecolor\": \"white\", \"ticks\": \"\"}, \"bgcolor\": \"#E5ECF6\", \"caxis\": {\"gridcolor\": \"white\", \"linecolor\": \"white\", \"ticks\": \"\"}}, \"title\": {\"x\": 0.05}, \"xaxis\": {\"automargin\": true, \"gridcolor\": \"white\", \"linecolor\": \"white\", \"ticks\": \"\", \"title\": {\"standoff\": 15}, \"zerolinecolor\": \"white\", \"zerolinewidth\": 2}, \"yaxis\": {\"automargin\": true, \"gridcolor\": \"white\", \"linecolor\": \"white\", \"ticks\": \"\", \"title\": {\"standoff\": 15}, \"zerolinecolor\": \"white\", \"zerolinewidth\": 2}}}, \"title\": {\"font\": {\"color\": \"#4D5663\"}}, \"xaxis\": {\"gridcolor\": \"#E1E5ED\", \"showgrid\": true, \"tickfont\": {\"color\": \"#4D5663\"}, \"title\": {\"font\": {\"color\": \"#4D5663\"}, \"text\": \"\"}, \"zerolinecolor\": \"#E1E5ED\"}, \"xaxis2\": {\"anchor\": \"y2\", \"gridcolor\": \"#E1E5ED\", \"showgrid\": true, \"showticklabels\": false, \"tickfont\": {\"color\": \"#4D5663\"}, \"title\": {\"font\": {\"color\": \"#4D5663\"}, \"text\": \"\"}, \"zerolinecolor\": \"#E1E5ED\"}, \"yaxis\": {\"domain\": [0.3, 1], \"gridcolor\": \"#E1E5ED\", \"showgrid\": true, \"tickfont\": {\"color\": \"#4D5663\"}, \"title\": {\"font\": {\"color\": \"#4D5663\"}, \"text\": \"\"}, \"zerolinecolor\": \"#E1E5ED\"}, \"yaxis2\": {\"domain\": [0, 0.25], \"gridcolor\": \"#E1E5ED\", \"showgrid\": true, \"tickfont\": {\"color\": \"#4D5663\"}, \"title\": {\"font\": {\"color\": \"#4D5663\"}, \"text\": \"Spread\"}, \"zerolinecolor\": \"#E1E5ED\"}},\n",
       "                        {\"showLink\": true, \"linkText\": \"Export to plot.ly\", \"plotlyServerURL\": \"https://plot.ly\", \"responsive\": true}\n",
       "                    ).then(function(){\n",
       "                            \n",
       "var gd = document.getElementById('181a98e3-a917-4229-a76a-a7e36a63f16a');\n",
       "var x = new MutationObserver(function (mutations, observer) {{\n",
       "        var display = window.getComputedStyle(gd).display;\n",
       "        if (!display || display === 'none') {{\n",
       "            console.log([gd, 'removed!']);\n",
       "            Plotly.purge(gd);\n",
       "            observer.disconnect();\n",
       "        }}\n",
       "}});\n",
       "\n",
       "// Listen for the removal of the full notebook cells\n",
       "var notebookContainer = gd.closest('#notebook-container');\n",
       "if (notebookContainer) {{\n",
       "    x.observe(notebookContainer, {childList: true});\n",
       "}}\n",
       "\n",
       "// Listen for the clearing of the current output cell\n",
       "var outputEl = gd.closest('.output');\n",
       "if (outputEl) {{\n",
       "    x.observe(outputEl, {childList: true});\n",
       "}}\n",
       "\n",
       "                        })\n",
       "                };\n",
       "                });\n",
       "            </script>\n",
       "        </div>"
      ]
     },
     "metadata": {},
     "output_type": "display_data"
    }
   ],
   "source": [
    "# you can also go ahead and zoom to select a target zone to understand the spread\n",
    "df[['A','B']].iplot(kind='spread')"
   ]
  },
  {
   "cell_type": "markdown",
   "metadata": {},
   "source": [
    "- Another typye of plot is bubble plots which is a type of plots similar to scatter plots except that it is slightly bigger in size."
   ]
  },
  {
   "cell_type": "code",
   "execution_count": 82,
   "metadata": {},
   "outputs": [
    {
     "data": {
      "application/vnd.plotly.v1+json": {
       "config": {
        "linkText": "Export to plot.ly",
        "plotlyServerURL": "https://plot.ly",
        "showLink": true
       },
       "data": [
        {
         "marker": {
          "color": [
           "rgb(255, 153, 51)",
           "rgb(55, 128, 191)",
           "rgb(50, 171, 96)",
           "rgb(128, 0, 128)",
           "rgb(219, 64, 82)",
           "rgb(0, 128, 128)",
           "rgb(255, 255, 51)",
           "rgb(128, 128, 0)",
           "rgb(251, 128, 114)",
           "rgb(128, 177, 211)"
          ],
          "line": {
           "width": 1.3
          },
          "size": [
           68,
           25,
           50,
           37,
           68,
           66,
           60,
           72,
           85,
           65,
           65,
           73,
           52,
           64,
           99,
           70,
           70,
           47,
           109,
           64,
           60,
           59,
           59,
           45,
           76,
           54,
           85,
           55,
           112,
           84,
           39,
           61,
           75,
           52,
           57,
           65,
           72,
           57,
           77,
           12,
           78,
           64,
           56,
           66,
           83,
           45,
           69,
           66,
           56,
           55,
           92,
           53,
           67,
           56,
           84,
           36,
           52,
           68,
           53,
           51,
           90,
           69,
           108,
           61,
           73,
           47,
           80,
           76,
           97,
           44,
           84,
           99,
           62,
           54,
           52,
           61,
           106,
           34,
           69,
           102,
           31,
           32,
           63,
           86,
           83,
           79,
           98,
           87,
           38,
           72,
           58,
           59,
           67,
           58,
           43,
           76,
           74,
           60,
           47,
           86
          ],
          "symbol": "circle"
         },
         "mode": "markers",
         "text": "",
         "type": "scatter",
         "x": [
          0.8565004406896697,
          0.616667033466685,
          0.9298916478237453,
          -1.6724634436675336,
          -0.019950485747430385,
          -0.32800911299570507,
          -0.520848431309861,
          -1.30147296225039,
          0.918170020841073,
          -0.003030796847175438,
          1.8515261305902329,
          -2.4657644444358904,
          -1.439356632219261,
          0.15387753978794932,
          0.07641025126858664,
          0.05696079491628426,
          0.994002604240455,
          1.3063555379994916,
          0.11680196973249214,
          -0.06144614746125791,
          0.16965506162971544,
          -1.5592095724925938,
          1.7362505416468237,
          -0.5158156181616896,
          0.3112988643540849,
          0.6367371116974732,
          -1.5536536001503518,
          -1.7685320204209458,
          -0.5392754585148415,
          0.10192996646476966,
          0.5568460660823932,
          0.4092568775144538,
          0.6425257437679849,
          0.09284381524121892,
          1.7894845246730584,
          -1.5779423255162153,
          -1.789479229742878,
          0.7609651113838944,
          -0.6674139141954538,
          -0.4214512133650312,
          -0.44539736631937926,
          0.5186930794439539,
          -1.0086390260505254,
          0.7345811131541214,
          -0.8682151792015697,
          -0.5138030956228592,
          2.44506810870039,
          -0.48872333105082555,
          1.3671166266258052,
          -0.01753294451379828,
          0.11685967207261917,
          1.0155837704561772,
          -0.5150792361553516,
          -0.4189522845684282,
          -1.671800498378324,
          0.00849610436739744,
          -0.895038429064667,
          -0.7234219959912285,
          0.206272727623923,
          0.3226173070103636,
          -0.4358213189085439,
          1.485019297233284,
          1.3145577597333455,
          1.1418099258834655,
          0.3899155275990936,
          0.6744845811903896,
          -1.5421747306588416,
          0.10759935916787118,
          -0.29174756418219683,
          0.4816850364526941,
          0.06383954088766132,
          0.805862380002143,
          1.7922318721731754,
          0.7711332871154744,
          1.5493299640694245,
          2.1568955364366897,
          1.1670866728363158,
          0.7987843837817445,
          0.5924788058898702,
          0.46868961780136764,
          0.041509628887594935,
          1.4403527221146417,
          0.06159499985984685,
          -0.37884426150130707,
          -0.5712864766608926,
          -0.05456501732571868,
          -1.374456821319399,
          -0.29150627018452924,
          -0.5060841247039243,
          -0.9116186430932947,
          -0.03191657470382843,
          -1.1907703476630989,
          -0.2240749488357738,
          0.9880910702602029,
          -0.6027601036139539,
          -0.804412324683554,
          -0.42504929417141835,
          0.23827330110499453,
          1.2763718707572826,
          -0.6127361720543995
         ],
         "y": [
          1.475589520025869,
          0.058193690147613136,
          0.8858587130605142,
          -1.0062473781673018,
          0.46803675911740583,
          1.8876584534559304,
          1.0068376194540218,
          0.20649832656467781,
          -0.3831842413954928,
          0.8146880661445408,
          0.7525580546906689,
          -0.9499437266514072,
          -0.5124677266513444,
          -0.07070799266437955,
          0.24842935771077734,
          -0.47466919918713246,
          0.1329640121766927,
          0.7101899364369233,
          -0.8129158041745252,
          -0.9065188940398232,
          -0.576101023436274,
          0.7211521933563564,
          0.4980075228147292,
          -0.4772199892654312,
          -0.25876529291204786,
          0.02805869936306022,
          -1.1120841762313531,
          -0.34773983569211936,
          0.5592457342025116,
          -2.2329856221230426,
          1.244429738539221,
          -0.3558037971356808,
          -1.7071760167849175,
          -0.38601241809639797,
          -1.2101106786862859,
          0.39581149532187293,
          -1.613409089316727,
          -0.017707675178522137,
          -0.51674385539429,
          0.5508169727530585,
          -0.7657147803155174,
          2.102266470888824,
          -1.9500668951535425,
          0.08582168052356781,
          -1.2031543487810075,
          0.09047246874201739,
          -1.2046473795482855,
          0.057008372010706757,
          -0.6793292136001533,
          -0.16868751384288672,
          0.013752896177967523,
          0.13559208744343473,
          -0.9630115477948523,
          0.7230504579164195,
          -0.7957538189923294,
          -0.5367136225824187,
          -1.0077205412350119,
          -1.7914055716137376,
          -1.230050510713824,
          0.8679372146419765,
          0.016712192818447498,
          -1.7296404941674273,
          0.6279507372489606,
          2.2072101493033247,
          -1.426478309767374,
          -0.10793231034668634,
          0.2825793489947289,
          -1.980919281504627,
          1.355967324544568,
          -0.7001789060327122,
          -1.2722359256963178,
          0.09299395157163394,
          0.9666985831548762,
          -0.3146817160528018,
          0.5624621245870179,
          -0.4257065060814728,
          2.8239069121719327,
          -0.6597234857277737,
          0.045685732120529614,
          -0.01918897826138856,
          0.19400035829565307,
          0.331512334519879,
          -0.14894837996905405,
          -0.35260660854332354,
          0.4922341899645374,
          0.512147456731329,
          0.06474390398539126,
          2.3772022790380962,
          0.4500853579083613,
          -0.6527657639931757,
          -0.047316453982068685,
          0.4678256940750706,
          -0.5795657304715769,
          -1.2899242922557217,
          -0.3685463537980794,
          0.25886314902995966,
          -0.659454095923306,
          -0.28299923424564427,
          -1.3644779963994549,
          -0.07484015266979967
         ]
        }
       ],
       "layout": {
        "legend": {
         "bgcolor": "#F5F6F9",
         "font": {
          "color": "#4D5663"
         }
        },
        "paper_bgcolor": "#F5F6F9",
        "plot_bgcolor": "#F5F6F9",
        "template": {
         "data": {
          "bar": [
           {
            "error_x": {
             "color": "#2a3f5f"
            },
            "error_y": {
             "color": "#2a3f5f"
            },
            "marker": {
             "line": {
              "color": "#E5ECF6",
              "width": 0.5
             }
            },
            "type": "bar"
           }
          ],
          "barpolar": [
           {
            "marker": {
             "line": {
              "color": "#E5ECF6",
              "width": 0.5
             }
            },
            "type": "barpolar"
           }
          ],
          "carpet": [
           {
            "aaxis": {
             "endlinecolor": "#2a3f5f",
             "gridcolor": "white",
             "linecolor": "white",
             "minorgridcolor": "white",
             "startlinecolor": "#2a3f5f"
            },
            "baxis": {
             "endlinecolor": "#2a3f5f",
             "gridcolor": "white",
             "linecolor": "white",
             "minorgridcolor": "white",
             "startlinecolor": "#2a3f5f"
            },
            "type": "carpet"
           }
          ],
          "choropleth": [
           {
            "colorbar": {
             "outlinewidth": 0,
             "ticks": ""
            },
            "type": "choropleth"
           }
          ],
          "contour": [
           {
            "colorbar": {
             "outlinewidth": 0,
             "ticks": ""
            },
            "colorscale": [
             [
              0,
              "#0d0887"
             ],
             [
              0.1111111111111111,
              "#46039f"
             ],
             [
              0.2222222222222222,
              "#7201a8"
             ],
             [
              0.3333333333333333,
              "#9c179e"
             ],
             [
              0.4444444444444444,
              "#bd3786"
             ],
             [
              0.5555555555555556,
              "#d8576b"
             ],
             [
              0.6666666666666666,
              "#ed7953"
             ],
             [
              0.7777777777777778,
              "#fb9f3a"
             ],
             [
              0.8888888888888888,
              "#fdca26"
             ],
             [
              1,
              "#f0f921"
             ]
            ],
            "type": "contour"
           }
          ],
          "contourcarpet": [
           {
            "colorbar": {
             "outlinewidth": 0,
             "ticks": ""
            },
            "type": "contourcarpet"
           }
          ],
          "heatmap": [
           {
            "colorbar": {
             "outlinewidth": 0,
             "ticks": ""
            },
            "colorscale": [
             [
              0,
              "#0d0887"
             ],
             [
              0.1111111111111111,
              "#46039f"
             ],
             [
              0.2222222222222222,
              "#7201a8"
             ],
             [
              0.3333333333333333,
              "#9c179e"
             ],
             [
              0.4444444444444444,
              "#bd3786"
             ],
             [
              0.5555555555555556,
              "#d8576b"
             ],
             [
              0.6666666666666666,
              "#ed7953"
             ],
             [
              0.7777777777777778,
              "#fb9f3a"
             ],
             [
              0.8888888888888888,
              "#fdca26"
             ],
             [
              1,
              "#f0f921"
             ]
            ],
            "type": "heatmap"
           }
          ],
          "heatmapgl": [
           {
            "colorbar": {
             "outlinewidth": 0,
             "ticks": ""
            },
            "colorscale": [
             [
              0,
              "#0d0887"
             ],
             [
              0.1111111111111111,
              "#46039f"
             ],
             [
              0.2222222222222222,
              "#7201a8"
             ],
             [
              0.3333333333333333,
              "#9c179e"
             ],
             [
              0.4444444444444444,
              "#bd3786"
             ],
             [
              0.5555555555555556,
              "#d8576b"
             ],
             [
              0.6666666666666666,
              "#ed7953"
             ],
             [
              0.7777777777777778,
              "#fb9f3a"
             ],
             [
              0.8888888888888888,
              "#fdca26"
             ],
             [
              1,
              "#f0f921"
             ]
            ],
            "type": "heatmapgl"
           }
          ],
          "histogram": [
           {
            "marker": {
             "colorbar": {
              "outlinewidth": 0,
              "ticks": ""
             }
            },
            "type": "histogram"
           }
          ],
          "histogram2d": [
           {
            "colorbar": {
             "outlinewidth": 0,
             "ticks": ""
            },
            "colorscale": [
             [
              0,
              "#0d0887"
             ],
             [
              0.1111111111111111,
              "#46039f"
             ],
             [
              0.2222222222222222,
              "#7201a8"
             ],
             [
              0.3333333333333333,
              "#9c179e"
             ],
             [
              0.4444444444444444,
              "#bd3786"
             ],
             [
              0.5555555555555556,
              "#d8576b"
             ],
             [
              0.6666666666666666,
              "#ed7953"
             ],
             [
              0.7777777777777778,
              "#fb9f3a"
             ],
             [
              0.8888888888888888,
              "#fdca26"
             ],
             [
              1,
              "#f0f921"
             ]
            ],
            "type": "histogram2d"
           }
          ],
          "histogram2dcontour": [
           {
            "colorbar": {
             "outlinewidth": 0,
             "ticks": ""
            },
            "colorscale": [
             [
              0,
              "#0d0887"
             ],
             [
              0.1111111111111111,
              "#46039f"
             ],
             [
              0.2222222222222222,
              "#7201a8"
             ],
             [
              0.3333333333333333,
              "#9c179e"
             ],
             [
              0.4444444444444444,
              "#bd3786"
             ],
             [
              0.5555555555555556,
              "#d8576b"
             ],
             [
              0.6666666666666666,
              "#ed7953"
             ],
             [
              0.7777777777777778,
              "#fb9f3a"
             ],
             [
              0.8888888888888888,
              "#fdca26"
             ],
             [
              1,
              "#f0f921"
             ]
            ],
            "type": "histogram2dcontour"
           }
          ],
          "mesh3d": [
           {
            "colorbar": {
             "outlinewidth": 0,
             "ticks": ""
            },
            "type": "mesh3d"
           }
          ],
          "parcoords": [
           {
            "line": {
             "colorbar": {
              "outlinewidth": 0,
              "ticks": ""
             }
            },
            "type": "parcoords"
           }
          ],
          "pie": [
           {
            "automargin": true,
            "type": "pie"
           }
          ],
          "scatter": [
           {
            "marker": {
             "colorbar": {
              "outlinewidth": 0,
              "ticks": ""
             }
            },
            "type": "scatter"
           }
          ],
          "scatter3d": [
           {
            "line": {
             "colorbar": {
              "outlinewidth": 0,
              "ticks": ""
             }
            },
            "marker": {
             "colorbar": {
              "outlinewidth": 0,
              "ticks": ""
             }
            },
            "type": "scatter3d"
           }
          ],
          "scattercarpet": [
           {
            "marker": {
             "colorbar": {
              "outlinewidth": 0,
              "ticks": ""
             }
            },
            "type": "scattercarpet"
           }
          ],
          "scattergeo": [
           {
            "marker": {
             "colorbar": {
              "outlinewidth": 0,
              "ticks": ""
             }
            },
            "type": "scattergeo"
           }
          ],
          "scattergl": [
           {
            "marker": {
             "colorbar": {
              "outlinewidth": 0,
              "ticks": ""
             }
            },
            "type": "scattergl"
           }
          ],
          "scattermapbox": [
           {
            "marker": {
             "colorbar": {
              "outlinewidth": 0,
              "ticks": ""
             }
            },
            "type": "scattermapbox"
           }
          ],
          "scatterpolar": [
           {
            "marker": {
             "colorbar": {
              "outlinewidth": 0,
              "ticks": ""
             }
            },
            "type": "scatterpolar"
           }
          ],
          "scatterpolargl": [
           {
            "marker": {
             "colorbar": {
              "outlinewidth": 0,
              "ticks": ""
             }
            },
            "type": "scatterpolargl"
           }
          ],
          "scatterternary": [
           {
            "marker": {
             "colorbar": {
              "outlinewidth": 0,
              "ticks": ""
             }
            },
            "type": "scatterternary"
           }
          ],
          "surface": [
           {
            "colorbar": {
             "outlinewidth": 0,
             "ticks": ""
            },
            "colorscale": [
             [
              0,
              "#0d0887"
             ],
             [
              0.1111111111111111,
              "#46039f"
             ],
             [
              0.2222222222222222,
              "#7201a8"
             ],
             [
              0.3333333333333333,
              "#9c179e"
             ],
             [
              0.4444444444444444,
              "#bd3786"
             ],
             [
              0.5555555555555556,
              "#d8576b"
             ],
             [
              0.6666666666666666,
              "#ed7953"
             ],
             [
              0.7777777777777778,
              "#fb9f3a"
             ],
             [
              0.8888888888888888,
              "#fdca26"
             ],
             [
              1,
              "#f0f921"
             ]
            ],
            "type": "surface"
           }
          ],
          "table": [
           {
            "cells": {
             "fill": {
              "color": "#EBF0F8"
             },
             "line": {
              "color": "white"
             }
            },
            "header": {
             "fill": {
              "color": "#C8D4E3"
             },
             "line": {
              "color": "white"
             }
            },
            "type": "table"
           }
          ]
         },
         "layout": {
          "annotationdefaults": {
           "arrowcolor": "#2a3f5f",
           "arrowhead": 0,
           "arrowwidth": 1
          },
          "coloraxis": {
           "colorbar": {
            "outlinewidth": 0,
            "ticks": ""
           }
          },
          "colorscale": {
           "diverging": [
            [
             0,
             "#8e0152"
            ],
            [
             0.1,
             "#c51b7d"
            ],
            [
             0.2,
             "#de77ae"
            ],
            [
             0.3,
             "#f1b6da"
            ],
            [
             0.4,
             "#fde0ef"
            ],
            [
             0.5,
             "#f7f7f7"
            ],
            [
             0.6,
             "#e6f5d0"
            ],
            [
             0.7,
             "#b8e186"
            ],
            [
             0.8,
             "#7fbc41"
            ],
            [
             0.9,
             "#4d9221"
            ],
            [
             1,
             "#276419"
            ]
           ],
           "sequential": [
            [
             0,
             "#0d0887"
            ],
            [
             0.1111111111111111,
             "#46039f"
            ],
            [
             0.2222222222222222,
             "#7201a8"
            ],
            [
             0.3333333333333333,
             "#9c179e"
            ],
            [
             0.4444444444444444,
             "#bd3786"
            ],
            [
             0.5555555555555556,
             "#d8576b"
            ],
            [
             0.6666666666666666,
             "#ed7953"
            ],
            [
             0.7777777777777778,
             "#fb9f3a"
            ],
            [
             0.8888888888888888,
             "#fdca26"
            ],
            [
             1,
             "#f0f921"
            ]
           ],
           "sequentialminus": [
            [
             0,
             "#0d0887"
            ],
            [
             0.1111111111111111,
             "#46039f"
            ],
            [
             0.2222222222222222,
             "#7201a8"
            ],
            [
             0.3333333333333333,
             "#9c179e"
            ],
            [
             0.4444444444444444,
             "#bd3786"
            ],
            [
             0.5555555555555556,
             "#d8576b"
            ],
            [
             0.6666666666666666,
             "#ed7953"
            ],
            [
             0.7777777777777778,
             "#fb9f3a"
            ],
            [
             0.8888888888888888,
             "#fdca26"
            ],
            [
             1,
             "#f0f921"
            ]
           ]
          },
          "colorway": [
           "#636efa",
           "#EF553B",
           "#00cc96",
           "#ab63fa",
           "#FFA15A",
           "#19d3f3",
           "#FF6692",
           "#B6E880",
           "#FF97FF",
           "#FECB52"
          ],
          "font": {
           "color": "#2a3f5f"
          },
          "geo": {
           "bgcolor": "white",
           "lakecolor": "white",
           "landcolor": "#E5ECF6",
           "showlakes": true,
           "showland": true,
           "subunitcolor": "white"
          },
          "hoverlabel": {
           "align": "left"
          },
          "hovermode": "closest",
          "mapbox": {
           "style": "light"
          },
          "paper_bgcolor": "white",
          "plot_bgcolor": "#E5ECF6",
          "polar": {
           "angularaxis": {
            "gridcolor": "white",
            "linecolor": "white",
            "ticks": ""
           },
           "bgcolor": "#E5ECF6",
           "radialaxis": {
            "gridcolor": "white",
            "linecolor": "white",
            "ticks": ""
           }
          },
          "scene": {
           "xaxis": {
            "backgroundcolor": "#E5ECF6",
            "gridcolor": "white",
            "gridwidth": 2,
            "linecolor": "white",
            "showbackground": true,
            "ticks": "",
            "zerolinecolor": "white"
           },
           "yaxis": {
            "backgroundcolor": "#E5ECF6",
            "gridcolor": "white",
            "gridwidth": 2,
            "linecolor": "white",
            "showbackground": true,
            "ticks": "",
            "zerolinecolor": "white"
           },
           "zaxis": {
            "backgroundcolor": "#E5ECF6",
            "gridcolor": "white",
            "gridwidth": 2,
            "linecolor": "white",
            "showbackground": true,
            "ticks": "",
            "zerolinecolor": "white"
           }
          },
          "shapedefaults": {
           "line": {
            "color": "#2a3f5f"
           }
          },
          "ternary": {
           "aaxis": {
            "gridcolor": "white",
            "linecolor": "white",
            "ticks": ""
           },
           "baxis": {
            "gridcolor": "white",
            "linecolor": "white",
            "ticks": ""
           },
           "bgcolor": "#E5ECF6",
           "caxis": {
            "gridcolor": "white",
            "linecolor": "white",
            "ticks": ""
           }
          },
          "title": {
           "x": 0.05
          },
          "xaxis": {
           "automargin": true,
           "gridcolor": "white",
           "linecolor": "white",
           "ticks": "",
           "title": {
            "standoff": 15
           },
           "zerolinecolor": "white",
           "zerolinewidth": 2
          },
          "yaxis": {
           "automargin": true,
           "gridcolor": "white",
           "linecolor": "white",
           "ticks": "",
           "title": {
            "standoff": 15
           },
           "zerolinecolor": "white",
           "zerolinewidth": 2
          }
         }
        },
        "title": {
         "font": {
          "color": "#4D5663"
         }
        },
        "xaxis": {
         "gridcolor": "#E1E5ED",
         "showgrid": true,
         "tickfont": {
          "color": "#4D5663"
         },
         "title": {
          "font": {
           "color": "#4D5663"
          },
          "text": ""
         },
         "zerolinecolor": "#E1E5ED"
        },
        "yaxis": {
         "gridcolor": "#E1E5ED",
         "showgrid": true,
         "tickfont": {
          "color": "#4D5663"
         },
         "title": {
          "font": {
           "color": "#4D5663"
          },
          "text": ""
         },
         "zerolinecolor": "#E1E5ED"
        }
       }
      },
      "text/html": [
       "<div>\n",
       "        \n",
       "        \n",
       "            <div id=\"c81a82c3-1774-4249-9e92-0dfe4ac89d2b\" class=\"plotly-graph-div\" style=\"height:525px; width:100%;\"></div>\n",
       "            <script type=\"text/javascript\">\n",
       "                require([\"plotly\"], function(Plotly) {\n",
       "                    window.PLOTLYENV=window.PLOTLYENV || {};\n",
       "                    window.PLOTLYENV.BASE_URL='https://plot.ly';\n",
       "                    \n",
       "                if (document.getElementById(\"c81a82c3-1774-4249-9e92-0dfe4ac89d2b\")) {\n",
       "                    Plotly.newPlot(\n",
       "                        'c81a82c3-1774-4249-9e92-0dfe4ac89d2b',\n",
       "                        [{\"marker\": {\"color\": [\"rgb(255, 153, 51)\", \"rgb(55, 128, 191)\", \"rgb(50, 171, 96)\", \"rgb(128, 0, 128)\", \"rgb(219, 64, 82)\", \"rgb(0, 128, 128)\", \"rgb(255, 255, 51)\", \"rgb(128, 128, 0)\", \"rgb(251, 128, 114)\", \"rgb(128, 177, 211)\"], \"line\": {\"width\": 1.3}, \"size\": [68, 25, 50, 37, 68, 66, 60, 72, 85, 65, 65, 73, 52, 64, 99, 70, 70, 47, 109, 64, 60, 59, 59, 45, 76, 54, 85, 55, 112, 84, 39, 61, 75, 52, 57, 65, 72, 57, 77, 12, 78, 64, 56, 66, 83, 45, 69, 66, 56, 55, 92, 53, 67, 56, 84, 36, 52, 68, 53, 51, 90, 69, 108, 61, 73, 47, 80, 76, 97, 44, 84, 99, 62, 54, 52, 61, 106, 34, 69, 102, 31, 32, 63, 86, 83, 79, 98, 87, 38, 72, 58, 59, 67, 58, 43, 76, 74, 60, 47, 86], \"symbol\": \"circle\"}, \"mode\": \"markers\", \"text\": \"\", \"type\": \"scatter\", \"x\": [0.8565004406896697, 0.616667033466685, 0.9298916478237453, -1.6724634436675336, -0.019950485747430385, -0.32800911299570507, -0.520848431309861, -1.30147296225039, 0.918170020841073, -0.003030796847175438, 1.8515261305902329, -2.4657644444358904, -1.439356632219261, 0.15387753978794932, 0.07641025126858664, 0.05696079491628426, 0.994002604240455, 1.3063555379994916, 0.11680196973249214, -0.06144614746125791, 0.16965506162971544, -1.5592095724925938, 1.7362505416468237, -0.5158156181616896, 0.3112988643540849, 0.6367371116974732, -1.5536536001503518, -1.7685320204209458, -0.5392754585148415, 0.10192996646476966, 0.5568460660823932, 0.4092568775144538, 0.6425257437679849, 0.09284381524121892, 1.7894845246730584, -1.5779423255162153, -1.789479229742878, 0.7609651113838944, -0.6674139141954538, -0.4214512133650312, -0.44539736631937926, 0.5186930794439539, -1.0086390260505254, 0.7345811131541214, -0.8682151792015697, -0.5138030956228592, 2.44506810870039, -0.48872333105082555, 1.3671166266258052, -0.01753294451379828, 0.11685967207261917, 1.0155837704561772, -0.5150792361553516, -0.4189522845684282, -1.671800498378324, 0.00849610436739744, -0.895038429064667, -0.7234219959912285, 0.206272727623923, 0.3226173070103636, -0.4358213189085439, 1.485019297233284, 1.3145577597333455, 1.1418099258834655, 0.3899155275990936, 0.6744845811903896, -1.5421747306588416, 0.10759935916787118, -0.29174756418219683, 0.4816850364526941, 0.06383954088766132, 0.805862380002143, 1.7922318721731754, 0.7711332871154744, 1.5493299640694245, 2.1568955364366897, 1.1670866728363158, 0.7987843837817445, 0.5924788058898702, 0.46868961780136764, 0.041509628887594935, 1.4403527221146417, 0.06159499985984685, -0.37884426150130707, -0.5712864766608926, -0.05456501732571868, -1.374456821319399, -0.29150627018452924, -0.5060841247039243, -0.9116186430932947, -0.03191657470382843, -1.1907703476630989, -0.2240749488357738, 0.9880910702602029, -0.6027601036139539, -0.804412324683554, -0.42504929417141835, 0.23827330110499453, 1.2763718707572826, -0.6127361720543995], \"y\": [1.475589520025869, 0.058193690147613136, 0.8858587130605142, -1.0062473781673018, 0.46803675911740583, 1.8876584534559304, 1.0068376194540218, 0.20649832656467781, -0.3831842413954928, 0.8146880661445408, 0.7525580546906689, -0.9499437266514072, -0.5124677266513444, -0.07070799266437955, 0.24842935771077734, -0.47466919918713246, 0.1329640121766927, 0.7101899364369233, -0.8129158041745252, -0.9065188940398232, -0.576101023436274, 0.7211521933563564, 0.4980075228147292, -0.4772199892654312, -0.25876529291204786, 0.02805869936306022, -1.1120841762313531, -0.34773983569211936, 0.5592457342025116, -2.2329856221230426, 1.244429738539221, -0.3558037971356808, -1.7071760167849175, -0.38601241809639797, -1.2101106786862859, 0.39581149532187293, -1.613409089316727, -0.017707675178522137, -0.51674385539429, 0.5508169727530585, -0.7657147803155174, 2.102266470888824, -1.9500668951535425, 0.08582168052356781, -1.2031543487810075, 0.09047246874201739, -1.2046473795482855, 0.057008372010706757, -0.6793292136001533, -0.16868751384288672, 0.013752896177967523, 0.13559208744343473, -0.9630115477948523, 0.7230504579164195, -0.7957538189923294, -0.5367136225824187, -1.0077205412350119, -1.7914055716137376, -1.230050510713824, 0.8679372146419765, 0.016712192818447498, -1.7296404941674273, 0.6279507372489606, 2.2072101493033247, -1.426478309767374, -0.10793231034668634, 0.2825793489947289, -1.980919281504627, 1.355967324544568, -0.7001789060327122, -1.2722359256963178, 0.09299395157163394, 0.9666985831548762, -0.3146817160528018, 0.5624621245870179, -0.4257065060814728, 2.8239069121719327, -0.6597234857277737, 0.045685732120529614, -0.01918897826138856, 0.19400035829565307, 0.331512334519879, -0.14894837996905405, -0.35260660854332354, 0.4922341899645374, 0.512147456731329, 0.06474390398539126, 2.3772022790380962, 0.4500853579083613, -0.6527657639931757, -0.047316453982068685, 0.4678256940750706, -0.5795657304715769, -1.2899242922557217, -0.3685463537980794, 0.25886314902995966, -0.659454095923306, -0.28299923424564427, -1.3644779963994549, -0.07484015266979967]}],\n",
       "                        {\"legend\": {\"bgcolor\": \"#F5F6F9\", \"font\": {\"color\": \"#4D5663\"}}, \"paper_bgcolor\": \"#F5F6F9\", \"plot_bgcolor\": \"#F5F6F9\", \"template\": {\"data\": {\"bar\": [{\"error_x\": {\"color\": \"#2a3f5f\"}, \"error_y\": {\"color\": \"#2a3f5f\"}, \"marker\": {\"line\": {\"color\": \"#E5ECF6\", \"width\": 0.5}}, \"type\": \"bar\"}], \"barpolar\": [{\"marker\": {\"line\": {\"color\": \"#E5ECF6\", \"width\": 0.5}}, \"type\": \"barpolar\"}], \"carpet\": [{\"aaxis\": {\"endlinecolor\": \"#2a3f5f\", \"gridcolor\": \"white\", \"linecolor\": \"white\", \"minorgridcolor\": \"white\", \"startlinecolor\": \"#2a3f5f\"}, \"baxis\": {\"endlinecolor\": \"#2a3f5f\", \"gridcolor\": \"white\", \"linecolor\": \"white\", \"minorgridcolor\": \"white\", \"startlinecolor\": \"#2a3f5f\"}, \"type\": \"carpet\"}], \"choropleth\": [{\"colorbar\": {\"outlinewidth\": 0, \"ticks\": \"\"}, \"type\": \"choropleth\"}], \"contour\": [{\"colorbar\": {\"outlinewidth\": 0, \"ticks\": \"\"}, \"colorscale\": [[0.0, \"#0d0887\"], [0.1111111111111111, \"#46039f\"], [0.2222222222222222, \"#7201a8\"], [0.3333333333333333, \"#9c179e\"], [0.4444444444444444, \"#bd3786\"], [0.5555555555555556, \"#d8576b\"], [0.6666666666666666, \"#ed7953\"], [0.7777777777777778, \"#fb9f3a\"], [0.8888888888888888, \"#fdca26\"], [1.0, \"#f0f921\"]], \"type\": \"contour\"}], \"contourcarpet\": [{\"colorbar\": {\"outlinewidth\": 0, \"ticks\": \"\"}, \"type\": \"contourcarpet\"}], \"heatmap\": [{\"colorbar\": {\"outlinewidth\": 0, \"ticks\": \"\"}, \"colorscale\": [[0.0, \"#0d0887\"], [0.1111111111111111, \"#46039f\"], [0.2222222222222222, \"#7201a8\"], [0.3333333333333333, \"#9c179e\"], [0.4444444444444444, \"#bd3786\"], [0.5555555555555556, \"#d8576b\"], [0.6666666666666666, \"#ed7953\"], [0.7777777777777778, \"#fb9f3a\"], [0.8888888888888888, \"#fdca26\"], [1.0, \"#f0f921\"]], \"type\": \"heatmap\"}], \"heatmapgl\": [{\"colorbar\": {\"outlinewidth\": 0, \"ticks\": \"\"}, \"colorscale\": [[0.0, \"#0d0887\"], [0.1111111111111111, \"#46039f\"], [0.2222222222222222, \"#7201a8\"], [0.3333333333333333, \"#9c179e\"], [0.4444444444444444, \"#bd3786\"], [0.5555555555555556, \"#d8576b\"], [0.6666666666666666, \"#ed7953\"], [0.7777777777777778, \"#fb9f3a\"], [0.8888888888888888, \"#fdca26\"], [1.0, \"#f0f921\"]], \"type\": \"heatmapgl\"}], \"histogram\": [{\"marker\": {\"colorbar\": {\"outlinewidth\": 0, \"ticks\": \"\"}}, \"type\": \"histogram\"}], \"histogram2d\": [{\"colorbar\": {\"outlinewidth\": 0, \"ticks\": \"\"}, \"colorscale\": [[0.0, \"#0d0887\"], [0.1111111111111111, \"#46039f\"], [0.2222222222222222, \"#7201a8\"], [0.3333333333333333, \"#9c179e\"], [0.4444444444444444, \"#bd3786\"], [0.5555555555555556, \"#d8576b\"], [0.6666666666666666, \"#ed7953\"], [0.7777777777777778, \"#fb9f3a\"], [0.8888888888888888, \"#fdca26\"], [1.0, \"#f0f921\"]], \"type\": \"histogram2d\"}], \"histogram2dcontour\": [{\"colorbar\": {\"outlinewidth\": 0, \"ticks\": \"\"}, \"colorscale\": [[0.0, \"#0d0887\"], [0.1111111111111111, \"#46039f\"], [0.2222222222222222, \"#7201a8\"], [0.3333333333333333, \"#9c179e\"], [0.4444444444444444, \"#bd3786\"], [0.5555555555555556, \"#d8576b\"], [0.6666666666666666, \"#ed7953\"], [0.7777777777777778, \"#fb9f3a\"], [0.8888888888888888, \"#fdca26\"], [1.0, \"#f0f921\"]], \"type\": \"histogram2dcontour\"}], \"mesh3d\": [{\"colorbar\": {\"outlinewidth\": 0, \"ticks\": \"\"}, \"type\": \"mesh3d\"}], \"parcoords\": [{\"line\": {\"colorbar\": {\"outlinewidth\": 0, \"ticks\": \"\"}}, \"type\": \"parcoords\"}], \"pie\": [{\"automargin\": true, \"type\": \"pie\"}], \"scatter\": [{\"marker\": {\"colorbar\": {\"outlinewidth\": 0, \"ticks\": \"\"}}, \"type\": \"scatter\"}], \"scatter3d\": [{\"line\": {\"colorbar\": {\"outlinewidth\": 0, \"ticks\": \"\"}}, \"marker\": {\"colorbar\": {\"outlinewidth\": 0, \"ticks\": \"\"}}, \"type\": \"scatter3d\"}], \"scattercarpet\": [{\"marker\": {\"colorbar\": {\"outlinewidth\": 0, \"ticks\": \"\"}}, \"type\": \"scattercarpet\"}], \"scattergeo\": [{\"marker\": {\"colorbar\": {\"outlinewidth\": 0, \"ticks\": \"\"}}, \"type\": \"scattergeo\"}], \"scattergl\": [{\"marker\": {\"colorbar\": {\"outlinewidth\": 0, \"ticks\": \"\"}}, \"type\": \"scattergl\"}], \"scattermapbox\": [{\"marker\": {\"colorbar\": {\"outlinewidth\": 0, \"ticks\": \"\"}}, \"type\": \"scattermapbox\"}], \"scatterpolar\": [{\"marker\": {\"colorbar\": {\"outlinewidth\": 0, \"ticks\": \"\"}}, \"type\": \"scatterpolar\"}], \"scatterpolargl\": [{\"marker\": {\"colorbar\": {\"outlinewidth\": 0, \"ticks\": \"\"}}, \"type\": \"scatterpolargl\"}], \"scatterternary\": [{\"marker\": {\"colorbar\": {\"outlinewidth\": 0, \"ticks\": \"\"}}, \"type\": \"scatterternary\"}], \"surface\": [{\"colorbar\": {\"outlinewidth\": 0, \"ticks\": \"\"}, \"colorscale\": [[0.0, \"#0d0887\"], [0.1111111111111111, \"#46039f\"], [0.2222222222222222, \"#7201a8\"], [0.3333333333333333, \"#9c179e\"], [0.4444444444444444, \"#bd3786\"], [0.5555555555555556, \"#d8576b\"], [0.6666666666666666, \"#ed7953\"], [0.7777777777777778, \"#fb9f3a\"], [0.8888888888888888, \"#fdca26\"], [1.0, \"#f0f921\"]], \"type\": \"surface\"}], \"table\": [{\"cells\": {\"fill\": {\"color\": \"#EBF0F8\"}, \"line\": {\"color\": \"white\"}}, \"header\": {\"fill\": {\"color\": \"#C8D4E3\"}, \"line\": {\"color\": \"white\"}}, \"type\": \"table\"}]}, \"layout\": {\"annotationdefaults\": {\"arrowcolor\": \"#2a3f5f\", \"arrowhead\": 0, \"arrowwidth\": 1}, \"coloraxis\": {\"colorbar\": {\"outlinewidth\": 0, \"ticks\": \"\"}}, \"colorscale\": {\"diverging\": [[0, \"#8e0152\"], [0.1, \"#c51b7d\"], [0.2, \"#de77ae\"], [0.3, \"#f1b6da\"], [0.4, \"#fde0ef\"], [0.5, \"#f7f7f7\"], [0.6, \"#e6f5d0\"], [0.7, \"#b8e186\"], [0.8, \"#7fbc41\"], [0.9, \"#4d9221\"], [1, \"#276419\"]], \"sequential\": [[0.0, \"#0d0887\"], [0.1111111111111111, \"#46039f\"], [0.2222222222222222, \"#7201a8\"], [0.3333333333333333, \"#9c179e\"], [0.4444444444444444, \"#bd3786\"], [0.5555555555555556, \"#d8576b\"], [0.6666666666666666, \"#ed7953\"], [0.7777777777777778, \"#fb9f3a\"], [0.8888888888888888, \"#fdca26\"], [1.0, \"#f0f921\"]], \"sequentialminus\": [[0.0, \"#0d0887\"], [0.1111111111111111, \"#46039f\"], [0.2222222222222222, \"#7201a8\"], [0.3333333333333333, \"#9c179e\"], [0.4444444444444444, \"#bd3786\"], [0.5555555555555556, \"#d8576b\"], [0.6666666666666666, \"#ed7953\"], [0.7777777777777778, \"#fb9f3a\"], [0.8888888888888888, \"#fdca26\"], [1.0, \"#f0f921\"]]}, \"colorway\": [\"#636efa\", \"#EF553B\", \"#00cc96\", \"#ab63fa\", \"#FFA15A\", \"#19d3f3\", \"#FF6692\", \"#B6E880\", \"#FF97FF\", \"#FECB52\"], \"font\": {\"color\": \"#2a3f5f\"}, \"geo\": {\"bgcolor\": \"white\", \"lakecolor\": \"white\", \"landcolor\": \"#E5ECF6\", \"showlakes\": true, \"showland\": true, \"subunitcolor\": \"white\"}, \"hoverlabel\": {\"align\": \"left\"}, \"hovermode\": \"closest\", \"mapbox\": {\"style\": \"light\"}, \"paper_bgcolor\": \"white\", \"plot_bgcolor\": \"#E5ECF6\", \"polar\": {\"angularaxis\": {\"gridcolor\": \"white\", \"linecolor\": \"white\", \"ticks\": \"\"}, \"bgcolor\": \"#E5ECF6\", \"radialaxis\": {\"gridcolor\": \"white\", \"linecolor\": \"white\", \"ticks\": \"\"}}, \"scene\": {\"xaxis\": {\"backgroundcolor\": \"#E5ECF6\", \"gridcolor\": \"white\", \"gridwidth\": 2, \"linecolor\": \"white\", \"showbackground\": true, \"ticks\": \"\", \"zerolinecolor\": \"white\"}, \"yaxis\": {\"backgroundcolor\": \"#E5ECF6\", \"gridcolor\": \"white\", \"gridwidth\": 2, \"linecolor\": \"white\", \"showbackground\": true, \"ticks\": \"\", \"zerolinecolor\": \"white\"}, \"zaxis\": {\"backgroundcolor\": \"#E5ECF6\", \"gridcolor\": \"white\", \"gridwidth\": 2, \"linecolor\": \"white\", \"showbackground\": true, \"ticks\": \"\", \"zerolinecolor\": \"white\"}}, \"shapedefaults\": {\"line\": {\"color\": \"#2a3f5f\"}}, \"ternary\": {\"aaxis\": {\"gridcolor\": \"white\", \"linecolor\": \"white\", \"ticks\": \"\"}, \"baxis\": {\"gridcolor\": \"white\", \"linecolor\": \"white\", \"ticks\": \"\"}, \"bgcolor\": \"#E5ECF6\", \"caxis\": {\"gridcolor\": \"white\", \"linecolor\": \"white\", \"ticks\": \"\"}}, \"title\": {\"x\": 0.05}, \"xaxis\": {\"automargin\": true, \"gridcolor\": \"white\", \"linecolor\": \"white\", \"ticks\": \"\", \"title\": {\"standoff\": 15}, \"zerolinecolor\": \"white\", \"zerolinewidth\": 2}, \"yaxis\": {\"automargin\": true, \"gridcolor\": \"white\", \"linecolor\": \"white\", \"ticks\": \"\", \"title\": {\"standoff\": 15}, \"zerolinecolor\": \"white\", \"zerolinewidth\": 2}}}, \"title\": {\"font\": {\"color\": \"#4D5663\"}}, \"xaxis\": {\"gridcolor\": \"#E1E5ED\", \"showgrid\": true, \"tickfont\": {\"color\": \"#4D5663\"}, \"title\": {\"font\": {\"color\": \"#4D5663\"}, \"text\": \"\"}, \"zerolinecolor\": \"#E1E5ED\"}, \"yaxis\": {\"gridcolor\": \"#E1E5ED\", \"showgrid\": true, \"tickfont\": {\"color\": \"#4D5663\"}, \"title\": {\"font\": {\"color\": \"#4D5663\"}, \"text\": \"\"}, \"zerolinecolor\": \"#E1E5ED\"}},\n",
       "                        {\"showLink\": true, \"linkText\": \"Export to plot.ly\", \"plotlyServerURL\": \"https://plot.ly\", \"responsive\": true}\n",
       "                    ).then(function(){\n",
       "                            \n",
       "var gd = document.getElementById('c81a82c3-1774-4249-9e92-0dfe4ac89d2b');\n",
       "var x = new MutationObserver(function (mutations, observer) {{\n",
       "        var display = window.getComputedStyle(gd).display;\n",
       "        if (!display || display === 'none') {{\n",
       "            console.log([gd, 'removed!']);\n",
       "            Plotly.purge(gd);\n",
       "            observer.disconnect();\n",
       "        }}\n",
       "}});\n",
       "\n",
       "// Listen for the removal of the full notebook cells\n",
       "var notebookContainer = gd.closest('#notebook-container');\n",
       "if (notebookContainer) {{\n",
       "    x.observe(notebookContainer, {childList: true});\n",
       "}}\n",
       "\n",
       "// Listen for the clearing of the current output cell\n",
       "var outputEl = gd.closest('.output');\n",
       "if (outputEl) {{\n",
       "    x.observe(outputEl, {childList: true});\n",
       "}}\n",
       "\n",
       "                        })\n",
       "                };\n",
       "                });\n",
       "            </script>\n",
       "        </div>"
      ]
     },
     "metadata": {},
     "output_type": "display_data"
    }
   ],
   "source": [
    "df.iplot(kind='bubble',x='A',y='B',size='C')"
   ]
  },
  {
   "cell_type": "markdown",
   "metadata": {},
   "source": [
    "- Scatter matrix plots. This is similar to seaborn pairplot\n",
    "- Essentially they will just create plots of all the columns that they can\n",
    "- **Ensure that the columns are numerical format**"
   ]
  },
  {
   "cell_type": "code",
   "execution_count": 84,
   "metadata": {},
   "outputs": [
    {
     "data": {
      "application/vnd.plotly.v1+json": {
       "config": {
        "linkText": "Export to plot.ly",
        "plotlyServerURL": "https://plot.ly",
        "showLink": true
       },
       "data": [
        {
         "histfunc": "count",
         "histnorm": "",
         "marker": {
          "color": "rgba(255, 153, 51, 1.0)",
          "line": {
           "color": "#4D5663",
           "width": 1.3
          }
         },
         "name": "A",
         "nbinsx": 10,
         "opacity": 0.8,
         "orientation": "v",
         "type": "histogram",
         "x": [
          0.8565004406896697,
          0.616667033466685,
          0.9298916478237453,
          -1.6724634436675336,
          -0.019950485747430385,
          -0.32800911299570507,
          -0.520848431309861,
          -1.30147296225039,
          0.918170020841073,
          -0.003030796847175438,
          1.8515261305902329,
          -2.4657644444358904,
          -1.439356632219261,
          0.15387753978794932,
          0.07641025126858664,
          0.05696079491628426,
          0.994002604240455,
          1.3063555379994916,
          0.11680196973249214,
          -0.06144614746125791,
          0.16965506162971544,
          -1.5592095724925938,
          1.7362505416468237,
          -0.5158156181616896,
          0.3112988643540849,
          0.6367371116974732,
          -1.5536536001503518,
          -1.7685320204209458,
          -0.5392754585148415,
          0.10192996646476966,
          0.5568460660823932,
          0.4092568775144538,
          0.6425257437679849,
          0.09284381524121892,
          1.7894845246730584,
          -1.5779423255162153,
          -1.789479229742878,
          0.7609651113838944,
          -0.6674139141954538,
          -0.4214512133650312,
          -0.44539736631937926,
          0.5186930794439539,
          -1.0086390260505254,
          0.7345811131541214,
          -0.8682151792015697,
          -0.5138030956228592,
          2.44506810870039,
          -0.48872333105082555,
          1.3671166266258052,
          -0.01753294451379828,
          0.11685967207261917,
          1.0155837704561772,
          -0.5150792361553516,
          -0.4189522845684282,
          -1.671800498378324,
          0.00849610436739744,
          -0.895038429064667,
          -0.7234219959912285,
          0.206272727623923,
          0.3226173070103636,
          -0.4358213189085439,
          1.485019297233284,
          1.3145577597333455,
          1.1418099258834655,
          0.3899155275990936,
          0.6744845811903896,
          -1.5421747306588416,
          0.10759935916787118,
          -0.29174756418219683,
          0.4816850364526941,
          0.06383954088766132,
          0.805862380002143,
          1.7922318721731754,
          0.7711332871154744,
          1.5493299640694245,
          2.1568955364366897,
          1.1670866728363158,
          0.7987843837817445,
          0.5924788058898702,
          0.46868961780136764,
          0.041509628887594935,
          1.4403527221146417,
          0.06159499985984685,
          -0.37884426150130707,
          -0.5712864766608926,
          -0.05456501732571868,
          -1.374456821319399,
          -0.29150627018452924,
          -0.5060841247039243,
          -0.9116186430932947,
          -0.03191657470382843,
          -1.1907703476630989,
          -0.2240749488357738,
          0.9880910702602029,
          -0.6027601036139539,
          -0.804412324683554,
          -0.42504929417141835,
          0.23827330110499453,
          1.2763718707572826,
          -0.6127361720543995
         ],
         "xaxis": "x",
         "yaxis": "y"
        },
        {
         "line": {
          "color": "rgba(128, 128, 128, 1.0)",
          "dash": "solid",
          "shape": "linear",
          "width": 1.3
         },
         "marker": {
          "size": 2,
          "symbol": "circle"
         },
         "mode": "markers",
         "name": "A",
         "text": "",
         "type": "scatter",
         "x": [
          1.475589520025869,
          0.058193690147613136,
          0.8858587130605142,
          -1.0062473781673018,
          0.46803675911740583,
          1.8876584534559304,
          1.0068376194540218,
          0.20649832656467781,
          -0.3831842413954928,
          0.8146880661445408,
          0.7525580546906689,
          -0.9499437266514072,
          -0.5124677266513444,
          -0.07070799266437955,
          0.24842935771077734,
          -0.47466919918713246,
          0.1329640121766927,
          0.7101899364369233,
          -0.8129158041745252,
          -0.9065188940398232,
          -0.576101023436274,
          0.7211521933563564,
          0.4980075228147292,
          -0.4772199892654312,
          -0.25876529291204786,
          0.02805869936306022,
          -1.1120841762313531,
          -0.34773983569211936,
          0.5592457342025116,
          -2.2329856221230426,
          1.244429738539221,
          -0.3558037971356808,
          -1.7071760167849175,
          -0.38601241809639797,
          -1.2101106786862859,
          0.39581149532187293,
          -1.613409089316727,
          -0.017707675178522137,
          -0.51674385539429,
          0.5508169727530585,
          -0.7657147803155174,
          2.102266470888824,
          -1.9500668951535425,
          0.08582168052356781,
          -1.2031543487810075,
          0.09047246874201739,
          -1.2046473795482855,
          0.057008372010706757,
          -0.6793292136001533,
          -0.16868751384288672,
          0.013752896177967523,
          0.13559208744343473,
          -0.9630115477948523,
          0.7230504579164195,
          -0.7957538189923294,
          -0.5367136225824187,
          -1.0077205412350119,
          -1.7914055716137376,
          -1.230050510713824,
          0.8679372146419765,
          0.016712192818447498,
          -1.7296404941674273,
          0.6279507372489606,
          2.2072101493033247,
          -1.426478309767374,
          -0.10793231034668634,
          0.2825793489947289,
          -1.980919281504627,
          1.355967324544568,
          -0.7001789060327122,
          -1.2722359256963178,
          0.09299395157163394,
          0.9666985831548762,
          -0.3146817160528018,
          0.5624621245870179,
          -0.4257065060814728,
          2.8239069121719327,
          -0.6597234857277737,
          0.045685732120529614,
          -0.01918897826138856,
          0.19400035829565307,
          0.331512334519879,
          -0.14894837996905405,
          -0.35260660854332354,
          0.4922341899645374,
          0.512147456731329,
          0.06474390398539126,
          2.3772022790380962,
          0.4500853579083613,
          -0.6527657639931757,
          -0.047316453982068685,
          0.4678256940750706,
          -0.5795657304715769,
          -1.2899242922557217,
          -0.3685463537980794,
          0.25886314902995966,
          -0.659454095923306,
          -0.28299923424564427,
          -1.3644779963994549,
          -0.07484015266979967
         ],
         "xaxis": "x2",
         "y": [
          0.8565004406896697,
          0.616667033466685,
          0.9298916478237453,
          -1.6724634436675336,
          -0.019950485747430385,
          -0.32800911299570507,
          -0.520848431309861,
          -1.30147296225039,
          0.918170020841073,
          -0.003030796847175438,
          1.8515261305902329,
          -2.4657644444358904,
          -1.439356632219261,
          0.15387753978794932,
          0.07641025126858664,
          0.05696079491628426,
          0.994002604240455,
          1.3063555379994916,
          0.11680196973249214,
          -0.06144614746125791,
          0.16965506162971544,
          -1.5592095724925938,
          1.7362505416468237,
          -0.5158156181616896,
          0.3112988643540849,
          0.6367371116974732,
          -1.5536536001503518,
          -1.7685320204209458,
          -0.5392754585148415,
          0.10192996646476966,
          0.5568460660823932,
          0.4092568775144538,
          0.6425257437679849,
          0.09284381524121892,
          1.7894845246730584,
          -1.5779423255162153,
          -1.789479229742878,
          0.7609651113838944,
          -0.6674139141954538,
          -0.4214512133650312,
          -0.44539736631937926,
          0.5186930794439539,
          -1.0086390260505254,
          0.7345811131541214,
          -0.8682151792015697,
          -0.5138030956228592,
          2.44506810870039,
          -0.48872333105082555,
          1.3671166266258052,
          -0.01753294451379828,
          0.11685967207261917,
          1.0155837704561772,
          -0.5150792361553516,
          -0.4189522845684282,
          -1.671800498378324,
          0.00849610436739744,
          -0.895038429064667,
          -0.7234219959912285,
          0.206272727623923,
          0.3226173070103636,
          -0.4358213189085439,
          1.485019297233284,
          1.3145577597333455,
          1.1418099258834655,
          0.3899155275990936,
          0.6744845811903896,
          -1.5421747306588416,
          0.10759935916787118,
          -0.29174756418219683,
          0.4816850364526941,
          0.06383954088766132,
          0.805862380002143,
          1.7922318721731754,
          0.7711332871154744,
          1.5493299640694245,
          2.1568955364366897,
          1.1670866728363158,
          0.7987843837817445,
          0.5924788058898702,
          0.46868961780136764,
          0.041509628887594935,
          1.4403527221146417,
          0.06159499985984685,
          -0.37884426150130707,
          -0.5712864766608926,
          -0.05456501732571868,
          -1.374456821319399,
          -0.29150627018452924,
          -0.5060841247039243,
          -0.9116186430932947,
          -0.03191657470382843,
          -1.1907703476630989,
          -0.2240749488357738,
          0.9880910702602029,
          -0.6027601036139539,
          -0.804412324683554,
          -0.42504929417141835,
          0.23827330110499453,
          1.2763718707572826,
          -0.6127361720543995
         ],
         "yaxis": "y2"
        },
        {
         "line": {
          "color": "rgba(128, 128, 128, 1.0)",
          "dash": "solid",
          "shape": "linear",
          "width": 1.3
         },
         "marker": {
          "size": 2,
          "symbol": "circle"
         },
         "mode": "markers",
         "name": "A",
         "text": "",
         "type": "scatter",
         "x": [
          0.09536454976164993,
          -1.979873229425567,
          -0.8006171220144002,
          -1.4085439333951777,
          0.08547942854432763,
          -0.008826093278719568,
          -0.2991548029353947,
          0.2576029505630603,
          0.8795221488870283,
          -0.07200754103600952,
          -0.046151183479252546,
          0.3374454762825173,
          -0.6779825948518686,
          -0.09763964035505414,
          1.599220362888875,
          0.17648750653606524,
          0.18213753336434174,
          -0.9245131437491316,
          2.050342741577169,
          -0.11525257001200029,
          -0.3081347973723833,
          -0.34588166791003433,
          -0.33520708347079836,
          -1.0388186655706726,
          0.46110275587050625,
          -0.5761386680731327,
          0.8801801412081522,
          -0.5334511453174319,
          2.179848881496895,
          0.8510521398255604,
          -1.302215746186497,
          -0.2758653764454315,
          0.4229725742656263,
          -0.6854796038539009,
          -0.46825269421393273,
          -0.059917604332156246,
          0.27907495323068693,
          -0.4774644670954662,
          0.5112678302701621,
          -2.653886389514963,
          0.5602132803496599,
          -0.09368145292452275,
          -0.5108472428829691,
          -0.0049541575064123555,
          0.8263529754001935,
          -1.0298167166950276,
          0.11615194577730661,
          -0.033485373062486425,
          -0.5023586159199206,
          -0.5343264848054067,
          1.2563645314112177,
          -0.670756044789189,
          0.04086236619495206,
          -0.48491239039460976,
          0.8368010161808237,
          -1.4747359948647716,
          -0.678626261666939,
          0.055916347271540726,
          -0.665548308946417,
          -0.7349920467327229,
          1.1431344385353945,
          0.10272624712609245,
          2.0337920267866245,
          -0.25664343368236386,
          0.3270272774134318,
          -0.9161936736943582,
          0.6640500241172738,
          0.45816299396646826,
          1.479109563408102,
          -1.0801874426617148,
          0.8645323939687818,
          1.556299817995986,
          -0.19584520336043118,
          -0.6074092807738445,
          -0.7036813686304971,
          -0.2522157220017819,
          1.9265828118823523,
          -1.5812188150203852,
          0.109577170426578,
          1.7041087583411898,
          -1.6958191071790105,
          -1.6508695078091753,
          -0.14063194438965274,
          0.9241987280821946,
          0.8150487836869047,
          0.5931459555812096,
          1.5264875107240874,
          0.9944396469378712,
          -1.3785578513262233,
          0.29406582022837885,
          -0.3913540100322184,
          -0.3505245746885777,
          0.01771170232228889,
          -0.42157829849596756,
          -1.130644127991805,
          0.44140298627012853,
          0.3749867305185496,
          -0.2891992005348076,
          -0.9140427672546457,
          0.962493619611387
         ],
         "xaxis": "x3",
         "y": [
          0.8565004406896697,
          0.616667033466685,
          0.9298916478237453,
          -1.6724634436675336,
          -0.019950485747430385,
          -0.32800911299570507,
          -0.520848431309861,
          -1.30147296225039,
          0.918170020841073,
          -0.003030796847175438,
          1.8515261305902329,
          -2.4657644444358904,
          -1.439356632219261,
          0.15387753978794932,
          0.07641025126858664,
          0.05696079491628426,
          0.994002604240455,
          1.3063555379994916,
          0.11680196973249214,
          -0.06144614746125791,
          0.16965506162971544,
          -1.5592095724925938,
          1.7362505416468237,
          -0.5158156181616896,
          0.3112988643540849,
          0.6367371116974732,
          -1.5536536001503518,
          -1.7685320204209458,
          -0.5392754585148415,
          0.10192996646476966,
          0.5568460660823932,
          0.4092568775144538,
          0.6425257437679849,
          0.09284381524121892,
          1.7894845246730584,
          -1.5779423255162153,
          -1.789479229742878,
          0.7609651113838944,
          -0.6674139141954538,
          -0.4214512133650312,
          -0.44539736631937926,
          0.5186930794439539,
          -1.0086390260505254,
          0.7345811131541214,
          -0.8682151792015697,
          -0.5138030956228592,
          2.44506810870039,
          -0.48872333105082555,
          1.3671166266258052,
          -0.01753294451379828,
          0.11685967207261917,
          1.0155837704561772,
          -0.5150792361553516,
          -0.4189522845684282,
          -1.671800498378324,
          0.00849610436739744,
          -0.895038429064667,
          -0.7234219959912285,
          0.206272727623923,
          0.3226173070103636,
          -0.4358213189085439,
          1.485019297233284,
          1.3145577597333455,
          1.1418099258834655,
          0.3899155275990936,
          0.6744845811903896,
          -1.5421747306588416,
          0.10759935916787118,
          -0.29174756418219683,
          0.4816850364526941,
          0.06383954088766132,
          0.805862380002143,
          1.7922318721731754,
          0.7711332871154744,
          1.5493299640694245,
          2.1568955364366897,
          1.1670866728363158,
          0.7987843837817445,
          0.5924788058898702,
          0.46868961780136764,
          0.041509628887594935,
          1.4403527221146417,
          0.06159499985984685,
          -0.37884426150130707,
          -0.5712864766608926,
          -0.05456501732571868,
          -1.374456821319399,
          -0.29150627018452924,
          -0.5060841247039243,
          -0.9116186430932947,
          -0.03191657470382843,
          -1.1907703476630989,
          -0.2240749488357738,
          0.9880910702602029,
          -0.6027601036139539,
          -0.804412324683554,
          -0.42504929417141835,
          0.23827330110499453,
          1.2763718707572826,
          -0.6127361720543995
         ],
         "yaxis": "y3"
        },
        {
         "line": {
          "color": "rgba(128, 128, 128, 1.0)",
          "dash": "solid",
          "shape": "linear",
          "width": 1.3
         },
         "marker": {
          "size": 2,
          "symbol": "circle"
         },
         "mode": "markers",
         "name": "A",
         "text": "",
         "type": "scatter",
         "x": [
          -2.8371083245496616,
          0.18726671943935058,
          -0.635752704507406,
          0.31204885311241765,
          -1.6884623420901927,
          -2.218046636438145,
          0.8005326796231135,
          0.2571323568177598,
          -0.7517794685927304,
          0.7141700622967905,
          -0.7034274370151249,
          1.7601916791167034,
          -0.695062955483073,
          -0.2605103364893929,
          -0.46730855079440314,
          0.7343327121690637,
          -0.9815267713197737,
          0.08934937710201019,
          1.2228982710514336,
          -0.2558313016025286,
          0.08473537705506456,
          -0.2831432143808916,
          -0.5078694189178844,
          1.3868024785701536,
          -0.5953077204912341,
          1.848884077889904,
          1.5390355127582946,
          0.028268872843309582,
          -0.595582478100544,
          1.5427013777117144,
          -0.5267129535115503,
          -2.2191309716885237,
          0.0526380368058972,
          -1.362504559433225,
          0.347626808410747,
          -0.23159946754631258,
          -0.4455793612367743,
          -0.06588596165374287,
          -1.3878920907572154,
          -1.008227288385752,
          0.5214377993630165,
          -0.018950103896625235,
          -0.14910350029198688,
          -0.5731720468029629,
          -0.9448239720268437,
          -0.22647219243858305,
          0.23146433215176052,
          0.893712658602652,
          -0.6793475172366461,
          1.6732234146359781,
          1.3376624235505683,
          -2.2775249667085014,
          -0.35725965871140325,
          -0.4866196631848915,
          0.5221645015016327,
          -2.3512699124364085,
          -0.5692428042702953,
          0.10925410215289443,
          -0.36194004921095924,
          0.6334634171826902,
          -0.989516778828704,
          1.5894450940447842,
          1.6504996902903266,
          0.08065315455009567,
          0.06506507570552242,
          -0.2945574392855909,
          0.5163758035262357,
          0.7920140242556639,
          -1.1531881291574442,
          -0.45478802547050956,
          0.4148567561667146,
          -1.6225514034438266,
          -0.05256397906113001,
          -0.856629342427809,
          -1.128943548249932,
          2.591930395771614,
          -1.510629341644163,
          0.08673476546190459,
          0.2710878959149094,
          -0.38617512562306183,
          -0.25179677654739074,
          -0.23088214790287442,
          -2.2421051954884854,
          0.22438491327880083,
          0.3358240185176065,
          -1.9844158775313674,
          -1.1360740539664844,
          -0.5211490606702568,
          0.0976208293459543,
          1.6774681184560594,
          1.7459282462631893,
          -2.0453097398102043,
          0.7010203333543181,
          -0.42683017154972774,
          -0.5401712869994386,
          -0.38687846178588225,
          -0.9066203932855437,
          1.0269121046221774,
          0.507489187083504,
          1.9548992675904575
         ],
         "xaxis": "x4",
         "y": [
          0.8565004406896697,
          0.616667033466685,
          0.9298916478237453,
          -1.6724634436675336,
          -0.019950485747430385,
          -0.32800911299570507,
          -0.520848431309861,
          -1.30147296225039,
          0.918170020841073,
          -0.003030796847175438,
          1.8515261305902329,
          -2.4657644444358904,
          -1.439356632219261,
          0.15387753978794932,
          0.07641025126858664,
          0.05696079491628426,
          0.994002604240455,
          1.3063555379994916,
          0.11680196973249214,
          -0.06144614746125791,
          0.16965506162971544,
          -1.5592095724925938,
          1.7362505416468237,
          -0.5158156181616896,
          0.3112988643540849,
          0.6367371116974732,
          -1.5536536001503518,
          -1.7685320204209458,
          -0.5392754585148415,
          0.10192996646476966,
          0.5568460660823932,
          0.4092568775144538,
          0.6425257437679849,
          0.09284381524121892,
          1.7894845246730584,
          -1.5779423255162153,
          -1.789479229742878,
          0.7609651113838944,
          -0.6674139141954538,
          -0.4214512133650312,
          -0.44539736631937926,
          0.5186930794439539,
          -1.0086390260505254,
          0.7345811131541214,
          -0.8682151792015697,
          -0.5138030956228592,
          2.44506810870039,
          -0.48872333105082555,
          1.3671166266258052,
          -0.01753294451379828,
          0.11685967207261917,
          1.0155837704561772,
          -0.5150792361553516,
          -0.4189522845684282,
          -1.671800498378324,
          0.00849610436739744,
          -0.895038429064667,
          -0.7234219959912285,
          0.206272727623923,
          0.3226173070103636,
          -0.4358213189085439,
          1.485019297233284,
          1.3145577597333455,
          1.1418099258834655,
          0.3899155275990936,
          0.6744845811903896,
          -1.5421747306588416,
          0.10759935916787118,
          -0.29174756418219683,
          0.4816850364526941,
          0.06383954088766132,
          0.805862380002143,
          1.7922318721731754,
          0.7711332871154744,
          1.5493299640694245,
          2.1568955364366897,
          1.1670866728363158,
          0.7987843837817445,
          0.5924788058898702,
          0.46868961780136764,
          0.041509628887594935,
          1.4403527221146417,
          0.06159499985984685,
          -0.37884426150130707,
          -0.5712864766608926,
          -0.05456501732571868,
          -1.374456821319399,
          -0.29150627018452924,
          -0.5060841247039243,
          -0.9116186430932947,
          -0.03191657470382843,
          -1.1907703476630989,
          -0.2240749488357738,
          0.9880910702602029,
          -0.6027601036139539,
          -0.804412324683554,
          -0.42504929417141835,
          0.23827330110499453,
          1.2763718707572826,
          -0.6127361720543995
         ],
         "yaxis": "y4"
        },
        {
         "line": {
          "color": "rgba(128, 128, 128, 1.0)",
          "dash": "solid",
          "shape": "linear",
          "width": 1.3
         },
         "marker": {
          "size": 2,
          "symbol": "circle"
         },
         "mode": "markers",
         "name": "B",
         "text": "",
         "type": "scatter",
         "x": [
          0.8565004406896697,
          0.616667033466685,
          0.9298916478237453,
          -1.6724634436675336,
          -0.019950485747430385,
          -0.32800911299570507,
          -0.520848431309861,
          -1.30147296225039,
          0.918170020841073,
          -0.003030796847175438,
          1.8515261305902329,
          -2.4657644444358904,
          -1.439356632219261,
          0.15387753978794932,
          0.07641025126858664,
          0.05696079491628426,
          0.994002604240455,
          1.3063555379994916,
          0.11680196973249214,
          -0.06144614746125791,
          0.16965506162971544,
          -1.5592095724925938,
          1.7362505416468237,
          -0.5158156181616896,
          0.3112988643540849,
          0.6367371116974732,
          -1.5536536001503518,
          -1.7685320204209458,
          -0.5392754585148415,
          0.10192996646476966,
          0.5568460660823932,
          0.4092568775144538,
          0.6425257437679849,
          0.09284381524121892,
          1.7894845246730584,
          -1.5779423255162153,
          -1.789479229742878,
          0.7609651113838944,
          -0.6674139141954538,
          -0.4214512133650312,
          -0.44539736631937926,
          0.5186930794439539,
          -1.0086390260505254,
          0.7345811131541214,
          -0.8682151792015697,
          -0.5138030956228592,
          2.44506810870039,
          -0.48872333105082555,
          1.3671166266258052,
          -0.01753294451379828,
          0.11685967207261917,
          1.0155837704561772,
          -0.5150792361553516,
          -0.4189522845684282,
          -1.671800498378324,
          0.00849610436739744,
          -0.895038429064667,
          -0.7234219959912285,
          0.206272727623923,
          0.3226173070103636,
          -0.4358213189085439,
          1.485019297233284,
          1.3145577597333455,
          1.1418099258834655,
          0.3899155275990936,
          0.6744845811903896,
          -1.5421747306588416,
          0.10759935916787118,
          -0.29174756418219683,
          0.4816850364526941,
          0.06383954088766132,
          0.805862380002143,
          1.7922318721731754,
          0.7711332871154744,
          1.5493299640694245,
          2.1568955364366897,
          1.1670866728363158,
          0.7987843837817445,
          0.5924788058898702,
          0.46868961780136764,
          0.041509628887594935,
          1.4403527221146417,
          0.06159499985984685,
          -0.37884426150130707,
          -0.5712864766608926,
          -0.05456501732571868,
          -1.374456821319399,
          -0.29150627018452924,
          -0.5060841247039243,
          -0.9116186430932947,
          -0.03191657470382843,
          -1.1907703476630989,
          -0.2240749488357738,
          0.9880910702602029,
          -0.6027601036139539,
          -0.804412324683554,
          -0.42504929417141835,
          0.23827330110499453,
          1.2763718707572826,
          -0.6127361720543995
         ],
         "xaxis": "x5",
         "y": [
          1.475589520025869,
          0.058193690147613136,
          0.8858587130605142,
          -1.0062473781673018,
          0.46803675911740583,
          1.8876584534559304,
          1.0068376194540218,
          0.20649832656467781,
          -0.3831842413954928,
          0.8146880661445408,
          0.7525580546906689,
          -0.9499437266514072,
          -0.5124677266513444,
          -0.07070799266437955,
          0.24842935771077734,
          -0.47466919918713246,
          0.1329640121766927,
          0.7101899364369233,
          -0.8129158041745252,
          -0.9065188940398232,
          -0.576101023436274,
          0.7211521933563564,
          0.4980075228147292,
          -0.4772199892654312,
          -0.25876529291204786,
          0.02805869936306022,
          -1.1120841762313531,
          -0.34773983569211936,
          0.5592457342025116,
          -2.2329856221230426,
          1.244429738539221,
          -0.3558037971356808,
          -1.7071760167849175,
          -0.38601241809639797,
          -1.2101106786862859,
          0.39581149532187293,
          -1.613409089316727,
          -0.017707675178522137,
          -0.51674385539429,
          0.5508169727530585,
          -0.7657147803155174,
          2.102266470888824,
          -1.9500668951535425,
          0.08582168052356781,
          -1.2031543487810075,
          0.09047246874201739,
          -1.2046473795482855,
          0.057008372010706757,
          -0.6793292136001533,
          -0.16868751384288672,
          0.013752896177967523,
          0.13559208744343473,
          -0.9630115477948523,
          0.7230504579164195,
          -0.7957538189923294,
          -0.5367136225824187,
          -1.0077205412350119,
          -1.7914055716137376,
          -1.230050510713824,
          0.8679372146419765,
          0.016712192818447498,
          -1.7296404941674273,
          0.6279507372489606,
          2.2072101493033247,
          -1.426478309767374,
          -0.10793231034668634,
          0.2825793489947289,
          -1.980919281504627,
          1.355967324544568,
          -0.7001789060327122,
          -1.2722359256963178,
          0.09299395157163394,
          0.9666985831548762,
          -0.3146817160528018,
          0.5624621245870179,
          -0.4257065060814728,
          2.8239069121719327,
          -0.6597234857277737,
          0.045685732120529614,
          -0.01918897826138856,
          0.19400035829565307,
          0.331512334519879,
          -0.14894837996905405,
          -0.35260660854332354,
          0.4922341899645374,
          0.512147456731329,
          0.06474390398539126,
          2.3772022790380962,
          0.4500853579083613,
          -0.6527657639931757,
          -0.047316453982068685,
          0.4678256940750706,
          -0.5795657304715769,
          -1.2899242922557217,
          -0.3685463537980794,
          0.25886314902995966,
          -0.659454095923306,
          -0.28299923424564427,
          -1.3644779963994549,
          -0.07484015266979967
         ],
         "yaxis": "y5"
        },
        {
         "histfunc": "count",
         "histnorm": "",
         "marker": {
          "color": "rgba(55, 128, 191, 1.0)",
          "line": {
           "color": "#4D5663",
           "width": 1.3
          }
         },
         "name": "B",
         "nbinsx": 10,
         "opacity": 0.8,
         "orientation": "v",
         "type": "histogram",
         "x": [
          1.475589520025869,
          0.058193690147613136,
          0.8858587130605142,
          -1.0062473781673018,
          0.46803675911740583,
          1.8876584534559304,
          1.0068376194540218,
          0.20649832656467781,
          -0.3831842413954928,
          0.8146880661445408,
          0.7525580546906689,
          -0.9499437266514072,
          -0.5124677266513444,
          -0.07070799266437955,
          0.24842935771077734,
          -0.47466919918713246,
          0.1329640121766927,
          0.7101899364369233,
          -0.8129158041745252,
          -0.9065188940398232,
          -0.576101023436274,
          0.7211521933563564,
          0.4980075228147292,
          -0.4772199892654312,
          -0.25876529291204786,
          0.02805869936306022,
          -1.1120841762313531,
          -0.34773983569211936,
          0.5592457342025116,
          -2.2329856221230426,
          1.244429738539221,
          -0.3558037971356808,
          -1.7071760167849175,
          -0.38601241809639797,
          -1.2101106786862859,
          0.39581149532187293,
          -1.613409089316727,
          -0.017707675178522137,
          -0.51674385539429,
          0.5508169727530585,
          -0.7657147803155174,
          2.102266470888824,
          -1.9500668951535425,
          0.08582168052356781,
          -1.2031543487810075,
          0.09047246874201739,
          -1.2046473795482855,
          0.057008372010706757,
          -0.6793292136001533,
          -0.16868751384288672,
          0.013752896177967523,
          0.13559208744343473,
          -0.9630115477948523,
          0.7230504579164195,
          -0.7957538189923294,
          -0.5367136225824187,
          -1.0077205412350119,
          -1.7914055716137376,
          -1.230050510713824,
          0.8679372146419765,
          0.016712192818447498,
          -1.7296404941674273,
          0.6279507372489606,
          2.2072101493033247,
          -1.426478309767374,
          -0.10793231034668634,
          0.2825793489947289,
          -1.980919281504627,
          1.355967324544568,
          -0.7001789060327122,
          -1.2722359256963178,
          0.09299395157163394,
          0.9666985831548762,
          -0.3146817160528018,
          0.5624621245870179,
          -0.4257065060814728,
          2.8239069121719327,
          -0.6597234857277737,
          0.045685732120529614,
          -0.01918897826138856,
          0.19400035829565307,
          0.331512334519879,
          -0.14894837996905405,
          -0.35260660854332354,
          0.4922341899645374,
          0.512147456731329,
          0.06474390398539126,
          2.3772022790380962,
          0.4500853579083613,
          -0.6527657639931757,
          -0.047316453982068685,
          0.4678256940750706,
          -0.5795657304715769,
          -1.2899242922557217,
          -0.3685463537980794,
          0.25886314902995966,
          -0.659454095923306,
          -0.28299923424564427,
          -1.3644779963994549,
          -0.07484015266979967
         ],
         "xaxis": "x6",
         "yaxis": "y6"
        },
        {
         "line": {
          "color": "rgba(128, 128, 128, 1.0)",
          "dash": "solid",
          "shape": "linear",
          "width": 1.3
         },
         "marker": {
          "size": 2,
          "symbol": "circle"
         },
         "mode": "markers",
         "name": "B",
         "text": "",
         "type": "scatter",
         "x": [
          0.09536454976164993,
          -1.979873229425567,
          -0.8006171220144002,
          -1.4085439333951777,
          0.08547942854432763,
          -0.008826093278719568,
          -0.2991548029353947,
          0.2576029505630603,
          0.8795221488870283,
          -0.07200754103600952,
          -0.046151183479252546,
          0.3374454762825173,
          -0.6779825948518686,
          -0.09763964035505414,
          1.599220362888875,
          0.17648750653606524,
          0.18213753336434174,
          -0.9245131437491316,
          2.050342741577169,
          -0.11525257001200029,
          -0.3081347973723833,
          -0.34588166791003433,
          -0.33520708347079836,
          -1.0388186655706726,
          0.46110275587050625,
          -0.5761386680731327,
          0.8801801412081522,
          -0.5334511453174319,
          2.179848881496895,
          0.8510521398255604,
          -1.302215746186497,
          -0.2758653764454315,
          0.4229725742656263,
          -0.6854796038539009,
          -0.46825269421393273,
          -0.059917604332156246,
          0.27907495323068693,
          -0.4774644670954662,
          0.5112678302701621,
          -2.653886389514963,
          0.5602132803496599,
          -0.09368145292452275,
          -0.5108472428829691,
          -0.0049541575064123555,
          0.8263529754001935,
          -1.0298167166950276,
          0.11615194577730661,
          -0.033485373062486425,
          -0.5023586159199206,
          -0.5343264848054067,
          1.2563645314112177,
          -0.670756044789189,
          0.04086236619495206,
          -0.48491239039460976,
          0.8368010161808237,
          -1.4747359948647716,
          -0.678626261666939,
          0.055916347271540726,
          -0.665548308946417,
          -0.7349920467327229,
          1.1431344385353945,
          0.10272624712609245,
          2.0337920267866245,
          -0.25664343368236386,
          0.3270272774134318,
          -0.9161936736943582,
          0.6640500241172738,
          0.45816299396646826,
          1.479109563408102,
          -1.0801874426617148,
          0.8645323939687818,
          1.556299817995986,
          -0.19584520336043118,
          -0.6074092807738445,
          -0.7036813686304971,
          -0.2522157220017819,
          1.9265828118823523,
          -1.5812188150203852,
          0.109577170426578,
          1.7041087583411898,
          -1.6958191071790105,
          -1.6508695078091753,
          -0.14063194438965274,
          0.9241987280821946,
          0.8150487836869047,
          0.5931459555812096,
          1.5264875107240874,
          0.9944396469378712,
          -1.3785578513262233,
          0.29406582022837885,
          -0.3913540100322184,
          -0.3505245746885777,
          0.01771170232228889,
          -0.42157829849596756,
          -1.130644127991805,
          0.44140298627012853,
          0.3749867305185496,
          -0.2891992005348076,
          -0.9140427672546457,
          0.962493619611387
         ],
         "xaxis": "x7",
         "y": [
          1.475589520025869,
          0.058193690147613136,
          0.8858587130605142,
          -1.0062473781673018,
          0.46803675911740583,
          1.8876584534559304,
          1.0068376194540218,
          0.20649832656467781,
          -0.3831842413954928,
          0.8146880661445408,
          0.7525580546906689,
          -0.9499437266514072,
          -0.5124677266513444,
          -0.07070799266437955,
          0.24842935771077734,
          -0.47466919918713246,
          0.1329640121766927,
          0.7101899364369233,
          -0.8129158041745252,
          -0.9065188940398232,
          -0.576101023436274,
          0.7211521933563564,
          0.4980075228147292,
          -0.4772199892654312,
          -0.25876529291204786,
          0.02805869936306022,
          -1.1120841762313531,
          -0.34773983569211936,
          0.5592457342025116,
          -2.2329856221230426,
          1.244429738539221,
          -0.3558037971356808,
          -1.7071760167849175,
          -0.38601241809639797,
          -1.2101106786862859,
          0.39581149532187293,
          -1.613409089316727,
          -0.017707675178522137,
          -0.51674385539429,
          0.5508169727530585,
          -0.7657147803155174,
          2.102266470888824,
          -1.9500668951535425,
          0.08582168052356781,
          -1.2031543487810075,
          0.09047246874201739,
          -1.2046473795482855,
          0.057008372010706757,
          -0.6793292136001533,
          -0.16868751384288672,
          0.013752896177967523,
          0.13559208744343473,
          -0.9630115477948523,
          0.7230504579164195,
          -0.7957538189923294,
          -0.5367136225824187,
          -1.0077205412350119,
          -1.7914055716137376,
          -1.230050510713824,
          0.8679372146419765,
          0.016712192818447498,
          -1.7296404941674273,
          0.6279507372489606,
          2.2072101493033247,
          -1.426478309767374,
          -0.10793231034668634,
          0.2825793489947289,
          -1.980919281504627,
          1.355967324544568,
          -0.7001789060327122,
          -1.2722359256963178,
          0.09299395157163394,
          0.9666985831548762,
          -0.3146817160528018,
          0.5624621245870179,
          -0.4257065060814728,
          2.8239069121719327,
          -0.6597234857277737,
          0.045685732120529614,
          -0.01918897826138856,
          0.19400035829565307,
          0.331512334519879,
          -0.14894837996905405,
          -0.35260660854332354,
          0.4922341899645374,
          0.512147456731329,
          0.06474390398539126,
          2.3772022790380962,
          0.4500853579083613,
          -0.6527657639931757,
          -0.047316453982068685,
          0.4678256940750706,
          -0.5795657304715769,
          -1.2899242922557217,
          -0.3685463537980794,
          0.25886314902995966,
          -0.659454095923306,
          -0.28299923424564427,
          -1.3644779963994549,
          -0.07484015266979967
         ],
         "yaxis": "y7"
        },
        {
         "line": {
          "color": "rgba(128, 128, 128, 1.0)",
          "dash": "solid",
          "shape": "linear",
          "width": 1.3
         },
         "marker": {
          "size": 2,
          "symbol": "circle"
         },
         "mode": "markers",
         "name": "B",
         "text": "",
         "type": "scatter",
         "x": [
          -2.8371083245496616,
          0.18726671943935058,
          -0.635752704507406,
          0.31204885311241765,
          -1.6884623420901927,
          -2.218046636438145,
          0.8005326796231135,
          0.2571323568177598,
          -0.7517794685927304,
          0.7141700622967905,
          -0.7034274370151249,
          1.7601916791167034,
          -0.695062955483073,
          -0.2605103364893929,
          -0.46730855079440314,
          0.7343327121690637,
          -0.9815267713197737,
          0.08934937710201019,
          1.2228982710514336,
          -0.2558313016025286,
          0.08473537705506456,
          -0.2831432143808916,
          -0.5078694189178844,
          1.3868024785701536,
          -0.5953077204912341,
          1.848884077889904,
          1.5390355127582946,
          0.028268872843309582,
          -0.595582478100544,
          1.5427013777117144,
          -0.5267129535115503,
          -2.2191309716885237,
          0.0526380368058972,
          -1.362504559433225,
          0.347626808410747,
          -0.23159946754631258,
          -0.4455793612367743,
          -0.06588596165374287,
          -1.3878920907572154,
          -1.008227288385752,
          0.5214377993630165,
          -0.018950103896625235,
          -0.14910350029198688,
          -0.5731720468029629,
          -0.9448239720268437,
          -0.22647219243858305,
          0.23146433215176052,
          0.893712658602652,
          -0.6793475172366461,
          1.6732234146359781,
          1.3376624235505683,
          -2.2775249667085014,
          -0.35725965871140325,
          -0.4866196631848915,
          0.5221645015016327,
          -2.3512699124364085,
          -0.5692428042702953,
          0.10925410215289443,
          -0.36194004921095924,
          0.6334634171826902,
          -0.989516778828704,
          1.5894450940447842,
          1.6504996902903266,
          0.08065315455009567,
          0.06506507570552242,
          -0.2945574392855909,
          0.5163758035262357,
          0.7920140242556639,
          -1.1531881291574442,
          -0.45478802547050956,
          0.4148567561667146,
          -1.6225514034438266,
          -0.05256397906113001,
          -0.856629342427809,
          -1.128943548249932,
          2.591930395771614,
          -1.510629341644163,
          0.08673476546190459,
          0.2710878959149094,
          -0.38617512562306183,
          -0.25179677654739074,
          -0.23088214790287442,
          -2.2421051954884854,
          0.22438491327880083,
          0.3358240185176065,
          -1.9844158775313674,
          -1.1360740539664844,
          -0.5211490606702568,
          0.0976208293459543,
          1.6774681184560594,
          1.7459282462631893,
          -2.0453097398102043,
          0.7010203333543181,
          -0.42683017154972774,
          -0.5401712869994386,
          -0.38687846178588225,
          -0.9066203932855437,
          1.0269121046221774,
          0.507489187083504,
          1.9548992675904575
         ],
         "xaxis": "x8",
         "y": [
          1.475589520025869,
          0.058193690147613136,
          0.8858587130605142,
          -1.0062473781673018,
          0.46803675911740583,
          1.8876584534559304,
          1.0068376194540218,
          0.20649832656467781,
          -0.3831842413954928,
          0.8146880661445408,
          0.7525580546906689,
          -0.9499437266514072,
          -0.5124677266513444,
          -0.07070799266437955,
          0.24842935771077734,
          -0.47466919918713246,
          0.1329640121766927,
          0.7101899364369233,
          -0.8129158041745252,
          -0.9065188940398232,
          -0.576101023436274,
          0.7211521933563564,
          0.4980075228147292,
          -0.4772199892654312,
          -0.25876529291204786,
          0.02805869936306022,
          -1.1120841762313531,
          -0.34773983569211936,
          0.5592457342025116,
          -2.2329856221230426,
          1.244429738539221,
          -0.3558037971356808,
          -1.7071760167849175,
          -0.38601241809639797,
          -1.2101106786862859,
          0.39581149532187293,
          -1.613409089316727,
          -0.017707675178522137,
          -0.51674385539429,
          0.5508169727530585,
          -0.7657147803155174,
          2.102266470888824,
          -1.9500668951535425,
          0.08582168052356781,
          -1.2031543487810075,
          0.09047246874201739,
          -1.2046473795482855,
          0.057008372010706757,
          -0.6793292136001533,
          -0.16868751384288672,
          0.013752896177967523,
          0.13559208744343473,
          -0.9630115477948523,
          0.7230504579164195,
          -0.7957538189923294,
          -0.5367136225824187,
          -1.0077205412350119,
          -1.7914055716137376,
          -1.230050510713824,
          0.8679372146419765,
          0.016712192818447498,
          -1.7296404941674273,
          0.6279507372489606,
          2.2072101493033247,
          -1.426478309767374,
          -0.10793231034668634,
          0.2825793489947289,
          -1.980919281504627,
          1.355967324544568,
          -0.7001789060327122,
          -1.2722359256963178,
          0.09299395157163394,
          0.9666985831548762,
          -0.3146817160528018,
          0.5624621245870179,
          -0.4257065060814728,
          2.8239069121719327,
          -0.6597234857277737,
          0.045685732120529614,
          -0.01918897826138856,
          0.19400035829565307,
          0.331512334519879,
          -0.14894837996905405,
          -0.35260660854332354,
          0.4922341899645374,
          0.512147456731329,
          0.06474390398539126,
          2.3772022790380962,
          0.4500853579083613,
          -0.6527657639931757,
          -0.047316453982068685,
          0.4678256940750706,
          -0.5795657304715769,
          -1.2899242922557217,
          -0.3685463537980794,
          0.25886314902995966,
          -0.659454095923306,
          -0.28299923424564427,
          -1.3644779963994549,
          -0.07484015266979967
         ],
         "yaxis": "y8"
        },
        {
         "line": {
          "color": "rgba(128, 128, 128, 1.0)",
          "dash": "solid",
          "shape": "linear",
          "width": 1.3
         },
         "marker": {
          "size": 2,
          "symbol": "circle"
         },
         "mode": "markers",
         "name": "C",
         "text": "",
         "type": "scatter",
         "x": [
          0.8565004406896697,
          0.616667033466685,
          0.9298916478237453,
          -1.6724634436675336,
          -0.019950485747430385,
          -0.32800911299570507,
          -0.520848431309861,
          -1.30147296225039,
          0.918170020841073,
          -0.003030796847175438,
          1.8515261305902329,
          -2.4657644444358904,
          -1.439356632219261,
          0.15387753978794932,
          0.07641025126858664,
          0.05696079491628426,
          0.994002604240455,
          1.3063555379994916,
          0.11680196973249214,
          -0.06144614746125791,
          0.16965506162971544,
          -1.5592095724925938,
          1.7362505416468237,
          -0.5158156181616896,
          0.3112988643540849,
          0.6367371116974732,
          -1.5536536001503518,
          -1.7685320204209458,
          -0.5392754585148415,
          0.10192996646476966,
          0.5568460660823932,
          0.4092568775144538,
          0.6425257437679849,
          0.09284381524121892,
          1.7894845246730584,
          -1.5779423255162153,
          -1.789479229742878,
          0.7609651113838944,
          -0.6674139141954538,
          -0.4214512133650312,
          -0.44539736631937926,
          0.5186930794439539,
          -1.0086390260505254,
          0.7345811131541214,
          -0.8682151792015697,
          -0.5138030956228592,
          2.44506810870039,
          -0.48872333105082555,
          1.3671166266258052,
          -0.01753294451379828,
          0.11685967207261917,
          1.0155837704561772,
          -0.5150792361553516,
          -0.4189522845684282,
          -1.671800498378324,
          0.00849610436739744,
          -0.895038429064667,
          -0.7234219959912285,
          0.206272727623923,
          0.3226173070103636,
          -0.4358213189085439,
          1.485019297233284,
          1.3145577597333455,
          1.1418099258834655,
          0.3899155275990936,
          0.6744845811903896,
          -1.5421747306588416,
          0.10759935916787118,
          -0.29174756418219683,
          0.4816850364526941,
          0.06383954088766132,
          0.805862380002143,
          1.7922318721731754,
          0.7711332871154744,
          1.5493299640694245,
          2.1568955364366897,
          1.1670866728363158,
          0.7987843837817445,
          0.5924788058898702,
          0.46868961780136764,
          0.041509628887594935,
          1.4403527221146417,
          0.06159499985984685,
          -0.37884426150130707,
          -0.5712864766608926,
          -0.05456501732571868,
          -1.374456821319399,
          -0.29150627018452924,
          -0.5060841247039243,
          -0.9116186430932947,
          -0.03191657470382843,
          -1.1907703476630989,
          -0.2240749488357738,
          0.9880910702602029,
          -0.6027601036139539,
          -0.804412324683554,
          -0.42504929417141835,
          0.23827330110499453,
          1.2763718707572826,
          -0.6127361720543995
         ],
         "xaxis": "x9",
         "y": [
          0.09536454976164993,
          -1.979873229425567,
          -0.8006171220144002,
          -1.4085439333951777,
          0.08547942854432763,
          -0.008826093278719568,
          -0.2991548029353947,
          0.2576029505630603,
          0.8795221488870283,
          -0.07200754103600952,
          -0.046151183479252546,
          0.3374454762825173,
          -0.6779825948518686,
          -0.09763964035505414,
          1.599220362888875,
          0.17648750653606524,
          0.18213753336434174,
          -0.9245131437491316,
          2.050342741577169,
          -0.11525257001200029,
          -0.3081347973723833,
          -0.34588166791003433,
          -0.33520708347079836,
          -1.0388186655706726,
          0.46110275587050625,
          -0.5761386680731327,
          0.8801801412081522,
          -0.5334511453174319,
          2.179848881496895,
          0.8510521398255604,
          -1.302215746186497,
          -0.2758653764454315,
          0.4229725742656263,
          -0.6854796038539009,
          -0.46825269421393273,
          -0.059917604332156246,
          0.27907495323068693,
          -0.4774644670954662,
          0.5112678302701621,
          -2.653886389514963,
          0.5602132803496599,
          -0.09368145292452275,
          -0.5108472428829691,
          -0.0049541575064123555,
          0.8263529754001935,
          -1.0298167166950276,
          0.11615194577730661,
          -0.033485373062486425,
          -0.5023586159199206,
          -0.5343264848054067,
          1.2563645314112177,
          -0.670756044789189,
          0.04086236619495206,
          -0.48491239039460976,
          0.8368010161808237,
          -1.4747359948647716,
          -0.678626261666939,
          0.055916347271540726,
          -0.665548308946417,
          -0.7349920467327229,
          1.1431344385353945,
          0.10272624712609245,
          2.0337920267866245,
          -0.25664343368236386,
          0.3270272774134318,
          -0.9161936736943582,
          0.6640500241172738,
          0.45816299396646826,
          1.479109563408102,
          -1.0801874426617148,
          0.8645323939687818,
          1.556299817995986,
          -0.19584520336043118,
          -0.6074092807738445,
          -0.7036813686304971,
          -0.2522157220017819,
          1.9265828118823523,
          -1.5812188150203852,
          0.109577170426578,
          1.7041087583411898,
          -1.6958191071790105,
          -1.6508695078091753,
          -0.14063194438965274,
          0.9241987280821946,
          0.8150487836869047,
          0.5931459555812096,
          1.5264875107240874,
          0.9944396469378712,
          -1.3785578513262233,
          0.29406582022837885,
          -0.3913540100322184,
          -0.3505245746885777,
          0.01771170232228889,
          -0.42157829849596756,
          -1.130644127991805,
          0.44140298627012853,
          0.3749867305185496,
          -0.2891992005348076,
          -0.9140427672546457,
          0.962493619611387
         ],
         "yaxis": "y9"
        },
        {
         "line": {
          "color": "rgba(128, 128, 128, 1.0)",
          "dash": "solid",
          "shape": "linear",
          "width": 1.3
         },
         "marker": {
          "size": 2,
          "symbol": "circle"
         },
         "mode": "markers",
         "name": "C",
         "text": "",
         "type": "scatter",
         "x": [
          1.475589520025869,
          0.058193690147613136,
          0.8858587130605142,
          -1.0062473781673018,
          0.46803675911740583,
          1.8876584534559304,
          1.0068376194540218,
          0.20649832656467781,
          -0.3831842413954928,
          0.8146880661445408,
          0.7525580546906689,
          -0.9499437266514072,
          -0.5124677266513444,
          -0.07070799266437955,
          0.24842935771077734,
          -0.47466919918713246,
          0.1329640121766927,
          0.7101899364369233,
          -0.8129158041745252,
          -0.9065188940398232,
          -0.576101023436274,
          0.7211521933563564,
          0.4980075228147292,
          -0.4772199892654312,
          -0.25876529291204786,
          0.02805869936306022,
          -1.1120841762313531,
          -0.34773983569211936,
          0.5592457342025116,
          -2.2329856221230426,
          1.244429738539221,
          -0.3558037971356808,
          -1.7071760167849175,
          -0.38601241809639797,
          -1.2101106786862859,
          0.39581149532187293,
          -1.613409089316727,
          -0.017707675178522137,
          -0.51674385539429,
          0.5508169727530585,
          -0.7657147803155174,
          2.102266470888824,
          -1.9500668951535425,
          0.08582168052356781,
          -1.2031543487810075,
          0.09047246874201739,
          -1.2046473795482855,
          0.057008372010706757,
          -0.6793292136001533,
          -0.16868751384288672,
          0.013752896177967523,
          0.13559208744343473,
          -0.9630115477948523,
          0.7230504579164195,
          -0.7957538189923294,
          -0.5367136225824187,
          -1.0077205412350119,
          -1.7914055716137376,
          -1.230050510713824,
          0.8679372146419765,
          0.016712192818447498,
          -1.7296404941674273,
          0.6279507372489606,
          2.2072101493033247,
          -1.426478309767374,
          -0.10793231034668634,
          0.2825793489947289,
          -1.980919281504627,
          1.355967324544568,
          -0.7001789060327122,
          -1.2722359256963178,
          0.09299395157163394,
          0.9666985831548762,
          -0.3146817160528018,
          0.5624621245870179,
          -0.4257065060814728,
          2.8239069121719327,
          -0.6597234857277737,
          0.045685732120529614,
          -0.01918897826138856,
          0.19400035829565307,
          0.331512334519879,
          -0.14894837996905405,
          -0.35260660854332354,
          0.4922341899645374,
          0.512147456731329,
          0.06474390398539126,
          2.3772022790380962,
          0.4500853579083613,
          -0.6527657639931757,
          -0.047316453982068685,
          0.4678256940750706,
          -0.5795657304715769,
          -1.2899242922557217,
          -0.3685463537980794,
          0.25886314902995966,
          -0.659454095923306,
          -0.28299923424564427,
          -1.3644779963994549,
          -0.07484015266979967
         ],
         "xaxis": "x10",
         "y": [
          0.09536454976164993,
          -1.979873229425567,
          -0.8006171220144002,
          -1.4085439333951777,
          0.08547942854432763,
          -0.008826093278719568,
          -0.2991548029353947,
          0.2576029505630603,
          0.8795221488870283,
          -0.07200754103600952,
          -0.046151183479252546,
          0.3374454762825173,
          -0.6779825948518686,
          -0.09763964035505414,
          1.599220362888875,
          0.17648750653606524,
          0.18213753336434174,
          -0.9245131437491316,
          2.050342741577169,
          -0.11525257001200029,
          -0.3081347973723833,
          -0.34588166791003433,
          -0.33520708347079836,
          -1.0388186655706726,
          0.46110275587050625,
          -0.5761386680731327,
          0.8801801412081522,
          -0.5334511453174319,
          2.179848881496895,
          0.8510521398255604,
          -1.302215746186497,
          -0.2758653764454315,
          0.4229725742656263,
          -0.6854796038539009,
          -0.46825269421393273,
          -0.059917604332156246,
          0.27907495323068693,
          -0.4774644670954662,
          0.5112678302701621,
          -2.653886389514963,
          0.5602132803496599,
          -0.09368145292452275,
          -0.5108472428829691,
          -0.0049541575064123555,
          0.8263529754001935,
          -1.0298167166950276,
          0.11615194577730661,
          -0.033485373062486425,
          -0.5023586159199206,
          -0.5343264848054067,
          1.2563645314112177,
          -0.670756044789189,
          0.04086236619495206,
          -0.48491239039460976,
          0.8368010161808237,
          -1.4747359948647716,
          -0.678626261666939,
          0.055916347271540726,
          -0.665548308946417,
          -0.7349920467327229,
          1.1431344385353945,
          0.10272624712609245,
          2.0337920267866245,
          -0.25664343368236386,
          0.3270272774134318,
          -0.9161936736943582,
          0.6640500241172738,
          0.45816299396646826,
          1.479109563408102,
          -1.0801874426617148,
          0.8645323939687818,
          1.556299817995986,
          -0.19584520336043118,
          -0.6074092807738445,
          -0.7036813686304971,
          -0.2522157220017819,
          1.9265828118823523,
          -1.5812188150203852,
          0.109577170426578,
          1.7041087583411898,
          -1.6958191071790105,
          -1.6508695078091753,
          -0.14063194438965274,
          0.9241987280821946,
          0.8150487836869047,
          0.5931459555812096,
          1.5264875107240874,
          0.9944396469378712,
          -1.3785578513262233,
          0.29406582022837885,
          -0.3913540100322184,
          -0.3505245746885777,
          0.01771170232228889,
          -0.42157829849596756,
          -1.130644127991805,
          0.44140298627012853,
          0.3749867305185496,
          -0.2891992005348076,
          -0.9140427672546457,
          0.962493619611387
         ],
         "yaxis": "y10"
        },
        {
         "histfunc": "count",
         "histnorm": "",
         "marker": {
          "color": "rgba(50, 171, 96, 1.0)",
          "line": {
           "color": "#4D5663",
           "width": 1.3
          }
         },
         "name": "C",
         "nbinsx": 10,
         "opacity": 0.8,
         "orientation": "v",
         "type": "histogram",
         "x": [
          0.09536454976164993,
          -1.979873229425567,
          -0.8006171220144002,
          -1.4085439333951777,
          0.08547942854432763,
          -0.008826093278719568,
          -0.2991548029353947,
          0.2576029505630603,
          0.8795221488870283,
          -0.07200754103600952,
          -0.046151183479252546,
          0.3374454762825173,
          -0.6779825948518686,
          -0.09763964035505414,
          1.599220362888875,
          0.17648750653606524,
          0.18213753336434174,
          -0.9245131437491316,
          2.050342741577169,
          -0.11525257001200029,
          -0.3081347973723833,
          -0.34588166791003433,
          -0.33520708347079836,
          -1.0388186655706726,
          0.46110275587050625,
          -0.5761386680731327,
          0.8801801412081522,
          -0.5334511453174319,
          2.179848881496895,
          0.8510521398255604,
          -1.302215746186497,
          -0.2758653764454315,
          0.4229725742656263,
          -0.6854796038539009,
          -0.46825269421393273,
          -0.059917604332156246,
          0.27907495323068693,
          -0.4774644670954662,
          0.5112678302701621,
          -2.653886389514963,
          0.5602132803496599,
          -0.09368145292452275,
          -0.5108472428829691,
          -0.0049541575064123555,
          0.8263529754001935,
          -1.0298167166950276,
          0.11615194577730661,
          -0.033485373062486425,
          -0.5023586159199206,
          -0.5343264848054067,
          1.2563645314112177,
          -0.670756044789189,
          0.04086236619495206,
          -0.48491239039460976,
          0.8368010161808237,
          -1.4747359948647716,
          -0.678626261666939,
          0.055916347271540726,
          -0.665548308946417,
          -0.7349920467327229,
          1.1431344385353945,
          0.10272624712609245,
          2.0337920267866245,
          -0.25664343368236386,
          0.3270272774134318,
          -0.9161936736943582,
          0.6640500241172738,
          0.45816299396646826,
          1.479109563408102,
          -1.0801874426617148,
          0.8645323939687818,
          1.556299817995986,
          -0.19584520336043118,
          -0.6074092807738445,
          -0.7036813686304971,
          -0.2522157220017819,
          1.9265828118823523,
          -1.5812188150203852,
          0.109577170426578,
          1.7041087583411898,
          -1.6958191071790105,
          -1.6508695078091753,
          -0.14063194438965274,
          0.9241987280821946,
          0.8150487836869047,
          0.5931459555812096,
          1.5264875107240874,
          0.9944396469378712,
          -1.3785578513262233,
          0.29406582022837885,
          -0.3913540100322184,
          -0.3505245746885777,
          0.01771170232228889,
          -0.42157829849596756,
          -1.130644127991805,
          0.44140298627012853,
          0.3749867305185496,
          -0.2891992005348076,
          -0.9140427672546457,
          0.962493619611387
         ],
         "xaxis": "x11",
         "yaxis": "y11"
        },
        {
         "line": {
          "color": "rgba(128, 128, 128, 1.0)",
          "dash": "solid",
          "shape": "linear",
          "width": 1.3
         },
         "marker": {
          "size": 2,
          "symbol": "circle"
         },
         "mode": "markers",
         "name": "C",
         "text": "",
         "type": "scatter",
         "x": [
          -2.8371083245496616,
          0.18726671943935058,
          -0.635752704507406,
          0.31204885311241765,
          -1.6884623420901927,
          -2.218046636438145,
          0.8005326796231135,
          0.2571323568177598,
          -0.7517794685927304,
          0.7141700622967905,
          -0.7034274370151249,
          1.7601916791167034,
          -0.695062955483073,
          -0.2605103364893929,
          -0.46730855079440314,
          0.7343327121690637,
          -0.9815267713197737,
          0.08934937710201019,
          1.2228982710514336,
          -0.2558313016025286,
          0.08473537705506456,
          -0.2831432143808916,
          -0.5078694189178844,
          1.3868024785701536,
          -0.5953077204912341,
          1.848884077889904,
          1.5390355127582946,
          0.028268872843309582,
          -0.595582478100544,
          1.5427013777117144,
          -0.5267129535115503,
          -2.2191309716885237,
          0.0526380368058972,
          -1.362504559433225,
          0.347626808410747,
          -0.23159946754631258,
          -0.4455793612367743,
          -0.06588596165374287,
          -1.3878920907572154,
          -1.008227288385752,
          0.5214377993630165,
          -0.018950103896625235,
          -0.14910350029198688,
          -0.5731720468029629,
          -0.9448239720268437,
          -0.22647219243858305,
          0.23146433215176052,
          0.893712658602652,
          -0.6793475172366461,
          1.6732234146359781,
          1.3376624235505683,
          -2.2775249667085014,
          -0.35725965871140325,
          -0.4866196631848915,
          0.5221645015016327,
          -2.3512699124364085,
          -0.5692428042702953,
          0.10925410215289443,
          -0.36194004921095924,
          0.6334634171826902,
          -0.989516778828704,
          1.5894450940447842,
          1.6504996902903266,
          0.08065315455009567,
          0.06506507570552242,
          -0.2945574392855909,
          0.5163758035262357,
          0.7920140242556639,
          -1.1531881291574442,
          -0.45478802547050956,
          0.4148567561667146,
          -1.6225514034438266,
          -0.05256397906113001,
          -0.856629342427809,
          -1.128943548249932,
          2.591930395771614,
          -1.510629341644163,
          0.08673476546190459,
          0.2710878959149094,
          -0.38617512562306183,
          -0.25179677654739074,
          -0.23088214790287442,
          -2.2421051954884854,
          0.22438491327880083,
          0.3358240185176065,
          -1.9844158775313674,
          -1.1360740539664844,
          -0.5211490606702568,
          0.0976208293459543,
          1.6774681184560594,
          1.7459282462631893,
          -2.0453097398102043,
          0.7010203333543181,
          -0.42683017154972774,
          -0.5401712869994386,
          -0.38687846178588225,
          -0.9066203932855437,
          1.0269121046221774,
          0.507489187083504,
          1.9548992675904575
         ],
         "xaxis": "x12",
         "y": [
          0.09536454976164993,
          -1.979873229425567,
          -0.8006171220144002,
          -1.4085439333951777,
          0.08547942854432763,
          -0.008826093278719568,
          -0.2991548029353947,
          0.2576029505630603,
          0.8795221488870283,
          -0.07200754103600952,
          -0.046151183479252546,
          0.3374454762825173,
          -0.6779825948518686,
          -0.09763964035505414,
          1.599220362888875,
          0.17648750653606524,
          0.18213753336434174,
          -0.9245131437491316,
          2.050342741577169,
          -0.11525257001200029,
          -0.3081347973723833,
          -0.34588166791003433,
          -0.33520708347079836,
          -1.0388186655706726,
          0.46110275587050625,
          -0.5761386680731327,
          0.8801801412081522,
          -0.5334511453174319,
          2.179848881496895,
          0.8510521398255604,
          -1.302215746186497,
          -0.2758653764454315,
          0.4229725742656263,
          -0.6854796038539009,
          -0.46825269421393273,
          -0.059917604332156246,
          0.27907495323068693,
          -0.4774644670954662,
          0.5112678302701621,
          -2.653886389514963,
          0.5602132803496599,
          -0.09368145292452275,
          -0.5108472428829691,
          -0.0049541575064123555,
          0.8263529754001935,
          -1.0298167166950276,
          0.11615194577730661,
          -0.033485373062486425,
          -0.5023586159199206,
          -0.5343264848054067,
          1.2563645314112177,
          -0.670756044789189,
          0.04086236619495206,
          -0.48491239039460976,
          0.8368010161808237,
          -1.4747359948647716,
          -0.678626261666939,
          0.055916347271540726,
          -0.665548308946417,
          -0.7349920467327229,
          1.1431344385353945,
          0.10272624712609245,
          2.0337920267866245,
          -0.25664343368236386,
          0.3270272774134318,
          -0.9161936736943582,
          0.6640500241172738,
          0.45816299396646826,
          1.479109563408102,
          -1.0801874426617148,
          0.8645323939687818,
          1.556299817995986,
          -0.19584520336043118,
          -0.6074092807738445,
          -0.7036813686304971,
          -0.2522157220017819,
          1.9265828118823523,
          -1.5812188150203852,
          0.109577170426578,
          1.7041087583411898,
          -1.6958191071790105,
          -1.6508695078091753,
          -0.14063194438965274,
          0.9241987280821946,
          0.8150487836869047,
          0.5931459555812096,
          1.5264875107240874,
          0.9944396469378712,
          -1.3785578513262233,
          0.29406582022837885,
          -0.3913540100322184,
          -0.3505245746885777,
          0.01771170232228889,
          -0.42157829849596756,
          -1.130644127991805,
          0.44140298627012853,
          0.3749867305185496,
          -0.2891992005348076,
          -0.9140427672546457,
          0.962493619611387
         ],
         "yaxis": "y12"
        },
        {
         "line": {
          "color": "rgba(128, 128, 128, 1.0)",
          "dash": "solid",
          "shape": "linear",
          "width": 1.3
         },
         "marker": {
          "size": 2,
          "symbol": "circle"
         },
         "mode": "markers",
         "name": "D",
         "text": "",
         "type": "scatter",
         "x": [
          0.8565004406896697,
          0.616667033466685,
          0.9298916478237453,
          -1.6724634436675336,
          -0.019950485747430385,
          -0.32800911299570507,
          -0.520848431309861,
          -1.30147296225039,
          0.918170020841073,
          -0.003030796847175438,
          1.8515261305902329,
          -2.4657644444358904,
          -1.439356632219261,
          0.15387753978794932,
          0.07641025126858664,
          0.05696079491628426,
          0.994002604240455,
          1.3063555379994916,
          0.11680196973249214,
          -0.06144614746125791,
          0.16965506162971544,
          -1.5592095724925938,
          1.7362505416468237,
          -0.5158156181616896,
          0.3112988643540849,
          0.6367371116974732,
          -1.5536536001503518,
          -1.7685320204209458,
          -0.5392754585148415,
          0.10192996646476966,
          0.5568460660823932,
          0.4092568775144538,
          0.6425257437679849,
          0.09284381524121892,
          1.7894845246730584,
          -1.5779423255162153,
          -1.789479229742878,
          0.7609651113838944,
          -0.6674139141954538,
          -0.4214512133650312,
          -0.44539736631937926,
          0.5186930794439539,
          -1.0086390260505254,
          0.7345811131541214,
          -0.8682151792015697,
          -0.5138030956228592,
          2.44506810870039,
          -0.48872333105082555,
          1.3671166266258052,
          -0.01753294451379828,
          0.11685967207261917,
          1.0155837704561772,
          -0.5150792361553516,
          -0.4189522845684282,
          -1.671800498378324,
          0.00849610436739744,
          -0.895038429064667,
          -0.7234219959912285,
          0.206272727623923,
          0.3226173070103636,
          -0.4358213189085439,
          1.485019297233284,
          1.3145577597333455,
          1.1418099258834655,
          0.3899155275990936,
          0.6744845811903896,
          -1.5421747306588416,
          0.10759935916787118,
          -0.29174756418219683,
          0.4816850364526941,
          0.06383954088766132,
          0.805862380002143,
          1.7922318721731754,
          0.7711332871154744,
          1.5493299640694245,
          2.1568955364366897,
          1.1670866728363158,
          0.7987843837817445,
          0.5924788058898702,
          0.46868961780136764,
          0.041509628887594935,
          1.4403527221146417,
          0.06159499985984685,
          -0.37884426150130707,
          -0.5712864766608926,
          -0.05456501732571868,
          -1.374456821319399,
          -0.29150627018452924,
          -0.5060841247039243,
          -0.9116186430932947,
          -0.03191657470382843,
          -1.1907703476630989,
          -0.2240749488357738,
          0.9880910702602029,
          -0.6027601036139539,
          -0.804412324683554,
          -0.42504929417141835,
          0.23827330110499453,
          1.2763718707572826,
          -0.6127361720543995
         ],
         "xaxis": "x13",
         "y": [
          -2.8371083245496616,
          0.18726671943935058,
          -0.635752704507406,
          0.31204885311241765,
          -1.6884623420901927,
          -2.218046636438145,
          0.8005326796231135,
          0.2571323568177598,
          -0.7517794685927304,
          0.7141700622967905,
          -0.7034274370151249,
          1.7601916791167034,
          -0.695062955483073,
          -0.2605103364893929,
          -0.46730855079440314,
          0.7343327121690637,
          -0.9815267713197737,
          0.08934937710201019,
          1.2228982710514336,
          -0.2558313016025286,
          0.08473537705506456,
          -0.2831432143808916,
          -0.5078694189178844,
          1.3868024785701536,
          -0.5953077204912341,
          1.848884077889904,
          1.5390355127582946,
          0.028268872843309582,
          -0.595582478100544,
          1.5427013777117144,
          -0.5267129535115503,
          -2.2191309716885237,
          0.0526380368058972,
          -1.362504559433225,
          0.347626808410747,
          -0.23159946754631258,
          -0.4455793612367743,
          -0.06588596165374287,
          -1.3878920907572154,
          -1.008227288385752,
          0.5214377993630165,
          -0.018950103896625235,
          -0.14910350029198688,
          -0.5731720468029629,
          -0.9448239720268437,
          -0.22647219243858305,
          0.23146433215176052,
          0.893712658602652,
          -0.6793475172366461,
          1.6732234146359781,
          1.3376624235505683,
          -2.2775249667085014,
          -0.35725965871140325,
          -0.4866196631848915,
          0.5221645015016327,
          -2.3512699124364085,
          -0.5692428042702953,
          0.10925410215289443,
          -0.36194004921095924,
          0.6334634171826902,
          -0.989516778828704,
          1.5894450940447842,
          1.6504996902903266,
          0.08065315455009567,
          0.06506507570552242,
          -0.2945574392855909,
          0.5163758035262357,
          0.7920140242556639,
          -1.1531881291574442,
          -0.45478802547050956,
          0.4148567561667146,
          -1.6225514034438266,
          -0.05256397906113001,
          -0.856629342427809,
          -1.128943548249932,
          2.591930395771614,
          -1.510629341644163,
          0.08673476546190459,
          0.2710878959149094,
          -0.38617512562306183,
          -0.25179677654739074,
          -0.23088214790287442,
          -2.2421051954884854,
          0.22438491327880083,
          0.3358240185176065,
          -1.9844158775313674,
          -1.1360740539664844,
          -0.5211490606702568,
          0.0976208293459543,
          1.6774681184560594,
          1.7459282462631893,
          -2.0453097398102043,
          0.7010203333543181,
          -0.42683017154972774,
          -0.5401712869994386,
          -0.38687846178588225,
          -0.9066203932855437,
          1.0269121046221774,
          0.507489187083504,
          1.9548992675904575
         ],
         "yaxis": "y13"
        },
        {
         "line": {
          "color": "rgba(128, 128, 128, 1.0)",
          "dash": "solid",
          "shape": "linear",
          "width": 1.3
         },
         "marker": {
          "size": 2,
          "symbol": "circle"
         },
         "mode": "markers",
         "name": "D",
         "text": "",
         "type": "scatter",
         "x": [
          1.475589520025869,
          0.058193690147613136,
          0.8858587130605142,
          -1.0062473781673018,
          0.46803675911740583,
          1.8876584534559304,
          1.0068376194540218,
          0.20649832656467781,
          -0.3831842413954928,
          0.8146880661445408,
          0.7525580546906689,
          -0.9499437266514072,
          -0.5124677266513444,
          -0.07070799266437955,
          0.24842935771077734,
          -0.47466919918713246,
          0.1329640121766927,
          0.7101899364369233,
          -0.8129158041745252,
          -0.9065188940398232,
          -0.576101023436274,
          0.7211521933563564,
          0.4980075228147292,
          -0.4772199892654312,
          -0.25876529291204786,
          0.02805869936306022,
          -1.1120841762313531,
          -0.34773983569211936,
          0.5592457342025116,
          -2.2329856221230426,
          1.244429738539221,
          -0.3558037971356808,
          -1.7071760167849175,
          -0.38601241809639797,
          -1.2101106786862859,
          0.39581149532187293,
          -1.613409089316727,
          -0.017707675178522137,
          -0.51674385539429,
          0.5508169727530585,
          -0.7657147803155174,
          2.102266470888824,
          -1.9500668951535425,
          0.08582168052356781,
          -1.2031543487810075,
          0.09047246874201739,
          -1.2046473795482855,
          0.057008372010706757,
          -0.6793292136001533,
          -0.16868751384288672,
          0.013752896177967523,
          0.13559208744343473,
          -0.9630115477948523,
          0.7230504579164195,
          -0.7957538189923294,
          -0.5367136225824187,
          -1.0077205412350119,
          -1.7914055716137376,
          -1.230050510713824,
          0.8679372146419765,
          0.016712192818447498,
          -1.7296404941674273,
          0.6279507372489606,
          2.2072101493033247,
          -1.426478309767374,
          -0.10793231034668634,
          0.2825793489947289,
          -1.980919281504627,
          1.355967324544568,
          -0.7001789060327122,
          -1.2722359256963178,
          0.09299395157163394,
          0.9666985831548762,
          -0.3146817160528018,
          0.5624621245870179,
          -0.4257065060814728,
          2.8239069121719327,
          -0.6597234857277737,
          0.045685732120529614,
          -0.01918897826138856,
          0.19400035829565307,
          0.331512334519879,
          -0.14894837996905405,
          -0.35260660854332354,
          0.4922341899645374,
          0.512147456731329,
          0.06474390398539126,
          2.3772022790380962,
          0.4500853579083613,
          -0.6527657639931757,
          -0.047316453982068685,
          0.4678256940750706,
          -0.5795657304715769,
          -1.2899242922557217,
          -0.3685463537980794,
          0.25886314902995966,
          -0.659454095923306,
          -0.28299923424564427,
          -1.3644779963994549,
          -0.07484015266979967
         ],
         "xaxis": "x14",
         "y": [
          -2.8371083245496616,
          0.18726671943935058,
          -0.635752704507406,
          0.31204885311241765,
          -1.6884623420901927,
          -2.218046636438145,
          0.8005326796231135,
          0.2571323568177598,
          -0.7517794685927304,
          0.7141700622967905,
          -0.7034274370151249,
          1.7601916791167034,
          -0.695062955483073,
          -0.2605103364893929,
          -0.46730855079440314,
          0.7343327121690637,
          -0.9815267713197737,
          0.08934937710201019,
          1.2228982710514336,
          -0.2558313016025286,
          0.08473537705506456,
          -0.2831432143808916,
          -0.5078694189178844,
          1.3868024785701536,
          -0.5953077204912341,
          1.848884077889904,
          1.5390355127582946,
          0.028268872843309582,
          -0.595582478100544,
          1.5427013777117144,
          -0.5267129535115503,
          -2.2191309716885237,
          0.0526380368058972,
          -1.362504559433225,
          0.347626808410747,
          -0.23159946754631258,
          -0.4455793612367743,
          -0.06588596165374287,
          -1.3878920907572154,
          -1.008227288385752,
          0.5214377993630165,
          -0.018950103896625235,
          -0.14910350029198688,
          -0.5731720468029629,
          -0.9448239720268437,
          -0.22647219243858305,
          0.23146433215176052,
          0.893712658602652,
          -0.6793475172366461,
          1.6732234146359781,
          1.3376624235505683,
          -2.2775249667085014,
          -0.35725965871140325,
          -0.4866196631848915,
          0.5221645015016327,
          -2.3512699124364085,
          -0.5692428042702953,
          0.10925410215289443,
          -0.36194004921095924,
          0.6334634171826902,
          -0.989516778828704,
          1.5894450940447842,
          1.6504996902903266,
          0.08065315455009567,
          0.06506507570552242,
          -0.2945574392855909,
          0.5163758035262357,
          0.7920140242556639,
          -1.1531881291574442,
          -0.45478802547050956,
          0.4148567561667146,
          -1.6225514034438266,
          -0.05256397906113001,
          -0.856629342427809,
          -1.128943548249932,
          2.591930395771614,
          -1.510629341644163,
          0.08673476546190459,
          0.2710878959149094,
          -0.38617512562306183,
          -0.25179677654739074,
          -0.23088214790287442,
          -2.2421051954884854,
          0.22438491327880083,
          0.3358240185176065,
          -1.9844158775313674,
          -1.1360740539664844,
          -0.5211490606702568,
          0.0976208293459543,
          1.6774681184560594,
          1.7459282462631893,
          -2.0453097398102043,
          0.7010203333543181,
          -0.42683017154972774,
          -0.5401712869994386,
          -0.38687846178588225,
          -0.9066203932855437,
          1.0269121046221774,
          0.507489187083504,
          1.9548992675904575
         ],
         "yaxis": "y14"
        },
        {
         "line": {
          "color": "rgba(128, 128, 128, 1.0)",
          "dash": "solid",
          "shape": "linear",
          "width": 1.3
         },
         "marker": {
          "size": 2,
          "symbol": "circle"
         },
         "mode": "markers",
         "name": "D",
         "text": "",
         "type": "scatter",
         "x": [
          0.09536454976164993,
          -1.979873229425567,
          -0.8006171220144002,
          -1.4085439333951777,
          0.08547942854432763,
          -0.008826093278719568,
          -0.2991548029353947,
          0.2576029505630603,
          0.8795221488870283,
          -0.07200754103600952,
          -0.046151183479252546,
          0.3374454762825173,
          -0.6779825948518686,
          -0.09763964035505414,
          1.599220362888875,
          0.17648750653606524,
          0.18213753336434174,
          -0.9245131437491316,
          2.050342741577169,
          -0.11525257001200029,
          -0.3081347973723833,
          -0.34588166791003433,
          -0.33520708347079836,
          -1.0388186655706726,
          0.46110275587050625,
          -0.5761386680731327,
          0.8801801412081522,
          -0.5334511453174319,
          2.179848881496895,
          0.8510521398255604,
          -1.302215746186497,
          -0.2758653764454315,
          0.4229725742656263,
          -0.6854796038539009,
          -0.46825269421393273,
          -0.059917604332156246,
          0.27907495323068693,
          -0.4774644670954662,
          0.5112678302701621,
          -2.653886389514963,
          0.5602132803496599,
          -0.09368145292452275,
          -0.5108472428829691,
          -0.0049541575064123555,
          0.8263529754001935,
          -1.0298167166950276,
          0.11615194577730661,
          -0.033485373062486425,
          -0.5023586159199206,
          -0.5343264848054067,
          1.2563645314112177,
          -0.670756044789189,
          0.04086236619495206,
          -0.48491239039460976,
          0.8368010161808237,
          -1.4747359948647716,
          -0.678626261666939,
          0.055916347271540726,
          -0.665548308946417,
          -0.7349920467327229,
          1.1431344385353945,
          0.10272624712609245,
          2.0337920267866245,
          -0.25664343368236386,
          0.3270272774134318,
          -0.9161936736943582,
          0.6640500241172738,
          0.45816299396646826,
          1.479109563408102,
          -1.0801874426617148,
          0.8645323939687818,
          1.556299817995986,
          -0.19584520336043118,
          -0.6074092807738445,
          -0.7036813686304971,
          -0.2522157220017819,
          1.9265828118823523,
          -1.5812188150203852,
          0.109577170426578,
          1.7041087583411898,
          -1.6958191071790105,
          -1.6508695078091753,
          -0.14063194438965274,
          0.9241987280821946,
          0.8150487836869047,
          0.5931459555812096,
          1.5264875107240874,
          0.9944396469378712,
          -1.3785578513262233,
          0.29406582022837885,
          -0.3913540100322184,
          -0.3505245746885777,
          0.01771170232228889,
          -0.42157829849596756,
          -1.130644127991805,
          0.44140298627012853,
          0.3749867305185496,
          -0.2891992005348076,
          -0.9140427672546457,
          0.962493619611387
         ],
         "xaxis": "x15",
         "y": [
          -2.8371083245496616,
          0.18726671943935058,
          -0.635752704507406,
          0.31204885311241765,
          -1.6884623420901927,
          -2.218046636438145,
          0.8005326796231135,
          0.2571323568177598,
          -0.7517794685927304,
          0.7141700622967905,
          -0.7034274370151249,
          1.7601916791167034,
          -0.695062955483073,
          -0.2605103364893929,
          -0.46730855079440314,
          0.7343327121690637,
          -0.9815267713197737,
          0.08934937710201019,
          1.2228982710514336,
          -0.2558313016025286,
          0.08473537705506456,
          -0.2831432143808916,
          -0.5078694189178844,
          1.3868024785701536,
          -0.5953077204912341,
          1.848884077889904,
          1.5390355127582946,
          0.028268872843309582,
          -0.595582478100544,
          1.5427013777117144,
          -0.5267129535115503,
          -2.2191309716885237,
          0.0526380368058972,
          -1.362504559433225,
          0.347626808410747,
          -0.23159946754631258,
          -0.4455793612367743,
          -0.06588596165374287,
          -1.3878920907572154,
          -1.008227288385752,
          0.5214377993630165,
          -0.018950103896625235,
          -0.14910350029198688,
          -0.5731720468029629,
          -0.9448239720268437,
          -0.22647219243858305,
          0.23146433215176052,
          0.893712658602652,
          -0.6793475172366461,
          1.6732234146359781,
          1.3376624235505683,
          -2.2775249667085014,
          -0.35725965871140325,
          -0.4866196631848915,
          0.5221645015016327,
          -2.3512699124364085,
          -0.5692428042702953,
          0.10925410215289443,
          -0.36194004921095924,
          0.6334634171826902,
          -0.989516778828704,
          1.5894450940447842,
          1.6504996902903266,
          0.08065315455009567,
          0.06506507570552242,
          -0.2945574392855909,
          0.5163758035262357,
          0.7920140242556639,
          -1.1531881291574442,
          -0.45478802547050956,
          0.4148567561667146,
          -1.6225514034438266,
          -0.05256397906113001,
          -0.856629342427809,
          -1.128943548249932,
          2.591930395771614,
          -1.510629341644163,
          0.08673476546190459,
          0.2710878959149094,
          -0.38617512562306183,
          -0.25179677654739074,
          -0.23088214790287442,
          -2.2421051954884854,
          0.22438491327880083,
          0.3358240185176065,
          -1.9844158775313674,
          -1.1360740539664844,
          -0.5211490606702568,
          0.0976208293459543,
          1.6774681184560594,
          1.7459282462631893,
          -2.0453097398102043,
          0.7010203333543181,
          -0.42683017154972774,
          -0.5401712869994386,
          -0.38687846178588225,
          -0.9066203932855437,
          1.0269121046221774,
          0.507489187083504,
          1.9548992675904575
         ],
         "yaxis": "y15"
        },
        {
         "histfunc": "count",
         "histnorm": "",
         "marker": {
          "color": "rgba(128, 0, 128, 1.0)",
          "line": {
           "color": "#4D5663",
           "width": 1.3
          }
         },
         "name": "D",
         "nbinsx": 10,
         "opacity": 0.8,
         "orientation": "v",
         "type": "histogram",
         "x": [
          -2.8371083245496616,
          0.18726671943935058,
          -0.635752704507406,
          0.31204885311241765,
          -1.6884623420901927,
          -2.218046636438145,
          0.8005326796231135,
          0.2571323568177598,
          -0.7517794685927304,
          0.7141700622967905,
          -0.7034274370151249,
          1.7601916791167034,
          -0.695062955483073,
          -0.2605103364893929,
          -0.46730855079440314,
          0.7343327121690637,
          -0.9815267713197737,
          0.08934937710201019,
          1.2228982710514336,
          -0.2558313016025286,
          0.08473537705506456,
          -0.2831432143808916,
          -0.5078694189178844,
          1.3868024785701536,
          -0.5953077204912341,
          1.848884077889904,
          1.5390355127582946,
          0.028268872843309582,
          -0.595582478100544,
          1.5427013777117144,
          -0.5267129535115503,
          -2.2191309716885237,
          0.0526380368058972,
          -1.362504559433225,
          0.347626808410747,
          -0.23159946754631258,
          -0.4455793612367743,
          -0.06588596165374287,
          -1.3878920907572154,
          -1.008227288385752,
          0.5214377993630165,
          -0.018950103896625235,
          -0.14910350029198688,
          -0.5731720468029629,
          -0.9448239720268437,
          -0.22647219243858305,
          0.23146433215176052,
          0.893712658602652,
          -0.6793475172366461,
          1.6732234146359781,
          1.3376624235505683,
          -2.2775249667085014,
          -0.35725965871140325,
          -0.4866196631848915,
          0.5221645015016327,
          -2.3512699124364085,
          -0.5692428042702953,
          0.10925410215289443,
          -0.36194004921095924,
          0.6334634171826902,
          -0.989516778828704,
          1.5894450940447842,
          1.6504996902903266,
          0.08065315455009567,
          0.06506507570552242,
          -0.2945574392855909,
          0.5163758035262357,
          0.7920140242556639,
          -1.1531881291574442,
          -0.45478802547050956,
          0.4148567561667146,
          -1.6225514034438266,
          -0.05256397906113001,
          -0.856629342427809,
          -1.128943548249932,
          2.591930395771614,
          -1.510629341644163,
          0.08673476546190459,
          0.2710878959149094,
          -0.38617512562306183,
          -0.25179677654739074,
          -0.23088214790287442,
          -2.2421051954884854,
          0.22438491327880083,
          0.3358240185176065,
          -1.9844158775313674,
          -1.1360740539664844,
          -0.5211490606702568,
          0.0976208293459543,
          1.6774681184560594,
          1.7459282462631893,
          -2.0453097398102043,
          0.7010203333543181,
          -0.42683017154972774,
          -0.5401712869994386,
          -0.38687846178588225,
          -0.9066203932855437,
          1.0269121046221774,
          0.507489187083504,
          1.9548992675904575
         ],
         "xaxis": "x16",
         "yaxis": "y16"
        }
       ],
       "layout": {
        "bargap": 0.02,
        "legend": {
         "bgcolor": "#F5F6F9",
         "font": {
          "color": "#4D5663"
         }
        },
        "paper_bgcolor": "#F5F6F9",
        "plot_bgcolor": "#F5F6F9",
        "showlegend": false,
        "template": {
         "data": {
          "bar": [
           {
            "error_x": {
             "color": "#2a3f5f"
            },
            "error_y": {
             "color": "#2a3f5f"
            },
            "marker": {
             "line": {
              "color": "#E5ECF6",
              "width": 0.5
             }
            },
            "type": "bar"
           }
          ],
          "barpolar": [
           {
            "marker": {
             "line": {
              "color": "#E5ECF6",
              "width": 0.5
             }
            },
            "type": "barpolar"
           }
          ],
          "carpet": [
           {
            "aaxis": {
             "endlinecolor": "#2a3f5f",
             "gridcolor": "white",
             "linecolor": "white",
             "minorgridcolor": "white",
             "startlinecolor": "#2a3f5f"
            },
            "baxis": {
             "endlinecolor": "#2a3f5f",
             "gridcolor": "white",
             "linecolor": "white",
             "minorgridcolor": "white",
             "startlinecolor": "#2a3f5f"
            },
            "type": "carpet"
           }
          ],
          "choropleth": [
           {
            "colorbar": {
             "outlinewidth": 0,
             "ticks": ""
            },
            "type": "choropleth"
           }
          ],
          "contour": [
           {
            "colorbar": {
             "outlinewidth": 0,
             "ticks": ""
            },
            "colorscale": [
             [
              0,
              "#0d0887"
             ],
             [
              0.1111111111111111,
              "#46039f"
             ],
             [
              0.2222222222222222,
              "#7201a8"
             ],
             [
              0.3333333333333333,
              "#9c179e"
             ],
             [
              0.4444444444444444,
              "#bd3786"
             ],
             [
              0.5555555555555556,
              "#d8576b"
             ],
             [
              0.6666666666666666,
              "#ed7953"
             ],
             [
              0.7777777777777778,
              "#fb9f3a"
             ],
             [
              0.8888888888888888,
              "#fdca26"
             ],
             [
              1,
              "#f0f921"
             ]
            ],
            "type": "contour"
           }
          ],
          "contourcarpet": [
           {
            "colorbar": {
             "outlinewidth": 0,
             "ticks": ""
            },
            "type": "contourcarpet"
           }
          ],
          "heatmap": [
           {
            "colorbar": {
             "outlinewidth": 0,
             "ticks": ""
            },
            "colorscale": [
             [
              0,
              "#0d0887"
             ],
             [
              0.1111111111111111,
              "#46039f"
             ],
             [
              0.2222222222222222,
              "#7201a8"
             ],
             [
              0.3333333333333333,
              "#9c179e"
             ],
             [
              0.4444444444444444,
              "#bd3786"
             ],
             [
              0.5555555555555556,
              "#d8576b"
             ],
             [
              0.6666666666666666,
              "#ed7953"
             ],
             [
              0.7777777777777778,
              "#fb9f3a"
             ],
             [
              0.8888888888888888,
              "#fdca26"
             ],
             [
              1,
              "#f0f921"
             ]
            ],
            "type": "heatmap"
           }
          ],
          "heatmapgl": [
           {
            "colorbar": {
             "outlinewidth": 0,
             "ticks": ""
            },
            "colorscale": [
             [
              0,
              "#0d0887"
             ],
             [
              0.1111111111111111,
              "#46039f"
             ],
             [
              0.2222222222222222,
              "#7201a8"
             ],
             [
              0.3333333333333333,
              "#9c179e"
             ],
             [
              0.4444444444444444,
              "#bd3786"
             ],
             [
              0.5555555555555556,
              "#d8576b"
             ],
             [
              0.6666666666666666,
              "#ed7953"
             ],
             [
              0.7777777777777778,
              "#fb9f3a"
             ],
             [
              0.8888888888888888,
              "#fdca26"
             ],
             [
              1,
              "#f0f921"
             ]
            ],
            "type": "heatmapgl"
           }
          ],
          "histogram": [
           {
            "marker": {
             "colorbar": {
              "outlinewidth": 0,
              "ticks": ""
             }
            },
            "type": "histogram"
           }
          ],
          "histogram2d": [
           {
            "colorbar": {
             "outlinewidth": 0,
             "ticks": ""
            },
            "colorscale": [
             [
              0,
              "#0d0887"
             ],
             [
              0.1111111111111111,
              "#46039f"
             ],
             [
              0.2222222222222222,
              "#7201a8"
             ],
             [
              0.3333333333333333,
              "#9c179e"
             ],
             [
              0.4444444444444444,
              "#bd3786"
             ],
             [
              0.5555555555555556,
              "#d8576b"
             ],
             [
              0.6666666666666666,
              "#ed7953"
             ],
             [
              0.7777777777777778,
              "#fb9f3a"
             ],
             [
              0.8888888888888888,
              "#fdca26"
             ],
             [
              1,
              "#f0f921"
             ]
            ],
            "type": "histogram2d"
           }
          ],
          "histogram2dcontour": [
           {
            "colorbar": {
             "outlinewidth": 0,
             "ticks": ""
            },
            "colorscale": [
             [
              0,
              "#0d0887"
             ],
             [
              0.1111111111111111,
              "#46039f"
             ],
             [
              0.2222222222222222,
              "#7201a8"
             ],
             [
              0.3333333333333333,
              "#9c179e"
             ],
             [
              0.4444444444444444,
              "#bd3786"
             ],
             [
              0.5555555555555556,
              "#d8576b"
             ],
             [
              0.6666666666666666,
              "#ed7953"
             ],
             [
              0.7777777777777778,
              "#fb9f3a"
             ],
             [
              0.8888888888888888,
              "#fdca26"
             ],
             [
              1,
              "#f0f921"
             ]
            ],
            "type": "histogram2dcontour"
           }
          ],
          "mesh3d": [
           {
            "colorbar": {
             "outlinewidth": 0,
             "ticks": ""
            },
            "type": "mesh3d"
           }
          ],
          "parcoords": [
           {
            "line": {
             "colorbar": {
              "outlinewidth": 0,
              "ticks": ""
             }
            },
            "type": "parcoords"
           }
          ],
          "pie": [
           {
            "automargin": true,
            "type": "pie"
           }
          ],
          "scatter": [
           {
            "marker": {
             "colorbar": {
              "outlinewidth": 0,
              "ticks": ""
             }
            },
            "type": "scatter"
           }
          ],
          "scatter3d": [
           {
            "line": {
             "colorbar": {
              "outlinewidth": 0,
              "ticks": ""
             }
            },
            "marker": {
             "colorbar": {
              "outlinewidth": 0,
              "ticks": ""
             }
            },
            "type": "scatter3d"
           }
          ],
          "scattercarpet": [
           {
            "marker": {
             "colorbar": {
              "outlinewidth": 0,
              "ticks": ""
             }
            },
            "type": "scattercarpet"
           }
          ],
          "scattergeo": [
           {
            "marker": {
             "colorbar": {
              "outlinewidth": 0,
              "ticks": ""
             }
            },
            "type": "scattergeo"
           }
          ],
          "scattergl": [
           {
            "marker": {
             "colorbar": {
              "outlinewidth": 0,
              "ticks": ""
             }
            },
            "type": "scattergl"
           }
          ],
          "scattermapbox": [
           {
            "marker": {
             "colorbar": {
              "outlinewidth": 0,
              "ticks": ""
             }
            },
            "type": "scattermapbox"
           }
          ],
          "scatterpolar": [
           {
            "marker": {
             "colorbar": {
              "outlinewidth": 0,
              "ticks": ""
             }
            },
            "type": "scatterpolar"
           }
          ],
          "scatterpolargl": [
           {
            "marker": {
             "colorbar": {
              "outlinewidth": 0,
              "ticks": ""
             }
            },
            "type": "scatterpolargl"
           }
          ],
          "scatterternary": [
           {
            "marker": {
             "colorbar": {
              "outlinewidth": 0,
              "ticks": ""
             }
            },
            "type": "scatterternary"
           }
          ],
          "surface": [
           {
            "colorbar": {
             "outlinewidth": 0,
             "ticks": ""
            },
            "colorscale": [
             [
              0,
              "#0d0887"
             ],
             [
              0.1111111111111111,
              "#46039f"
             ],
             [
              0.2222222222222222,
              "#7201a8"
             ],
             [
              0.3333333333333333,
              "#9c179e"
             ],
             [
              0.4444444444444444,
              "#bd3786"
             ],
             [
              0.5555555555555556,
              "#d8576b"
             ],
             [
              0.6666666666666666,
              "#ed7953"
             ],
             [
              0.7777777777777778,
              "#fb9f3a"
             ],
             [
              0.8888888888888888,
              "#fdca26"
             ],
             [
              1,
              "#f0f921"
             ]
            ],
            "type": "surface"
           }
          ],
          "table": [
           {
            "cells": {
             "fill": {
              "color": "#EBF0F8"
             },
             "line": {
              "color": "white"
             }
            },
            "header": {
             "fill": {
              "color": "#C8D4E3"
             },
             "line": {
              "color": "white"
             }
            },
            "type": "table"
           }
          ]
         },
         "layout": {
          "annotationdefaults": {
           "arrowcolor": "#2a3f5f",
           "arrowhead": 0,
           "arrowwidth": 1
          },
          "coloraxis": {
           "colorbar": {
            "outlinewidth": 0,
            "ticks": ""
           }
          },
          "colorscale": {
           "diverging": [
            [
             0,
             "#8e0152"
            ],
            [
             0.1,
             "#c51b7d"
            ],
            [
             0.2,
             "#de77ae"
            ],
            [
             0.3,
             "#f1b6da"
            ],
            [
             0.4,
             "#fde0ef"
            ],
            [
             0.5,
             "#f7f7f7"
            ],
            [
             0.6,
             "#e6f5d0"
            ],
            [
             0.7,
             "#b8e186"
            ],
            [
             0.8,
             "#7fbc41"
            ],
            [
             0.9,
             "#4d9221"
            ],
            [
             1,
             "#276419"
            ]
           ],
           "sequential": [
            [
             0,
             "#0d0887"
            ],
            [
             0.1111111111111111,
             "#46039f"
            ],
            [
             0.2222222222222222,
             "#7201a8"
            ],
            [
             0.3333333333333333,
             "#9c179e"
            ],
            [
             0.4444444444444444,
             "#bd3786"
            ],
            [
             0.5555555555555556,
             "#d8576b"
            ],
            [
             0.6666666666666666,
             "#ed7953"
            ],
            [
             0.7777777777777778,
             "#fb9f3a"
            ],
            [
             0.8888888888888888,
             "#fdca26"
            ],
            [
             1,
             "#f0f921"
            ]
           ],
           "sequentialminus": [
            [
             0,
             "#0d0887"
            ],
            [
             0.1111111111111111,
             "#46039f"
            ],
            [
             0.2222222222222222,
             "#7201a8"
            ],
            [
             0.3333333333333333,
             "#9c179e"
            ],
            [
             0.4444444444444444,
             "#bd3786"
            ],
            [
             0.5555555555555556,
             "#d8576b"
            ],
            [
             0.6666666666666666,
             "#ed7953"
            ],
            [
             0.7777777777777778,
             "#fb9f3a"
            ],
            [
             0.8888888888888888,
             "#fdca26"
            ],
            [
             1,
             "#f0f921"
            ]
           ]
          },
          "colorway": [
           "#636efa",
           "#EF553B",
           "#00cc96",
           "#ab63fa",
           "#FFA15A",
           "#19d3f3",
           "#FF6692",
           "#B6E880",
           "#FF97FF",
           "#FECB52"
          ],
          "font": {
           "color": "#2a3f5f"
          },
          "geo": {
           "bgcolor": "white",
           "lakecolor": "white",
           "landcolor": "#E5ECF6",
           "showlakes": true,
           "showland": true,
           "subunitcolor": "white"
          },
          "hoverlabel": {
           "align": "left"
          },
          "hovermode": "closest",
          "mapbox": {
           "style": "light"
          },
          "paper_bgcolor": "white",
          "plot_bgcolor": "#E5ECF6",
          "polar": {
           "angularaxis": {
            "gridcolor": "white",
            "linecolor": "white",
            "ticks": ""
           },
           "bgcolor": "#E5ECF6",
           "radialaxis": {
            "gridcolor": "white",
            "linecolor": "white",
            "ticks": ""
           }
          },
          "scene": {
           "xaxis": {
            "backgroundcolor": "#E5ECF6",
            "gridcolor": "white",
            "gridwidth": 2,
            "linecolor": "white",
            "showbackground": true,
            "ticks": "",
            "zerolinecolor": "white"
           },
           "yaxis": {
            "backgroundcolor": "#E5ECF6",
            "gridcolor": "white",
            "gridwidth": 2,
            "linecolor": "white",
            "showbackground": true,
            "ticks": "",
            "zerolinecolor": "white"
           },
           "zaxis": {
            "backgroundcolor": "#E5ECF6",
            "gridcolor": "white",
            "gridwidth": 2,
            "linecolor": "white",
            "showbackground": true,
            "ticks": "",
            "zerolinecolor": "white"
           }
          },
          "shapedefaults": {
           "line": {
            "color": "#2a3f5f"
           }
          },
          "ternary": {
           "aaxis": {
            "gridcolor": "white",
            "linecolor": "white",
            "ticks": ""
           },
           "baxis": {
            "gridcolor": "white",
            "linecolor": "white",
            "ticks": ""
           },
           "bgcolor": "#E5ECF6",
           "caxis": {
            "gridcolor": "white",
            "linecolor": "white",
            "ticks": ""
           }
          },
          "title": {
           "x": 0.05
          },
          "xaxis": {
           "automargin": true,
           "gridcolor": "white",
           "linecolor": "white",
           "ticks": "",
           "title": {
            "standoff": 15
           },
           "zerolinecolor": "white",
           "zerolinewidth": 2
          },
          "yaxis": {
           "automargin": true,
           "gridcolor": "white",
           "linecolor": "white",
           "ticks": "",
           "title": {
            "standoff": 15
           },
           "zerolinecolor": "white",
           "zerolinewidth": 2
          }
         }
        },
        "title": {
         "font": {
          "color": "#4D5663"
         }
        },
        "xaxis": {
         "anchor": "y",
         "domain": [
          0,
          0.2125
         ],
         "gridcolor": "#E1E5ED",
         "showgrid": false,
         "tickfont": {
          "color": "#4D5663"
         },
         "title": {
          "font": {
           "color": "#4D5663"
          },
          "text": ""
         },
         "zerolinecolor": "#E1E5ED"
        },
        "xaxis10": {
         "anchor": "y10",
         "domain": [
          0.2625,
          0.475
         ],
         "gridcolor": "#E1E5ED",
         "showgrid": false,
         "tickfont": {
          "color": "#4D5663"
         },
         "title": {
          "font": {
           "color": "#4D5663"
          },
          "text": ""
         },
         "zerolinecolor": "#E1E5ED"
        },
        "xaxis11": {
         "anchor": "y11",
         "domain": [
          0.525,
          0.7375
         ],
         "gridcolor": "#E1E5ED",
         "showgrid": false,
         "tickfont": {
          "color": "#4D5663"
         },
         "title": {
          "font": {
           "color": "#4D5663"
          },
          "text": ""
         },
         "zerolinecolor": "#E1E5ED"
        },
        "xaxis12": {
         "anchor": "y12",
         "domain": [
          0.7875,
          1
         ],
         "gridcolor": "#E1E5ED",
         "showgrid": false,
         "tickfont": {
          "color": "#4D5663"
         },
         "title": {
          "font": {
           "color": "#4D5663"
          },
          "text": ""
         },
         "zerolinecolor": "#E1E5ED"
        },
        "xaxis13": {
         "anchor": "y13",
         "domain": [
          0,
          0.2125
         ],
         "gridcolor": "#E1E5ED",
         "showgrid": false,
         "tickfont": {
          "color": "#4D5663"
         },
         "title": {
          "font": {
           "color": "#4D5663"
          },
          "text": ""
         },
         "zerolinecolor": "#E1E5ED"
        },
        "xaxis14": {
         "anchor": "y14",
         "domain": [
          0.2625,
          0.475
         ],
         "gridcolor": "#E1E5ED",
         "showgrid": false,
         "tickfont": {
          "color": "#4D5663"
         },
         "title": {
          "font": {
           "color": "#4D5663"
          },
          "text": ""
         },
         "zerolinecolor": "#E1E5ED"
        },
        "xaxis15": {
         "anchor": "y15",
         "domain": [
          0.525,
          0.7375
         ],
         "gridcolor": "#E1E5ED",
         "showgrid": false,
         "tickfont": {
          "color": "#4D5663"
         },
         "title": {
          "font": {
           "color": "#4D5663"
          },
          "text": ""
         },
         "zerolinecolor": "#E1E5ED"
        },
        "xaxis16": {
         "anchor": "y16",
         "domain": [
          0.7875,
          1
         ],
         "gridcolor": "#E1E5ED",
         "showgrid": false,
         "tickfont": {
          "color": "#4D5663"
         },
         "title": {
          "font": {
           "color": "#4D5663"
          },
          "text": ""
         },
         "zerolinecolor": "#E1E5ED"
        },
        "xaxis2": {
         "anchor": "y2",
         "domain": [
          0.2625,
          0.475
         ],
         "gridcolor": "#E1E5ED",
         "showgrid": false,
         "tickfont": {
          "color": "#4D5663"
         },
         "title": {
          "font": {
           "color": "#4D5663"
          },
          "text": ""
         },
         "zerolinecolor": "#E1E5ED"
        },
        "xaxis3": {
         "anchor": "y3",
         "domain": [
          0.525,
          0.7375
         ],
         "gridcolor": "#E1E5ED",
         "showgrid": false,
         "tickfont": {
          "color": "#4D5663"
         },
         "title": {
          "font": {
           "color": "#4D5663"
          },
          "text": ""
         },
         "zerolinecolor": "#E1E5ED"
        },
        "xaxis4": {
         "anchor": "y4",
         "domain": [
          0.7875,
          1
         ],
         "gridcolor": "#E1E5ED",
         "showgrid": false,
         "tickfont": {
          "color": "#4D5663"
         },
         "title": {
          "font": {
           "color": "#4D5663"
          },
          "text": ""
         },
         "zerolinecolor": "#E1E5ED"
        },
        "xaxis5": {
         "anchor": "y5",
         "domain": [
          0,
          0.2125
         ],
         "gridcolor": "#E1E5ED",
         "showgrid": false,
         "tickfont": {
          "color": "#4D5663"
         },
         "title": {
          "font": {
           "color": "#4D5663"
          },
          "text": ""
         },
         "zerolinecolor": "#E1E5ED"
        },
        "xaxis6": {
         "anchor": "y6",
         "domain": [
          0.2625,
          0.475
         ],
         "gridcolor": "#E1E5ED",
         "showgrid": false,
         "tickfont": {
          "color": "#4D5663"
         },
         "title": {
          "font": {
           "color": "#4D5663"
          },
          "text": ""
         },
         "zerolinecolor": "#E1E5ED"
        },
        "xaxis7": {
         "anchor": "y7",
         "domain": [
          0.525,
          0.7375
         ],
         "gridcolor": "#E1E5ED",
         "showgrid": false,
         "tickfont": {
          "color": "#4D5663"
         },
         "title": {
          "font": {
           "color": "#4D5663"
          },
          "text": ""
         },
         "zerolinecolor": "#E1E5ED"
        },
        "xaxis8": {
         "anchor": "y8",
         "domain": [
          0.7875,
          1
         ],
         "gridcolor": "#E1E5ED",
         "showgrid": false,
         "tickfont": {
          "color": "#4D5663"
         },
         "title": {
          "font": {
           "color": "#4D5663"
          },
          "text": ""
         },
         "zerolinecolor": "#E1E5ED"
        },
        "xaxis9": {
         "anchor": "y9",
         "domain": [
          0,
          0.2125
         ],
         "gridcolor": "#E1E5ED",
         "showgrid": false,
         "tickfont": {
          "color": "#4D5663"
         },
         "title": {
          "font": {
           "color": "#4D5663"
          },
          "text": ""
         },
         "zerolinecolor": "#E1E5ED"
        },
        "yaxis": {
         "anchor": "x",
         "domain": [
          0.8025,
          1
         ],
         "gridcolor": "#E1E5ED",
         "showgrid": false,
         "tickfont": {
          "color": "#4D5663"
         },
         "title": {
          "font": {
           "color": "#4D5663"
          },
          "text": ""
         },
         "zerolinecolor": "#E1E5ED"
        },
        "yaxis10": {
         "anchor": "x10",
         "domain": [
          0.2675,
          0.465
         ],
         "gridcolor": "#E1E5ED",
         "showgrid": false,
         "tickfont": {
          "color": "#4D5663"
         },
         "title": {
          "font": {
           "color": "#4D5663"
          },
          "text": ""
         },
         "zerolinecolor": "#E1E5ED"
        },
        "yaxis11": {
         "anchor": "x11",
         "domain": [
          0.2675,
          0.465
         ],
         "gridcolor": "#E1E5ED",
         "showgrid": false,
         "tickfont": {
          "color": "#4D5663"
         },
         "title": {
          "font": {
           "color": "#4D5663"
          },
          "text": ""
         },
         "zerolinecolor": "#E1E5ED"
        },
        "yaxis12": {
         "anchor": "x12",
         "domain": [
          0.2675,
          0.465
         ],
         "gridcolor": "#E1E5ED",
         "showgrid": false,
         "tickfont": {
          "color": "#4D5663"
         },
         "title": {
          "font": {
           "color": "#4D5663"
          },
          "text": ""
         },
         "zerolinecolor": "#E1E5ED"
        },
        "yaxis13": {
         "anchor": "x13",
         "domain": [
          0,
          0.1975
         ],
         "gridcolor": "#E1E5ED",
         "showgrid": false,
         "tickfont": {
          "color": "#4D5663"
         },
         "title": {
          "font": {
           "color": "#4D5663"
          },
          "text": ""
         },
         "zerolinecolor": "#E1E5ED"
        },
        "yaxis14": {
         "anchor": "x14",
         "domain": [
          0,
          0.1975
         ],
         "gridcolor": "#E1E5ED",
         "showgrid": false,
         "tickfont": {
          "color": "#4D5663"
         },
         "title": {
          "font": {
           "color": "#4D5663"
          },
          "text": ""
         },
         "zerolinecolor": "#E1E5ED"
        },
        "yaxis15": {
         "anchor": "x15",
         "domain": [
          0,
          0.1975
         ],
         "gridcolor": "#E1E5ED",
         "showgrid": false,
         "tickfont": {
          "color": "#4D5663"
         },
         "title": {
          "font": {
           "color": "#4D5663"
          },
          "text": ""
         },
         "zerolinecolor": "#E1E5ED"
        },
        "yaxis16": {
         "anchor": "x16",
         "domain": [
          0,
          0.1975
         ],
         "gridcolor": "#E1E5ED",
         "showgrid": false,
         "tickfont": {
          "color": "#4D5663"
         },
         "title": {
          "font": {
           "color": "#4D5663"
          },
          "text": ""
         },
         "zerolinecolor": "#E1E5ED"
        },
        "yaxis2": {
         "anchor": "x2",
         "domain": [
          0.8025,
          1
         ],
         "gridcolor": "#E1E5ED",
         "showgrid": false,
         "tickfont": {
          "color": "#4D5663"
         },
         "title": {
          "font": {
           "color": "#4D5663"
          },
          "text": ""
         },
         "zerolinecolor": "#E1E5ED"
        },
        "yaxis3": {
         "anchor": "x3",
         "domain": [
          0.8025,
          1
         ],
         "gridcolor": "#E1E5ED",
         "showgrid": false,
         "tickfont": {
          "color": "#4D5663"
         },
         "title": {
          "font": {
           "color": "#4D5663"
          },
          "text": ""
         },
         "zerolinecolor": "#E1E5ED"
        },
        "yaxis4": {
         "anchor": "x4",
         "domain": [
          0.8025,
          1
         ],
         "gridcolor": "#E1E5ED",
         "showgrid": false,
         "tickfont": {
          "color": "#4D5663"
         },
         "title": {
          "font": {
           "color": "#4D5663"
          },
          "text": ""
         },
         "zerolinecolor": "#E1E5ED"
        },
        "yaxis5": {
         "anchor": "x5",
         "domain": [
          0.535,
          0.7325
         ],
         "gridcolor": "#E1E5ED",
         "showgrid": false,
         "tickfont": {
          "color": "#4D5663"
         },
         "title": {
          "font": {
           "color": "#4D5663"
          },
          "text": ""
         },
         "zerolinecolor": "#E1E5ED"
        },
        "yaxis6": {
         "anchor": "x6",
         "domain": [
          0.535,
          0.7325
         ],
         "gridcolor": "#E1E5ED",
         "showgrid": false,
         "tickfont": {
          "color": "#4D5663"
         },
         "title": {
          "font": {
           "color": "#4D5663"
          },
          "text": ""
         },
         "zerolinecolor": "#E1E5ED"
        },
        "yaxis7": {
         "anchor": "x7",
         "domain": [
          0.535,
          0.7325
         ],
         "gridcolor": "#E1E5ED",
         "showgrid": false,
         "tickfont": {
          "color": "#4D5663"
         },
         "title": {
          "font": {
           "color": "#4D5663"
          },
          "text": ""
         },
         "zerolinecolor": "#E1E5ED"
        },
        "yaxis8": {
         "anchor": "x8",
         "domain": [
          0.535,
          0.7325
         ],
         "gridcolor": "#E1E5ED",
         "showgrid": false,
         "tickfont": {
          "color": "#4D5663"
         },
         "title": {
          "font": {
           "color": "#4D5663"
          },
          "text": ""
         },
         "zerolinecolor": "#E1E5ED"
        },
        "yaxis9": {
         "anchor": "x9",
         "domain": [
          0.2675,
          0.465
         ],
         "gridcolor": "#E1E5ED",
         "showgrid": false,
         "tickfont": {
          "color": "#4D5663"
         },
         "title": {
          "font": {
           "color": "#4D5663"
          },
          "text": ""
         },
         "zerolinecolor": "#E1E5ED"
        }
       }
      },
      "text/html": [
       "<div>\n",
       "        \n",
       "        \n",
       "            <div id=\"5163012c-c56e-4917-97e5-80372e31e7a2\" class=\"plotly-graph-div\" style=\"height:525px; width:100%;\"></div>\n",
       "            <script type=\"text/javascript\">\n",
       "                require([\"plotly\"], function(Plotly) {\n",
       "                    window.PLOTLYENV=window.PLOTLYENV || {};\n",
       "                    window.PLOTLYENV.BASE_URL='https://plot.ly';\n",
       "                    \n",
       "                if (document.getElementById(\"5163012c-c56e-4917-97e5-80372e31e7a2\")) {\n",
       "                    Plotly.newPlot(\n",
       "                        '5163012c-c56e-4917-97e5-80372e31e7a2',\n",
       "                        [{\"histfunc\": \"count\", \"histnorm\": \"\", \"marker\": {\"color\": \"rgba(255, 153, 51, 1.0)\", \"line\": {\"color\": \"#4D5663\", \"width\": 1.3}}, \"name\": \"A\", \"nbinsx\": 10, \"opacity\": 0.8, \"orientation\": \"v\", \"type\": \"histogram\", \"x\": [0.8565004406896697, 0.616667033466685, 0.9298916478237453, -1.6724634436675336, -0.019950485747430385, -0.32800911299570507, -0.520848431309861, -1.30147296225039, 0.918170020841073, -0.003030796847175438, 1.8515261305902329, -2.4657644444358904, -1.439356632219261, 0.15387753978794932, 0.07641025126858664, 0.05696079491628426, 0.994002604240455, 1.3063555379994916, 0.11680196973249214, -0.06144614746125791, 0.16965506162971544, -1.5592095724925938, 1.7362505416468237, -0.5158156181616896, 0.3112988643540849, 0.6367371116974732, -1.5536536001503518, -1.7685320204209458, -0.5392754585148415, 0.10192996646476966, 0.5568460660823932, 0.4092568775144538, 0.6425257437679849, 0.09284381524121892, 1.7894845246730584, -1.5779423255162153, -1.789479229742878, 0.7609651113838944, -0.6674139141954538, -0.4214512133650312, -0.44539736631937926, 0.5186930794439539, -1.0086390260505254, 0.7345811131541214, -0.8682151792015697, -0.5138030956228592, 2.44506810870039, -0.48872333105082555, 1.3671166266258052, -0.01753294451379828, 0.11685967207261917, 1.0155837704561772, -0.5150792361553516, -0.4189522845684282, -1.671800498378324, 0.00849610436739744, -0.895038429064667, -0.7234219959912285, 0.206272727623923, 0.3226173070103636, -0.4358213189085439, 1.485019297233284, 1.3145577597333455, 1.1418099258834655, 0.3899155275990936, 0.6744845811903896, -1.5421747306588416, 0.10759935916787118, -0.29174756418219683, 0.4816850364526941, 0.06383954088766132, 0.805862380002143, 1.7922318721731754, 0.7711332871154744, 1.5493299640694245, 2.1568955364366897, 1.1670866728363158, 0.7987843837817445, 0.5924788058898702, 0.46868961780136764, 0.041509628887594935, 1.4403527221146417, 0.06159499985984685, -0.37884426150130707, -0.5712864766608926, -0.05456501732571868, -1.374456821319399, -0.29150627018452924, -0.5060841247039243, -0.9116186430932947, -0.03191657470382843, -1.1907703476630989, -0.2240749488357738, 0.9880910702602029, -0.6027601036139539, -0.804412324683554, -0.42504929417141835, 0.23827330110499453, 1.2763718707572826, -0.6127361720543995], \"xaxis\": \"x\", \"yaxis\": \"y\"}, {\"line\": {\"color\": \"rgba(128, 128, 128, 1.0)\", \"dash\": \"solid\", \"shape\": \"linear\", \"width\": 1.3}, \"marker\": {\"size\": 2, \"symbol\": \"circle\"}, \"mode\": \"markers\", \"name\": \"A\", \"text\": \"\", \"type\": \"scatter\", \"x\": [1.475589520025869, 0.058193690147613136, 0.8858587130605142, -1.0062473781673018, 0.46803675911740583, 1.8876584534559304, 1.0068376194540218, 0.20649832656467781, -0.3831842413954928, 0.8146880661445408, 0.7525580546906689, -0.9499437266514072, -0.5124677266513444, -0.07070799266437955, 0.24842935771077734, -0.47466919918713246, 0.1329640121766927, 0.7101899364369233, -0.8129158041745252, -0.9065188940398232, -0.576101023436274, 0.7211521933563564, 0.4980075228147292, -0.4772199892654312, -0.25876529291204786, 0.02805869936306022, -1.1120841762313531, -0.34773983569211936, 0.5592457342025116, -2.2329856221230426, 1.244429738539221, -0.3558037971356808, -1.7071760167849175, -0.38601241809639797, -1.2101106786862859, 0.39581149532187293, -1.613409089316727, -0.017707675178522137, -0.51674385539429, 0.5508169727530585, -0.7657147803155174, 2.102266470888824, -1.9500668951535425, 0.08582168052356781, -1.2031543487810075, 0.09047246874201739, -1.2046473795482855, 0.057008372010706757, -0.6793292136001533, -0.16868751384288672, 0.013752896177967523, 0.13559208744343473, -0.9630115477948523, 0.7230504579164195, -0.7957538189923294, -0.5367136225824187, -1.0077205412350119, -1.7914055716137376, -1.230050510713824, 0.8679372146419765, 0.016712192818447498, -1.7296404941674273, 0.6279507372489606, 2.2072101493033247, -1.426478309767374, -0.10793231034668634, 0.2825793489947289, -1.980919281504627, 1.355967324544568, -0.7001789060327122, -1.2722359256963178, 0.09299395157163394, 0.9666985831548762, -0.3146817160528018, 0.5624621245870179, -0.4257065060814728, 2.8239069121719327, -0.6597234857277737, 0.045685732120529614, -0.01918897826138856, 0.19400035829565307, 0.331512334519879, -0.14894837996905405, -0.35260660854332354, 0.4922341899645374, 0.512147456731329, 0.06474390398539126, 2.3772022790380962, 0.4500853579083613, -0.6527657639931757, -0.047316453982068685, 0.4678256940750706, -0.5795657304715769, -1.2899242922557217, -0.3685463537980794, 0.25886314902995966, -0.659454095923306, -0.28299923424564427, -1.3644779963994549, -0.07484015266979967], \"xaxis\": \"x2\", \"y\": [0.8565004406896697, 0.616667033466685, 0.9298916478237453, -1.6724634436675336, -0.019950485747430385, -0.32800911299570507, -0.520848431309861, -1.30147296225039, 0.918170020841073, -0.003030796847175438, 1.8515261305902329, -2.4657644444358904, -1.439356632219261, 0.15387753978794932, 0.07641025126858664, 0.05696079491628426, 0.994002604240455, 1.3063555379994916, 0.11680196973249214, -0.06144614746125791, 0.16965506162971544, -1.5592095724925938, 1.7362505416468237, -0.5158156181616896, 0.3112988643540849, 0.6367371116974732, -1.5536536001503518, -1.7685320204209458, -0.5392754585148415, 0.10192996646476966, 0.5568460660823932, 0.4092568775144538, 0.6425257437679849, 0.09284381524121892, 1.7894845246730584, -1.5779423255162153, -1.789479229742878, 0.7609651113838944, -0.6674139141954538, -0.4214512133650312, -0.44539736631937926, 0.5186930794439539, -1.0086390260505254, 0.7345811131541214, -0.8682151792015697, -0.5138030956228592, 2.44506810870039, -0.48872333105082555, 1.3671166266258052, -0.01753294451379828, 0.11685967207261917, 1.0155837704561772, -0.5150792361553516, -0.4189522845684282, -1.671800498378324, 0.00849610436739744, -0.895038429064667, -0.7234219959912285, 0.206272727623923, 0.3226173070103636, -0.4358213189085439, 1.485019297233284, 1.3145577597333455, 1.1418099258834655, 0.3899155275990936, 0.6744845811903896, -1.5421747306588416, 0.10759935916787118, -0.29174756418219683, 0.4816850364526941, 0.06383954088766132, 0.805862380002143, 1.7922318721731754, 0.7711332871154744, 1.5493299640694245, 2.1568955364366897, 1.1670866728363158, 0.7987843837817445, 0.5924788058898702, 0.46868961780136764, 0.041509628887594935, 1.4403527221146417, 0.06159499985984685, -0.37884426150130707, -0.5712864766608926, -0.05456501732571868, -1.374456821319399, -0.29150627018452924, -0.5060841247039243, -0.9116186430932947, -0.03191657470382843, -1.1907703476630989, -0.2240749488357738, 0.9880910702602029, -0.6027601036139539, -0.804412324683554, -0.42504929417141835, 0.23827330110499453, 1.2763718707572826, -0.6127361720543995], \"yaxis\": \"y2\"}, {\"line\": {\"color\": \"rgba(128, 128, 128, 1.0)\", \"dash\": \"solid\", \"shape\": \"linear\", \"width\": 1.3}, \"marker\": {\"size\": 2, \"symbol\": \"circle\"}, \"mode\": \"markers\", \"name\": \"A\", \"text\": \"\", \"type\": \"scatter\", \"x\": [0.09536454976164993, -1.979873229425567, -0.8006171220144002, -1.4085439333951777, 0.08547942854432763, -0.008826093278719568, -0.2991548029353947, 0.2576029505630603, 0.8795221488870283, -0.07200754103600952, -0.046151183479252546, 0.3374454762825173, -0.6779825948518686, -0.09763964035505414, 1.599220362888875, 0.17648750653606524, 0.18213753336434174, -0.9245131437491316, 2.050342741577169, -0.11525257001200029, -0.3081347973723833, -0.34588166791003433, -0.33520708347079836, -1.0388186655706726, 0.46110275587050625, -0.5761386680731327, 0.8801801412081522, -0.5334511453174319, 2.179848881496895, 0.8510521398255604, -1.302215746186497, -0.2758653764454315, 0.4229725742656263, -0.6854796038539009, -0.46825269421393273, -0.059917604332156246, 0.27907495323068693, -0.4774644670954662, 0.5112678302701621, -2.653886389514963, 0.5602132803496599, -0.09368145292452275, -0.5108472428829691, -0.0049541575064123555, 0.8263529754001935, -1.0298167166950276, 0.11615194577730661, -0.033485373062486425, -0.5023586159199206, -0.5343264848054067, 1.2563645314112177, -0.670756044789189, 0.04086236619495206, -0.48491239039460976, 0.8368010161808237, -1.4747359948647716, -0.678626261666939, 0.055916347271540726, -0.665548308946417, -0.7349920467327229, 1.1431344385353945, 0.10272624712609245, 2.0337920267866245, -0.25664343368236386, 0.3270272774134318, -0.9161936736943582, 0.6640500241172738, 0.45816299396646826, 1.479109563408102, -1.0801874426617148, 0.8645323939687818, 1.556299817995986, -0.19584520336043118, -0.6074092807738445, -0.7036813686304971, -0.2522157220017819, 1.9265828118823523, -1.5812188150203852, 0.109577170426578, 1.7041087583411898, -1.6958191071790105, -1.6508695078091753, -0.14063194438965274, 0.9241987280821946, 0.8150487836869047, 0.5931459555812096, 1.5264875107240874, 0.9944396469378712, -1.3785578513262233, 0.29406582022837885, -0.3913540100322184, -0.3505245746885777, 0.01771170232228889, -0.42157829849596756, -1.130644127991805, 0.44140298627012853, 0.3749867305185496, -0.2891992005348076, -0.9140427672546457, 0.962493619611387], \"xaxis\": \"x3\", \"y\": [0.8565004406896697, 0.616667033466685, 0.9298916478237453, -1.6724634436675336, -0.019950485747430385, -0.32800911299570507, -0.520848431309861, -1.30147296225039, 0.918170020841073, -0.003030796847175438, 1.8515261305902329, -2.4657644444358904, -1.439356632219261, 0.15387753978794932, 0.07641025126858664, 0.05696079491628426, 0.994002604240455, 1.3063555379994916, 0.11680196973249214, -0.06144614746125791, 0.16965506162971544, -1.5592095724925938, 1.7362505416468237, -0.5158156181616896, 0.3112988643540849, 0.6367371116974732, -1.5536536001503518, -1.7685320204209458, -0.5392754585148415, 0.10192996646476966, 0.5568460660823932, 0.4092568775144538, 0.6425257437679849, 0.09284381524121892, 1.7894845246730584, -1.5779423255162153, -1.789479229742878, 0.7609651113838944, -0.6674139141954538, -0.4214512133650312, -0.44539736631937926, 0.5186930794439539, -1.0086390260505254, 0.7345811131541214, -0.8682151792015697, -0.5138030956228592, 2.44506810870039, -0.48872333105082555, 1.3671166266258052, -0.01753294451379828, 0.11685967207261917, 1.0155837704561772, -0.5150792361553516, -0.4189522845684282, -1.671800498378324, 0.00849610436739744, -0.895038429064667, -0.7234219959912285, 0.206272727623923, 0.3226173070103636, -0.4358213189085439, 1.485019297233284, 1.3145577597333455, 1.1418099258834655, 0.3899155275990936, 0.6744845811903896, -1.5421747306588416, 0.10759935916787118, -0.29174756418219683, 0.4816850364526941, 0.06383954088766132, 0.805862380002143, 1.7922318721731754, 0.7711332871154744, 1.5493299640694245, 2.1568955364366897, 1.1670866728363158, 0.7987843837817445, 0.5924788058898702, 0.46868961780136764, 0.041509628887594935, 1.4403527221146417, 0.06159499985984685, -0.37884426150130707, -0.5712864766608926, -0.05456501732571868, -1.374456821319399, -0.29150627018452924, -0.5060841247039243, -0.9116186430932947, -0.03191657470382843, -1.1907703476630989, -0.2240749488357738, 0.9880910702602029, -0.6027601036139539, -0.804412324683554, -0.42504929417141835, 0.23827330110499453, 1.2763718707572826, -0.6127361720543995], \"yaxis\": \"y3\"}, {\"line\": {\"color\": \"rgba(128, 128, 128, 1.0)\", \"dash\": \"solid\", \"shape\": \"linear\", \"width\": 1.3}, \"marker\": {\"size\": 2, \"symbol\": \"circle\"}, \"mode\": \"markers\", \"name\": \"A\", \"text\": \"\", \"type\": \"scatter\", \"x\": [-2.8371083245496616, 0.18726671943935058, -0.635752704507406, 0.31204885311241765, -1.6884623420901927, -2.218046636438145, 0.8005326796231135, 0.2571323568177598, -0.7517794685927304, 0.7141700622967905, -0.7034274370151249, 1.7601916791167034, -0.695062955483073, -0.2605103364893929, -0.46730855079440314, 0.7343327121690637, -0.9815267713197737, 0.08934937710201019, 1.2228982710514336, -0.2558313016025286, 0.08473537705506456, -0.2831432143808916, -0.5078694189178844, 1.3868024785701536, -0.5953077204912341, 1.848884077889904, 1.5390355127582946, 0.028268872843309582, -0.595582478100544, 1.5427013777117144, -0.5267129535115503, -2.2191309716885237, 0.0526380368058972, -1.362504559433225, 0.347626808410747, -0.23159946754631258, -0.4455793612367743, -0.06588596165374287, -1.3878920907572154, -1.008227288385752, 0.5214377993630165, -0.018950103896625235, -0.14910350029198688, -0.5731720468029629, -0.9448239720268437, -0.22647219243858305, 0.23146433215176052, 0.893712658602652, -0.6793475172366461, 1.6732234146359781, 1.3376624235505683, -2.2775249667085014, -0.35725965871140325, -0.4866196631848915, 0.5221645015016327, -2.3512699124364085, -0.5692428042702953, 0.10925410215289443, -0.36194004921095924, 0.6334634171826902, -0.989516778828704, 1.5894450940447842, 1.6504996902903266, 0.08065315455009567, 0.06506507570552242, -0.2945574392855909, 0.5163758035262357, 0.7920140242556639, -1.1531881291574442, -0.45478802547050956, 0.4148567561667146, -1.6225514034438266, -0.05256397906113001, -0.856629342427809, -1.128943548249932, 2.591930395771614, -1.510629341644163, 0.08673476546190459, 0.2710878959149094, -0.38617512562306183, -0.25179677654739074, -0.23088214790287442, -2.2421051954884854, 0.22438491327880083, 0.3358240185176065, -1.9844158775313674, -1.1360740539664844, -0.5211490606702568, 0.0976208293459543, 1.6774681184560594, 1.7459282462631893, -2.0453097398102043, 0.7010203333543181, -0.42683017154972774, -0.5401712869994386, -0.38687846178588225, -0.9066203932855437, 1.0269121046221774, 0.507489187083504, 1.9548992675904575], \"xaxis\": \"x4\", \"y\": [0.8565004406896697, 0.616667033466685, 0.9298916478237453, -1.6724634436675336, -0.019950485747430385, -0.32800911299570507, -0.520848431309861, -1.30147296225039, 0.918170020841073, -0.003030796847175438, 1.8515261305902329, -2.4657644444358904, -1.439356632219261, 0.15387753978794932, 0.07641025126858664, 0.05696079491628426, 0.994002604240455, 1.3063555379994916, 0.11680196973249214, -0.06144614746125791, 0.16965506162971544, -1.5592095724925938, 1.7362505416468237, -0.5158156181616896, 0.3112988643540849, 0.6367371116974732, -1.5536536001503518, -1.7685320204209458, -0.5392754585148415, 0.10192996646476966, 0.5568460660823932, 0.4092568775144538, 0.6425257437679849, 0.09284381524121892, 1.7894845246730584, -1.5779423255162153, -1.789479229742878, 0.7609651113838944, -0.6674139141954538, -0.4214512133650312, -0.44539736631937926, 0.5186930794439539, -1.0086390260505254, 0.7345811131541214, -0.8682151792015697, -0.5138030956228592, 2.44506810870039, -0.48872333105082555, 1.3671166266258052, -0.01753294451379828, 0.11685967207261917, 1.0155837704561772, -0.5150792361553516, -0.4189522845684282, -1.671800498378324, 0.00849610436739744, -0.895038429064667, -0.7234219959912285, 0.206272727623923, 0.3226173070103636, -0.4358213189085439, 1.485019297233284, 1.3145577597333455, 1.1418099258834655, 0.3899155275990936, 0.6744845811903896, -1.5421747306588416, 0.10759935916787118, -0.29174756418219683, 0.4816850364526941, 0.06383954088766132, 0.805862380002143, 1.7922318721731754, 0.7711332871154744, 1.5493299640694245, 2.1568955364366897, 1.1670866728363158, 0.7987843837817445, 0.5924788058898702, 0.46868961780136764, 0.041509628887594935, 1.4403527221146417, 0.06159499985984685, -0.37884426150130707, -0.5712864766608926, -0.05456501732571868, -1.374456821319399, -0.29150627018452924, -0.5060841247039243, -0.9116186430932947, -0.03191657470382843, -1.1907703476630989, -0.2240749488357738, 0.9880910702602029, -0.6027601036139539, -0.804412324683554, -0.42504929417141835, 0.23827330110499453, 1.2763718707572826, -0.6127361720543995], \"yaxis\": \"y4\"}, {\"line\": {\"color\": \"rgba(128, 128, 128, 1.0)\", \"dash\": \"solid\", \"shape\": \"linear\", \"width\": 1.3}, \"marker\": {\"size\": 2, \"symbol\": \"circle\"}, \"mode\": \"markers\", \"name\": \"B\", \"text\": \"\", \"type\": \"scatter\", \"x\": [0.8565004406896697, 0.616667033466685, 0.9298916478237453, -1.6724634436675336, -0.019950485747430385, -0.32800911299570507, -0.520848431309861, -1.30147296225039, 0.918170020841073, -0.003030796847175438, 1.8515261305902329, -2.4657644444358904, -1.439356632219261, 0.15387753978794932, 0.07641025126858664, 0.05696079491628426, 0.994002604240455, 1.3063555379994916, 0.11680196973249214, -0.06144614746125791, 0.16965506162971544, -1.5592095724925938, 1.7362505416468237, -0.5158156181616896, 0.3112988643540849, 0.6367371116974732, -1.5536536001503518, -1.7685320204209458, -0.5392754585148415, 0.10192996646476966, 0.5568460660823932, 0.4092568775144538, 0.6425257437679849, 0.09284381524121892, 1.7894845246730584, -1.5779423255162153, -1.789479229742878, 0.7609651113838944, -0.6674139141954538, -0.4214512133650312, -0.44539736631937926, 0.5186930794439539, -1.0086390260505254, 0.7345811131541214, -0.8682151792015697, -0.5138030956228592, 2.44506810870039, -0.48872333105082555, 1.3671166266258052, -0.01753294451379828, 0.11685967207261917, 1.0155837704561772, -0.5150792361553516, -0.4189522845684282, -1.671800498378324, 0.00849610436739744, -0.895038429064667, -0.7234219959912285, 0.206272727623923, 0.3226173070103636, -0.4358213189085439, 1.485019297233284, 1.3145577597333455, 1.1418099258834655, 0.3899155275990936, 0.6744845811903896, -1.5421747306588416, 0.10759935916787118, -0.29174756418219683, 0.4816850364526941, 0.06383954088766132, 0.805862380002143, 1.7922318721731754, 0.7711332871154744, 1.5493299640694245, 2.1568955364366897, 1.1670866728363158, 0.7987843837817445, 0.5924788058898702, 0.46868961780136764, 0.041509628887594935, 1.4403527221146417, 0.06159499985984685, -0.37884426150130707, -0.5712864766608926, -0.05456501732571868, -1.374456821319399, -0.29150627018452924, -0.5060841247039243, -0.9116186430932947, -0.03191657470382843, -1.1907703476630989, -0.2240749488357738, 0.9880910702602029, -0.6027601036139539, -0.804412324683554, -0.42504929417141835, 0.23827330110499453, 1.2763718707572826, -0.6127361720543995], \"xaxis\": \"x5\", \"y\": [1.475589520025869, 0.058193690147613136, 0.8858587130605142, -1.0062473781673018, 0.46803675911740583, 1.8876584534559304, 1.0068376194540218, 0.20649832656467781, -0.3831842413954928, 0.8146880661445408, 0.7525580546906689, -0.9499437266514072, -0.5124677266513444, -0.07070799266437955, 0.24842935771077734, -0.47466919918713246, 0.1329640121766927, 0.7101899364369233, -0.8129158041745252, -0.9065188940398232, -0.576101023436274, 0.7211521933563564, 0.4980075228147292, -0.4772199892654312, -0.25876529291204786, 0.02805869936306022, -1.1120841762313531, -0.34773983569211936, 0.5592457342025116, -2.2329856221230426, 1.244429738539221, -0.3558037971356808, -1.7071760167849175, -0.38601241809639797, -1.2101106786862859, 0.39581149532187293, -1.613409089316727, -0.017707675178522137, -0.51674385539429, 0.5508169727530585, -0.7657147803155174, 2.102266470888824, -1.9500668951535425, 0.08582168052356781, -1.2031543487810075, 0.09047246874201739, -1.2046473795482855, 0.057008372010706757, -0.6793292136001533, -0.16868751384288672, 0.013752896177967523, 0.13559208744343473, -0.9630115477948523, 0.7230504579164195, -0.7957538189923294, -0.5367136225824187, -1.0077205412350119, -1.7914055716137376, -1.230050510713824, 0.8679372146419765, 0.016712192818447498, -1.7296404941674273, 0.6279507372489606, 2.2072101493033247, -1.426478309767374, -0.10793231034668634, 0.2825793489947289, -1.980919281504627, 1.355967324544568, -0.7001789060327122, -1.2722359256963178, 0.09299395157163394, 0.9666985831548762, -0.3146817160528018, 0.5624621245870179, -0.4257065060814728, 2.8239069121719327, -0.6597234857277737, 0.045685732120529614, -0.01918897826138856, 0.19400035829565307, 0.331512334519879, -0.14894837996905405, -0.35260660854332354, 0.4922341899645374, 0.512147456731329, 0.06474390398539126, 2.3772022790380962, 0.4500853579083613, -0.6527657639931757, -0.047316453982068685, 0.4678256940750706, -0.5795657304715769, -1.2899242922557217, -0.3685463537980794, 0.25886314902995966, -0.659454095923306, -0.28299923424564427, -1.3644779963994549, -0.07484015266979967], \"yaxis\": \"y5\"}, {\"histfunc\": \"count\", \"histnorm\": \"\", \"marker\": {\"color\": \"rgba(55, 128, 191, 1.0)\", \"line\": {\"color\": \"#4D5663\", \"width\": 1.3}}, \"name\": \"B\", \"nbinsx\": 10, \"opacity\": 0.8, \"orientation\": \"v\", \"type\": \"histogram\", \"x\": [1.475589520025869, 0.058193690147613136, 0.8858587130605142, -1.0062473781673018, 0.46803675911740583, 1.8876584534559304, 1.0068376194540218, 0.20649832656467781, -0.3831842413954928, 0.8146880661445408, 0.7525580546906689, -0.9499437266514072, -0.5124677266513444, -0.07070799266437955, 0.24842935771077734, -0.47466919918713246, 0.1329640121766927, 0.7101899364369233, -0.8129158041745252, -0.9065188940398232, -0.576101023436274, 0.7211521933563564, 0.4980075228147292, -0.4772199892654312, -0.25876529291204786, 0.02805869936306022, -1.1120841762313531, -0.34773983569211936, 0.5592457342025116, -2.2329856221230426, 1.244429738539221, -0.3558037971356808, -1.7071760167849175, -0.38601241809639797, -1.2101106786862859, 0.39581149532187293, -1.613409089316727, -0.017707675178522137, -0.51674385539429, 0.5508169727530585, -0.7657147803155174, 2.102266470888824, -1.9500668951535425, 0.08582168052356781, -1.2031543487810075, 0.09047246874201739, -1.2046473795482855, 0.057008372010706757, -0.6793292136001533, -0.16868751384288672, 0.013752896177967523, 0.13559208744343473, -0.9630115477948523, 0.7230504579164195, -0.7957538189923294, -0.5367136225824187, -1.0077205412350119, -1.7914055716137376, -1.230050510713824, 0.8679372146419765, 0.016712192818447498, -1.7296404941674273, 0.6279507372489606, 2.2072101493033247, -1.426478309767374, -0.10793231034668634, 0.2825793489947289, -1.980919281504627, 1.355967324544568, -0.7001789060327122, -1.2722359256963178, 0.09299395157163394, 0.9666985831548762, -0.3146817160528018, 0.5624621245870179, -0.4257065060814728, 2.8239069121719327, -0.6597234857277737, 0.045685732120529614, -0.01918897826138856, 0.19400035829565307, 0.331512334519879, -0.14894837996905405, -0.35260660854332354, 0.4922341899645374, 0.512147456731329, 0.06474390398539126, 2.3772022790380962, 0.4500853579083613, -0.6527657639931757, -0.047316453982068685, 0.4678256940750706, -0.5795657304715769, -1.2899242922557217, -0.3685463537980794, 0.25886314902995966, -0.659454095923306, -0.28299923424564427, -1.3644779963994549, -0.07484015266979967], \"xaxis\": \"x6\", \"yaxis\": \"y6\"}, {\"line\": {\"color\": \"rgba(128, 128, 128, 1.0)\", \"dash\": \"solid\", \"shape\": \"linear\", \"width\": 1.3}, \"marker\": {\"size\": 2, \"symbol\": \"circle\"}, \"mode\": \"markers\", \"name\": \"B\", \"text\": \"\", \"type\": \"scatter\", \"x\": [0.09536454976164993, -1.979873229425567, -0.8006171220144002, -1.4085439333951777, 0.08547942854432763, -0.008826093278719568, -0.2991548029353947, 0.2576029505630603, 0.8795221488870283, -0.07200754103600952, -0.046151183479252546, 0.3374454762825173, -0.6779825948518686, -0.09763964035505414, 1.599220362888875, 0.17648750653606524, 0.18213753336434174, -0.9245131437491316, 2.050342741577169, -0.11525257001200029, -0.3081347973723833, -0.34588166791003433, -0.33520708347079836, -1.0388186655706726, 0.46110275587050625, -0.5761386680731327, 0.8801801412081522, -0.5334511453174319, 2.179848881496895, 0.8510521398255604, -1.302215746186497, -0.2758653764454315, 0.4229725742656263, -0.6854796038539009, -0.46825269421393273, -0.059917604332156246, 0.27907495323068693, -0.4774644670954662, 0.5112678302701621, -2.653886389514963, 0.5602132803496599, -0.09368145292452275, -0.5108472428829691, -0.0049541575064123555, 0.8263529754001935, -1.0298167166950276, 0.11615194577730661, -0.033485373062486425, -0.5023586159199206, -0.5343264848054067, 1.2563645314112177, -0.670756044789189, 0.04086236619495206, -0.48491239039460976, 0.8368010161808237, -1.4747359948647716, -0.678626261666939, 0.055916347271540726, -0.665548308946417, -0.7349920467327229, 1.1431344385353945, 0.10272624712609245, 2.0337920267866245, -0.25664343368236386, 0.3270272774134318, -0.9161936736943582, 0.6640500241172738, 0.45816299396646826, 1.479109563408102, -1.0801874426617148, 0.8645323939687818, 1.556299817995986, -0.19584520336043118, -0.6074092807738445, -0.7036813686304971, -0.2522157220017819, 1.9265828118823523, -1.5812188150203852, 0.109577170426578, 1.7041087583411898, -1.6958191071790105, -1.6508695078091753, -0.14063194438965274, 0.9241987280821946, 0.8150487836869047, 0.5931459555812096, 1.5264875107240874, 0.9944396469378712, -1.3785578513262233, 0.29406582022837885, -0.3913540100322184, -0.3505245746885777, 0.01771170232228889, -0.42157829849596756, -1.130644127991805, 0.44140298627012853, 0.3749867305185496, -0.2891992005348076, -0.9140427672546457, 0.962493619611387], \"xaxis\": \"x7\", \"y\": [1.475589520025869, 0.058193690147613136, 0.8858587130605142, -1.0062473781673018, 0.46803675911740583, 1.8876584534559304, 1.0068376194540218, 0.20649832656467781, -0.3831842413954928, 0.8146880661445408, 0.7525580546906689, -0.9499437266514072, -0.5124677266513444, -0.07070799266437955, 0.24842935771077734, -0.47466919918713246, 0.1329640121766927, 0.7101899364369233, -0.8129158041745252, -0.9065188940398232, -0.576101023436274, 0.7211521933563564, 0.4980075228147292, -0.4772199892654312, -0.25876529291204786, 0.02805869936306022, -1.1120841762313531, -0.34773983569211936, 0.5592457342025116, -2.2329856221230426, 1.244429738539221, -0.3558037971356808, -1.7071760167849175, -0.38601241809639797, -1.2101106786862859, 0.39581149532187293, -1.613409089316727, -0.017707675178522137, -0.51674385539429, 0.5508169727530585, -0.7657147803155174, 2.102266470888824, -1.9500668951535425, 0.08582168052356781, -1.2031543487810075, 0.09047246874201739, -1.2046473795482855, 0.057008372010706757, -0.6793292136001533, -0.16868751384288672, 0.013752896177967523, 0.13559208744343473, -0.9630115477948523, 0.7230504579164195, -0.7957538189923294, -0.5367136225824187, -1.0077205412350119, -1.7914055716137376, -1.230050510713824, 0.8679372146419765, 0.016712192818447498, -1.7296404941674273, 0.6279507372489606, 2.2072101493033247, -1.426478309767374, -0.10793231034668634, 0.2825793489947289, -1.980919281504627, 1.355967324544568, -0.7001789060327122, -1.2722359256963178, 0.09299395157163394, 0.9666985831548762, -0.3146817160528018, 0.5624621245870179, -0.4257065060814728, 2.8239069121719327, -0.6597234857277737, 0.045685732120529614, -0.01918897826138856, 0.19400035829565307, 0.331512334519879, -0.14894837996905405, -0.35260660854332354, 0.4922341899645374, 0.512147456731329, 0.06474390398539126, 2.3772022790380962, 0.4500853579083613, -0.6527657639931757, -0.047316453982068685, 0.4678256940750706, -0.5795657304715769, -1.2899242922557217, -0.3685463537980794, 0.25886314902995966, -0.659454095923306, -0.28299923424564427, -1.3644779963994549, -0.07484015266979967], \"yaxis\": \"y7\"}, {\"line\": {\"color\": \"rgba(128, 128, 128, 1.0)\", \"dash\": \"solid\", \"shape\": \"linear\", \"width\": 1.3}, \"marker\": {\"size\": 2, \"symbol\": \"circle\"}, \"mode\": \"markers\", \"name\": \"B\", \"text\": \"\", \"type\": \"scatter\", \"x\": [-2.8371083245496616, 0.18726671943935058, -0.635752704507406, 0.31204885311241765, -1.6884623420901927, -2.218046636438145, 0.8005326796231135, 0.2571323568177598, -0.7517794685927304, 0.7141700622967905, -0.7034274370151249, 1.7601916791167034, -0.695062955483073, -0.2605103364893929, -0.46730855079440314, 0.7343327121690637, -0.9815267713197737, 0.08934937710201019, 1.2228982710514336, -0.2558313016025286, 0.08473537705506456, -0.2831432143808916, -0.5078694189178844, 1.3868024785701536, -0.5953077204912341, 1.848884077889904, 1.5390355127582946, 0.028268872843309582, -0.595582478100544, 1.5427013777117144, -0.5267129535115503, -2.2191309716885237, 0.0526380368058972, -1.362504559433225, 0.347626808410747, -0.23159946754631258, -0.4455793612367743, -0.06588596165374287, -1.3878920907572154, -1.008227288385752, 0.5214377993630165, -0.018950103896625235, -0.14910350029198688, -0.5731720468029629, -0.9448239720268437, -0.22647219243858305, 0.23146433215176052, 0.893712658602652, -0.6793475172366461, 1.6732234146359781, 1.3376624235505683, -2.2775249667085014, -0.35725965871140325, -0.4866196631848915, 0.5221645015016327, -2.3512699124364085, -0.5692428042702953, 0.10925410215289443, -0.36194004921095924, 0.6334634171826902, -0.989516778828704, 1.5894450940447842, 1.6504996902903266, 0.08065315455009567, 0.06506507570552242, -0.2945574392855909, 0.5163758035262357, 0.7920140242556639, -1.1531881291574442, -0.45478802547050956, 0.4148567561667146, -1.6225514034438266, -0.05256397906113001, -0.856629342427809, -1.128943548249932, 2.591930395771614, -1.510629341644163, 0.08673476546190459, 0.2710878959149094, -0.38617512562306183, -0.25179677654739074, -0.23088214790287442, -2.2421051954884854, 0.22438491327880083, 0.3358240185176065, -1.9844158775313674, -1.1360740539664844, -0.5211490606702568, 0.0976208293459543, 1.6774681184560594, 1.7459282462631893, -2.0453097398102043, 0.7010203333543181, -0.42683017154972774, -0.5401712869994386, -0.38687846178588225, -0.9066203932855437, 1.0269121046221774, 0.507489187083504, 1.9548992675904575], \"xaxis\": \"x8\", \"y\": [1.475589520025869, 0.058193690147613136, 0.8858587130605142, -1.0062473781673018, 0.46803675911740583, 1.8876584534559304, 1.0068376194540218, 0.20649832656467781, -0.3831842413954928, 0.8146880661445408, 0.7525580546906689, -0.9499437266514072, -0.5124677266513444, -0.07070799266437955, 0.24842935771077734, -0.47466919918713246, 0.1329640121766927, 0.7101899364369233, -0.8129158041745252, -0.9065188940398232, -0.576101023436274, 0.7211521933563564, 0.4980075228147292, -0.4772199892654312, -0.25876529291204786, 0.02805869936306022, -1.1120841762313531, -0.34773983569211936, 0.5592457342025116, -2.2329856221230426, 1.244429738539221, -0.3558037971356808, -1.7071760167849175, -0.38601241809639797, -1.2101106786862859, 0.39581149532187293, -1.613409089316727, -0.017707675178522137, -0.51674385539429, 0.5508169727530585, -0.7657147803155174, 2.102266470888824, -1.9500668951535425, 0.08582168052356781, -1.2031543487810075, 0.09047246874201739, -1.2046473795482855, 0.057008372010706757, -0.6793292136001533, -0.16868751384288672, 0.013752896177967523, 0.13559208744343473, -0.9630115477948523, 0.7230504579164195, -0.7957538189923294, -0.5367136225824187, -1.0077205412350119, -1.7914055716137376, -1.230050510713824, 0.8679372146419765, 0.016712192818447498, -1.7296404941674273, 0.6279507372489606, 2.2072101493033247, -1.426478309767374, -0.10793231034668634, 0.2825793489947289, -1.980919281504627, 1.355967324544568, -0.7001789060327122, -1.2722359256963178, 0.09299395157163394, 0.9666985831548762, -0.3146817160528018, 0.5624621245870179, -0.4257065060814728, 2.8239069121719327, -0.6597234857277737, 0.045685732120529614, -0.01918897826138856, 0.19400035829565307, 0.331512334519879, -0.14894837996905405, -0.35260660854332354, 0.4922341899645374, 0.512147456731329, 0.06474390398539126, 2.3772022790380962, 0.4500853579083613, -0.6527657639931757, -0.047316453982068685, 0.4678256940750706, -0.5795657304715769, -1.2899242922557217, -0.3685463537980794, 0.25886314902995966, -0.659454095923306, -0.28299923424564427, -1.3644779963994549, -0.07484015266979967], \"yaxis\": \"y8\"}, {\"line\": {\"color\": \"rgba(128, 128, 128, 1.0)\", \"dash\": \"solid\", \"shape\": \"linear\", \"width\": 1.3}, \"marker\": {\"size\": 2, \"symbol\": \"circle\"}, \"mode\": \"markers\", \"name\": \"C\", \"text\": \"\", \"type\": \"scatter\", \"x\": [0.8565004406896697, 0.616667033466685, 0.9298916478237453, -1.6724634436675336, -0.019950485747430385, -0.32800911299570507, -0.520848431309861, -1.30147296225039, 0.918170020841073, -0.003030796847175438, 1.8515261305902329, -2.4657644444358904, -1.439356632219261, 0.15387753978794932, 0.07641025126858664, 0.05696079491628426, 0.994002604240455, 1.3063555379994916, 0.11680196973249214, -0.06144614746125791, 0.16965506162971544, -1.5592095724925938, 1.7362505416468237, -0.5158156181616896, 0.3112988643540849, 0.6367371116974732, -1.5536536001503518, -1.7685320204209458, -0.5392754585148415, 0.10192996646476966, 0.5568460660823932, 0.4092568775144538, 0.6425257437679849, 0.09284381524121892, 1.7894845246730584, -1.5779423255162153, -1.789479229742878, 0.7609651113838944, -0.6674139141954538, -0.4214512133650312, -0.44539736631937926, 0.5186930794439539, -1.0086390260505254, 0.7345811131541214, -0.8682151792015697, -0.5138030956228592, 2.44506810870039, -0.48872333105082555, 1.3671166266258052, -0.01753294451379828, 0.11685967207261917, 1.0155837704561772, -0.5150792361553516, -0.4189522845684282, -1.671800498378324, 0.00849610436739744, -0.895038429064667, -0.7234219959912285, 0.206272727623923, 0.3226173070103636, -0.4358213189085439, 1.485019297233284, 1.3145577597333455, 1.1418099258834655, 0.3899155275990936, 0.6744845811903896, -1.5421747306588416, 0.10759935916787118, -0.29174756418219683, 0.4816850364526941, 0.06383954088766132, 0.805862380002143, 1.7922318721731754, 0.7711332871154744, 1.5493299640694245, 2.1568955364366897, 1.1670866728363158, 0.7987843837817445, 0.5924788058898702, 0.46868961780136764, 0.041509628887594935, 1.4403527221146417, 0.06159499985984685, -0.37884426150130707, -0.5712864766608926, -0.05456501732571868, -1.374456821319399, -0.29150627018452924, -0.5060841247039243, -0.9116186430932947, -0.03191657470382843, -1.1907703476630989, -0.2240749488357738, 0.9880910702602029, -0.6027601036139539, -0.804412324683554, -0.42504929417141835, 0.23827330110499453, 1.2763718707572826, -0.6127361720543995], \"xaxis\": \"x9\", \"y\": [0.09536454976164993, -1.979873229425567, -0.8006171220144002, -1.4085439333951777, 0.08547942854432763, -0.008826093278719568, -0.2991548029353947, 0.2576029505630603, 0.8795221488870283, -0.07200754103600952, -0.046151183479252546, 0.3374454762825173, -0.6779825948518686, -0.09763964035505414, 1.599220362888875, 0.17648750653606524, 0.18213753336434174, -0.9245131437491316, 2.050342741577169, -0.11525257001200029, -0.3081347973723833, -0.34588166791003433, -0.33520708347079836, -1.0388186655706726, 0.46110275587050625, -0.5761386680731327, 0.8801801412081522, -0.5334511453174319, 2.179848881496895, 0.8510521398255604, -1.302215746186497, -0.2758653764454315, 0.4229725742656263, -0.6854796038539009, -0.46825269421393273, -0.059917604332156246, 0.27907495323068693, -0.4774644670954662, 0.5112678302701621, -2.653886389514963, 0.5602132803496599, -0.09368145292452275, -0.5108472428829691, -0.0049541575064123555, 0.8263529754001935, -1.0298167166950276, 0.11615194577730661, -0.033485373062486425, -0.5023586159199206, -0.5343264848054067, 1.2563645314112177, -0.670756044789189, 0.04086236619495206, -0.48491239039460976, 0.8368010161808237, -1.4747359948647716, -0.678626261666939, 0.055916347271540726, -0.665548308946417, -0.7349920467327229, 1.1431344385353945, 0.10272624712609245, 2.0337920267866245, -0.25664343368236386, 0.3270272774134318, -0.9161936736943582, 0.6640500241172738, 0.45816299396646826, 1.479109563408102, -1.0801874426617148, 0.8645323939687818, 1.556299817995986, -0.19584520336043118, -0.6074092807738445, -0.7036813686304971, -0.2522157220017819, 1.9265828118823523, -1.5812188150203852, 0.109577170426578, 1.7041087583411898, -1.6958191071790105, -1.6508695078091753, -0.14063194438965274, 0.9241987280821946, 0.8150487836869047, 0.5931459555812096, 1.5264875107240874, 0.9944396469378712, -1.3785578513262233, 0.29406582022837885, -0.3913540100322184, -0.3505245746885777, 0.01771170232228889, -0.42157829849596756, -1.130644127991805, 0.44140298627012853, 0.3749867305185496, -0.2891992005348076, -0.9140427672546457, 0.962493619611387], \"yaxis\": \"y9\"}, {\"line\": {\"color\": \"rgba(128, 128, 128, 1.0)\", \"dash\": \"solid\", \"shape\": \"linear\", \"width\": 1.3}, \"marker\": {\"size\": 2, \"symbol\": \"circle\"}, \"mode\": \"markers\", \"name\": \"C\", \"text\": \"\", \"type\": \"scatter\", \"x\": [1.475589520025869, 0.058193690147613136, 0.8858587130605142, -1.0062473781673018, 0.46803675911740583, 1.8876584534559304, 1.0068376194540218, 0.20649832656467781, -0.3831842413954928, 0.8146880661445408, 0.7525580546906689, -0.9499437266514072, -0.5124677266513444, -0.07070799266437955, 0.24842935771077734, -0.47466919918713246, 0.1329640121766927, 0.7101899364369233, -0.8129158041745252, -0.9065188940398232, -0.576101023436274, 0.7211521933563564, 0.4980075228147292, -0.4772199892654312, -0.25876529291204786, 0.02805869936306022, -1.1120841762313531, -0.34773983569211936, 0.5592457342025116, -2.2329856221230426, 1.244429738539221, -0.3558037971356808, -1.7071760167849175, -0.38601241809639797, -1.2101106786862859, 0.39581149532187293, -1.613409089316727, -0.017707675178522137, -0.51674385539429, 0.5508169727530585, -0.7657147803155174, 2.102266470888824, -1.9500668951535425, 0.08582168052356781, -1.2031543487810075, 0.09047246874201739, -1.2046473795482855, 0.057008372010706757, -0.6793292136001533, -0.16868751384288672, 0.013752896177967523, 0.13559208744343473, -0.9630115477948523, 0.7230504579164195, -0.7957538189923294, -0.5367136225824187, -1.0077205412350119, -1.7914055716137376, -1.230050510713824, 0.8679372146419765, 0.016712192818447498, -1.7296404941674273, 0.6279507372489606, 2.2072101493033247, -1.426478309767374, -0.10793231034668634, 0.2825793489947289, -1.980919281504627, 1.355967324544568, -0.7001789060327122, -1.2722359256963178, 0.09299395157163394, 0.9666985831548762, -0.3146817160528018, 0.5624621245870179, -0.4257065060814728, 2.8239069121719327, -0.6597234857277737, 0.045685732120529614, -0.01918897826138856, 0.19400035829565307, 0.331512334519879, -0.14894837996905405, -0.35260660854332354, 0.4922341899645374, 0.512147456731329, 0.06474390398539126, 2.3772022790380962, 0.4500853579083613, -0.6527657639931757, -0.047316453982068685, 0.4678256940750706, -0.5795657304715769, -1.2899242922557217, -0.3685463537980794, 0.25886314902995966, -0.659454095923306, -0.28299923424564427, -1.3644779963994549, -0.07484015266979967], \"xaxis\": \"x10\", \"y\": [0.09536454976164993, -1.979873229425567, -0.8006171220144002, -1.4085439333951777, 0.08547942854432763, -0.008826093278719568, -0.2991548029353947, 0.2576029505630603, 0.8795221488870283, -0.07200754103600952, -0.046151183479252546, 0.3374454762825173, -0.6779825948518686, -0.09763964035505414, 1.599220362888875, 0.17648750653606524, 0.18213753336434174, -0.9245131437491316, 2.050342741577169, -0.11525257001200029, -0.3081347973723833, -0.34588166791003433, -0.33520708347079836, -1.0388186655706726, 0.46110275587050625, -0.5761386680731327, 0.8801801412081522, -0.5334511453174319, 2.179848881496895, 0.8510521398255604, -1.302215746186497, -0.2758653764454315, 0.4229725742656263, -0.6854796038539009, -0.46825269421393273, -0.059917604332156246, 0.27907495323068693, -0.4774644670954662, 0.5112678302701621, -2.653886389514963, 0.5602132803496599, -0.09368145292452275, -0.5108472428829691, -0.0049541575064123555, 0.8263529754001935, -1.0298167166950276, 0.11615194577730661, -0.033485373062486425, -0.5023586159199206, -0.5343264848054067, 1.2563645314112177, -0.670756044789189, 0.04086236619495206, -0.48491239039460976, 0.8368010161808237, -1.4747359948647716, -0.678626261666939, 0.055916347271540726, -0.665548308946417, -0.7349920467327229, 1.1431344385353945, 0.10272624712609245, 2.0337920267866245, -0.25664343368236386, 0.3270272774134318, -0.9161936736943582, 0.6640500241172738, 0.45816299396646826, 1.479109563408102, -1.0801874426617148, 0.8645323939687818, 1.556299817995986, -0.19584520336043118, -0.6074092807738445, -0.7036813686304971, -0.2522157220017819, 1.9265828118823523, -1.5812188150203852, 0.109577170426578, 1.7041087583411898, -1.6958191071790105, -1.6508695078091753, -0.14063194438965274, 0.9241987280821946, 0.8150487836869047, 0.5931459555812096, 1.5264875107240874, 0.9944396469378712, -1.3785578513262233, 0.29406582022837885, -0.3913540100322184, -0.3505245746885777, 0.01771170232228889, -0.42157829849596756, -1.130644127991805, 0.44140298627012853, 0.3749867305185496, -0.2891992005348076, -0.9140427672546457, 0.962493619611387], \"yaxis\": \"y10\"}, {\"histfunc\": \"count\", \"histnorm\": \"\", \"marker\": {\"color\": \"rgba(50, 171, 96, 1.0)\", \"line\": {\"color\": \"#4D5663\", \"width\": 1.3}}, \"name\": \"C\", \"nbinsx\": 10, \"opacity\": 0.8, \"orientation\": \"v\", \"type\": \"histogram\", \"x\": [0.09536454976164993, -1.979873229425567, -0.8006171220144002, -1.4085439333951777, 0.08547942854432763, -0.008826093278719568, -0.2991548029353947, 0.2576029505630603, 0.8795221488870283, -0.07200754103600952, -0.046151183479252546, 0.3374454762825173, -0.6779825948518686, -0.09763964035505414, 1.599220362888875, 0.17648750653606524, 0.18213753336434174, -0.9245131437491316, 2.050342741577169, -0.11525257001200029, -0.3081347973723833, -0.34588166791003433, -0.33520708347079836, -1.0388186655706726, 0.46110275587050625, -0.5761386680731327, 0.8801801412081522, -0.5334511453174319, 2.179848881496895, 0.8510521398255604, -1.302215746186497, -0.2758653764454315, 0.4229725742656263, -0.6854796038539009, -0.46825269421393273, -0.059917604332156246, 0.27907495323068693, -0.4774644670954662, 0.5112678302701621, -2.653886389514963, 0.5602132803496599, -0.09368145292452275, -0.5108472428829691, -0.0049541575064123555, 0.8263529754001935, -1.0298167166950276, 0.11615194577730661, -0.033485373062486425, -0.5023586159199206, -0.5343264848054067, 1.2563645314112177, -0.670756044789189, 0.04086236619495206, -0.48491239039460976, 0.8368010161808237, -1.4747359948647716, -0.678626261666939, 0.055916347271540726, -0.665548308946417, -0.7349920467327229, 1.1431344385353945, 0.10272624712609245, 2.0337920267866245, -0.25664343368236386, 0.3270272774134318, -0.9161936736943582, 0.6640500241172738, 0.45816299396646826, 1.479109563408102, -1.0801874426617148, 0.8645323939687818, 1.556299817995986, -0.19584520336043118, -0.6074092807738445, -0.7036813686304971, -0.2522157220017819, 1.9265828118823523, -1.5812188150203852, 0.109577170426578, 1.7041087583411898, -1.6958191071790105, -1.6508695078091753, -0.14063194438965274, 0.9241987280821946, 0.8150487836869047, 0.5931459555812096, 1.5264875107240874, 0.9944396469378712, -1.3785578513262233, 0.29406582022837885, -0.3913540100322184, -0.3505245746885777, 0.01771170232228889, -0.42157829849596756, -1.130644127991805, 0.44140298627012853, 0.3749867305185496, -0.2891992005348076, -0.9140427672546457, 0.962493619611387], \"xaxis\": \"x11\", \"yaxis\": \"y11\"}, {\"line\": {\"color\": \"rgba(128, 128, 128, 1.0)\", \"dash\": \"solid\", \"shape\": \"linear\", \"width\": 1.3}, \"marker\": {\"size\": 2, \"symbol\": \"circle\"}, \"mode\": \"markers\", \"name\": \"C\", \"text\": \"\", \"type\": \"scatter\", \"x\": [-2.8371083245496616, 0.18726671943935058, -0.635752704507406, 0.31204885311241765, -1.6884623420901927, -2.218046636438145, 0.8005326796231135, 0.2571323568177598, -0.7517794685927304, 0.7141700622967905, -0.7034274370151249, 1.7601916791167034, -0.695062955483073, -0.2605103364893929, -0.46730855079440314, 0.7343327121690637, -0.9815267713197737, 0.08934937710201019, 1.2228982710514336, -0.2558313016025286, 0.08473537705506456, -0.2831432143808916, -0.5078694189178844, 1.3868024785701536, -0.5953077204912341, 1.848884077889904, 1.5390355127582946, 0.028268872843309582, -0.595582478100544, 1.5427013777117144, -0.5267129535115503, -2.2191309716885237, 0.0526380368058972, -1.362504559433225, 0.347626808410747, -0.23159946754631258, -0.4455793612367743, -0.06588596165374287, -1.3878920907572154, -1.008227288385752, 0.5214377993630165, -0.018950103896625235, -0.14910350029198688, -0.5731720468029629, -0.9448239720268437, -0.22647219243858305, 0.23146433215176052, 0.893712658602652, -0.6793475172366461, 1.6732234146359781, 1.3376624235505683, -2.2775249667085014, -0.35725965871140325, -0.4866196631848915, 0.5221645015016327, -2.3512699124364085, -0.5692428042702953, 0.10925410215289443, -0.36194004921095924, 0.6334634171826902, -0.989516778828704, 1.5894450940447842, 1.6504996902903266, 0.08065315455009567, 0.06506507570552242, -0.2945574392855909, 0.5163758035262357, 0.7920140242556639, -1.1531881291574442, -0.45478802547050956, 0.4148567561667146, -1.6225514034438266, -0.05256397906113001, -0.856629342427809, -1.128943548249932, 2.591930395771614, -1.510629341644163, 0.08673476546190459, 0.2710878959149094, -0.38617512562306183, -0.25179677654739074, -0.23088214790287442, -2.2421051954884854, 0.22438491327880083, 0.3358240185176065, -1.9844158775313674, -1.1360740539664844, -0.5211490606702568, 0.0976208293459543, 1.6774681184560594, 1.7459282462631893, -2.0453097398102043, 0.7010203333543181, -0.42683017154972774, -0.5401712869994386, -0.38687846178588225, -0.9066203932855437, 1.0269121046221774, 0.507489187083504, 1.9548992675904575], \"xaxis\": \"x12\", \"y\": [0.09536454976164993, -1.979873229425567, -0.8006171220144002, -1.4085439333951777, 0.08547942854432763, -0.008826093278719568, -0.2991548029353947, 0.2576029505630603, 0.8795221488870283, -0.07200754103600952, -0.046151183479252546, 0.3374454762825173, -0.6779825948518686, -0.09763964035505414, 1.599220362888875, 0.17648750653606524, 0.18213753336434174, -0.9245131437491316, 2.050342741577169, -0.11525257001200029, -0.3081347973723833, -0.34588166791003433, -0.33520708347079836, -1.0388186655706726, 0.46110275587050625, -0.5761386680731327, 0.8801801412081522, -0.5334511453174319, 2.179848881496895, 0.8510521398255604, -1.302215746186497, -0.2758653764454315, 0.4229725742656263, -0.6854796038539009, -0.46825269421393273, -0.059917604332156246, 0.27907495323068693, -0.4774644670954662, 0.5112678302701621, -2.653886389514963, 0.5602132803496599, -0.09368145292452275, -0.5108472428829691, -0.0049541575064123555, 0.8263529754001935, -1.0298167166950276, 0.11615194577730661, -0.033485373062486425, -0.5023586159199206, -0.5343264848054067, 1.2563645314112177, -0.670756044789189, 0.04086236619495206, -0.48491239039460976, 0.8368010161808237, -1.4747359948647716, -0.678626261666939, 0.055916347271540726, -0.665548308946417, -0.7349920467327229, 1.1431344385353945, 0.10272624712609245, 2.0337920267866245, -0.25664343368236386, 0.3270272774134318, -0.9161936736943582, 0.6640500241172738, 0.45816299396646826, 1.479109563408102, -1.0801874426617148, 0.8645323939687818, 1.556299817995986, -0.19584520336043118, -0.6074092807738445, -0.7036813686304971, -0.2522157220017819, 1.9265828118823523, -1.5812188150203852, 0.109577170426578, 1.7041087583411898, -1.6958191071790105, -1.6508695078091753, -0.14063194438965274, 0.9241987280821946, 0.8150487836869047, 0.5931459555812096, 1.5264875107240874, 0.9944396469378712, -1.3785578513262233, 0.29406582022837885, -0.3913540100322184, -0.3505245746885777, 0.01771170232228889, -0.42157829849596756, -1.130644127991805, 0.44140298627012853, 0.3749867305185496, -0.2891992005348076, -0.9140427672546457, 0.962493619611387], \"yaxis\": \"y12\"}, {\"line\": {\"color\": \"rgba(128, 128, 128, 1.0)\", \"dash\": \"solid\", \"shape\": \"linear\", \"width\": 1.3}, \"marker\": {\"size\": 2, \"symbol\": \"circle\"}, \"mode\": \"markers\", \"name\": \"D\", \"text\": \"\", \"type\": \"scatter\", \"x\": [0.8565004406896697, 0.616667033466685, 0.9298916478237453, -1.6724634436675336, -0.019950485747430385, -0.32800911299570507, -0.520848431309861, -1.30147296225039, 0.918170020841073, -0.003030796847175438, 1.8515261305902329, -2.4657644444358904, -1.439356632219261, 0.15387753978794932, 0.07641025126858664, 0.05696079491628426, 0.994002604240455, 1.3063555379994916, 0.11680196973249214, -0.06144614746125791, 0.16965506162971544, -1.5592095724925938, 1.7362505416468237, -0.5158156181616896, 0.3112988643540849, 0.6367371116974732, -1.5536536001503518, -1.7685320204209458, -0.5392754585148415, 0.10192996646476966, 0.5568460660823932, 0.4092568775144538, 0.6425257437679849, 0.09284381524121892, 1.7894845246730584, -1.5779423255162153, -1.789479229742878, 0.7609651113838944, -0.6674139141954538, -0.4214512133650312, -0.44539736631937926, 0.5186930794439539, -1.0086390260505254, 0.7345811131541214, -0.8682151792015697, -0.5138030956228592, 2.44506810870039, -0.48872333105082555, 1.3671166266258052, -0.01753294451379828, 0.11685967207261917, 1.0155837704561772, -0.5150792361553516, -0.4189522845684282, -1.671800498378324, 0.00849610436739744, -0.895038429064667, -0.7234219959912285, 0.206272727623923, 0.3226173070103636, -0.4358213189085439, 1.485019297233284, 1.3145577597333455, 1.1418099258834655, 0.3899155275990936, 0.6744845811903896, -1.5421747306588416, 0.10759935916787118, -0.29174756418219683, 0.4816850364526941, 0.06383954088766132, 0.805862380002143, 1.7922318721731754, 0.7711332871154744, 1.5493299640694245, 2.1568955364366897, 1.1670866728363158, 0.7987843837817445, 0.5924788058898702, 0.46868961780136764, 0.041509628887594935, 1.4403527221146417, 0.06159499985984685, -0.37884426150130707, -0.5712864766608926, -0.05456501732571868, -1.374456821319399, -0.29150627018452924, -0.5060841247039243, -0.9116186430932947, -0.03191657470382843, -1.1907703476630989, -0.2240749488357738, 0.9880910702602029, -0.6027601036139539, -0.804412324683554, -0.42504929417141835, 0.23827330110499453, 1.2763718707572826, -0.6127361720543995], \"xaxis\": \"x13\", \"y\": [-2.8371083245496616, 0.18726671943935058, -0.635752704507406, 0.31204885311241765, -1.6884623420901927, -2.218046636438145, 0.8005326796231135, 0.2571323568177598, -0.7517794685927304, 0.7141700622967905, -0.7034274370151249, 1.7601916791167034, -0.695062955483073, -0.2605103364893929, -0.46730855079440314, 0.7343327121690637, -0.9815267713197737, 0.08934937710201019, 1.2228982710514336, -0.2558313016025286, 0.08473537705506456, -0.2831432143808916, -0.5078694189178844, 1.3868024785701536, -0.5953077204912341, 1.848884077889904, 1.5390355127582946, 0.028268872843309582, -0.595582478100544, 1.5427013777117144, -0.5267129535115503, -2.2191309716885237, 0.0526380368058972, -1.362504559433225, 0.347626808410747, -0.23159946754631258, -0.4455793612367743, -0.06588596165374287, -1.3878920907572154, -1.008227288385752, 0.5214377993630165, -0.018950103896625235, -0.14910350029198688, -0.5731720468029629, -0.9448239720268437, -0.22647219243858305, 0.23146433215176052, 0.893712658602652, -0.6793475172366461, 1.6732234146359781, 1.3376624235505683, -2.2775249667085014, -0.35725965871140325, -0.4866196631848915, 0.5221645015016327, -2.3512699124364085, -0.5692428042702953, 0.10925410215289443, -0.36194004921095924, 0.6334634171826902, -0.989516778828704, 1.5894450940447842, 1.6504996902903266, 0.08065315455009567, 0.06506507570552242, -0.2945574392855909, 0.5163758035262357, 0.7920140242556639, -1.1531881291574442, -0.45478802547050956, 0.4148567561667146, -1.6225514034438266, -0.05256397906113001, -0.856629342427809, -1.128943548249932, 2.591930395771614, -1.510629341644163, 0.08673476546190459, 0.2710878959149094, -0.38617512562306183, -0.25179677654739074, -0.23088214790287442, -2.2421051954884854, 0.22438491327880083, 0.3358240185176065, -1.9844158775313674, -1.1360740539664844, -0.5211490606702568, 0.0976208293459543, 1.6774681184560594, 1.7459282462631893, -2.0453097398102043, 0.7010203333543181, -0.42683017154972774, -0.5401712869994386, -0.38687846178588225, -0.9066203932855437, 1.0269121046221774, 0.507489187083504, 1.9548992675904575], \"yaxis\": \"y13\"}, {\"line\": {\"color\": \"rgba(128, 128, 128, 1.0)\", \"dash\": \"solid\", \"shape\": \"linear\", \"width\": 1.3}, \"marker\": {\"size\": 2, \"symbol\": \"circle\"}, \"mode\": \"markers\", \"name\": \"D\", \"text\": \"\", \"type\": \"scatter\", \"x\": [1.475589520025869, 0.058193690147613136, 0.8858587130605142, -1.0062473781673018, 0.46803675911740583, 1.8876584534559304, 1.0068376194540218, 0.20649832656467781, -0.3831842413954928, 0.8146880661445408, 0.7525580546906689, -0.9499437266514072, -0.5124677266513444, -0.07070799266437955, 0.24842935771077734, -0.47466919918713246, 0.1329640121766927, 0.7101899364369233, -0.8129158041745252, -0.9065188940398232, -0.576101023436274, 0.7211521933563564, 0.4980075228147292, -0.4772199892654312, -0.25876529291204786, 0.02805869936306022, -1.1120841762313531, -0.34773983569211936, 0.5592457342025116, -2.2329856221230426, 1.244429738539221, -0.3558037971356808, -1.7071760167849175, -0.38601241809639797, -1.2101106786862859, 0.39581149532187293, -1.613409089316727, -0.017707675178522137, -0.51674385539429, 0.5508169727530585, -0.7657147803155174, 2.102266470888824, -1.9500668951535425, 0.08582168052356781, -1.2031543487810075, 0.09047246874201739, -1.2046473795482855, 0.057008372010706757, -0.6793292136001533, -0.16868751384288672, 0.013752896177967523, 0.13559208744343473, -0.9630115477948523, 0.7230504579164195, -0.7957538189923294, -0.5367136225824187, -1.0077205412350119, -1.7914055716137376, -1.230050510713824, 0.8679372146419765, 0.016712192818447498, -1.7296404941674273, 0.6279507372489606, 2.2072101493033247, -1.426478309767374, -0.10793231034668634, 0.2825793489947289, -1.980919281504627, 1.355967324544568, -0.7001789060327122, -1.2722359256963178, 0.09299395157163394, 0.9666985831548762, -0.3146817160528018, 0.5624621245870179, -0.4257065060814728, 2.8239069121719327, -0.6597234857277737, 0.045685732120529614, -0.01918897826138856, 0.19400035829565307, 0.331512334519879, -0.14894837996905405, -0.35260660854332354, 0.4922341899645374, 0.512147456731329, 0.06474390398539126, 2.3772022790380962, 0.4500853579083613, -0.6527657639931757, -0.047316453982068685, 0.4678256940750706, -0.5795657304715769, -1.2899242922557217, -0.3685463537980794, 0.25886314902995966, -0.659454095923306, -0.28299923424564427, -1.3644779963994549, -0.07484015266979967], \"xaxis\": \"x14\", \"y\": [-2.8371083245496616, 0.18726671943935058, -0.635752704507406, 0.31204885311241765, -1.6884623420901927, -2.218046636438145, 0.8005326796231135, 0.2571323568177598, -0.7517794685927304, 0.7141700622967905, -0.7034274370151249, 1.7601916791167034, -0.695062955483073, -0.2605103364893929, -0.46730855079440314, 0.7343327121690637, -0.9815267713197737, 0.08934937710201019, 1.2228982710514336, -0.2558313016025286, 0.08473537705506456, -0.2831432143808916, -0.5078694189178844, 1.3868024785701536, -0.5953077204912341, 1.848884077889904, 1.5390355127582946, 0.028268872843309582, -0.595582478100544, 1.5427013777117144, -0.5267129535115503, -2.2191309716885237, 0.0526380368058972, -1.362504559433225, 0.347626808410747, -0.23159946754631258, -0.4455793612367743, -0.06588596165374287, -1.3878920907572154, -1.008227288385752, 0.5214377993630165, -0.018950103896625235, -0.14910350029198688, -0.5731720468029629, -0.9448239720268437, -0.22647219243858305, 0.23146433215176052, 0.893712658602652, -0.6793475172366461, 1.6732234146359781, 1.3376624235505683, -2.2775249667085014, -0.35725965871140325, -0.4866196631848915, 0.5221645015016327, -2.3512699124364085, -0.5692428042702953, 0.10925410215289443, -0.36194004921095924, 0.6334634171826902, -0.989516778828704, 1.5894450940447842, 1.6504996902903266, 0.08065315455009567, 0.06506507570552242, -0.2945574392855909, 0.5163758035262357, 0.7920140242556639, -1.1531881291574442, -0.45478802547050956, 0.4148567561667146, -1.6225514034438266, -0.05256397906113001, -0.856629342427809, -1.128943548249932, 2.591930395771614, -1.510629341644163, 0.08673476546190459, 0.2710878959149094, -0.38617512562306183, -0.25179677654739074, -0.23088214790287442, -2.2421051954884854, 0.22438491327880083, 0.3358240185176065, -1.9844158775313674, -1.1360740539664844, -0.5211490606702568, 0.0976208293459543, 1.6774681184560594, 1.7459282462631893, -2.0453097398102043, 0.7010203333543181, -0.42683017154972774, -0.5401712869994386, -0.38687846178588225, -0.9066203932855437, 1.0269121046221774, 0.507489187083504, 1.9548992675904575], \"yaxis\": \"y14\"}, {\"line\": {\"color\": \"rgba(128, 128, 128, 1.0)\", \"dash\": \"solid\", \"shape\": \"linear\", \"width\": 1.3}, \"marker\": {\"size\": 2, \"symbol\": \"circle\"}, \"mode\": \"markers\", \"name\": \"D\", \"text\": \"\", \"type\": \"scatter\", \"x\": [0.09536454976164993, -1.979873229425567, -0.8006171220144002, -1.4085439333951777, 0.08547942854432763, -0.008826093278719568, -0.2991548029353947, 0.2576029505630603, 0.8795221488870283, -0.07200754103600952, -0.046151183479252546, 0.3374454762825173, -0.6779825948518686, -0.09763964035505414, 1.599220362888875, 0.17648750653606524, 0.18213753336434174, -0.9245131437491316, 2.050342741577169, -0.11525257001200029, -0.3081347973723833, -0.34588166791003433, -0.33520708347079836, -1.0388186655706726, 0.46110275587050625, -0.5761386680731327, 0.8801801412081522, -0.5334511453174319, 2.179848881496895, 0.8510521398255604, -1.302215746186497, -0.2758653764454315, 0.4229725742656263, -0.6854796038539009, -0.46825269421393273, -0.059917604332156246, 0.27907495323068693, -0.4774644670954662, 0.5112678302701621, -2.653886389514963, 0.5602132803496599, -0.09368145292452275, -0.5108472428829691, -0.0049541575064123555, 0.8263529754001935, -1.0298167166950276, 0.11615194577730661, -0.033485373062486425, -0.5023586159199206, -0.5343264848054067, 1.2563645314112177, -0.670756044789189, 0.04086236619495206, -0.48491239039460976, 0.8368010161808237, -1.4747359948647716, -0.678626261666939, 0.055916347271540726, -0.665548308946417, -0.7349920467327229, 1.1431344385353945, 0.10272624712609245, 2.0337920267866245, -0.25664343368236386, 0.3270272774134318, -0.9161936736943582, 0.6640500241172738, 0.45816299396646826, 1.479109563408102, -1.0801874426617148, 0.8645323939687818, 1.556299817995986, -0.19584520336043118, -0.6074092807738445, -0.7036813686304971, -0.2522157220017819, 1.9265828118823523, -1.5812188150203852, 0.109577170426578, 1.7041087583411898, -1.6958191071790105, -1.6508695078091753, -0.14063194438965274, 0.9241987280821946, 0.8150487836869047, 0.5931459555812096, 1.5264875107240874, 0.9944396469378712, -1.3785578513262233, 0.29406582022837885, -0.3913540100322184, -0.3505245746885777, 0.01771170232228889, -0.42157829849596756, -1.130644127991805, 0.44140298627012853, 0.3749867305185496, -0.2891992005348076, -0.9140427672546457, 0.962493619611387], \"xaxis\": \"x15\", \"y\": [-2.8371083245496616, 0.18726671943935058, -0.635752704507406, 0.31204885311241765, -1.6884623420901927, -2.218046636438145, 0.8005326796231135, 0.2571323568177598, -0.7517794685927304, 0.7141700622967905, -0.7034274370151249, 1.7601916791167034, -0.695062955483073, -0.2605103364893929, -0.46730855079440314, 0.7343327121690637, -0.9815267713197737, 0.08934937710201019, 1.2228982710514336, -0.2558313016025286, 0.08473537705506456, -0.2831432143808916, -0.5078694189178844, 1.3868024785701536, -0.5953077204912341, 1.848884077889904, 1.5390355127582946, 0.028268872843309582, -0.595582478100544, 1.5427013777117144, -0.5267129535115503, -2.2191309716885237, 0.0526380368058972, -1.362504559433225, 0.347626808410747, -0.23159946754631258, -0.4455793612367743, -0.06588596165374287, -1.3878920907572154, -1.008227288385752, 0.5214377993630165, -0.018950103896625235, -0.14910350029198688, -0.5731720468029629, -0.9448239720268437, -0.22647219243858305, 0.23146433215176052, 0.893712658602652, -0.6793475172366461, 1.6732234146359781, 1.3376624235505683, -2.2775249667085014, -0.35725965871140325, -0.4866196631848915, 0.5221645015016327, -2.3512699124364085, -0.5692428042702953, 0.10925410215289443, -0.36194004921095924, 0.6334634171826902, -0.989516778828704, 1.5894450940447842, 1.6504996902903266, 0.08065315455009567, 0.06506507570552242, -0.2945574392855909, 0.5163758035262357, 0.7920140242556639, -1.1531881291574442, -0.45478802547050956, 0.4148567561667146, -1.6225514034438266, -0.05256397906113001, -0.856629342427809, -1.128943548249932, 2.591930395771614, -1.510629341644163, 0.08673476546190459, 0.2710878959149094, -0.38617512562306183, -0.25179677654739074, -0.23088214790287442, -2.2421051954884854, 0.22438491327880083, 0.3358240185176065, -1.9844158775313674, -1.1360740539664844, -0.5211490606702568, 0.0976208293459543, 1.6774681184560594, 1.7459282462631893, -2.0453097398102043, 0.7010203333543181, -0.42683017154972774, -0.5401712869994386, -0.38687846178588225, -0.9066203932855437, 1.0269121046221774, 0.507489187083504, 1.9548992675904575], \"yaxis\": \"y15\"}, {\"histfunc\": \"count\", \"histnorm\": \"\", \"marker\": {\"color\": \"rgba(128, 0, 128, 1.0)\", \"line\": {\"color\": \"#4D5663\", \"width\": 1.3}}, \"name\": \"D\", \"nbinsx\": 10, \"opacity\": 0.8, \"orientation\": \"v\", \"type\": \"histogram\", \"x\": [-2.8371083245496616, 0.18726671943935058, -0.635752704507406, 0.31204885311241765, -1.6884623420901927, -2.218046636438145, 0.8005326796231135, 0.2571323568177598, -0.7517794685927304, 0.7141700622967905, -0.7034274370151249, 1.7601916791167034, -0.695062955483073, -0.2605103364893929, -0.46730855079440314, 0.7343327121690637, -0.9815267713197737, 0.08934937710201019, 1.2228982710514336, -0.2558313016025286, 0.08473537705506456, -0.2831432143808916, -0.5078694189178844, 1.3868024785701536, -0.5953077204912341, 1.848884077889904, 1.5390355127582946, 0.028268872843309582, -0.595582478100544, 1.5427013777117144, -0.5267129535115503, -2.2191309716885237, 0.0526380368058972, -1.362504559433225, 0.347626808410747, -0.23159946754631258, -0.4455793612367743, -0.06588596165374287, -1.3878920907572154, -1.008227288385752, 0.5214377993630165, -0.018950103896625235, -0.14910350029198688, -0.5731720468029629, -0.9448239720268437, -0.22647219243858305, 0.23146433215176052, 0.893712658602652, -0.6793475172366461, 1.6732234146359781, 1.3376624235505683, -2.2775249667085014, -0.35725965871140325, -0.4866196631848915, 0.5221645015016327, -2.3512699124364085, -0.5692428042702953, 0.10925410215289443, -0.36194004921095924, 0.6334634171826902, -0.989516778828704, 1.5894450940447842, 1.6504996902903266, 0.08065315455009567, 0.06506507570552242, -0.2945574392855909, 0.5163758035262357, 0.7920140242556639, -1.1531881291574442, -0.45478802547050956, 0.4148567561667146, -1.6225514034438266, -0.05256397906113001, -0.856629342427809, -1.128943548249932, 2.591930395771614, -1.510629341644163, 0.08673476546190459, 0.2710878959149094, -0.38617512562306183, -0.25179677654739074, -0.23088214790287442, -2.2421051954884854, 0.22438491327880083, 0.3358240185176065, -1.9844158775313674, -1.1360740539664844, -0.5211490606702568, 0.0976208293459543, 1.6774681184560594, 1.7459282462631893, -2.0453097398102043, 0.7010203333543181, -0.42683017154972774, -0.5401712869994386, -0.38687846178588225, -0.9066203932855437, 1.0269121046221774, 0.507489187083504, 1.9548992675904575], \"xaxis\": \"x16\", \"yaxis\": \"y16\"}],\n",
       "                        {\"bargap\": 0.02, \"legend\": {\"bgcolor\": \"#F5F6F9\", \"font\": {\"color\": \"#4D5663\"}}, \"paper_bgcolor\": \"#F5F6F9\", \"plot_bgcolor\": \"#F5F6F9\", \"showlegend\": false, \"template\": {\"data\": {\"bar\": [{\"error_x\": {\"color\": \"#2a3f5f\"}, \"error_y\": {\"color\": \"#2a3f5f\"}, \"marker\": {\"line\": {\"color\": \"#E5ECF6\", \"width\": 0.5}}, \"type\": \"bar\"}], \"barpolar\": [{\"marker\": {\"line\": {\"color\": \"#E5ECF6\", \"width\": 0.5}}, \"type\": \"barpolar\"}], \"carpet\": [{\"aaxis\": {\"endlinecolor\": \"#2a3f5f\", \"gridcolor\": \"white\", \"linecolor\": \"white\", \"minorgridcolor\": \"white\", \"startlinecolor\": \"#2a3f5f\"}, \"baxis\": {\"endlinecolor\": \"#2a3f5f\", \"gridcolor\": \"white\", \"linecolor\": \"white\", \"minorgridcolor\": \"white\", \"startlinecolor\": \"#2a3f5f\"}, \"type\": \"carpet\"}], \"choropleth\": [{\"colorbar\": {\"outlinewidth\": 0, \"ticks\": \"\"}, \"type\": \"choropleth\"}], \"contour\": [{\"colorbar\": {\"outlinewidth\": 0, \"ticks\": \"\"}, \"colorscale\": [[0.0, \"#0d0887\"], [0.1111111111111111, \"#46039f\"], [0.2222222222222222, \"#7201a8\"], [0.3333333333333333, \"#9c179e\"], [0.4444444444444444, \"#bd3786\"], [0.5555555555555556, \"#d8576b\"], [0.6666666666666666, \"#ed7953\"], [0.7777777777777778, \"#fb9f3a\"], [0.8888888888888888, \"#fdca26\"], [1.0, \"#f0f921\"]], \"type\": \"contour\"}], \"contourcarpet\": [{\"colorbar\": {\"outlinewidth\": 0, \"ticks\": \"\"}, \"type\": \"contourcarpet\"}], \"heatmap\": [{\"colorbar\": {\"outlinewidth\": 0, \"ticks\": \"\"}, \"colorscale\": [[0.0, \"#0d0887\"], [0.1111111111111111, \"#46039f\"], [0.2222222222222222, \"#7201a8\"], [0.3333333333333333, \"#9c179e\"], [0.4444444444444444, \"#bd3786\"], [0.5555555555555556, \"#d8576b\"], [0.6666666666666666, \"#ed7953\"], [0.7777777777777778, \"#fb9f3a\"], [0.8888888888888888, \"#fdca26\"], [1.0, \"#f0f921\"]], \"type\": \"heatmap\"}], \"heatmapgl\": [{\"colorbar\": {\"outlinewidth\": 0, \"ticks\": \"\"}, \"colorscale\": [[0.0, \"#0d0887\"], [0.1111111111111111, \"#46039f\"], [0.2222222222222222, \"#7201a8\"], [0.3333333333333333, \"#9c179e\"], [0.4444444444444444, \"#bd3786\"], [0.5555555555555556, \"#d8576b\"], [0.6666666666666666, \"#ed7953\"], [0.7777777777777778, \"#fb9f3a\"], [0.8888888888888888, \"#fdca26\"], [1.0, \"#f0f921\"]], \"type\": \"heatmapgl\"}], \"histogram\": [{\"marker\": {\"colorbar\": {\"outlinewidth\": 0, \"ticks\": \"\"}}, \"type\": \"histogram\"}], \"histogram2d\": [{\"colorbar\": {\"outlinewidth\": 0, \"ticks\": \"\"}, \"colorscale\": [[0.0, \"#0d0887\"], [0.1111111111111111, \"#46039f\"], [0.2222222222222222, \"#7201a8\"], [0.3333333333333333, \"#9c179e\"], [0.4444444444444444, \"#bd3786\"], [0.5555555555555556, \"#d8576b\"], [0.6666666666666666, \"#ed7953\"], [0.7777777777777778, \"#fb9f3a\"], [0.8888888888888888, \"#fdca26\"], [1.0, \"#f0f921\"]], \"type\": \"histogram2d\"}], \"histogram2dcontour\": [{\"colorbar\": {\"outlinewidth\": 0, \"ticks\": \"\"}, \"colorscale\": [[0.0, \"#0d0887\"], [0.1111111111111111, \"#46039f\"], [0.2222222222222222, \"#7201a8\"], [0.3333333333333333, \"#9c179e\"], [0.4444444444444444, \"#bd3786\"], [0.5555555555555556, \"#d8576b\"], [0.6666666666666666, \"#ed7953\"], [0.7777777777777778, \"#fb9f3a\"], [0.8888888888888888, \"#fdca26\"], [1.0, \"#f0f921\"]], \"type\": \"histogram2dcontour\"}], \"mesh3d\": [{\"colorbar\": {\"outlinewidth\": 0, \"ticks\": \"\"}, \"type\": \"mesh3d\"}], \"parcoords\": [{\"line\": {\"colorbar\": {\"outlinewidth\": 0, \"ticks\": \"\"}}, \"type\": \"parcoords\"}], \"pie\": [{\"automargin\": true, \"type\": \"pie\"}], \"scatter\": [{\"marker\": {\"colorbar\": {\"outlinewidth\": 0, \"ticks\": \"\"}}, \"type\": \"scatter\"}], \"scatter3d\": [{\"line\": {\"colorbar\": {\"outlinewidth\": 0, \"ticks\": \"\"}}, \"marker\": {\"colorbar\": {\"outlinewidth\": 0, \"ticks\": \"\"}}, \"type\": \"scatter3d\"}], \"scattercarpet\": [{\"marker\": {\"colorbar\": {\"outlinewidth\": 0, \"ticks\": \"\"}}, \"type\": \"scattercarpet\"}], \"scattergeo\": [{\"marker\": {\"colorbar\": {\"outlinewidth\": 0, \"ticks\": \"\"}}, \"type\": \"scattergeo\"}], \"scattergl\": [{\"marker\": {\"colorbar\": {\"outlinewidth\": 0, \"ticks\": \"\"}}, \"type\": \"scattergl\"}], \"scattermapbox\": [{\"marker\": {\"colorbar\": {\"outlinewidth\": 0, \"ticks\": \"\"}}, \"type\": \"scattermapbox\"}], \"scatterpolar\": [{\"marker\": {\"colorbar\": {\"outlinewidth\": 0, \"ticks\": \"\"}}, \"type\": \"scatterpolar\"}], \"scatterpolargl\": [{\"marker\": {\"colorbar\": {\"outlinewidth\": 0, \"ticks\": \"\"}}, \"type\": \"scatterpolargl\"}], \"scatterternary\": [{\"marker\": {\"colorbar\": {\"outlinewidth\": 0, \"ticks\": \"\"}}, \"type\": \"scatterternary\"}], \"surface\": [{\"colorbar\": {\"outlinewidth\": 0, \"ticks\": \"\"}, \"colorscale\": [[0.0, \"#0d0887\"], [0.1111111111111111, \"#46039f\"], [0.2222222222222222, \"#7201a8\"], [0.3333333333333333, \"#9c179e\"], [0.4444444444444444, \"#bd3786\"], [0.5555555555555556, \"#d8576b\"], [0.6666666666666666, \"#ed7953\"], [0.7777777777777778, \"#fb9f3a\"], [0.8888888888888888, \"#fdca26\"], [1.0, \"#f0f921\"]], \"type\": \"surface\"}], \"table\": [{\"cells\": {\"fill\": {\"color\": \"#EBF0F8\"}, \"line\": {\"color\": \"white\"}}, \"header\": {\"fill\": {\"color\": \"#C8D4E3\"}, \"line\": {\"color\": \"white\"}}, \"type\": \"table\"}]}, \"layout\": {\"annotationdefaults\": {\"arrowcolor\": \"#2a3f5f\", \"arrowhead\": 0, \"arrowwidth\": 1}, \"coloraxis\": {\"colorbar\": {\"outlinewidth\": 0, \"ticks\": \"\"}}, \"colorscale\": {\"diverging\": [[0, \"#8e0152\"], [0.1, \"#c51b7d\"], [0.2, \"#de77ae\"], [0.3, \"#f1b6da\"], [0.4, \"#fde0ef\"], [0.5, \"#f7f7f7\"], [0.6, \"#e6f5d0\"], [0.7, \"#b8e186\"], [0.8, \"#7fbc41\"], [0.9, \"#4d9221\"], [1, \"#276419\"]], \"sequential\": [[0.0, \"#0d0887\"], [0.1111111111111111, \"#46039f\"], [0.2222222222222222, \"#7201a8\"], [0.3333333333333333, \"#9c179e\"], [0.4444444444444444, \"#bd3786\"], [0.5555555555555556, \"#d8576b\"], [0.6666666666666666, \"#ed7953\"], [0.7777777777777778, \"#fb9f3a\"], [0.8888888888888888, \"#fdca26\"], [1.0, \"#f0f921\"]], \"sequentialminus\": [[0.0, \"#0d0887\"], [0.1111111111111111, \"#46039f\"], [0.2222222222222222, \"#7201a8\"], [0.3333333333333333, \"#9c179e\"], [0.4444444444444444, \"#bd3786\"], [0.5555555555555556, \"#d8576b\"], [0.6666666666666666, \"#ed7953\"], [0.7777777777777778, \"#fb9f3a\"], [0.8888888888888888, \"#fdca26\"], [1.0, \"#f0f921\"]]}, \"colorway\": [\"#636efa\", \"#EF553B\", \"#00cc96\", \"#ab63fa\", \"#FFA15A\", \"#19d3f3\", \"#FF6692\", \"#B6E880\", \"#FF97FF\", \"#FECB52\"], \"font\": {\"color\": \"#2a3f5f\"}, \"geo\": {\"bgcolor\": \"white\", \"lakecolor\": \"white\", \"landcolor\": \"#E5ECF6\", \"showlakes\": true, \"showland\": true, \"subunitcolor\": \"white\"}, \"hoverlabel\": {\"align\": \"left\"}, \"hovermode\": \"closest\", \"mapbox\": {\"style\": \"light\"}, \"paper_bgcolor\": \"white\", \"plot_bgcolor\": \"#E5ECF6\", \"polar\": {\"angularaxis\": {\"gridcolor\": \"white\", \"linecolor\": \"white\", \"ticks\": \"\"}, \"bgcolor\": \"#E5ECF6\", \"radialaxis\": {\"gridcolor\": \"white\", \"linecolor\": \"white\", \"ticks\": \"\"}}, \"scene\": {\"xaxis\": {\"backgroundcolor\": \"#E5ECF6\", \"gridcolor\": \"white\", \"gridwidth\": 2, \"linecolor\": \"white\", \"showbackground\": true, \"ticks\": \"\", \"zerolinecolor\": \"white\"}, \"yaxis\": {\"backgroundcolor\": \"#E5ECF6\", \"gridcolor\": \"white\", \"gridwidth\": 2, \"linecolor\": \"white\", \"showbackground\": true, \"ticks\": \"\", \"zerolinecolor\": \"white\"}, \"zaxis\": {\"backgroundcolor\": \"#E5ECF6\", \"gridcolor\": \"white\", \"gridwidth\": 2, \"linecolor\": \"white\", \"showbackground\": true, \"ticks\": \"\", \"zerolinecolor\": \"white\"}}, \"shapedefaults\": {\"line\": {\"color\": \"#2a3f5f\"}}, \"ternary\": {\"aaxis\": {\"gridcolor\": \"white\", \"linecolor\": \"white\", \"ticks\": \"\"}, \"baxis\": {\"gridcolor\": \"white\", \"linecolor\": \"white\", \"ticks\": \"\"}, \"bgcolor\": \"#E5ECF6\", \"caxis\": {\"gridcolor\": \"white\", \"linecolor\": \"white\", \"ticks\": \"\"}}, \"title\": {\"x\": 0.05}, \"xaxis\": {\"automargin\": true, \"gridcolor\": \"white\", \"linecolor\": \"white\", \"ticks\": \"\", \"title\": {\"standoff\": 15}, \"zerolinecolor\": \"white\", \"zerolinewidth\": 2}, \"yaxis\": {\"automargin\": true, \"gridcolor\": \"white\", \"linecolor\": \"white\", \"ticks\": \"\", \"title\": {\"standoff\": 15}, \"zerolinecolor\": \"white\", \"zerolinewidth\": 2}}}, \"title\": {\"font\": {\"color\": \"#4D5663\"}}, \"xaxis\": {\"anchor\": \"y\", \"domain\": [0.0, 0.2125], \"gridcolor\": \"#E1E5ED\", \"showgrid\": false, \"tickfont\": {\"color\": \"#4D5663\"}, \"title\": {\"font\": {\"color\": \"#4D5663\"}, \"text\": \"\"}, \"zerolinecolor\": \"#E1E5ED\"}, \"xaxis10\": {\"anchor\": \"y10\", \"domain\": [0.2625, 0.475], \"gridcolor\": \"#E1E5ED\", \"showgrid\": false, \"tickfont\": {\"color\": \"#4D5663\"}, \"title\": {\"font\": {\"color\": \"#4D5663\"}, \"text\": \"\"}, \"zerolinecolor\": \"#E1E5ED\"}, \"xaxis11\": {\"anchor\": \"y11\", \"domain\": [0.525, 0.7375], \"gridcolor\": \"#E1E5ED\", \"showgrid\": false, \"tickfont\": {\"color\": \"#4D5663\"}, \"title\": {\"font\": {\"color\": \"#4D5663\"}, \"text\": \"\"}, \"zerolinecolor\": \"#E1E5ED\"}, \"xaxis12\": {\"anchor\": \"y12\", \"domain\": [0.7875, 1.0], \"gridcolor\": \"#E1E5ED\", \"showgrid\": false, \"tickfont\": {\"color\": \"#4D5663\"}, \"title\": {\"font\": {\"color\": \"#4D5663\"}, \"text\": \"\"}, \"zerolinecolor\": \"#E1E5ED\"}, \"xaxis13\": {\"anchor\": \"y13\", \"domain\": [0.0, 0.2125], \"gridcolor\": \"#E1E5ED\", \"showgrid\": false, \"tickfont\": {\"color\": \"#4D5663\"}, \"title\": {\"font\": {\"color\": \"#4D5663\"}, \"text\": \"\"}, \"zerolinecolor\": \"#E1E5ED\"}, \"xaxis14\": {\"anchor\": \"y14\", \"domain\": [0.2625, 0.475], \"gridcolor\": \"#E1E5ED\", \"showgrid\": false, \"tickfont\": {\"color\": \"#4D5663\"}, \"title\": {\"font\": {\"color\": \"#4D5663\"}, \"text\": \"\"}, \"zerolinecolor\": \"#E1E5ED\"}, \"xaxis15\": {\"anchor\": \"y15\", \"domain\": [0.525, 0.7375], \"gridcolor\": \"#E1E5ED\", \"showgrid\": false, \"tickfont\": {\"color\": \"#4D5663\"}, \"title\": {\"font\": {\"color\": \"#4D5663\"}, \"text\": \"\"}, \"zerolinecolor\": \"#E1E5ED\"}, \"xaxis16\": {\"anchor\": \"y16\", \"domain\": [0.7875, 1.0], \"gridcolor\": \"#E1E5ED\", \"showgrid\": false, \"tickfont\": {\"color\": \"#4D5663\"}, \"title\": {\"font\": {\"color\": \"#4D5663\"}, \"text\": \"\"}, \"zerolinecolor\": \"#E1E5ED\"}, \"xaxis2\": {\"anchor\": \"y2\", \"domain\": [0.2625, 0.475], \"gridcolor\": \"#E1E5ED\", \"showgrid\": false, \"tickfont\": {\"color\": \"#4D5663\"}, \"title\": {\"font\": {\"color\": \"#4D5663\"}, \"text\": \"\"}, \"zerolinecolor\": \"#E1E5ED\"}, \"xaxis3\": {\"anchor\": \"y3\", \"domain\": [0.525, 0.7375], \"gridcolor\": \"#E1E5ED\", \"showgrid\": false, \"tickfont\": {\"color\": \"#4D5663\"}, \"title\": {\"font\": {\"color\": \"#4D5663\"}, \"text\": \"\"}, \"zerolinecolor\": \"#E1E5ED\"}, \"xaxis4\": {\"anchor\": \"y4\", \"domain\": [0.7875, 1.0], \"gridcolor\": \"#E1E5ED\", \"showgrid\": false, \"tickfont\": {\"color\": \"#4D5663\"}, \"title\": {\"font\": {\"color\": \"#4D5663\"}, \"text\": \"\"}, \"zerolinecolor\": \"#E1E5ED\"}, \"xaxis5\": {\"anchor\": \"y5\", \"domain\": [0.0, 0.2125], \"gridcolor\": \"#E1E5ED\", \"showgrid\": false, \"tickfont\": {\"color\": \"#4D5663\"}, \"title\": {\"font\": {\"color\": \"#4D5663\"}, \"text\": \"\"}, \"zerolinecolor\": \"#E1E5ED\"}, \"xaxis6\": {\"anchor\": \"y6\", \"domain\": [0.2625, 0.475], \"gridcolor\": \"#E1E5ED\", \"showgrid\": false, \"tickfont\": {\"color\": \"#4D5663\"}, \"title\": {\"font\": {\"color\": \"#4D5663\"}, \"text\": \"\"}, \"zerolinecolor\": \"#E1E5ED\"}, \"xaxis7\": {\"anchor\": \"y7\", \"domain\": [0.525, 0.7375], \"gridcolor\": \"#E1E5ED\", \"showgrid\": false, \"tickfont\": {\"color\": \"#4D5663\"}, \"title\": {\"font\": {\"color\": \"#4D5663\"}, \"text\": \"\"}, \"zerolinecolor\": \"#E1E5ED\"}, \"xaxis8\": {\"anchor\": \"y8\", \"domain\": [0.7875, 1.0], \"gridcolor\": \"#E1E5ED\", \"showgrid\": false, \"tickfont\": {\"color\": \"#4D5663\"}, \"title\": {\"font\": {\"color\": \"#4D5663\"}, \"text\": \"\"}, \"zerolinecolor\": \"#E1E5ED\"}, \"xaxis9\": {\"anchor\": \"y9\", \"domain\": [0.0, 0.2125], \"gridcolor\": \"#E1E5ED\", \"showgrid\": false, \"tickfont\": {\"color\": \"#4D5663\"}, \"title\": {\"font\": {\"color\": \"#4D5663\"}, \"text\": \"\"}, \"zerolinecolor\": \"#E1E5ED\"}, \"yaxis\": {\"anchor\": \"x\", \"domain\": [0.8025, 1.0], \"gridcolor\": \"#E1E5ED\", \"showgrid\": false, \"tickfont\": {\"color\": \"#4D5663\"}, \"title\": {\"font\": {\"color\": \"#4D5663\"}, \"text\": \"\"}, \"zerolinecolor\": \"#E1E5ED\"}, \"yaxis10\": {\"anchor\": \"x10\", \"domain\": [0.2675, 0.465], \"gridcolor\": \"#E1E5ED\", \"showgrid\": false, \"tickfont\": {\"color\": \"#4D5663\"}, \"title\": {\"font\": {\"color\": \"#4D5663\"}, \"text\": \"\"}, \"zerolinecolor\": \"#E1E5ED\"}, \"yaxis11\": {\"anchor\": \"x11\", \"domain\": [0.2675, 0.465], \"gridcolor\": \"#E1E5ED\", \"showgrid\": false, \"tickfont\": {\"color\": \"#4D5663\"}, \"title\": {\"font\": {\"color\": \"#4D5663\"}, \"text\": \"\"}, \"zerolinecolor\": \"#E1E5ED\"}, \"yaxis12\": {\"anchor\": \"x12\", \"domain\": [0.2675, 0.465], \"gridcolor\": \"#E1E5ED\", \"showgrid\": false, \"tickfont\": {\"color\": \"#4D5663\"}, \"title\": {\"font\": {\"color\": \"#4D5663\"}, \"text\": \"\"}, \"zerolinecolor\": \"#E1E5ED\"}, \"yaxis13\": {\"anchor\": \"x13\", \"domain\": [0.0, 0.1975], \"gridcolor\": \"#E1E5ED\", \"showgrid\": false, \"tickfont\": {\"color\": \"#4D5663\"}, \"title\": {\"font\": {\"color\": \"#4D5663\"}, \"text\": \"\"}, \"zerolinecolor\": \"#E1E5ED\"}, \"yaxis14\": {\"anchor\": \"x14\", \"domain\": [0.0, 0.1975], \"gridcolor\": \"#E1E5ED\", \"showgrid\": false, \"tickfont\": {\"color\": \"#4D5663\"}, \"title\": {\"font\": {\"color\": \"#4D5663\"}, \"text\": \"\"}, \"zerolinecolor\": \"#E1E5ED\"}, \"yaxis15\": {\"anchor\": \"x15\", \"domain\": [0.0, 0.1975], \"gridcolor\": \"#E1E5ED\", \"showgrid\": false, \"tickfont\": {\"color\": \"#4D5663\"}, \"title\": {\"font\": {\"color\": \"#4D5663\"}, \"text\": \"\"}, \"zerolinecolor\": \"#E1E5ED\"}, \"yaxis16\": {\"anchor\": \"x16\", \"domain\": [0.0, 0.1975], \"gridcolor\": \"#E1E5ED\", \"showgrid\": false, \"tickfont\": {\"color\": \"#4D5663\"}, \"title\": {\"font\": {\"color\": \"#4D5663\"}, \"text\": \"\"}, \"zerolinecolor\": \"#E1E5ED\"}, \"yaxis2\": {\"anchor\": \"x2\", \"domain\": [0.8025, 1.0], \"gridcolor\": \"#E1E5ED\", \"showgrid\": false, \"tickfont\": {\"color\": \"#4D5663\"}, \"title\": {\"font\": {\"color\": \"#4D5663\"}, \"text\": \"\"}, \"zerolinecolor\": \"#E1E5ED\"}, \"yaxis3\": {\"anchor\": \"x3\", \"domain\": [0.8025, 1.0], \"gridcolor\": \"#E1E5ED\", \"showgrid\": false, \"tickfont\": {\"color\": \"#4D5663\"}, \"title\": {\"font\": {\"color\": \"#4D5663\"}, \"text\": \"\"}, \"zerolinecolor\": \"#E1E5ED\"}, \"yaxis4\": {\"anchor\": \"x4\", \"domain\": [0.8025, 1.0], \"gridcolor\": \"#E1E5ED\", \"showgrid\": false, \"tickfont\": {\"color\": \"#4D5663\"}, \"title\": {\"font\": {\"color\": \"#4D5663\"}, \"text\": \"\"}, \"zerolinecolor\": \"#E1E5ED\"}, \"yaxis5\": {\"anchor\": \"x5\", \"domain\": [0.535, 0.7325], \"gridcolor\": \"#E1E5ED\", \"showgrid\": false, \"tickfont\": {\"color\": \"#4D5663\"}, \"title\": {\"font\": {\"color\": \"#4D5663\"}, \"text\": \"\"}, \"zerolinecolor\": \"#E1E5ED\"}, \"yaxis6\": {\"anchor\": \"x6\", \"domain\": [0.535, 0.7325], \"gridcolor\": \"#E1E5ED\", \"showgrid\": false, \"tickfont\": {\"color\": \"#4D5663\"}, \"title\": {\"font\": {\"color\": \"#4D5663\"}, \"text\": \"\"}, \"zerolinecolor\": \"#E1E5ED\"}, \"yaxis7\": {\"anchor\": \"x7\", \"domain\": [0.535, 0.7325], \"gridcolor\": \"#E1E5ED\", \"showgrid\": false, \"tickfont\": {\"color\": \"#4D5663\"}, \"title\": {\"font\": {\"color\": \"#4D5663\"}, \"text\": \"\"}, \"zerolinecolor\": \"#E1E5ED\"}, \"yaxis8\": {\"anchor\": \"x8\", \"domain\": [0.535, 0.7325], \"gridcolor\": \"#E1E5ED\", \"showgrid\": false, \"tickfont\": {\"color\": \"#4D5663\"}, \"title\": {\"font\": {\"color\": \"#4D5663\"}, \"text\": \"\"}, \"zerolinecolor\": \"#E1E5ED\"}, \"yaxis9\": {\"anchor\": \"x9\", \"domain\": [0.2675, 0.465], \"gridcolor\": \"#E1E5ED\", \"showgrid\": false, \"tickfont\": {\"color\": \"#4D5663\"}, \"title\": {\"font\": {\"color\": \"#4D5663\"}, \"text\": \"\"}, \"zerolinecolor\": \"#E1E5ED\"}},\n",
       "                        {\"showLink\": true, \"linkText\": \"Export to plot.ly\", \"plotlyServerURL\": \"https://plot.ly\", \"responsive\": true}\n",
       "                    ).then(function(){\n",
       "                            \n",
       "var gd = document.getElementById('5163012c-c56e-4917-97e5-80372e31e7a2');\n",
       "var x = new MutationObserver(function (mutations, observer) {{\n",
       "        var display = window.getComputedStyle(gd).display;\n",
       "        if (!display || display === 'none') {{\n",
       "            console.log([gd, 'removed!']);\n",
       "            Plotly.purge(gd);\n",
       "            observer.disconnect();\n",
       "        }}\n",
       "}});\n",
       "\n",
       "// Listen for the removal of the full notebook cells\n",
       "var notebookContainer = gd.closest('#notebook-container');\n",
       "if (notebookContainer) {{\n",
       "    x.observe(notebookContainer, {childList: true});\n",
       "}}\n",
       "\n",
       "// Listen for the clearing of the current output cell\n",
       "var outputEl = gd.closest('.output');\n",
       "if (outputEl) {{\n",
       "    x.observe(outputEl, {childList: true});\n",
       "}}\n",
       "\n",
       "                        })\n",
       "                };\n",
       "                });\n",
       "            </script>\n",
       "        </div>"
      ]
     },
     "metadata": {},
     "output_type": "display_data"
    }
   ],
   "source": [
    "df.scatter_matrix()"
   ]
  },
  {
   "cell_type": "markdown",
   "metadata": {},
   "source": [
    "## Happy Learning!"
   ]
  },
  {
   "cell_type": "code",
   "execution_count": null,
   "metadata": {},
   "outputs": [],
   "source": []
  }
 ],
 "metadata": {
  "kernelspec": {
   "display_name": "Python 3",
   "language": "python",
   "name": "python3"
  },
  "language_info": {
   "codemirror_mode": {
    "name": "ipython",
    "version": 3
   },
   "file_extension": ".py",
   "mimetype": "text/x-python",
   "name": "python",
   "nbconvert_exporter": "python",
   "pygments_lexer": "ipython3",
   "version": "3.7.4"
  }
 },
 "nbformat": 4,
 "nbformat_minor": 2
}
